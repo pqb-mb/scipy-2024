{
 "cells": [
  {
   "cell_type": "code",
   "execution_count": 3,
   "id": "20a94889",
   "metadata": {},
   "outputs": [],
   "source": [
    "from collections import Counter\n",
    "import itertools\n",
    "import json\n",
    "import math\n",
    "import matplotlib.pyplot as plt\n",
    "import matplotlib.lines as mlines\n",
    "import pandas\n",
    "import pennylane as qml\n",
    "from pennylane import numpy as np\n",
    "from pennylane import qaoa\n",
    "from scipy.optimize import minimize\n",
    "import random\n",
    "import time"
   ]
  },
  {
   "cell_type": "code",
   "execution_count": 5,
   "id": "403c9a36",
   "metadata": {},
   "outputs": [],
   "source": [
    "# load data \n",
    "library_df = pandas.read_csv(\"example_data_18_6.csv\")"
   ]
  },
  {
   "cell_type": "code",
   "execution_count": 6,
   "id": "351f36c0",
   "metadata": {},
   "outputs": [],
   "source": [
    "# calculate optimal values and set constants\n",
    "color_o = 0\n",
    "shape_o = 0\n",
    "components_o =0\n",
    "library_data = []\n",
    "samples_per_region = None\n",
    "\n",
    "for region in library_df[\"region\"].unique():\n",
    "    nodes = library_df.loc[library_df['region'] == region]  \n",
    "    if not samples_per_region:\n",
    "        samples_per_region = len(library_df.loc[library_df['region'] == region])\n",
    "        \n",
    "    library_data.append(nodes)\n",
    "    color_o += library_df['color'].min()\n",
    "    shape_o += library_df['shape'].min()\n",
    "    components_o += library_df['components'].min()\n",
    "\n",
    "region_num = len(library_df['region'].unique())\n",
    "\n",
    "library_df['wire'] = range(len(library_df))\n",
    "\n",
    "num_qubits = len(library_df)"
   ]
  },
  {
   "cell_type": "code",
   "execution_count": 8,
   "id": "7de8500a",
   "metadata": {},
   "outputs": [],
   "source": [
    "def region_hamiltonian_quadratic(df):\n",
    "    \"\"\"\n",
    "    Construct a Hamiltonian representing the one fragment per region constraint. \n",
    "    \n",
    "    Parameters:\n",
    "    - df (pandas.DataFrame): A dataframe containing the problem data.\n",
    "\n",
    "    Returns:\n",
    "    - pennylane.Hamiltonian: A Hamiltonian object that encodes the penalty terms for \n",
    "      deviating from the target property value. The Hamiltonian consists of weighted Z \n",
    "      Pauli operators, where the weights depend on the property values and the desired \n",
    "      constraint.\n",
    "    \"\"\"\n",
    "    \n",
    "    coeffs = []\n",
    "    observables = []\n",
    "    \n",
    "    # Iterate over each unique region/group in the DataFrame\n",
    "    for i, region in enumerate(df['region'].unique()):\n",
    "        # Get the positions of the nodes in the current region\n",
    "        nodes_in_region = df.loc[df['region'] == region]['wire'].to_list()\n",
    "        \n",
    "        # Linear penalty: Encourage selecting a single node (reward for selection)\n",
    "        for j in range(len(nodes_in_region)):\n",
    "            coeffs.append(-1)\n",
    "            observables.append(qml.PauliZ(nodes_in_region[j]))\n",
    "        \n",
    "        # Quadratic penalty: Discourage selecting multiple nodes (penalize multiple selections)\n",
    "        for j in range(len(nodes_in_region)):\n",
    "            for k in range(j+1, len(nodes_in_region)):\n",
    "                coeffs.append(2)\n",
    "                observables.append(qml.PauliZ(nodes_in_region[j]) @ qml.PauliZ(nodes_in_region[k]))\n",
    "\n",
    "        # Higher-order penalty terms\n",
    "        num_nodes = len(nodes_in_region)\n",
    "        coeffs.append(num_nodes)\n",
    "        observables.append(qml.Identity(0))  # Just an identity term to match the Hamiltonian structure\n",
    "\n",
    "        for node in nodes_in_region:\n",
    "            coeffs.append(-2)\n",
    "            observables.append(qml.PauliZ(node))\n",
    "            \n",
    "            for other_node in nodes_in_region:\n",
    "                if node != other_node:\n",
    "                    coeffs.append(1)\n",
    "                    observables.append(qml.PauliZ(node) @ qml.PauliZ(other_node))\n",
    "\n",
    "    return qml.Hamiltonian(coeffs, observables)"
   ]
  },
  {
   "cell_type": "code",
   "execution_count": 9,
   "id": "313ea8df",
   "metadata": {},
   "outputs": [],
   "source": [
    "def property_hamiltonian_from_df(df, property_name, property_constraint):\n",
    "    \"\"\"\n",
    "    Construct a Hamiltonian representing the constraint on a specific  property \n",
    "    across a set of feasible solutions, given a target constraint value. \n",
    "    \n",
    "    This function creates a Hamiltonian that penalizes deviations from a desired property \n",
    "    value. It is useful in quantum optimization problems where one needs to find a \n",
    "    configuration of records that meets certain criteria.\n",
    "\n",
    "    Parameters:\n",
    "    - df (pandas.DataFrame): A dataframe containing the problem data.\n",
    "    - property_name (str): The name of the column in the dataframe `df` that contains the \n",
    "    property values to be constrained.\n",
    "    - property_constraint (float): The target value for the property that the \n",
    "      Hamiltonian should enforce.\n",
    "\n",
    "    Returns:\n",
    "    - pennylane.Hamiltonian: A Hamiltonian object that encodes the penalty terms for \n",
    "      deviating from the target property value. The Hamiltonian consists of weighted Z \n",
    "      Pauli operators, where the weights depend on the property values and the desired \n",
    "      constraint.\n",
    "\n",
    "    Example:\n",
    "    >>> df = pd.DataFrame({'molecule_id': [1, 2, 3],\n",
    "                           'property_x': [1.2, 0.8, 1.5]})\n",
    "    >>> hamiltonian = property_hamiltonian_from_df(df, 'property_x', 1.0)\n",
    "    >>> print(hamiltonian)\n",
    "    \"\"\"\n",
    "    \n",
    "    # Initialize lists to hold the coefficients and observables for the Hamiltonian\n",
    "    coeffs = []\n",
    "    observables = []\n",
    "    \n",
    "    # Extract the list of property values from the dataframe for the given  property\n",
    "    property_list = df[property_name].to_list()\n",
    "    \n",
    "    # Iterate over each property value to construct the Hamiltonian terms\n",
    "    for index, property_value in enumerate(property_list):\n",
    "        # Add a term penalizing the deviation from the target constraint for each property\n",
    "        coeffs.append(-2 * property_value * property_constraint)\n",
    "        \n",
    "        # Apply Z Pauli operator to the corresponding qubit\n",
    "        observables.append(qml.PauliZ(index))  \n",
    "        \n",
    "        # Add terms for every pair of properties to account for their interaction\n",
    "        for index2, property_value_2 in enumerate(property_list):\n",
    "            if index < index2:  # Ensure that each pair is only considered once\n",
    "                coeffs.append(2 * property_value * property_value_2)\n",
    "                \n",
    "                # Apply Z Pauli operators to the pair of qubits\n",
    "                observables.append(qml.PauliZ(index) @ qml.PauliZ(index2))  \n",
    "               \n",
    "    # Create and return the Hamiltonian object with the specified coefficients and observables\n",
    "    return qml.Hamiltonian(coeffs, observables)"
   ]
  },
  {
   "cell_type": "code",
   "execution_count": 10,
   "id": "96e895ff",
   "metadata": {},
   "outputs": [],
   "source": [
    "# Construct Hamiltonians \n",
    "H_regions = region_hamiltonian_quadratic(library_df)\n",
    "\n",
    "H_color = property_hamiltonian_from_df(library_df, \"color\", color_o)\n",
    "H_shape = property_hamiltonian_from_df(library_df, \"shape\", shape_o)\n",
    "H_components = property_hamiltonian_from_df(library_df, \"components\", components_o)\n",
    "# Assuming equal importance for simplicity\n",
    "alpha_regions = 1000\n",
    "alpha_color = 100\n",
    "alpha_shape = 1\n",
    "alpha_components = 100\n",
    "\n",
    "# Total Hamiltonian\n",
    "H_total = alpha_regions * H_regions + alpha_color * H_color + alpha_components * H_components #+ alpha_shape * H_shape "
   ]
  },
  {
   "cell_type": "code",
   "execution_count": 11,
   "id": "123b7e00",
   "metadata": {},
   "outputs": [],
   "source": [
    "def create_mixer_hamiltonian(library_df):\n",
    "    \"\"\"\n",
    "    Creates a mixer Hamiltonian for use in a QAOA circuit.\n",
    "\n",
    "    The mixer Hamiltonian is composed of Pauli-X operations applied to each qubit in the system.\n",
    "    This type of mixer is often used in QAOA to introduce transitions between different computational\n",
    "    basis states, facilitating exploration of the solution space in combinatorial optimization problems.\n",
    "\n",
    "    The coefficients of the Hamiltonian are all set to 1, indicating an equal weight for the influence\n",
    "    of each Pauli-X operation on its respective qubit.\n",
    "\n",
    "    Parameters:\n",
    "    - library_df: A data structure (implied to be a DataFrame or similar, based on the name) whose length\n",
    "      determines the number of qubits in the system. Each qubit will have a Pauli-X operation applied.\n",
    "\n",
    "    Returns:\n",
    "    - mixer_h: A qml.Hamiltonian object representing the mixer Hamiltonian with Pauli-X operations\n",
    "      applied to each qubit. The Hamiltonian is used to drive transitions between states during the\n",
    "      mixing phase of the QAOA algorithm.\n",
    "\n",
    "    Example usage:\n",
    "    >>> library_df = [data representing your problem instance]\n",
    "    >>> mixer_h = create_mixer_hamiltonian(library_df)\n",
    "    >>> print(mixer_h)\n",
    "    \"\"\"\n",
    "    \n",
    "\n",
    "    mixer_h = qml.Hamiltonian(coeffs=[1]*len(library_df), observables=[qml.PauliX(i) for i in library_df['wire']])\n",
    "    return mixer_h"
   ]
  },
  {
   "cell_type": "code",
   "execution_count": 13,
   "id": "3dba2d34",
   "metadata": {},
   "outputs": [],
   "source": [
    "# \"Build the Circuit\n",
    "complex_dtype = np.complex128\n",
    "# Define the device\n",
    "                  \n",
    "dev = qml.device('lightning.gpu', wires=num_qubits, c_dtype = complex_dtype)\n",
    "#prepare_optimal_state()\n",
    "cost_h = H_total\n",
    " \n",
    "mixer_h = create_mixer_hamiltonian(library_df)\n",
    "def qaoa_circuit(params):\n",
    "    \n",
    "    for i in range(p):\n",
    "        qaoa.cost_layer(params[0][i], cost_h)\n",
    "        qaoa.mixer_layer(params[1][i], mixer_h)\n",
    "    return qml.expval(cost_h)\n",
    "\n",
    "\n",
    "qnode = qml.QNode(qaoa_circuit, dev, diff_method=\"adjoint\") "
   ]
  },
  {
   "cell_type": "code",
   "execution_count": 26,
   "id": "a0920c6d",
   "metadata": {},
   "outputs": [
    {
     "name": "stdout",
     "output_type": "stream",
     "text": [
      "0\n",
      "Step 0: Cost = 130957.35804012176\n",
      "1\n",
      "2\n",
      "3\n",
      "4\n",
      "5\n",
      "6\n",
      "7\n",
      "8\n"
     ]
    },
    {
     "ename": "KeyboardInterrupt",
     "evalue": "",
     "output_type": "error",
     "traceback": [
      "\u001b[0;31m---------------------------------------------------------------------------\u001b[0m",
      "\u001b[0;31mKeyboardInterrupt\u001b[0m                         Traceback (most recent call last)",
      "Cell \u001b[0;32mIn[26], line 12\u001b[0m\n\u001b[1;32m     10\u001b[0m \u001b[38;5;28;01mfor\u001b[39;00m step \u001b[38;5;129;01min\u001b[39;00m \u001b[38;5;28mrange\u001b[39m(num_iterations):\n\u001b[1;32m     11\u001b[0m     \u001b[38;5;28mprint\u001b[39m(step)\n\u001b[0;32m---> 12\u001b[0m     params \u001b[38;5;241m=\u001b[39m \u001b[43mopt\u001b[49m\u001b[38;5;241;43m.\u001b[39;49m\u001b[43mstep\u001b[49m\u001b[43m(\u001b[49m\u001b[43mqnode\u001b[49m\u001b[43m,\u001b[49m\u001b[43m \u001b[49m\u001b[43mparams\u001b[49m\u001b[43m)\u001b[49m\n\u001b[1;32m     14\u001b[0m     adam_values\u001b[38;5;241m.\u001b[39mappend(qnode(params))\n\u001b[1;32m     15\u001b[0m     \u001b[38;5;28;01mif\u001b[39;00m step \u001b[38;5;241m%\u001b[39m \u001b[38;5;241m10\u001b[39m \u001b[38;5;241m==\u001b[39m \u001b[38;5;241m0\u001b[39m:\n",
      "File \u001b[0;32m/opt/venv/lib/python3.10/site-packages/pennylane/optimize/gradient_descent.py:88\u001b[0m, in \u001b[0;36mGradientDescentOptimizer.step\u001b[0;34m(self, objective_fn, grad_fn, *args, **kwargs)\u001b[0m\n\u001b[1;32m     70\u001b[0m \u001b[38;5;28;01mdef\u001b[39;00m \u001b[38;5;21mstep\u001b[39m(\u001b[38;5;28mself\u001b[39m, objective_fn, \u001b[38;5;241m*\u001b[39margs, grad_fn\u001b[38;5;241m=\u001b[39m\u001b[38;5;28;01mNone\u001b[39;00m, \u001b[38;5;241m*\u001b[39m\u001b[38;5;241m*\u001b[39mkwargs):\n\u001b[1;32m     71\u001b[0m \u001b[38;5;250m    \u001b[39m\u001b[38;5;124;03m\"\"\"Update trainable arguments with one step of the optimizer.\u001b[39;00m\n\u001b[1;32m     72\u001b[0m \n\u001b[1;32m     73\u001b[0m \u001b[38;5;124;03m    Args:\u001b[39;00m\n\u001b[0;32m   (...)\u001b[0m\n\u001b[1;32m     85\u001b[0m \u001b[38;5;124;03m        If single arg is provided, list [array] is replaced by array.\u001b[39;00m\n\u001b[1;32m     86\u001b[0m \u001b[38;5;124;03m    \"\"\"\u001b[39;00m\n\u001b[0;32m---> 88\u001b[0m     g, _ \u001b[38;5;241m=\u001b[39m \u001b[38;5;28;43mself\u001b[39;49m\u001b[38;5;241;43m.\u001b[39;49m\u001b[43mcompute_grad\u001b[49m\u001b[43m(\u001b[49m\u001b[43mobjective_fn\u001b[49m\u001b[43m,\u001b[49m\u001b[43m \u001b[49m\u001b[43margs\u001b[49m\u001b[43m,\u001b[49m\u001b[43m \u001b[49m\u001b[43mkwargs\u001b[49m\u001b[43m,\u001b[49m\u001b[43m \u001b[49m\u001b[43mgrad_fn\u001b[49m\u001b[38;5;241;43m=\u001b[39;49m\u001b[43mgrad_fn\u001b[49m\u001b[43m)\u001b[49m\n\u001b[1;32m     89\u001b[0m     new_args \u001b[38;5;241m=\u001b[39m \u001b[38;5;28mself\u001b[39m\u001b[38;5;241m.\u001b[39mapply_grad(g, args)\n\u001b[1;32m     91\u001b[0m     \u001b[38;5;66;03m# unwrap from list if one argument, cleaner return\u001b[39;00m\n",
      "File \u001b[0;32m/opt/venv/lib/python3.10/site-packages/pennylane/optimize/gradient_descent.py:117\u001b[0m, in \u001b[0;36mGradientDescentOptimizer.compute_grad\u001b[0;34m(objective_fn, args, kwargs, grad_fn)\u001b[0m\n\u001b[1;32m     99\u001b[0m \u001b[38;5;250m\u001b[39m\u001b[38;5;124mr\u001b[39m\u001b[38;5;124;03m\"\"\"Compute gradient of the objective function at the given point and return it along with\u001b[39;00m\n\u001b[1;32m    100\u001b[0m \u001b[38;5;124;03mthe objective function forward pass (if available).\u001b[39;00m\n\u001b[1;32m    101\u001b[0m \n\u001b[0;32m   (...)\u001b[0m\n\u001b[1;32m    114\u001b[0m \u001b[38;5;124;03m    will not be evaluted and instead ``None`` will be returned.\u001b[39;00m\n\u001b[1;32m    115\u001b[0m \u001b[38;5;124;03m\"\"\"\u001b[39;00m\n\u001b[1;32m    116\u001b[0m g \u001b[38;5;241m=\u001b[39m get_gradient(objective_fn) \u001b[38;5;28;01mif\u001b[39;00m grad_fn \u001b[38;5;129;01mis\u001b[39;00m \u001b[38;5;28;01mNone\u001b[39;00m \u001b[38;5;28;01melse\u001b[39;00m grad_fn\n\u001b[0;32m--> 117\u001b[0m grad \u001b[38;5;241m=\u001b[39m \u001b[43mg\u001b[49m\u001b[43m(\u001b[49m\u001b[38;5;241;43m*\u001b[39;49m\u001b[43margs\u001b[49m\u001b[43m,\u001b[49m\u001b[43m \u001b[49m\u001b[38;5;241;43m*\u001b[39;49m\u001b[38;5;241;43m*\u001b[39;49m\u001b[43mkwargs\u001b[49m\u001b[43m)\u001b[49m\n\u001b[1;32m    118\u001b[0m forward \u001b[38;5;241m=\u001b[39m \u001b[38;5;28mgetattr\u001b[39m(g, \u001b[38;5;124m\"\u001b[39m\u001b[38;5;124mforward\u001b[39m\u001b[38;5;124m\"\u001b[39m, \u001b[38;5;28;01mNone\u001b[39;00m)\n\u001b[1;32m    120\u001b[0m num_trainable_args \u001b[38;5;241m=\u001b[39m \u001b[38;5;28msum\u001b[39m(\u001b[38;5;28mgetattr\u001b[39m(arg, \u001b[38;5;124m\"\u001b[39m\u001b[38;5;124mrequires_grad\u001b[39m\u001b[38;5;124m\"\u001b[39m, \u001b[38;5;28;01mFalse\u001b[39;00m) \u001b[38;5;28;01mfor\u001b[39;00m arg \u001b[38;5;129;01min\u001b[39;00m args)\n",
      "File \u001b[0;32m/opt/venv/lib/python3.10/site-packages/pennylane/_grad.py:120\u001b[0m, in \u001b[0;36mgrad.__call__\u001b[0;34m(self, *args, **kwargs)\u001b[0m\n\u001b[1;32m    117\u001b[0m     \u001b[38;5;28mself\u001b[39m\u001b[38;5;241m.\u001b[39m_forward \u001b[38;5;241m=\u001b[39m \u001b[38;5;28mself\u001b[39m\u001b[38;5;241m.\u001b[39m_fun(\u001b[38;5;241m*\u001b[39margs, \u001b[38;5;241m*\u001b[39m\u001b[38;5;241m*\u001b[39mkwargs)\n\u001b[1;32m    118\u001b[0m     \u001b[38;5;28;01mreturn\u001b[39;00m ()\n\u001b[0;32m--> 120\u001b[0m grad_value, ans \u001b[38;5;241m=\u001b[39m \u001b[43mgrad_fn\u001b[49m\u001b[43m(\u001b[49m\u001b[38;5;241;43m*\u001b[39;49m\u001b[43margs\u001b[49m\u001b[43m,\u001b[49m\u001b[43m \u001b[49m\u001b[38;5;241;43m*\u001b[39;49m\u001b[38;5;241;43m*\u001b[39;49m\u001b[43mkwargs\u001b[49m\u001b[43m)\u001b[49m  \u001b[38;5;66;03m# pylint: disable=not-callable\u001b[39;00m\n\u001b[1;32m    121\u001b[0m \u001b[38;5;28mself\u001b[39m\u001b[38;5;241m.\u001b[39m_forward \u001b[38;5;241m=\u001b[39m ans\n\u001b[1;32m    123\u001b[0m \u001b[38;5;28;01mreturn\u001b[39;00m grad_value\n",
      "File \u001b[0;32m/opt/venv/lib/python3.10/site-packages/autograd/wrap_util.py:20\u001b[0m, in \u001b[0;36munary_to_nary.<locals>.nary_operator.<locals>.nary_f\u001b[0;34m(*args, **kwargs)\u001b[0m\n\u001b[1;32m     18\u001b[0m \u001b[38;5;28;01melse\u001b[39;00m:\n\u001b[1;32m     19\u001b[0m     x \u001b[38;5;241m=\u001b[39m \u001b[38;5;28mtuple\u001b[39m(args[i] \u001b[38;5;28;01mfor\u001b[39;00m i \u001b[38;5;129;01min\u001b[39;00m argnum)\n\u001b[0;32m---> 20\u001b[0m \u001b[38;5;28;01mreturn\u001b[39;00m \u001b[43munary_operator\u001b[49m\u001b[43m(\u001b[49m\u001b[43munary_f\u001b[49m\u001b[43m,\u001b[49m\u001b[43m \u001b[49m\u001b[43mx\u001b[49m\u001b[43m,\u001b[49m\u001b[43m \u001b[49m\u001b[38;5;241;43m*\u001b[39;49m\u001b[43mnary_op_args\u001b[49m\u001b[43m,\u001b[49m\u001b[43m \u001b[49m\u001b[38;5;241;43m*\u001b[39;49m\u001b[38;5;241;43m*\u001b[39;49m\u001b[43mnary_op_kwargs\u001b[49m\u001b[43m)\u001b[49m\n",
      "File \u001b[0;32m/opt/venv/lib/python3.10/site-packages/pennylane/_grad.py:138\u001b[0m, in \u001b[0;36mgrad._grad_with_forward\u001b[0;34m(fun, x)\u001b[0m\n\u001b[1;32m    132\u001b[0m \u001b[38;5;129m@staticmethod\u001b[39m\n\u001b[1;32m    133\u001b[0m \u001b[38;5;129m@unary_to_nary\u001b[39m\n\u001b[1;32m    134\u001b[0m \u001b[38;5;28;01mdef\u001b[39;00m \u001b[38;5;21m_grad_with_forward\u001b[39m(fun, x):\n\u001b[1;32m    135\u001b[0m \u001b[38;5;250m    \u001b[39m\u001b[38;5;124;03m\"\"\"This function is a replica of ``autograd.grad``, with the only\u001b[39;00m\n\u001b[1;32m    136\u001b[0m \u001b[38;5;124;03m    difference being that it returns both the gradient *and* the forward pass\u001b[39;00m\n\u001b[1;32m    137\u001b[0m \u001b[38;5;124;03m    value.\"\"\"\u001b[39;00m\n\u001b[0;32m--> 138\u001b[0m     vjp, ans \u001b[38;5;241m=\u001b[39m \u001b[43m_make_vjp\u001b[49m\u001b[43m(\u001b[49m\u001b[43mfun\u001b[49m\u001b[43m,\u001b[49m\u001b[43m \u001b[49m\u001b[43mx\u001b[49m\u001b[43m)\u001b[49m\n\u001b[1;32m    140\u001b[0m     \u001b[38;5;28;01mif\u001b[39;00m \u001b[38;5;129;01mnot\u001b[39;00m vspace(ans)\u001b[38;5;241m.\u001b[39msize \u001b[38;5;241m==\u001b[39m \u001b[38;5;241m1\u001b[39m:\n\u001b[1;32m    141\u001b[0m         \u001b[38;5;28;01mraise\u001b[39;00m \u001b[38;5;167;01mTypeError\u001b[39;00m(\n\u001b[1;32m    142\u001b[0m             \u001b[38;5;124m\"\u001b[39m\u001b[38;5;124mGrad only applies to real scalar-output functions. \u001b[39m\u001b[38;5;124m\"\u001b[39m\n\u001b[1;32m    143\u001b[0m             \u001b[38;5;124m\"\u001b[39m\u001b[38;5;124mTry jacobian, elementwise_grad or holomorphic_grad.\u001b[39m\u001b[38;5;124m\"\u001b[39m\n\u001b[1;32m    144\u001b[0m         )\n",
      "File \u001b[0;32m/opt/venv/lib/python3.10/site-packages/autograd/core.py:10\u001b[0m, in \u001b[0;36mmake_vjp\u001b[0;34m(fun, x)\u001b[0m\n\u001b[1;32m      8\u001b[0m \u001b[38;5;28;01mdef\u001b[39;00m \u001b[38;5;21mmake_vjp\u001b[39m(fun, x):\n\u001b[1;32m      9\u001b[0m     start_node \u001b[38;5;241m=\u001b[39m VJPNode\u001b[38;5;241m.\u001b[39mnew_root()\n\u001b[0;32m---> 10\u001b[0m     end_value, end_node \u001b[38;5;241m=\u001b[39m  \u001b[43mtrace\u001b[49m\u001b[43m(\u001b[49m\u001b[43mstart_node\u001b[49m\u001b[43m,\u001b[49m\u001b[43m \u001b[49m\u001b[43mfun\u001b[49m\u001b[43m,\u001b[49m\u001b[43m \u001b[49m\u001b[43mx\u001b[49m\u001b[43m)\u001b[49m\n\u001b[1;32m     11\u001b[0m     \u001b[38;5;28;01mif\u001b[39;00m end_node \u001b[38;5;129;01mis\u001b[39;00m \u001b[38;5;28;01mNone\u001b[39;00m:\n\u001b[1;32m     12\u001b[0m         \u001b[38;5;28;01mdef\u001b[39;00m \u001b[38;5;21mvjp\u001b[39m(g): \u001b[38;5;28;01mreturn\u001b[39;00m vspace(x)\u001b[38;5;241m.\u001b[39mzeros()\n",
      "File \u001b[0;32m/opt/venv/lib/python3.10/site-packages/autograd/tracer.py:10\u001b[0m, in \u001b[0;36mtrace\u001b[0;34m(start_node, fun, x)\u001b[0m\n\u001b[1;32m      8\u001b[0m \u001b[38;5;28;01mwith\u001b[39;00m trace_stack\u001b[38;5;241m.\u001b[39mnew_trace() \u001b[38;5;28;01mas\u001b[39;00m t:\n\u001b[1;32m      9\u001b[0m     start_box \u001b[38;5;241m=\u001b[39m new_box(x, t, start_node)\n\u001b[0;32m---> 10\u001b[0m     end_box \u001b[38;5;241m=\u001b[39m \u001b[43mfun\u001b[49m\u001b[43m(\u001b[49m\u001b[43mstart_box\u001b[49m\u001b[43m)\u001b[49m\n\u001b[1;32m     11\u001b[0m     \u001b[38;5;28;01mif\u001b[39;00m isbox(end_box) \u001b[38;5;129;01mand\u001b[39;00m end_box\u001b[38;5;241m.\u001b[39m_trace \u001b[38;5;241m==\u001b[39m start_box\u001b[38;5;241m.\u001b[39m_trace:\n\u001b[1;32m     12\u001b[0m         \u001b[38;5;28;01mreturn\u001b[39;00m end_box\u001b[38;5;241m.\u001b[39m_value, end_box\u001b[38;5;241m.\u001b[39m_node\n",
      "File \u001b[0;32m/opt/venv/lib/python3.10/site-packages/autograd/wrap_util.py:15\u001b[0m, in \u001b[0;36munary_to_nary.<locals>.nary_operator.<locals>.nary_f.<locals>.unary_f\u001b[0;34m(x)\u001b[0m\n\u001b[1;32m     13\u001b[0m \u001b[38;5;28;01melse\u001b[39;00m:\n\u001b[1;32m     14\u001b[0m     subargs \u001b[38;5;241m=\u001b[39m subvals(args, \u001b[38;5;28mzip\u001b[39m(argnum, x))\n\u001b[0;32m---> 15\u001b[0m \u001b[38;5;28;01mreturn\u001b[39;00m \u001b[43mfun\u001b[49m\u001b[43m(\u001b[49m\u001b[38;5;241;43m*\u001b[39;49m\u001b[43msubargs\u001b[49m\u001b[43m,\u001b[49m\u001b[43m \u001b[49m\u001b[38;5;241;43m*\u001b[39;49m\u001b[38;5;241;43m*\u001b[39;49m\u001b[43mkwargs\u001b[49m\u001b[43m)\u001b[49m\n",
      "File \u001b[0;32m/opt/venv/lib/python3.10/site-packages/pennylane/qnode.py:989\u001b[0m, in \u001b[0;36mQNode.__call__\u001b[0;34m(self, *args, **kwargs)\u001b[0m\n\u001b[1;32m    986\u001b[0m     \u001b[38;5;28mself\u001b[39m\u001b[38;5;241m.\u001b[39mexecute_kwargs\u001b[38;5;241m.\u001b[39mpop(\u001b[38;5;124m\"\u001b[39m\u001b[38;5;124mmode\u001b[39m\u001b[38;5;124m\"\u001b[39m)\n\u001b[1;32m    988\u001b[0m \u001b[38;5;66;03m# pylint: disable=unexpected-keyword-arg\u001b[39;00m\n\u001b[0;32m--> 989\u001b[0m res \u001b[38;5;241m=\u001b[39m \u001b[43mqml\u001b[49m\u001b[38;5;241;43m.\u001b[39;49m\u001b[43mexecute\u001b[49m\u001b[43m(\u001b[49m\n\u001b[1;32m    990\u001b[0m \u001b[43m    \u001b[49m\u001b[43m(\u001b[49m\u001b[38;5;28;43mself\u001b[39;49m\u001b[38;5;241;43m.\u001b[39;49m\u001b[43m_tape\u001b[49m\u001b[43m,\u001b[49m\u001b[43m)\u001b[49m\u001b[43m,\u001b[49m\n\u001b[1;32m    991\u001b[0m \u001b[43m    \u001b[49m\u001b[43mdevice\u001b[49m\u001b[38;5;241;43m=\u001b[39;49m\u001b[38;5;28;43mself\u001b[39;49m\u001b[38;5;241;43m.\u001b[39;49m\u001b[43mdevice\u001b[49m\u001b[43m,\u001b[49m\n\u001b[1;32m    992\u001b[0m \u001b[43m    \u001b[49m\u001b[43mgradient_fn\u001b[49m\u001b[38;5;241;43m=\u001b[39;49m\u001b[38;5;28;43mself\u001b[39;49m\u001b[38;5;241;43m.\u001b[39;49m\u001b[43mgradient_fn\u001b[49m\u001b[43m,\u001b[49m\n\u001b[1;32m    993\u001b[0m \u001b[43m    \u001b[49m\u001b[43minterface\u001b[49m\u001b[38;5;241;43m=\u001b[39;49m\u001b[38;5;28;43mself\u001b[39;49m\u001b[38;5;241;43m.\u001b[39;49m\u001b[43minterface\u001b[49m\u001b[43m,\u001b[49m\n\u001b[1;32m    994\u001b[0m \u001b[43m    \u001b[49m\u001b[43mtransform_program\u001b[49m\u001b[38;5;241;43m=\u001b[39;49m\u001b[38;5;28;43mself\u001b[39;49m\u001b[38;5;241;43m.\u001b[39;49m\u001b[43mtransform_program\u001b[49m\u001b[43m,\u001b[49m\n\u001b[1;32m    995\u001b[0m \u001b[43m    \u001b[49m\u001b[43mgradient_kwargs\u001b[49m\u001b[38;5;241;43m=\u001b[39;49m\u001b[38;5;28;43mself\u001b[39;49m\u001b[38;5;241;43m.\u001b[39;49m\u001b[43mgradient_kwargs\u001b[49m\u001b[43m,\u001b[49m\n\u001b[1;32m    996\u001b[0m \u001b[43m    \u001b[49m\u001b[43moverride_shots\u001b[49m\u001b[38;5;241;43m=\u001b[39;49m\u001b[43moverride_shots\u001b[49m\u001b[43m,\u001b[49m\n\u001b[1;32m    997\u001b[0m \u001b[43m    \u001b[49m\u001b[38;5;241;43m*\u001b[39;49m\u001b[38;5;241;43m*\u001b[39;49m\u001b[38;5;28;43mself\u001b[39;49m\u001b[38;5;241;43m.\u001b[39;49m\u001b[43mexecute_kwargs\u001b[49m\u001b[43m,\u001b[49m\n\u001b[1;32m    998\u001b[0m \u001b[43m\u001b[49m\u001b[43m)\u001b[49m\n\u001b[1;32m   1000\u001b[0m res \u001b[38;5;241m=\u001b[39m res[\u001b[38;5;241m0\u001b[39m]\n\u001b[1;32m   1002\u001b[0m \u001b[38;5;66;03m# convert result to the interface in case the qfunc has no parameters\u001b[39;00m\n",
      "File \u001b[0;32m/opt/venv/lib/python3.10/site-packages/pennylane/interfaces/execution.py:757\u001b[0m, in \u001b[0;36mexecute\u001b[0;34m(tapes, device, gradient_fn, interface, transform_program, grad_on_execution, gradient_kwargs, cache, cachesize, max_diff, override_shots, expand_fn, max_expansion, device_batch_transform)\u001b[0m\n\u001b[1;32m    754\u001b[0m     \u001b[38;5;28;01mraise\u001b[39;00m \u001b[38;5;167;01mValueError\u001b[39;00m(\u001b[38;5;124m\"\u001b[39m\u001b[38;5;124mGradient transforms cannot be used with grad_on_execution=True\u001b[39m\u001b[38;5;124m\"\u001b[39m)\n\u001b[1;32m    756\u001b[0m ml_boundary_execute \u001b[38;5;241m=\u001b[39m _get_ml_boundary_execute(interface, _grad_on_execution)\n\u001b[0;32m--> 757\u001b[0m results \u001b[38;5;241m=\u001b[39m \u001b[43mml_boundary_execute\u001b[49m\u001b[43m(\u001b[49m\n\u001b[1;32m    758\u001b[0m \u001b[43m    \u001b[49m\u001b[43mtapes\u001b[49m\u001b[43m,\u001b[49m\u001b[43m \u001b[49m\u001b[43mdevice\u001b[49m\u001b[43m,\u001b[49m\u001b[43m \u001b[49m\u001b[43mexecute_fn\u001b[49m\u001b[43m,\u001b[49m\u001b[43m \u001b[49m\u001b[43mgradient_fn\u001b[49m\u001b[43m,\u001b[49m\u001b[43m \u001b[49m\u001b[43mgradient_kwargs\u001b[49m\u001b[43m,\u001b[49m\u001b[43m \u001b[49m\u001b[43m_n\u001b[49m\u001b[38;5;241;43m=\u001b[39;49m\u001b[38;5;241;43m1\u001b[39;49m\u001b[43m,\u001b[49m\u001b[43m \u001b[49m\u001b[43mmax_diff\u001b[49m\u001b[38;5;241;43m=\u001b[39;49m\u001b[43mmax_diff\u001b[49m\n\u001b[1;32m    759\u001b[0m \u001b[43m\u001b[49m\u001b[43m)\u001b[49m\n\u001b[1;32m    761\u001b[0m results \u001b[38;5;241m=\u001b[39m batch_fn(results)\n\u001b[1;32m    762\u001b[0m \u001b[38;5;28;01mreturn\u001b[39;00m program_post_processing(results)\n",
      "File \u001b[0;32m/opt/venv/lib/python3.10/site-packages/pennylane/interfaces/autograd.py:317\u001b[0m, in \u001b[0;36mexecute\u001b[0;34m(tapes, device, execute_fn, gradient_fn, gradient_kwargs, _n, max_diff)\u001b[0m\n\u001b[1;32m    312\u001b[0m \u001b[38;5;66;03m# pylint misidentifies autograd.builtins as a dict\u001b[39;00m\n\u001b[1;32m    313\u001b[0m \u001b[38;5;66;03m# pylint: disable=no-member\u001b[39;00m\n\u001b[1;32m    314\u001b[0m parameters \u001b[38;5;241m=\u001b[39m autograd\u001b[38;5;241m.\u001b[39mbuiltins\u001b[38;5;241m.\u001b[39mtuple(\n\u001b[1;32m    315\u001b[0m     [autograd\u001b[38;5;241m.\u001b[39mbuiltins\u001b[38;5;241m.\u001b[39mlist(t\u001b[38;5;241m.\u001b[39mget_parameters()) \u001b[38;5;28;01mfor\u001b[39;00m t \u001b[38;5;129;01min\u001b[39;00m tapes]\n\u001b[1;32m    316\u001b[0m )\n\u001b[0;32m--> 317\u001b[0m \u001b[38;5;28;01mreturn\u001b[39;00m \u001b[43m_execute\u001b[49m\u001b[43m(\u001b[49m\n\u001b[1;32m    318\u001b[0m \u001b[43m    \u001b[49m\u001b[43mparameters\u001b[49m\u001b[43m,\u001b[49m\n\u001b[1;32m    319\u001b[0m \u001b[43m    \u001b[49m\u001b[43mtapes\u001b[49m\u001b[38;5;241;43m=\u001b[39;49m\u001b[43mtapes\u001b[49m\u001b[43m,\u001b[49m\n\u001b[1;32m    320\u001b[0m \u001b[43m    \u001b[49m\u001b[43mdevice\u001b[49m\u001b[38;5;241;43m=\u001b[39;49m\u001b[43mdevice\u001b[49m\u001b[43m,\u001b[49m\n\u001b[1;32m    321\u001b[0m \u001b[43m    \u001b[49m\u001b[43mexecute_fn\u001b[49m\u001b[38;5;241;43m=\u001b[39;49m\u001b[43mexecute_fn\u001b[49m\u001b[43m,\u001b[49m\n\u001b[1;32m    322\u001b[0m \u001b[43m    \u001b[49m\u001b[43mgradient_fn\u001b[49m\u001b[38;5;241;43m=\u001b[39;49m\u001b[43mgradient_fn\u001b[49m\u001b[43m,\u001b[49m\n\u001b[1;32m    323\u001b[0m \u001b[43m    \u001b[49m\u001b[43mgradient_kwargs\u001b[49m\u001b[38;5;241;43m=\u001b[39;49m\u001b[43mgradient_kwargs\u001b[49m\u001b[43m,\u001b[49m\n\u001b[1;32m    324\u001b[0m \u001b[43m    \u001b[49m\u001b[43m_n\u001b[49m\u001b[38;5;241;43m=\u001b[39;49m\u001b[43m_n\u001b[49m\u001b[43m,\u001b[49m\n\u001b[1;32m    325\u001b[0m \u001b[43m    \u001b[49m\u001b[43mmax_diff\u001b[49m\u001b[38;5;241;43m=\u001b[39;49m\u001b[43mmax_diff\u001b[49m\u001b[43m,\u001b[49m\n\u001b[1;32m    326\u001b[0m \u001b[43m\u001b[49m\u001b[43m)\u001b[49m[\u001b[38;5;241m0\u001b[39m]\n",
      "File \u001b[0;32m/opt/venv/lib/python3.10/site-packages/autograd/tracer.py:44\u001b[0m, in \u001b[0;36mprimitive.<locals>.f_wrapped\u001b[0;34m(*args, **kwargs)\u001b[0m\n\u001b[1;32m     42\u001b[0m parents \u001b[38;5;241m=\u001b[39m \u001b[38;5;28mtuple\u001b[39m(box\u001b[38;5;241m.\u001b[39m_node \u001b[38;5;28;01mfor\u001b[39;00m _     , box \u001b[38;5;129;01min\u001b[39;00m boxed_args)\n\u001b[1;32m     43\u001b[0m argnums \u001b[38;5;241m=\u001b[39m \u001b[38;5;28mtuple\u001b[39m(argnum    \u001b[38;5;28;01mfor\u001b[39;00m argnum, _   \u001b[38;5;129;01min\u001b[39;00m boxed_args)\n\u001b[0;32m---> 44\u001b[0m ans \u001b[38;5;241m=\u001b[39m \u001b[43mf_wrapped\u001b[49m\u001b[43m(\u001b[49m\u001b[38;5;241;43m*\u001b[39;49m\u001b[43margvals\u001b[49m\u001b[43m,\u001b[49m\u001b[43m \u001b[49m\u001b[38;5;241;43m*\u001b[39;49m\u001b[38;5;241;43m*\u001b[39;49m\u001b[43mkwargs\u001b[49m\u001b[43m)\u001b[49m\n\u001b[1;32m     45\u001b[0m node \u001b[38;5;241m=\u001b[39m node_constructor(ans, f_wrapped, argvals, kwargs, argnums, parents)\n\u001b[1;32m     46\u001b[0m \u001b[38;5;28;01mreturn\u001b[39;00m new_box(ans, trace, node)\n",
      "File \u001b[0;32m/opt/venv/lib/python3.10/site-packages/autograd/tracer.py:48\u001b[0m, in \u001b[0;36mprimitive.<locals>.f_wrapped\u001b[0;34m(*args, **kwargs)\u001b[0m\n\u001b[1;32m     46\u001b[0m     \u001b[38;5;28;01mreturn\u001b[39;00m new_box(ans, trace, node)\n\u001b[1;32m     47\u001b[0m \u001b[38;5;28;01melse\u001b[39;00m:\n\u001b[0;32m---> 48\u001b[0m     \u001b[38;5;28;01mreturn\u001b[39;00m \u001b[43mf_raw\u001b[49m\u001b[43m(\u001b[49m\u001b[38;5;241;43m*\u001b[39;49m\u001b[43margs\u001b[49m\u001b[43m,\u001b[49m\u001b[43m \u001b[49m\u001b[38;5;241;43m*\u001b[39;49m\u001b[38;5;241;43m*\u001b[39;49m\u001b[43mkwargs\u001b[49m\u001b[43m)\u001b[49m\n",
      "File \u001b[0;32m/opt/venv/lib/python3.10/site-packages/pennylane/interfaces/autograd.py:378\u001b[0m, in \u001b[0;36m_execute\u001b[0;34m(parameters, tapes, device, execute_fn, gradient_fn, gradient_kwargs, _n, max_diff)\u001b[0m\n\u001b[1;32m    360\u001b[0m \u001b[38;5;28;01mif\u001b[39;00m logger\u001b[38;5;241m.\u001b[39misEnabledFor(logging\u001b[38;5;241m.\u001b[39mDEBUG):\n\u001b[1;32m    361\u001b[0m     logger\u001b[38;5;241m.\u001b[39mdebug(\n\u001b[1;32m    362\u001b[0m         \u001b[38;5;124m\"\u001b[39m\u001b[38;5;124mEntry with args=(parameters=\u001b[39m\u001b[38;5;132;01m%s\u001b[39;00m\u001b[38;5;124m, tapes=\u001b[39m\u001b[38;5;132;01m%s\u001b[39;00m\u001b[38;5;124m, device=\u001b[39m\u001b[38;5;132;01m%s\u001b[39;00m\u001b[38;5;124m, execute_fn=\u001b[39m\u001b[38;5;132;01m%s\u001b[39;00m\u001b[38;5;124m, gradient_fn=\u001b[39m\u001b[38;5;132;01m%s\u001b[39;00m\u001b[38;5;124m, gradient_kwargs=\u001b[39m\u001b[38;5;132;01m%s\u001b[39;00m\u001b[38;5;124m, _n=\u001b[39m\u001b[38;5;132;01m%s\u001b[39;00m\u001b[38;5;124m, max_diff=\u001b[39m\u001b[38;5;132;01m%s\u001b[39;00m\u001b[38;5;124m) called by=\u001b[39m\u001b[38;5;132;01m%s\u001b[39;00m\u001b[38;5;124m\"\u001b[39m,\n\u001b[1;32m    363\u001b[0m         parameters,\n\u001b[0;32m   (...)\u001b[0m\n\u001b[1;32m    375\u001b[0m         \u001b[38;5;124m\"\u001b[39m\u001b[38;5;124m::L\u001b[39m\u001b[38;5;124m\"\u001b[39m\u001b[38;5;241m.\u001b[39mjoin(\u001b[38;5;28mstr\u001b[39m(i) \u001b[38;5;28;01mfor\u001b[39;00m i \u001b[38;5;129;01min\u001b[39;00m inspect\u001b[38;5;241m.\u001b[39mgetouterframes(inspect\u001b[38;5;241m.\u001b[39mcurrentframe(), \u001b[38;5;241m2\u001b[39m)[\u001b[38;5;241m1\u001b[39m][\u001b[38;5;241m1\u001b[39m:\u001b[38;5;241m3\u001b[39m]),\n\u001b[1;32m    376\u001b[0m     )\n\u001b[0;32m--> 378\u001b[0m res, jacs \u001b[38;5;241m=\u001b[39m \u001b[43mexecute_fn\u001b[49m\u001b[43m(\u001b[49m\u001b[43mtapes\u001b[49m\u001b[43m,\u001b[49m\u001b[43m \u001b[49m\u001b[38;5;241;43m*\u001b[39;49m\u001b[38;5;241;43m*\u001b[39;49m\u001b[43mgradient_kwargs\u001b[49m\u001b[43m)\u001b[49m\n\u001b[1;32m    380\u001b[0m \u001b[38;5;28;01mreturn\u001b[39;00m res, jacs\n",
      "File \u001b[0;32m/opt/venv/lib/python3.10/site-packages/pennylane/interfaces/execution.py:708\u001b[0m, in \u001b[0;36mexecute.<locals>.device_execute_and_gradients\u001b[0;34m(internal_tapes, **gradient_kwargs)\u001b[0m\n\u001b[1;32m    704\u001b[0m \u001b[38;5;28;01mdef\u001b[39;00m \u001b[38;5;21mdevice_execute_and_gradients\u001b[39m(internal_tapes, \u001b[38;5;241m*\u001b[39m\u001b[38;5;241m*\u001b[39mgradient_kwargs):\n\u001b[1;32m    705\u001b[0m     numpy_tapes \u001b[38;5;241m=\u001b[39m \u001b[38;5;28mtuple\u001b[39m(\n\u001b[1;32m    706\u001b[0m         qml\u001b[38;5;241m.\u001b[39mtransforms\u001b[38;5;241m.\u001b[39mconvert_to_numpy_parameters(t) \u001b[38;5;28;01mfor\u001b[39;00m t \u001b[38;5;129;01min\u001b[39;00m internal_tapes\n\u001b[1;32m    707\u001b[0m     )\n\u001b[0;32m--> 708\u001b[0m     \u001b[38;5;28;01mreturn\u001b[39;00m \u001b[43mset_shots\u001b[49m\u001b[43m(\u001b[49m\u001b[43mdevice\u001b[49m\u001b[43m,\u001b[49m\u001b[43m \u001b[49m\u001b[43moverride_shots\u001b[49m\u001b[43m)\u001b[49m\u001b[43m(\u001b[49m\u001b[43mdevice\u001b[49m\u001b[38;5;241;43m.\u001b[39;49m\u001b[43mexecute_and_gradients\u001b[49m\u001b[43m)\u001b[49m\u001b[43m(\u001b[49m\n\u001b[1;32m    709\u001b[0m \u001b[43m        \u001b[49m\u001b[43mnumpy_tapes\u001b[49m\u001b[43m,\u001b[49m\u001b[43m \u001b[49m\u001b[38;5;241;43m*\u001b[39;49m\u001b[38;5;241;43m*\u001b[39;49m\u001b[43mgradient_kwargs\u001b[49m\n\u001b[1;32m    710\u001b[0m \u001b[43m    \u001b[49m\u001b[43m)\u001b[49m\n",
      "File \u001b[0;32m/usr/lib/python3.10/contextlib.py:79\u001b[0m, in \u001b[0;36mContextDecorator.__call__.<locals>.inner\u001b[0;34m(*args, **kwds)\u001b[0m\n\u001b[1;32m     76\u001b[0m \u001b[38;5;129m@wraps\u001b[39m(func)\n\u001b[1;32m     77\u001b[0m \u001b[38;5;28;01mdef\u001b[39;00m \u001b[38;5;21minner\u001b[39m(\u001b[38;5;241m*\u001b[39margs, \u001b[38;5;241m*\u001b[39m\u001b[38;5;241m*\u001b[39mkwds):\n\u001b[1;32m     78\u001b[0m     \u001b[38;5;28;01mwith\u001b[39;00m \u001b[38;5;28mself\u001b[39m\u001b[38;5;241m.\u001b[39m_recreate_cm():\n\u001b[0;32m---> 79\u001b[0m         \u001b[38;5;28;01mreturn\u001b[39;00m \u001b[43mfunc\u001b[49m\u001b[43m(\u001b[49m\u001b[38;5;241;43m*\u001b[39;49m\u001b[43margs\u001b[49m\u001b[43m,\u001b[49m\u001b[43m \u001b[49m\u001b[38;5;241;43m*\u001b[39;49m\u001b[38;5;241;43m*\u001b[39;49m\u001b[43mkwds\u001b[49m\u001b[43m)\u001b[49m\n",
      "File \u001b[0;32m/opt/venv/lib/python3.10/site-packages/pennylane/_device.py:574\u001b[0m, in \u001b[0;36mDevice.execute_and_gradients\u001b[0;34m(self, circuits, method, **kwargs)\u001b[0m\n\u001b[1;32m    569\u001b[0m \u001b[38;5;28;01mfor\u001b[39;00m circuit \u001b[38;5;129;01min\u001b[39;00m circuits:\n\u001b[1;32m    570\u001b[0m     \u001b[38;5;66;03m# Evaluations and gradients are paired, so that\u001b[39;00m\n\u001b[1;32m    571\u001b[0m     \u001b[38;5;66;03m# devices can re-use the device state for the\u001b[39;00m\n\u001b[1;32m    572\u001b[0m     \u001b[38;5;66;03m# gradient computation (if applicable).\u001b[39;00m\n\u001b[1;32m    573\u001b[0m     res\u001b[38;5;241m.\u001b[39mappend(\u001b[38;5;28mself\u001b[39m\u001b[38;5;241m.\u001b[39mbatch_execute([circuit])[\u001b[38;5;241m0\u001b[39m])\n\u001b[0;32m--> 574\u001b[0m     jacs\u001b[38;5;241m.\u001b[39mappend(\u001b[43mgradient_method\u001b[49m\u001b[43m(\u001b[49m\u001b[43mcircuit\u001b[49m\u001b[43m,\u001b[49m\u001b[43m \u001b[49m\u001b[38;5;241;43m*\u001b[39;49m\u001b[38;5;241;43m*\u001b[39;49m\u001b[43mkwargs\u001b[49m\u001b[43m)\u001b[49m)\n\u001b[1;32m    576\u001b[0m \u001b[38;5;28;01mreturn\u001b[39;00m res, jacs\n",
      "File \u001b[0;32m/opt/venv/lib/python3.10/site-packages/pennylane_lightning_gpu/lightning_gpu.py:732\u001b[0m, in \u001b[0;36mLightningGPU.adjoint_jacobian\u001b[0;34m(self, tape, starting_state, use_device_state, **kwargs)\u001b[0m\n\u001b[1;32m    724\u001b[0m             jac \u001b[38;5;241m=\u001b[39m adj\u001b[38;5;241m.\u001b[39madjoint_jacobian_serial(\n\u001b[1;32m    725\u001b[0m                 \u001b[38;5;28mself\u001b[39m\u001b[38;5;241m.\u001b[39m_gpu_state,\n\u001b[1;32m    726\u001b[0m                 obs_serialized,\n\u001b[1;32m    727\u001b[0m                 ops_serialized,\n\u001b[1;32m    728\u001b[0m                 tp_shift,\n\u001b[1;32m    729\u001b[0m             )\n\u001b[1;32m    731\u001b[0m \u001b[38;5;28;01melse\u001b[39;00m:\n\u001b[0;32m--> 732\u001b[0m     jac \u001b[38;5;241m=\u001b[39m \u001b[43madj\u001b[49m\u001b[38;5;241;43m.\u001b[39;49m\u001b[43madjoint_jacobian\u001b[49m\u001b[43m(\u001b[49m\n\u001b[1;32m    733\u001b[0m \u001b[43m        \u001b[49m\u001b[38;5;28;43mself\u001b[39;49m\u001b[38;5;241;43m.\u001b[39;49m\u001b[43m_gpu_state\u001b[49m\u001b[43m,\u001b[49m\n\u001b[1;32m    734\u001b[0m \u001b[43m        \u001b[49m\u001b[43mobs_serialized\u001b[49m\u001b[43m,\u001b[49m\n\u001b[1;32m    735\u001b[0m \u001b[43m        \u001b[49m\u001b[43mops_serialized\u001b[49m\u001b[43m,\u001b[49m\n\u001b[1;32m    736\u001b[0m \u001b[43m        \u001b[49m\u001b[43mtp_shift\u001b[49m\u001b[43m,\u001b[49m\n\u001b[1;32m    737\u001b[0m \u001b[43m    \u001b[49m\u001b[43m)\u001b[49m\n\u001b[1;32m    739\u001b[0m jac \u001b[38;5;241m=\u001b[39m np\u001b[38;5;241m.\u001b[39marray(jac)  \u001b[38;5;66;03m# only for parameters differentiable with the adjoint method\u001b[39;00m\n\u001b[1;32m    740\u001b[0m jac \u001b[38;5;241m=\u001b[39m jac\u001b[38;5;241m.\u001b[39mreshape(\u001b[38;5;241m-\u001b[39m\u001b[38;5;241m1\u001b[39m, \u001b[38;5;28mlen\u001b[39m(tp_shift))\n",
      "\u001b[0;31mKeyboardInterrupt\u001b[0m: "
     ]
    }
   ],
   "source": [
    "# start parameter training\n",
    "\n",
    "p = 2\n",
    "opt = qml.AdamOptimizer(stepsize=0.001)\n",
    "num_iterations = 100\n",
    "np.random.seed(0)\n",
    "init_params = np.random.rand(2, p) * np.pi\n",
    "\n",
    "adam_values = []\n",
    "\n",
    "params = init_params\n",
    "for step in range(num_iterations):\n",
    "    print(step)\n",
    "    params = opt.step(qnode, params)\n",
    "   \n",
    "    adam_values.append(qnode(params))\n",
    "    if step % 10 == 0:\n",
    "        print(f'Step {step}: Cost = {adam_values[-1]}')\n",
    "        \n",
    "optimized_params_reshaped = params"
   ]
  },
  {
   "cell_type": "code",
   "execution_count": 28,
   "id": "f1c4c7a9",
   "metadata": {},
   "outputs": [],
   "source": [
    "# uncoment to skip training and use default parameters\n",
    "\n",
    "# optimized_params_reshaped = np.array([[1.7314061 , 2.23572227],\n",
    "#         [2.12054033, 1.94380265]])"
   ]
  },
  {
   "cell_type": "code",
   "execution_count": 29,
   "id": "83f568a2",
   "metadata": {},
   "outputs": [],
   "source": [
    "# run the circuit with the trained parameters\n",
    "\n",
    "start_time = time.time()\n",
    "\n",
    "# sample the circuit \n",
    "p = 2 \n",
    "num_shots = 1000\n",
    "\n",
    "# this container is setup to run on GPU\n",
    "# run with lightnig.qubit instead to run on CPU\n",
    "dev = qml.device('lightning.gpu', wires=num_qubits, shots=num_shots)\n",
    "\n",
    "# use this device instead to run on IBM instead of the simulator \n",
    "# dev = qml.device('qiskit.ibmq', #'qiskit.aer',# \n",
    "#                  overwrite=True,\n",
    "#                  wires=len(library_df), \n",
    "#                  backend='ibm_osaka', #'ibmq_qasm_simulator', \n",
    "#                  ibmqx_token=\"xxxx\")\n",
    "\n",
    "cost_h = H_total\n",
    "mixer_h = create_mixer_hamiltonian(library_df)\n",
    "\n",
    "def sampling_circuit(params):\n",
    "    \n",
    "    for i in range(p):\n",
    "        qaoa.cost_layer(params[0][i], cost_h)\n",
    "        qaoa.mixer_layer(params[1][i], mixer_h)\n",
    "\n",
    "    return [qml.sample(qml.PauliZ(i)) for i in range(num_qubits)]\n",
    "\n",
    "qnode = qml.QNode(sampling_circuit, dev)#, diff_method=\"spsa\") \n",
    "shots_results = qnode(optimized_params_reshaped)\n",
    "\n",
    "# Initialize a list to hold the optimal_nodes for each shot\n",
    "optimal_nodes = []\n",
    " "
   ]
  },
  {
   "cell_type": "code",
   "execution_count": 30,
   "id": "bf7e729f",
   "metadata": {},
   "outputs": [],
   "source": [
    " # Reconstruct the bitstrings for each shot\n",
    "for shot_index in range(num_shots):   \n",
    "    shot_indexes = [node_record for node_record in range(num_qubits) if shots_results[node_record][shot_index] == 1]\n",
    "    optimal_nodes.append(shot_indexes)\n",
    "    "
   ]
  },
  {
   "cell_type": "code",
   "execution_count": 31,
   "id": "9b4228da",
   "metadata": {},
   "outputs": [],
   "source": [
    "def top_n_indices_complete_set(values, n):\n",
    "    \"\"\"\n",
    "    Find the indices with the highest values and return the top n values\n",
    "    \"\"\"\n",
    "    \n",
    "    # Convert the list to a numpy array\n",
    "    values_array = np.array(values)\n",
    "    \n",
    "    # Get the indices that would sort the array in descending order\n",
    "    sorted_indices = np.argsort(values_array)[::-1]\n",
    "    \n",
    "    # Select the top n indices\n",
    "    top_n_sorted_indices = sorted_indices[:n]\n",
    "    \n",
    "    # Sort these indices to maintain the original order\n",
    "    top_n_indices_in_original_order = [int(i) for i in sorted(top_n_sorted_indices)]\n",
    "     \n",
    "    return top_n_indices_in_original_order \n",
    "\n",
    "def top_n_indices_per_region(values, n):\n",
    "    \"\"\"\n",
    "    Find the top indices per each region\n",
    "    \"\"\"\n",
    "    \n",
    "    # Convert the list to a numpy array\n",
    "    values_array = np.array(values)\n",
    "    optimal_sample = []\n",
    "    for region in range(1, region_num + 1): \n",
    "        region_min = (region -1)  * samples_per_region\n",
    "        region_max = region* samples_per_region-1\n",
    "        choice = np.argmax(values_array[region_min:region_max]).max()\n",
    "       \n",
    "        optimal_sample.append(choice+region_min)    \n",
    "        \n",
    "    # find the top recurring qubits\n",
    "    top_n_indices = top_n_indices_complete_set(values, n)\n",
    "    \n",
    "    # find the top values not in the optimal sample\n",
    "    unrepresented_index = [index for index in top_n_indices if index not in optimal_sample]\n",
    "\n",
    "    # extend the optimal_sample with the other top samples not to exceed the requried number of samples\n",
    "    optimal_sample.extend(unrepresented_index[:region_num - n])\n",
    "\n",
    "    optimal_sample.sort()\n",
    "    top_n_indices_in_original_order =  optimal_sample\n",
    "    \n",
    "     \n",
    "    return top_n_indices_in_original_order "
   ]
  },
  {
   "cell_type": "code",
   "execution_count": 32,
   "id": "479c9d66",
   "metadata": {},
   "outputs": [],
   "source": [
    "def calculate_sample_percentage(shot_range_start=None, shot_range_end=None, val_num=3):\n",
    "    \"\"\"\n",
    "    Future exploration:\n",
    "    combine all of the shots and calulate the percentage of the qubit being\n",
    "    in an excited state\n",
    "    \"\"\"\n",
    "    simulated_samples = np.array(shots_results)\n",
    "    # Transpose the array so each row represents a shot\n",
    "    # transposed_samples = simulated_samples.T\n",
    "    # Convert samples from -1 (state |0>) and 1 (state |1>) to 0 and 1\n",
    "    samples = (simulated_samples + 1) / 2\n",
    "\n",
    "    if shot_range_end: \n",
    "        samples = [lst[shot_range_start:shot_range_end] for lst in samples]\n",
    "    \n",
    "\n",
    "    # Calculate the percentage of each qubit being in state |1>\n",
    "    percentage_selected = np.mean(samples , axis=1) * 100\n",
    "\n",
    "    optimal_sample = []\n",
    "\n",
    "    optimal_sample = top_n_indices_per_region(percentage_selected.tolist(), val_num)\n",
    "\n",
    "    return optimal_sample"
   ]
  },
  {
   "cell_type": "code",
   "execution_count": 33,
   "id": "9aac83d1",
   "metadata": {},
   "outputs": [],
   "source": [
    "# using 10 \"reads\" at a time \n",
    "start = 0\n",
    "optimal_nodes = []\n",
    "for end in range(0,1000, 10):\n",
    "    nodes = calculate_sample_percentage(start,end, region_num + 4)\n",
    "    if len(nodes) < region_num:\n",
    "        continue\n",
    "    if nodes in optimal_nodes:\n",
    "        continue\n",
    "    optimal_nodes.append(nodes)\n",
    "    start = end"
   ]
  },
  {
   "cell_type": "code",
   "execution_count": 34,
   "id": "52665e3e",
   "metadata": {},
   "outputs": [],
   "source": [
    "def prep_combos(optimal_nodes, region_num):\n",
    "    \"\"\"\n",
    "    prepare all possible valid combinations \n",
    "    \"\"\"\n",
    "    \n",
    "    # Generate all valid combinations  \n",
    "    valid_combinations = []\n",
    "    \n",
    "    \n",
    "    # Filter the DataFrame to get only the provided indexes\n",
    "    provided_df = library_df[library_df['wire'].isin(optimal_nodes)]\n",
    "\n",
    "    regions = provided_df['region'].unique()\n",
    "    if len(regions) != region_num:\n",
    "        print(f\"invalid number of regions: {regions}\")\n",
    "        return valid_combinations\n",
    "\n",
    "    # Organize the indexes into their respective regions\n",
    "    organized_indexes = provided_df.groupby('region')['wire'].apply(list).to_dict()\n",
    "\n",
    "\n",
    "    for comb in itertools.combinations(optimal_nodes, region_num):\n",
    "        region_count = {region: 0 for region in organized_indexes}\n",
    "        for index in comb:\n",
    "            region = library_df.loc[library_df['wire'] == index, 'region'].values[0]\n",
    "            if region in region_count:\n",
    "                region_count[region] += 1\n",
    "        if all(count >= 1 for count in region_count.values()):\n",
    "                valid_combinations.append(comb)\n",
    "    return valid_combinations"
   ]
  },
  {
   "cell_type": "code",
   "execution_count": 35,
   "id": "b004a567",
   "metadata": {},
   "outputs": [
    {
     "name": "stdout",
     "output_type": "stream",
     "text": [
      "6\n",
      "Optimization totals:\n",
      "total color: 30\n",
      "total shape: 22\n",
      "total components: 19\n",
      "\n",
      "Optimal Node Information:\n",
      "    id  region  color  shape  components\n",
      "1    2       1      4      3           1\n",
      "4    5       2      2      4           2\n",
      "7    8       3      5      4           4\n",
      "9   10       4      5      1           4\n",
      "13  14       5     10      5           5\n",
      "16  17       6      4      5           3\n",
      "-----\n",
      "8\n",
      "Optimization totals:\n",
      "total color: 34\n",
      "total shape: 22\n",
      "total components: 22\n",
      "\n",
      "Optimal Node Information:\n",
      "    id  region  color  shape  components\n",
      "0    1       1      5      2           1\n",
      "3    4       2      1      5           5\n",
      "6    7       3      9      4           4\n",
      "9   10       4      5      1           4\n",
      "13  14       5     10      5           5\n",
      "16  17       6      4      5           3\n",
      "-----\n",
      "Optimization totals:\n",
      "total color: 33\n",
      "total shape: 23\n",
      "total components: 22\n",
      "\n",
      "Optimal Node Information:\n",
      "    id  region  color  shape  components\n",
      "1    2       1      4      3           1\n",
      "3    4       2      1      5           5\n",
      "6    7       3      9      4           4\n",
      "9   10       4      5      1           4\n",
      "13  14       5     10      5           5\n",
      "16  17       6      4      5           3\n",
      "-----\n",
      "Optimization totals:\n",
      "total color: 32\n",
      "total shape: 24\n",
      "total components: 25\n",
      "\n",
      "Optimal Node Information:\n",
      "    id  region  color  shape  components\n",
      "2    3       1      3      4           4\n",
      "3    4       2      1      5           5\n",
      "6    7       3      9      4           4\n",
      "9   10       4      5      1           4\n",
      "13  14       5     10      5           5\n",
      "16  17       6      4      5           3\n",
      "-----\n",
      "8\n",
      "Optimization totals:\n",
      "total color: 30\n",
      "total shape: 22\n",
      "total components: 19\n",
      "\n",
      "Optimal Node Information:\n",
      "    id  region  color  shape  components\n",
      "0    1       1      5      2           1\n",
      "3    4       2      1      5           5\n",
      "6    7       3      9      4           4\n",
      "10  11       4      1      1           1\n",
      "13  14       5     10      5           5\n",
      "16  17       6      4      5           3\n",
      "-----\n",
      "Optimization totals:\n",
      "total color: 29\n",
      "total shape: 23\n",
      "total components: 19\n",
      "\n",
      "Optimal Node Information:\n",
      "    id  region  color  shape  components\n",
      "1    2       1      4      3           1\n",
      "3    4       2      1      5           5\n",
      "6    7       3      9      4           4\n",
      "10  11       4      1      1           1\n",
      "13  14       5     10      5           5\n",
      "16  17       6      4      5           3\n",
      "-----\n",
      "Optimization totals:\n",
      "total color: 28\n",
      "total shape: 24\n",
      "total components: 22\n",
      "\n",
      "Optimal Node Information:\n",
      "    id  region  color  shape  components\n",
      "2    3       1      3      4           4\n",
      "3    4       2      1      5           5\n",
      "6    7       3      9      4           4\n",
      "10  11       4      1      1           1\n",
      "13  14       5     10      5           5\n",
      "16  17       6      4      5           3\n",
      "-----\n",
      "7\n",
      "Optimization totals:\n",
      "total color: 30\n",
      "total shape: 19\n",
      "total components: 19\n",
      "\n",
      "Optimal Node Information:\n",
      "    id  region  color  shape  components\n",
      "0    1       1      5      2           1\n",
      "3    4       2      1      5           5\n",
      "6    7       3      9      4           4\n",
      "9   10       4      5      1           4\n",
      "12  13       5      6      2           2\n",
      "16  17       6      4      5           3\n",
      "-----\n",
      "Optimization totals:\n",
      "total color: 29\n",
      "total shape: 20\n",
      "total components: 19\n",
      "\n",
      "Optimal Node Information:\n",
      "    id  region  color  shape  components\n",
      "1    2       1      4      3           1\n",
      "3    4       2      1      5           5\n",
      "6    7       3      9      4           4\n",
      "9   10       4      5      1           4\n",
      "12  13       5      6      2           2\n",
      "16  17       6      4      5           3\n",
      "-----\n",
      "8\n",
      "Optimization totals:\n",
      "total color: 32\n",
      "total shape: 19\n",
      "total components: 19\n",
      "\n",
      "Optimal Node Information:\n",
      "    id  region  color  shape  components\n",
      "0    1       1      5      2           1\n",
      "3    4       2      1      5           5\n",
      "6    7       3      9      4           4\n",
      "9   10       4      5      1           4\n",
      "12  13       5      6      2           2\n",
      "15  16       6      6      5           3\n",
      "-----\n",
      "Optimization totals:\n",
      "total color: 31\n",
      "total shape: 20\n",
      "total components: 19\n",
      "\n",
      "Optimal Node Information:\n",
      "    id  region  color  shape  components\n",
      "1    2       1      4      3           1\n",
      "3    4       2      1      5           5\n",
      "6    7       3      9      4           4\n",
      "9   10       4      5      1           4\n",
      "12  13       5      6      2           2\n",
      "15  16       6      6      5           3\n",
      "-----\n",
      "Optimization totals:\n",
      "total color: 30\n",
      "total shape: 21\n",
      "total components: 22\n",
      "\n",
      "Optimal Node Information:\n",
      "    id  region  color  shape  components\n",
      "2    3       1      3      4           4\n",
      "3    4       2      1      5           5\n",
      "6    7       3      9      4           4\n",
      "9   10       4      5      1           4\n",
      "12  13       5      6      2           2\n",
      "15  16       6      6      5           3\n",
      "-----\n",
      "8\n",
      "Optimization totals:\n",
      "total color: 32\n",
      "total shape: 22\n",
      "total components: 19\n",
      "\n",
      "Optimal Node Information:\n",
      "    id  region  color  shape  components\n",
      "0    1       1      5      2           1\n",
      "3    4       2      1      5           5\n",
      "6    7       3      9      4           4\n",
      "10  11       4      1      1           1\n",
      "13  14       5     10      5           5\n",
      "15  16       6      6      5           3\n",
      "-----\n",
      "Optimization totals:\n",
      "total color: 31\n",
      "total shape: 23\n",
      "total components: 19\n",
      "\n",
      "Optimal Node Information:\n",
      "    id  region  color  shape  components\n",
      "1    2       1      4      3           1\n",
      "3    4       2      1      5           5\n",
      "6    7       3      9      4           4\n",
      "10  11       4      1      1           1\n",
      "13  14       5     10      5           5\n",
      "15  16       6      6      5           3\n",
      "-----\n",
      "Optimization totals:\n",
      "total color: 30\n",
      "total shape: 24\n",
      "total components: 22\n",
      "\n",
      "Optimal Node Information:\n",
      "    id  region  color  shape  components\n",
      "2    3       1      3      4           4\n",
      "3    4       2      1      5           5\n",
      "6    7       3      9      4           4\n",
      "10  11       4      1      1           1\n",
      "13  14       5     10      5           5\n",
      "15  16       6      6      5           3\n",
      "-----\n",
      "8\n",
      "Optimization totals:\n",
      "total color: 28\n",
      "total shape: 19\n",
      "total components: 16\n",
      "\n",
      "Optimal Node Information:\n",
      "    id  region  color  shape  components\n",
      "0    1       1      5      2           1\n",
      "3    4       2      1      5           5\n",
      "6    7       3      9      4           4\n",
      "10  11       4      1      1           1\n",
      "12  13       5      6      2           2\n",
      "15  16       6      6      5           3\n",
      "-----\n",
      "Optimization totals:\n",
      "total color: 27\n",
      "total shape: 20\n",
      "total components: 16\n",
      "\n",
      "Optimal Node Information:\n",
      "    id  region  color  shape  components\n",
      "1    2       1      4      3           1\n",
      "3    4       2      1      5           5\n",
      "6    7       3      9      4           4\n",
      "10  11       4      1      1           1\n",
      "12  13       5      6      2           2\n",
      "15  16       6      6      5           3\n",
      "-----\n",
      "Optimization totals:\n",
      "total color: 26\n",
      "total shape: 21\n",
      "total components: 19\n",
      "\n",
      "Optimal Node Information:\n",
      "    id  region  color  shape  components\n",
      "2    3       1      3      4           4\n",
      "3    4       2      1      5           5\n",
      "6    7       3      9      4           4\n",
      "10  11       4      1      1           1\n",
      "12  13       5      6      2           2\n",
      "15  16       6      6      5           3\n",
      "-----\n",
      "8\n",
      "Optimization totals:\n",
      "total color: 22\n",
      "total shape: 19\n",
      "total components: 16\n",
      "\n",
      "Optimal Node Information:\n",
      "    id  region  color  shape  components\n",
      "0    1       1      5      2           1\n",
      "3    4       2      1      5           5\n",
      "7    8       3      5      4           4\n",
      "10  11       4      1      1           1\n",
      "12  13       5      6      2           2\n",
      "16  17       6      4      5           3\n",
      "-----\n",
      "Optimization totals:\n",
      "total color: 21\n",
      "total shape: 20\n",
      "total components: 16\n",
      "\n",
      "Optimal Node Information:\n",
      "    id  region  color  shape  components\n",
      "1    2       1      4      3           1\n",
      "3    4       2      1      5           5\n",
      "7    8       3      5      4           4\n",
      "10  11       4      1      1           1\n",
      "12  13       5      6      2           2\n",
      "16  17       6      4      5           3\n",
      "-----\n",
      "Optimization totals:\n",
      "total color: 20\n",
      "total shape: 21\n",
      "total components: 19\n",
      "\n",
      "Optimal Node Information:\n",
      "    id  region  color  shape  components\n",
      "2    3       1      3      4           4\n",
      "3    4       2      1      5           5\n",
      "7    8       3      5      4           4\n",
      "10  11       4      1      1           1\n",
      "12  13       5      6      2           2\n",
      "16  17       6      4      5           3\n",
      "-----\n",
      "7\n",
      "Optimization totals:\n",
      "total color: 32\n",
      "total shape: 22\n",
      "total components: 22\n",
      "\n",
      "Optimal Node Information:\n",
      "    id  region  color  shape  components\n",
      "0    1       1      5      2           1\n",
      "3    4       2      1      5           5\n",
      "7    8       3      5      4           4\n",
      "9   10       4      5      1           4\n",
      "13  14       5     10      5           5\n",
      "15  16       6      6      5           3\n",
      "-----\n",
      "Optimization totals:\n",
      "total color: 31\n",
      "total shape: 23\n",
      "total components: 22\n",
      "\n",
      "Optimal Node Information:\n",
      "    id  region  color  shape  components\n",
      "1    2       1      4      3           1\n",
      "3    4       2      1      5           5\n",
      "7    8       3      5      4           4\n",
      "9   10       4      5      1           4\n",
      "13  14       5     10      5           5\n",
      "15  16       6      6      5           3\n",
      "-----\n",
      "7\n",
      "7\n",
      "6\n",
      "Optimization totals:\n",
      "total color: 26\n",
      "total shape: 22\n",
      "total components: 19\n",
      "\n",
      "Optimal Node Information:\n",
      "    id  region  color  shape  components\n",
      "0    1       1      5      2           1\n",
      "3    4       2      1      5           5\n",
      "7    8       3      5      4           4\n",
      "10  11       4      1      1           1\n",
      "13  14       5     10      5           5\n",
      "16  17       6      4      5           3\n",
      "-----\n",
      "8\n",
      "Optimization totals:\n",
      "total color: 28\n",
      "total shape: 19\n",
      "total components: 19\n",
      "\n",
      "Optimal Node Information:\n",
      "    id  region  color  shape  components\n",
      "0    1       1      5      2           1\n",
      "3    4       2      1      5           5\n",
      "7    8       3      5      4           4\n",
      "9   10       4      5      1           4\n",
      "12  13       5      6      2           2\n",
      "15  16       6      6      5           3\n",
      "-----\n",
      "Optimization totals:\n",
      "total color: 27\n",
      "total shape: 20\n",
      "total components: 19\n",
      "\n",
      "Optimal Node Information:\n",
      "    id  region  color  shape  components\n",
      "1    2       1      4      3           1\n",
      "3    4       2      1      5           5\n",
      "7    8       3      5      4           4\n",
      "9   10       4      5      1           4\n",
      "12  13       5      6      2           2\n",
      "15  16       6      6      5           3\n",
      "-----\n",
      "Optimization totals:\n",
      "total color: 26\n",
      "total shape: 21\n",
      "total components: 22\n",
      "\n",
      "Optimal Node Information:\n",
      "    id  region  color  shape  components\n",
      "2    3       1      3      4           4\n",
      "3    4       2      1      5           5\n",
      "7    8       3      5      4           4\n",
      "9   10       4      5      1           4\n",
      "12  13       5      6      2           2\n",
      "15  16       6      6      5           3\n",
      "-----\n",
      "9\n"
     ]
    },
    {
     "name": "stdout",
     "output_type": "stream",
     "text": [
      "Optimization totals:\n",
      "total color: 33\n",
      "total shape: 18\n",
      "total components: 16\n",
      "\n",
      "Optimal Node Information:\n",
      "    id  region  color  shape  components\n",
      "0    1       1      5      2           1\n",
      "4    5       2      2      4           2\n",
      "6    7       3      9      4           4\n",
      "9   10       4      5      1           4\n",
      "12  13       5      6      2           2\n",
      "15  16       6      6      5           3\n",
      "-----\n",
      "Optimization totals:\n",
      "total color: 32\n",
      "total shape: 18\n",
      "total components: 18\n",
      "\n",
      "Optimal Node Information:\n",
      "    id  region  color  shape  components\n",
      "0    1       1      5      2           1\n",
      "5    6       2      1      4           4\n",
      "6    7       3      9      4           4\n",
      "9   10       4      5      1           4\n",
      "12  13       5      6      2           2\n",
      "15  16       6      6      5           3\n",
      "-----\n",
      "Optimization totals:\n",
      "total color: 32\n",
      "total shape: 19\n",
      "total components: 16\n",
      "\n",
      "Optimal Node Information:\n",
      "    id  region  color  shape  components\n",
      "1    2       1      4      3           1\n",
      "4    5       2      2      4           2\n",
      "6    7       3      9      4           4\n",
      "9   10       4      5      1           4\n",
      "12  13       5      6      2           2\n",
      "15  16       6      6      5           3\n",
      "-----\n",
      "Optimization totals:\n",
      "total color: 31\n",
      "total shape: 19\n",
      "total components: 18\n",
      "\n",
      "Optimal Node Information:\n",
      "    id  region  color  shape  components\n",
      "1    2       1      4      3           1\n",
      "5    6       2      1      4           4\n",
      "6    7       3      9      4           4\n",
      "9   10       4      5      1           4\n",
      "12  13       5      6      2           2\n",
      "15  16       6      6      5           3\n",
      "-----\n",
      "Optimization totals:\n",
      "total color: 31\n",
      "total shape: 20\n",
      "total components: 19\n",
      "\n",
      "Optimal Node Information:\n",
      "    id  region  color  shape  components\n",
      "2    3       1      3      4           4\n",
      "4    5       2      2      4           2\n",
      "6    7       3      9      4           4\n",
      "9   10       4      5      1           4\n",
      "12  13       5      6      2           2\n",
      "15  16       6      6      5           3\n",
      "-----\n",
      "Optimization totals:\n",
      "total color: 30\n",
      "total shape: 20\n",
      "total components: 21\n",
      "\n",
      "Optimal Node Information:\n",
      "    id  region  color  shape  components\n",
      "2    3       1      3      4           4\n",
      "5    6       2      1      4           4\n",
      "6    7       3      9      4           4\n",
      "9   10       4      5      1           4\n",
      "12  13       5      6      2           2\n",
      "15  16       6      6      5           3\n",
      "-----\n",
      "7\n",
      "Optimization totals:\n",
      "total color: 31\n",
      "total shape: 18\n",
      "total components: 16\n",
      "\n",
      "Optimal Node Information:\n",
      "    id  region  color  shape  components\n",
      "0    1       1      5      2           1\n",
      "4    5       2      2      4           2\n",
      "6    7       3      9      4           4\n",
      "9   10       4      5      1           4\n",
      "12  13       5      6      2           2\n",
      "16  17       6      4      5           3\n",
      "-----\n",
      "Optimization totals:\n",
      "total color: 30\n",
      "total shape: 19\n",
      "total components: 16\n",
      "\n",
      "Optimal Node Information:\n",
      "    id  region  color  shape  components\n",
      "1    2       1      4      3           1\n",
      "4    5       2      2      4           2\n",
      "6    7       3      9      4           4\n",
      "9   10       4      5      1           4\n",
      "12  13       5      6      2           2\n",
      "16  17       6      4      5           3\n",
      "-----\n",
      "7\n",
      "Optimization totals:\n",
      "total color: 27\n",
      "total shape: 18\n",
      "total components: 16\n",
      "\n",
      "Optimal Node Information:\n",
      "    id  region  color  shape  components\n",
      "0    1       1      5      2           1\n",
      "4    5       2      2      4           2\n",
      "7    8       3      5      4           4\n",
      "9   10       4      5      1           4\n",
      "12  13       5      6      2           2\n",
      "16  17       6      4      5           3\n",
      "-----\n",
      "Optimization totals:\n",
      "total color: 26\n",
      "total shape: 19\n",
      "total components: 16\n",
      "\n",
      "Optimal Node Information:\n",
      "    id  region  color  shape  components\n",
      "1    2       1      4      3           1\n",
      "4    5       2      2      4           2\n",
      "7    8       3      5      4           4\n",
      "9   10       4      5      1           4\n",
      "12  13       5      6      2           2\n",
      "16  17       6      4      5           3\n",
      "-----\n",
      "6\n",
      "Optimization totals:\n",
      "total color: 27\n",
      "total shape: 21\n",
      "total components: 16\n",
      "\n",
      "Optimal Node Information:\n",
      "    id  region  color  shape  components\n",
      "0    1       1      5      2           1\n",
      "4    5       2      2      4           2\n",
      "7    8       3      5      4           4\n",
      "10  11       4      1      1           1\n",
      "13  14       5     10      5           5\n",
      "16  17       6      4      5           3\n",
      "-----\n",
      "7\n",
      "Optimization totals:\n",
      "total color: 27\n",
      "total shape: 18\n",
      "total components: 13\n",
      "\n",
      "Optimal Node Information:\n",
      "    id  region  color  shape  components\n",
      "0    1       1      5      2           1\n",
      "4    5       2      2      4           2\n",
      "6    7       3      9      4           4\n",
      "10  11       4      1      1           1\n",
      "12  13       5      6      2           2\n",
      "16  17       6      4      5           3\n",
      "-----\n",
      "Optimization totals:\n",
      "total color: 26\n",
      "total shape: 19\n",
      "total components: 13\n",
      "\n",
      "Optimal Node Information:\n",
      "    id  region  color  shape  components\n",
      "1    2       1      4      3           1\n",
      "4    5       2      2      4           2\n",
      "6    7       3      9      4           4\n",
      "10  11       4      1      1           1\n",
      "12  13       5      6      2           2\n",
      "16  17       6      4      5           3\n",
      "-----\n",
      "9\n",
      "Optimization totals:\n",
      "total color: 30\n",
      "total shape: 18\n",
      "total components: 18\n",
      "\n",
      "Optimal Node Information:\n",
      "    id  region  color  shape  components\n",
      "0    1       1      5      2           1\n",
      "5    6       2      1      4           4\n",
      "6    7       3      9      4           4\n",
      "9   10       4      5      1           4\n",
      "12  13       5      6      2           2\n",
      "16  17       6      4      5           3\n",
      "-----\n",
      "Optimization totals:\n",
      "total color: 29\n",
      "total shape: 19\n",
      "total components: 18\n",
      "\n",
      "Optimal Node Information:\n",
      "    id  region  color  shape  components\n",
      "1    2       1      4      3           1\n",
      "5    6       2      1      4           4\n",
      "6    7       3      9      4           4\n",
      "9   10       4      5      1           4\n",
      "12  13       5      6      2           2\n",
      "16  17       6      4      5           3\n",
      "-----\n",
      "Optimization totals:\n",
      "total color: 28\n",
      "total shape: 21\n",
      "total components: 22\n",
      "\n",
      "Optimal Node Information:\n",
      "    id  region  color  shape  components\n",
      "2    3       1      3      4           4\n",
      "3    4       2      1      5           5\n",
      "6    7       3      9      4           4\n",
      "9   10       4      5      1           4\n",
      "12  13       5      6      2           2\n",
      "16  17       6      4      5           3\n",
      "-----\n",
      "Optimization totals:\n",
      "total color: 28\n",
      "total shape: 20\n",
      "total components: 21\n",
      "\n",
      "Optimal Node Information:\n",
      "    id  region  color  shape  components\n",
      "2    3       1      3      4           4\n",
      "5    6       2      1      4           4\n",
      "6    7       3      9      4           4\n",
      "9   10       4      5      1           4\n",
      "12  13       5      6      2           2\n",
      "16  17       6      4      5           3\n",
      "-----\n",
      "9\n",
      "Optimization totals:\n",
      "total color: 26\n",
      "total shape: 19\n",
      "total components: 16\n",
      "\n",
      "Optimal Node Information:\n",
      "    id  region  color  shape  components\n",
      "0    1       1      5      2           1\n",
      "3    4       2      1      5           5\n",
      "6    7       3      9      4           4\n",
      "10  11       4      1      1           1\n",
      "12  13       5      6      2           2\n",
      "16  17       6      4      5           3\n",
      "-----\n",
      "Optimization totals:\n",
      "total color: 26\n",
      "total shape: 18\n",
      "total components: 15\n",
      "\n",
      "Optimal Node Information:\n",
      "    id  region  color  shape  components\n",
      "0    1       1      5      2           1\n",
      "5    6       2      1      4           4\n",
      "6    7       3      9      4           4\n",
      "10  11       4      1      1           1\n",
      "12  13       5      6      2           2\n",
      "16  17       6      4      5           3\n",
      "-----\n",
      "Optimization totals:\n",
      "total color: 25\n",
      "total shape: 20\n",
      "total components: 16\n",
      "\n",
      "Optimal Node Information:\n",
      "    id  region  color  shape  components\n",
      "1    2       1      4      3           1\n",
      "3    4       2      1      5           5\n",
      "6    7       3      9      4           4\n",
      "10  11       4      1      1           1\n",
      "12  13       5      6      2           2\n",
      "16  17       6      4      5           3\n",
      "-----\n",
      "Optimization totals:\n",
      "total color: 25\n",
      "total shape: 19\n",
      "total components: 15\n",
      "\n",
      "Optimal Node Information:\n",
      "    id  region  color  shape  components\n",
      "1    2       1      4      3           1\n",
      "5    6       2      1      4           4\n",
      "6    7       3      9      4           4\n",
      "10  11       4      1      1           1\n",
      "12  13       5      6      2           2\n",
      "16  17       6      4      5           3\n",
      "-----\n",
      "Optimization totals:\n",
      "total color: 24\n",
      "total shape: 21\n",
      "total components: 19\n",
      "\n",
      "Optimal Node Information:\n",
      "    id  region  color  shape  components\n",
      "2    3       1      3      4           4\n",
      "3    4       2      1      5           5\n",
      "6    7       3      9      4           4\n",
      "10  11       4      1      1           1\n",
      "12  13       5      6      2           2\n",
      "16  17       6      4      5           3\n",
      "-----\n",
      "Optimization totals:\n",
      "total color: 24\n",
      "total shape: 20\n",
      "total components: 18\n",
      "\n",
      "Optimal Node Information:\n",
      "    id  region  color  shape  components\n",
      "2    3       1      3      4           4\n",
      "5    6       2      1      4           4\n",
      "6    7       3      9      4           4\n",
      "10  11       4      1      1           1\n",
      "12  13       5      6      2           2\n",
      "16  17       6      4      5           3\n",
      "-----\n",
      "7\n",
      "Optimization totals:\n",
      "total color: 28\n",
      "total shape: 22\n",
      "total components: 19\n",
      "\n",
      "Optimal Node Information:\n",
      "    id  region  color  shape  components\n",
      "0    1       1      5      2           1\n",
      "3    4       2      1      5           5\n",
      "7    8       3      5      4           4\n",
      "10  11       4      1      1           1\n",
      "13  14       5     10      5           5\n",
      "15  16       6      6      5           3\n",
      "-----\n",
      "Optimization totals:\n",
      "total color: 27\n",
      "total shape: 23\n",
      "total components: 19\n",
      "\n",
      "Optimal Node Information:\n",
      "    id  region  color  shape  components\n",
      "1    2       1      4      3           1\n",
      "3    4       2      1      5           5\n",
      "7    8       3      5      4           4\n",
      "10  11       4      1      1           1\n",
      "13  14       5     10      5           5\n",
      "15  16       6      6      5           3\n",
      "-----\n",
      "8\n",
      "Optimization totals:\n",
      "total color: 36\n",
      "total shape: 22\n",
      "total components: 22\n",
      "\n",
      "Optimal Node Information:\n",
      "    id  region  color  shape  components\n",
      "0    1       1      5      2           1\n",
      "3    4       2      1      5           5\n",
      "6    7       3      9      4           4\n",
      "9   10       4      5      1           4\n",
      "13  14       5     10      5           5\n",
      "15  16       6      6      5           3\n",
      "-----\n",
      "Optimization totals:\n",
      "total color: 35\n",
      "total shape: 23\n",
      "total components: 22\n",
      "\n",
      "Optimal Node Information:\n",
      "    id  region  color  shape  components\n",
      "1    2       1      4      3           1\n",
      "3    4       2      1      5           5\n",
      "6    7       3      9      4           4\n",
      "9   10       4      5      1           4\n",
      "13  14       5     10      5           5\n",
      "15  16       6      6      5           3\n",
      "-----\n",
      "Optimization totals:\n",
      "total color: 34\n",
      "total shape: 24\n",
      "total components: 25\n",
      "\n",
      "Optimal Node Information:\n",
      "    id  region  color  shape  components\n",
      "2    3       1      3      4           4\n",
      "3    4       2      1      5           5\n",
      "6    7       3      9      4           4\n",
      "9   10       4      5      1           4\n",
      "13  14       5     10      5           5\n",
      "15  16       6      6      5           3\n",
      "-----\n",
      "8\n",
      "Optimization totals:\n",
      "total color: 33\n",
      "total shape: 21\n",
      "total components: 16\n",
      "\n",
      "Optimal Node Information:\n",
      "    id  region  color  shape  components\n",
      "0    1       1      5      2           1\n",
      "4    5       2      2      4           2\n",
      "6    7       3      9      4           4\n",
      "10  11       4      1      1           1\n",
      "13  14       5     10      5           5\n",
      "15  16       6      6      5           3\n",
      "-----\n",
      "Optimization totals:\n",
      "total color: 32\n",
      "total shape: 22\n",
      "total components: 16\n",
      "\n",
      "Optimal Node Information:\n",
      "    id  region  color  shape  components\n",
      "1    2       1      4      3           1\n",
      "4    5       2      2      4           2\n",
      "6    7       3      9      4           4\n",
      "10  11       4      1      1           1\n",
      "13  14       5     10      5           5\n",
      "15  16       6      6      5           3\n",
      "-----\n",
      "6\n",
      "Optimization totals:\n",
      "total color: 30\n",
      "total shape: 19\n",
      "total components: 19\n",
      "\n",
      "Optimal Node Information:\n",
      "    id  region  color  shape  components\n",
      "0    1       1      5      2           1\n",
      "3    4       2      1      5           5\n",
      "6    7       3      9      4           4\n",
      "9   10       4      5      1           4\n",
      "12  13       5      6      2           2\n",
      "16  17       6      4      5           3\n",
      "-----\n",
      "8\n",
      "Optimization totals:\n",
      "total color: 26\n",
      "total shape: 19\n",
      "total components: 19\n",
      "\n",
      "Optimal Node Information:\n",
      "    id  region  color  shape  components\n",
      "0    1       1      5      2           1\n",
      "3    4       2      1      5           5\n",
      "7    8       3      5      4           4\n",
      "9   10       4      5      1           4\n",
      "12  13       5      6      2           2\n",
      "16  17       6      4      5           3\n",
      "-----\n",
      "Optimization totals:\n",
      "total color: 25\n",
      "total shape: 20\n",
      "total components: 19\n",
      "\n",
      "Optimal Node Information:\n",
      "    id  region  color  shape  components\n",
      "1    2       1      4      3           1\n",
      "3    4       2      1      5           5\n",
      "7    8       3      5      4           4\n",
      "9   10       4      5      1           4\n",
      "12  13       5      6      2           2\n",
      "16  17       6      4      5           3\n",
      "-----\n",
      "7\n",
      "8\n"
     ]
    },
    {
     "name": "stdout",
     "output_type": "stream",
     "text": [
      "6\n",
      "Optimization totals:\n",
      "total color: 24\n",
      "total shape: 19\n",
      "total components: 16\n",
      "\n",
      "Optimal Node Information:\n",
      "    id  region  color  shape  components\n",
      "0    1       1      5      2           1\n",
      "3    4       2      1      5           5\n",
      "7    8       3      5      4           4\n",
      "10  11       4      1      1           1\n",
      "12  13       5      6      2           2\n",
      "15  16       6      6      5           3\n",
      "-----\n",
      "6\n",
      "Optimization totals:\n",
      "total color: 36\n",
      "total shape: 22\n",
      "total components: 22\n",
      "\n",
      "Optimal Node Information:\n",
      "    id  region  color  shape  components\n",
      "0    1       1      5      2           1\n",
      "3    4       2      1      5           5\n",
      "6    7       3      9      4           4\n",
      "9   10       4      5      1           4\n",
      "13  14       5     10      5           5\n",
      "15  16       6      6      5           3\n",
      "-----\n",
      "8\n",
      "Optimization totals:\n",
      "total color: 22\n",
      "total shape: 18\n",
      "total components: 18\n",
      "\n",
      "Optimal Node Information:\n",
      "    id  region  color  shape  components\n",
      "0    1       1      5      2           1\n",
      "3    4       2      1      5           5\n",
      "8    9       3      1      3           3\n",
      "9   10       4      5      1           4\n",
      "12  13       5      6      2           2\n",
      "16  17       6      4      5           3\n",
      "-----\n",
      "Optimization totals:\n",
      "total color: 21\n",
      "total shape: 19\n",
      "total components: 18\n",
      "\n",
      "Optimal Node Information:\n",
      "    id  region  color  shape  components\n",
      "1    2       1      4      3           1\n",
      "3    4       2      1      5           5\n",
      "8    9       3      1      3           3\n",
      "9   10       4      5      1           4\n",
      "12  13       5      6      2           2\n",
      "16  17       6      4      5           3\n",
      "-----\n",
      "8\n",
      "Optimization totals:\n",
      "total color: 24\n",
      "total shape: 19\n",
      "total components: 16\n",
      "\n",
      "Optimal Node Information:\n",
      "    id  region  color  shape  components\n",
      "0    1       1      5      2           1\n",
      "3    4       2      1      5           5\n",
      "7    8       3      5      4           4\n",
      "10  11       4      1      1           1\n",
      "12  13       5      6      2           2\n",
      "15  16       6      6      5           3\n",
      "-----\n",
      "Optimization totals:\n",
      "total color: 23\n",
      "total shape: 20\n",
      "total components: 16\n",
      "\n",
      "Optimal Node Information:\n",
      "    id  region  color  shape  components\n",
      "1    2       1      4      3           1\n",
      "3    4       2      1      5           5\n",
      "7    8       3      5      4           4\n",
      "10  11       4      1      1           1\n",
      "12  13       5      6      2           2\n",
      "15  16       6      6      5           3\n",
      "-----\n",
      "7\n",
      "Optimization totals:\n",
      "total color: 29\n",
      "total shape: 21\n",
      "total components: 16\n",
      "\n",
      "Optimal Node Information:\n",
      "    id  region  color  shape  components\n",
      "0    1       1      5      2           1\n",
      "4    5       2      2      4           2\n",
      "7    8       3      5      4           4\n",
      "10  11       4      1      1           1\n",
      "13  14       5     10      5           5\n",
      "15  16       6      6      5           3\n",
      "-----\n",
      "Optimization totals:\n",
      "total color: 28\n",
      "total shape: 22\n",
      "total components: 16\n",
      "\n",
      "Optimal Node Information:\n",
      "    id  region  color  shape  components\n",
      "1    2       1      4      3           1\n",
      "4    5       2      2      4           2\n",
      "7    8       3      5      4           4\n",
      "10  11       4      1      1           1\n",
      "13  14       5     10      5           5\n",
      "15  16       6      6      5           3\n",
      "-----\n",
      "7\n",
      "Optimization totals:\n",
      "total color: 37\n",
      "total shape: 21\n",
      "total components: 19\n",
      "\n",
      "Optimal Node Information:\n",
      "    id  region  color  shape  components\n",
      "0    1       1      5      2           1\n",
      "4    5       2      2      4           2\n",
      "6    7       3      9      4           4\n",
      "9   10       4      5      1           4\n",
      "13  14       5     10      5           5\n",
      "15  16       6      6      5           3\n",
      "-----\n",
      "Optimization totals:\n",
      "total color: 36\n",
      "total shape: 22\n",
      "total components: 19\n",
      "\n",
      "Optimal Node Information:\n",
      "    id  region  color  shape  components\n",
      "1    2       1      4      3           1\n",
      "4    5       2      2      4           2\n",
      "6    7       3      9      4           4\n",
      "9   10       4      5      1           4\n",
      "13  14       5     10      5           5\n",
      "15  16       6      6      5           3\n",
      "-----\n",
      "8\n",
      "Optimization totals:\n",
      "total color: 26\n",
      "total shape: 22\n",
      "total components: 19\n",
      "\n",
      "Optimal Node Information:\n",
      "    id  region  color  shape  components\n",
      "0    1       1      5      2           1\n",
      "3    4       2      1      5           5\n",
      "7    8       3      5      4           4\n",
      "10  11       4      1      1           1\n",
      "13  14       5     10      5           5\n",
      "16  17       6      4      5           3\n",
      "-----\n",
      "Optimization totals:\n",
      "total color: 26\n",
      "total shape: 21\n",
      "total components: 18\n",
      "\n",
      "Optimal Node Information:\n",
      "    id  region  color  shape  components\n",
      "0    1       1      5      2           1\n",
      "5    6       2      1      4           4\n",
      "7    8       3      5      4           4\n",
      "10  11       4      1      1           1\n",
      "13  14       5     10      5           5\n",
      "16  17       6      4      5           3\n",
      "-----\n",
      "Optimization totals:\n",
      "total color: 25\n",
      "total shape: 23\n",
      "total components: 19\n",
      "\n",
      "Optimal Node Information:\n",
      "    id  region  color  shape  components\n",
      "1    2       1      4      3           1\n",
      "3    4       2      1      5           5\n",
      "7    8       3      5      4           4\n",
      "10  11       4      1      1           1\n",
      "13  14       5     10      5           5\n",
      "16  17       6      4      5           3\n",
      "-----\n",
      "Optimization totals:\n",
      "total color: 25\n",
      "total shape: 22\n",
      "total components: 18\n",
      "\n",
      "Optimal Node Information:\n",
      "    id  region  color  shape  components\n",
      "1    2       1      4      3           1\n",
      "5    6       2      1      4           4\n",
      "7    8       3      5      4           4\n",
      "10  11       4      1      1           1\n",
      "13  14       5     10      5           5\n",
      "16  17       6      4      5           3\n",
      "-----\n",
      "8\n",
      "Optimization totals:\n",
      "total color: 28\n",
      "total shape: 18\n",
      "total components: 18\n",
      "\n",
      "Optimal Node Information:\n",
      "    id  region  color  shape  components\n",
      "0    1       1      5      2           1\n",
      "5    6       2      1      4           4\n",
      "7    8       3      5      4           4\n",
      "9   10       4      5      1           4\n",
      "12  13       5      6      2           2\n",
      "15  16       6      6      5           3\n",
      "-----\n",
      "8\n",
      "Optimization totals:\n",
      "total color: 35\n",
      "total shape: 23\n",
      "total components: 22\n",
      "\n",
      "Optimal Node Information:\n",
      "    id  region  color  shape  components\n",
      "2    3       1      3      4           4\n",
      "4    5       2      2      4           2\n",
      "6    7       3      9      4           4\n",
      "9   10       4      5      1           4\n",
      "13  14       5     10      5           5\n",
      "15  16       6      6      5           3\n",
      "-----\n",
      "6\n",
      "Optimization totals:\n",
      "total color: 34\n",
      "total shape: 22\n",
      "total components: 22\n",
      "\n",
      "Optimal Node Information:\n",
      "    id  region  color  shape  components\n",
      "0    1       1      5      2           1\n",
      "3    4       2      1      5           5\n",
      "6    7       3      9      4           4\n",
      "9   10       4      5      1           4\n",
      "13  14       5     10      5           5\n",
      "16  17       6      4      5           3\n",
      "-----\n",
      "6\n",
      "Optimization totals:\n",
      "total color: 28\n",
      "total shape: 19\n",
      "total components: 19\n",
      "\n",
      "Optimal Node Information:\n",
      "    id  region  color  shape  components\n",
      "0    1       1      5      2           1\n",
      "3    4       2      1      5           5\n",
      "7    8       3      5      4           4\n",
      "9   10       4      5      1           4\n",
      "12  13       5      6      2           2\n",
      "15  16       6      6      5           3\n",
      "-----\n",
      "7\n",
      "7\n",
      "8\n",
      "Optimization totals:\n",
      "total color: 29\n",
      "total shape: 18\n",
      "total components: 16\n",
      "\n",
      "Optimal Node Information:\n",
      "    id  region  color  shape  components\n",
      "0    1       1      5      2           1\n",
      "4    5       2      2      4           2\n",
      "7    8       3      5      4           4\n",
      "9   10       4      5      1           4\n",
      "12  13       5      6      2           2\n",
      "15  16       6      6      5           3\n",
      "-----\n",
      "Optimization totals:\n",
      "total color: 27\n",
      "total shape: 20\n",
      "total components: 19\n",
      "\n",
      "Optimal Node Information:\n",
      "    id  region  color  shape  components\n",
      "2    3       1      3      4           4\n",
      "4    5       2      2      4           2\n",
      "7    8       3      5      4           4\n",
      "9   10       4      5      1           4\n",
      "12  13       5      6      2           2\n",
      "15  16       6      6      5           3\n",
      "-----\n",
      "7\n",
      "6\n",
      "Optimization totals:\n",
      "total color: 28\n",
      "total shape: 19\n",
      "total components: 16\n",
      "\n",
      "Optimal Node Information:\n",
      "    id  region  color  shape  components\n",
      "0    1       1      5      2           1\n",
      "3    4       2      1      5           5\n",
      "6    7       3      9      4           4\n",
      "10  11       4      1      1           1\n",
      "12  13       5      6      2           2\n",
      "15  16       6      6      5           3\n",
      "-----\n",
      "6\n",
      "Optimization totals:\n",
      "total color: 30\n",
      "total shape: 22\n",
      "total components: 22\n",
      "\n",
      "Optimal Node Information:\n",
      "    id  region  color  shape  components\n",
      "0    1       1      5      2           1\n",
      "3    4       2      1      5           5\n",
      "7    8       3      5      4           4\n",
      "9   10       4      5      1           4\n",
      "13  14       5     10      5           5\n",
      "16  17       6      4      5           3\n",
      "-----\n",
      "8\n",
      "Optimization totals:\n",
      "total color: 31\n",
      "total shape: 21\n",
      "total components: 16\n",
      "\n",
      "Optimal Node Information:\n",
      "    id  region  color  shape  components\n",
      "0    1       1      5      2           1\n",
      "4    5       2      2      4           2\n",
      "6    7       3      9      4           4\n",
      "10  11       4      1      1           1\n",
      "13  14       5     10      5           5\n",
      "16  17       6      4      5           3\n",
      "-----\n",
      "Optimization totals:\n",
      "total color: 30\n",
      "total shape: 21\n",
      "total components: 18\n",
      "\n",
      "Optimal Node Information:\n",
      "    id  region  color  shape  components\n",
      "0    1       1      5      2           1\n",
      "5    6       2      1      4           4\n",
      "6    7       3      9      4           4\n",
      "10  11       4      1      1           1\n",
      "13  14       5     10      5           5\n",
      "16  17       6      4      5           3\n",
      "-----\n",
      "Optimization totals:\n",
      "total color: 29\n",
      "total shape: 23\n",
      "total components: 19\n",
      "\n",
      "Optimal Node Information:\n",
      "    id  region  color  shape  components\n",
      "2    3       1      3      4           4\n",
      "4    5       2      2      4           2\n",
      "6    7       3      9      4           4\n",
      "10  11       4      1      1           1\n",
      "13  14       5     10      5           5\n",
      "16  17       6      4      5           3\n",
      "-----\n",
      "Optimization totals:\n",
      "total color: 28\n",
      "total shape: 23\n",
      "total components: 21\n",
      "\n",
      "Optimal Node Information:\n",
      "    id  region  color  shape  components\n",
      "2    3       1      3      4           4\n",
      "5    6       2      1      4           4\n",
      "6    7       3      9      4           4\n",
      "10  11       4      1      1           1\n",
      "13  14       5     10      5           5\n",
      "16  17       6      4      5           3\n",
      "-----\n",
      "6\n",
      "Optimization totals:\n",
      "total color: 23\n",
      "total shape: 18\n",
      "total components: 13\n",
      "\n",
      "Optimal Node Information:\n",
      "    id  region  color  shape  components\n",
      "0    1       1      5      2           1\n",
      "4    5       2      2      4           2\n",
      "7    8       3      5      4           4\n",
      "10  11       4      1      1           1\n",
      "12  13       5      6      2           2\n",
      "16  17       6      4      5           3\n",
      "-----\n",
      "7\n",
      "8\n"
     ]
    },
    {
     "name": "stdout",
     "output_type": "stream",
     "text": [
      "Optimization totals:\n",
      "total color: 24\n",
      "total shape: 18\n",
      "total components: 15\n",
      "\n",
      "Optimal Node Information:\n",
      "    id  region  color  shape  components\n",
      "0    1       1      5      2           1\n",
      "5    6       2      1      4           4\n",
      "7    8       3      5      4           4\n",
      "10  11       4      1      1           1\n",
      "12  13       5      6      2           2\n",
      "15  16       6      6      5           3\n",
      "-----\n",
      "Optimization totals:\n",
      "total color: 22\n",
      "total shape: 21\n",
      "total components: 19\n",
      "\n",
      "Optimal Node Information:\n",
      "    id  region  color  shape  components\n",
      "2    3       1      3      4           4\n",
      "3    4       2      1      5           5\n",
      "7    8       3      5      4           4\n",
      "10  11       4      1      1           1\n",
      "12  13       5      6      2           2\n",
      "15  16       6      6      5           3\n",
      "-----\n",
      "Optimization totals:\n",
      "total color: 22\n",
      "total shape: 20\n",
      "total components: 18\n",
      "\n",
      "Optimal Node Information:\n",
      "    id  region  color  shape  components\n",
      "2    3       1      3      4           4\n",
      "5    6       2      1      4           4\n",
      "7    8       3      5      4           4\n",
      "10  11       4      1      1           1\n",
      "12  13       5      6      2           2\n",
      "15  16       6      6      5           3\n",
      "-----\n",
      "7\n",
      "Optimization totals:\n",
      "total color: 35\n",
      "total shape: 21\n",
      "total components: 19\n",
      "\n",
      "Optimal Node Information:\n",
      "    id  region  color  shape  components\n",
      "0    1       1      5      2           1\n",
      "4    5       2      2      4           2\n",
      "6    7       3      9      4           4\n",
      "9   10       4      5      1           4\n",
      "13  14       5     10      5           5\n",
      "16  17       6      4      5           3\n",
      "-----\n",
      "7\n",
      "7\n",
      "Optimization totals:\n",
      "total color: 29\n",
      "total shape: 18\n",
      "total components: 13\n",
      "\n",
      "Optimal Node Information:\n",
      "    id  region  color  shape  components\n",
      "0    1       1      5      2           1\n",
      "4    5       2      2      4           2\n",
      "6    7       3      9      4           4\n",
      "10  11       4      1      1           1\n",
      "12  13       5      6      2           2\n",
      "15  16       6      6      5           3\n",
      "-----\n",
      "7\n",
      "Optimization totals:\n",
      "total color: 26\n",
      "total shape: 18\n",
      "total components: 18\n",
      "\n",
      "Optimal Node Information:\n",
      "    id  region  color  shape  components\n",
      "0    1       1      5      2           1\n",
      "5    6       2      1      4           4\n",
      "7    8       3      5      4           4\n",
      "9   10       4      5      1           4\n",
      "12  13       5      6      2           2\n",
      "16  17       6      4      5           3\n",
      "-----\n",
      "7\n",
      "7\n",
      "Optimization totals:\n",
      "total color: 32\n",
      "total shape: 21\n",
      "total components: 18\n",
      "\n",
      "Optimal Node Information:\n",
      "    id  region  color  shape  components\n",
      "0    1       1      5      2           1\n",
      "5    6       2      1      4           4\n",
      "6    7       3      9      4           4\n",
      "10  11       4      1      1           1\n",
      "13  14       5     10      5           5\n",
      "15  16       6      6      5           3\n",
      "-----\n",
      "6\n",
      "Optimization totals:\n",
      "total color: 35\n",
      "total shape: 21\n",
      "total components: 19\n",
      "\n",
      "Optimal Node Information:\n",
      "    id  region  color  shape  components\n",
      "0    1       1      5      2           1\n",
      "4    5       2      2      4           2\n",
      "6    7       3      9      4           4\n",
      "9   10       4      5      1           4\n",
      "13  14       5     10      5           5\n",
      "16  17       6      4      5           3\n",
      "-----\n",
      "7\n",
      "7\n",
      "7\n",
      "7\n",
      "8\n",
      "Optimization totals:\n",
      "total color: 28\n",
      "total shape: 19\n",
      "total components: 16\n",
      "\n",
      "Optimal Node Information:\n",
      "    id  region  color  shape  components\n",
      "1    2       1      4      3           1\n",
      "4    5       2      2      4           2\n",
      "7    8       3      5      4           4\n",
      "9   10       4      5      1           4\n",
      "12  13       5      6      2           2\n",
      "15  16       6      6      5           3\n",
      "-----\n",
      "8\n",
      "6\n",
      "Optimization totals:\n",
      "total color: 29\n",
      "total shape: 23\n",
      "total components: 22\n",
      "\n",
      "Optimal Node Information:\n",
      "    id  region  color  shape  components\n",
      "1    2       1      4      3           1\n",
      "3    4       2      1      5           5\n",
      "7    8       3      5      4           4\n",
      "9   10       4      5      1           4\n",
      "13  14       5     10      5           5\n",
      "16  17       6      4      5           3\n",
      "-----\n",
      "7\n",
      "7\n",
      "Optimization totals:\n",
      "total color: 29\n",
      "total shape: 23\n",
      "total components: 22\n",
      "\n",
      "Optimal Node Information:\n",
      "    id  region  color  shape  components\n",
      "1    2       1      4      3           1\n",
      "3    4       2      1      5           5\n",
      "7    8       3      5      4           4\n",
      "9   10       4      5      1           4\n",
      "13  14       5     10      5           5\n",
      "16  17       6      4      5           3\n",
      "-----\n",
      "Optimization totals:\n",
      "total color: 28\n",
      "total shape: 24\n",
      "total components: 25\n",
      "\n",
      "Optimal Node Information:\n",
      "    id  region  color  shape  components\n",
      "2    3       1      3      4           4\n",
      "3    4       2      1      5           5\n",
      "7    8       3      5      4           4\n",
      "9   10       4      5      1           4\n",
      "13  14       5     10      5           5\n",
      "16  17       6      4      5           3\n",
      "-----\n",
      "7\n",
      "Optimization totals:\n",
      "total color: 26\n",
      "total shape: 24\n",
      "total components: 22\n",
      "\n",
      "Optimal Node Information:\n",
      "    id  region  color  shape  components\n",
      "2    3       1      3      4           4\n",
      "3    4       2      1      5           5\n",
      "7    8       3      5      4           4\n",
      "10  11       4      1      1           1\n",
      "13  14       5     10      5           5\n",
      "15  16       6      6      5           3\n",
      "-----\n",
      "8\n",
      "Optimization totals:\n",
      "total color: 29\n",
      "total shape: 20\n",
      "total components: 19\n",
      "\n",
      "Optimal Node Information:\n",
      "    id  region  color  shape  components\n",
      "2    3       1      3      4           4\n",
      "4    5       2      2      4           2\n",
      "6    7       3      9      4           4\n",
      "9   10       4      5      1           4\n",
      "12  13       5      6      2           2\n",
      "16  17       6      4      5           3\n",
      "-----\n",
      "7\n",
      "7\n",
      "Optimization totals:\n",
      "total color: 32\n",
      "total shape: 22\n",
      "total components: 19\n",
      "\n",
      "Optimal Node Information:\n",
      "    id  region  color  shape  components\n",
      "1    2       1      4      3           1\n",
      "4    5       2      2      4           2\n",
      "7    8       3      5      4           4\n",
      "9   10       4      5      1           4\n",
      "13  14       5     10      5           5\n",
      "15  16       6      6      5           3\n",
      "-----\n",
      "Optimization totals:\n",
      "total color: 31\n",
      "total shape: 23\n",
      "total components: 22\n",
      "\n",
      "Optimal Node Information:\n",
      "    id  region  color  shape  components\n",
      "2    3       1      3      4           4\n",
      "4    5       2      2      4           2\n",
      "7    8       3      5      4           4\n",
      "9   10       4      5      1           4\n",
      "13  14       5     10      5           5\n",
      "15  16       6      6      5           3\n",
      "-----\n",
      "7\n",
      "8\n",
      "Optimization totals:\n",
      "total color: 27\n",
      "total shape: 22\n",
      "total components: 18\n",
      "\n",
      "Optimal Node Information:\n",
      "    id  region  color  shape  components\n",
      "1    2       1      4      3           1\n",
      "5    6       2      1      4           4\n",
      "7    8       3      5      4           4\n",
      "10  11       4      1      1           1\n",
      "13  14       5     10      5           5\n",
      "15  16       6      6      5           3\n",
      "-----\n",
      "Optimization totals:\n",
      "total color: 27\n",
      "total shape: 23\n",
      "total components: 19\n",
      "\n",
      "Optimal Node Information:\n",
      "    id  region  color  shape  components\n",
      "2    3       1      3      4           4\n",
      "4    5       2      2      4           2\n",
      "7    8       3      5      4           4\n",
      "10  11       4      1      1           1\n",
      "13  14       5     10      5           5\n",
      "15  16       6      6      5           3\n",
      "-----\n",
      "Optimization totals:\n",
      "total color: 26\n",
      "total shape: 23\n",
      "total components: 21\n",
      "\n",
      "Optimal Node Information:\n",
      "    id  region  color  shape  components\n",
      "2    3       1      3      4           4\n",
      "5    6       2      1      4           4\n",
      "7    8       3      5      4           4\n",
      "10  11       4      1      1           1\n",
      "13  14       5     10      5           5\n",
      "15  16       6      6      5           3\n",
      "-----\n",
      "8\n",
      "Optimization totals:\n",
      "total color: 23\n",
      "total shape: 19\n",
      "total components: 18\n",
      "\n",
      "Optimal Node Information:\n",
      "    id  region  color  shape  components\n",
      "1    2       1      4      3           1\n",
      "3    4       2      1      5           5\n",
      "8    9       3      1      3           3\n",
      "9   10       4      5      1           4\n",
      "12  13       5      6      2           2\n",
      "15  16       6      6      5           3\n",
      "-----\n",
      "8\n",
      "Optimization totals:\n",
      "total color: 28\n",
      "total shape: 19\n",
      "total components: 13\n",
      "\n",
      "Optimal Node Information:\n",
      "    id  region  color  shape  components\n",
      "1    2       1      4      3           1\n",
      "4    5       2      2      4           2\n",
      "6    7       3      9      4           4\n",
      "10  11       4      1      1           1\n",
      "12  13       5      6      2           2\n",
      "15  16       6      6      5           3\n",
      "-----\n",
      "Optimization totals:\n",
      "total color: 27\n",
      "total shape: 19\n",
      "total components: 15\n",
      "\n",
      "Optimal Node Information:\n",
      "    id  region  color  shape  components\n",
      "1    2       1      4      3           1\n",
      "5    6       2      1      4           4\n",
      "6    7       3      9      4           4\n",
      "10  11       4      1      1           1\n",
      "12  13       5      6      2           2\n",
      "15  16       6      6      5           3\n",
      "-----\n",
      "7\n",
      "Optimization totals:\n",
      "total color: 26\n",
      "total shape: 22\n",
      "total components: 16\n",
      "\n",
      "Optimal Node Information:\n",
      "    id  region  color  shape  components\n",
      "1    2       1      4      3           1\n",
      "4    5       2      2      4           2\n",
      "7    8       3      5      4           4\n",
      "10  11       4      1      1           1\n",
      "13  14       5     10      5           5\n",
      "16  17       6      4      5           3\n",
      "-----\n",
      "7\n",
      "Optimization totals:\n",
      "total color: 34\n",
      "total shape: 22\n",
      "total components: 19\n",
      "\n",
      "Optimal Node Information:\n",
      "    id  region  color  shape  components\n",
      "1    2       1      4      3           1\n",
      "4    5       2      2      4           2\n",
      "6    7       3      9      4           4\n",
      "9   10       4      5      1           4\n",
      "13  14       5     10      5           5\n",
      "16  17       6      4      5           3\n",
      "-----\n",
      "6\n",
      "Optimization totals:\n",
      "total color: 25\n",
      "total shape: 20\n",
      "total components: 19\n",
      "\n",
      "Optimal Node Information:\n",
      "    id  region  color  shape  components\n",
      "1    2       1      4      3           1\n",
      "3    4       2      1      5           5\n",
      "7    8       3      5      4           4\n",
      "9   10       4      5      1           4\n",
      "12  13       5      6      2           2\n",
      "16  17       6      4      5           3\n",
      "-----\n",
      "7\n",
      "6\n",
      "Optimization totals:\n",
      "total color: 26\n",
      "total shape: 19\n",
      "total components: 13\n",
      "\n",
      "Optimal Node Information:\n",
      "    id  region  color  shape  components\n",
      "1    2       1      4      3           1\n",
      "4    5       2      2      4           2\n",
      "6    7       3      9      4           4\n",
      "10  11       4      1      1           1\n",
      "12  13       5      6      2           2\n",
      "16  17       6      4      5           3\n",
      "-----\n",
      "6\n",
      "Optimization totals:\n",
      "total color: 36\n",
      "total shape: 22\n",
      "total components: 19\n",
      "\n",
      "Optimal Node Information:\n",
      "    id  region  color  shape  components\n",
      "1    2       1      4      3           1\n",
      "4    5       2      2      4           2\n",
      "6    7       3      9      4           4\n",
      "9   10       4      5      1           4\n",
      "13  14       5     10      5           5\n",
      "15  16       6      6      5           3\n",
      "-----\n",
      "9\n"
     ]
    },
    {
     "name": "stdout",
     "output_type": "stream",
     "text": [
      "Optimization totals:\n",
      "total color: 21\n",
      "total shape: 19\n",
      "total components: 15\n",
      "\n",
      "Optimal Node Information:\n",
      "    id  region  color  shape  components\n",
      "1    2       1      4      3           1\n",
      "5    6       2      1      4           4\n",
      "7    8       3      5      4           4\n",
      "10  11       4      1      1           1\n",
      "12  13       5      6      2           2\n",
      "16  17       6      4      5           3\n",
      "-----\n",
      "Optimization totals:\n",
      "total color: 20\n",
      "total shape: 20\n",
      "total components: 18\n",
      "\n",
      "Optimal Node Information:\n",
      "    id  region  color  shape  components\n",
      "2    3       1      3      4           4\n",
      "5    6       2      1      4           4\n",
      "7    8       3      5      4           4\n",
      "10  11       4      1      1           1\n",
      "12  13       5      6      2           2\n",
      "16  17       6      4      5           3\n",
      "-----\n",
      "8\n",
      "Optimization totals:\n",
      "total color: 23\n",
      "total shape: 18\n",
      "total components: 13\n",
      "\n",
      "Optimal Node Information:\n",
      "    id  region  color  shape  components\n",
      "0    1       1      5      2           1\n",
      "4    5       2      2      4           2\n",
      "7    8       3      5      4           4\n",
      "10  11       4      1      1           1\n",
      "12  13       5      6      2           2\n",
      "16  17       6      4      5           3\n",
      "-----\n",
      "Optimization totals:\n",
      "total color: 21\n",
      "total shape: 20\n",
      "total components: 16\n",
      "\n",
      "Optimal Node Information:\n",
      "    id  region  color  shape  components\n",
      "2    3       1      3      4           4\n",
      "4    5       2      2      4           2\n",
      "7    8       3      5      4           4\n",
      "10  11       4      1      1           1\n",
      "12  13       5      6      2           2\n",
      "16  17       6      4      5           3\n",
      "-----\n",
      "9\n",
      "Optimization totals:\n",
      "total color: 28\n",
      "total shape: 21\n",
      "total components: 21\n",
      "\n",
      "Optimal Node Information:\n",
      "    id  region  color  shape  components\n",
      "0    1       1      5      2           1\n",
      "3    4       2      1      5           5\n",
      "8    9       3      1      3           3\n",
      "9   10       4      5      1           4\n",
      "13  14       5     10      5           5\n",
      "15  16       6      6      5           3\n",
      "-----\n",
      "Optimization totals:\n",
      "total color: 33\n",
      "total shape: 21\n",
      "total components: 19\n",
      "\n",
      "Optimal Node Information:\n",
      "    id  region  color  shape  components\n",
      "0    1       1      5      2           1\n",
      "4    5       2      2      4           2\n",
      "7    8       3      5      4           4\n",
      "9   10       4      5      1           4\n",
      "13  14       5     10      5           5\n",
      "15  16       6      6      5           3\n",
      "-----\n",
      "Optimization totals:\n",
      "total color: 29\n",
      "total shape: 20\n",
      "total components: 18\n",
      "\n",
      "Optimal Node Information:\n",
      "    id  region  color  shape  components\n",
      "0    1       1      5      2           1\n",
      "4    5       2      2      4           2\n",
      "8    9       3      1      3           3\n",
      "9   10       4      5      1           4\n",
      "13  14       5     10      5           5\n",
      "15  16       6      6      5           3\n",
      "-----\n",
      "Optimization totals:\n",
      "total color: 30\n",
      "total shape: 24\n",
      "total components: 25\n",
      "\n",
      "Optimal Node Information:\n",
      "    id  region  color  shape  components\n",
      "2    3       1      3      4           4\n",
      "3    4       2      1      5           5\n",
      "7    8       3      5      4           4\n",
      "9   10       4      5      1           4\n",
      "13  14       5     10      5           5\n",
      "15  16       6      6      5           3\n",
      "-----\n",
      "Optimization totals:\n",
      "total color: 26\n",
      "total shape: 23\n",
      "total components: 24\n",
      "\n",
      "Optimal Node Information:\n",
      "    id  region  color  shape  components\n",
      "2    3       1      3      4           4\n",
      "3    4       2      1      5           5\n",
      "8    9       3      1      3           3\n",
      "9   10       4      5      1           4\n",
      "13  14       5     10      5           5\n",
      "15  16       6      6      5           3\n",
      "-----\n",
      "Optimization totals:\n",
      "total color: 27\n",
      "total shape: 22\n",
      "total components: 21\n",
      "\n",
      "Optimal Node Information:\n",
      "    id  region  color  shape  components\n",
      "2    3       1      3      4           4\n",
      "4    5       2      2      4           2\n",
      "8    9       3      1      3           3\n",
      "9   10       4      5      1           4\n",
      "13  14       5     10      5           5\n",
      "15  16       6      6      5           3\n",
      "-----\n",
      "7\n",
      "Optimization totals:\n",
      "total color: 24\n",
      "total shape: 24\n",
      "total components: 22\n",
      "\n",
      "Optimal Node Information:\n",
      "    id  region  color  shape  components\n",
      "2    3       1      3      4           4\n",
      "3    4       2      1      5           5\n",
      "7    8       3      5      4           4\n",
      "10  11       4      1      1           1\n",
      "13  14       5     10      5           5\n",
      "16  17       6      4      5           3\n",
      "-----\n",
      "8\n",
      "Optimization totals:\n",
      "total color: 32\n",
      "total shape: 21\n",
      "total components: 21\n",
      "\n",
      "Optimal Node Information:\n",
      "    id  region  color  shape  components\n",
      "0    1       1      5      2           1\n",
      "5    6       2      1      4           4\n",
      "7    8       3      5      4           4\n",
      "9   10       4      5      1           4\n",
      "13  14       5     10      5           5\n",
      "15  16       6      6      5           3\n",
      "-----\n",
      "Optimization totals:\n",
      "total color: 30\n",
      "total shape: 23\n",
      "total components: 24\n",
      "\n",
      "Optimal Node Information:\n",
      "    id  region  color  shape  components\n",
      "2    3       1      3      4           4\n",
      "5    6       2      1      4           4\n",
      "7    8       3      5      4           4\n",
      "9   10       4      5      1           4\n",
      "13  14       5     10      5           5\n",
      "15  16       6      6      5           3\n",
      "-----\n",
      "8\n",
      "Optimization totals:\n",
      "total color: 25\n",
      "total shape: 20\n",
      "total components: 16\n",
      "\n",
      "Optimal Node Information:\n",
      "    id  region  color  shape  components\n",
      "2    3       1      3      4           4\n",
      "4    5       2      2      4           2\n",
      "6    7       3      9      4           4\n",
      "10  11       4      1      1           1\n",
      "12  13       5      6      2           2\n",
      "16  17       6      4      5           3\n",
      "-----\n",
      "8\n",
      "8\n",
      "8\n",
      "Optimization totals:\n",
      "total color: 25\n",
      "total shape: 18\n",
      "total components: 13\n",
      "\n",
      "Optimal Node Information:\n",
      "    id  region  color  shape  components\n",
      "0    1       1      5      2           1\n",
      "4    5       2      2      4           2\n",
      "7    8       3      5      4           4\n",
      "10  11       4      1      1           1\n",
      "12  13       5      6      2           2\n",
      "15  16       6      6      5           3\n",
      "-----\n"
     ]
    }
   ],
   "source": [
    "post_processed_optimal_nodes = []\n",
    "proper_r_groups = 0\n",
    "\n",
    "for optimal_node_set in optimal_nodes:\n",
    "    print(len(optimal_node_set))\n",
    "    if len(optimal_node_set) != region_num:\n",
    "        #continue\n",
    "        #if not len(optimal_node_set) < r_group_num + 2:\n",
    "        #    continue\n",
    " \n",
    "        for pp_set in prep_combos(optimal_node_set, region_num):#list(itertools.combinations(optimal_node_set, r_group_num)):\n",
    "            #print(pp_set)\n",
    "            # a way to explore solutions that don't pass the 1 hot constraint\n",
    "            if pp_set not in post_processed_optimal_nodes:  \n",
    "                post_processed_optimal_nodes.append(pp_set)\n",
    "\n",
    "                proper_r_groups += 1\n",
    "                # Create a new dataframe from the optimal node information\n",
    "                optimal_df = library_df.loc[pp_set, ['id','region', 'color', 'shape', 'components']]\n",
    "\n",
    "            \n",
    "                # Print the new dataframe\n",
    "                print(\"Optimization totals:\")\n",
    "                print(f\"total color: {optimal_df['color'].sum()}\")\n",
    "                print(f\"total shape: {optimal_df['shape'].sum()}\")\n",
    "                print(f\"total components: {optimal_df['components'].sum()}\")\n",
    "                print(\"\")\n",
    "                print(\"Optimal Node Information:\")\n",
    "                print(optimal_df)\n",
    "                print(\"-----\")\n",
    "    else:\n",
    "        post_processed_optimal_nodes.append(optimal_node_set)\n",
    "        proper_r_groups += 1\n",
    "\n",
    "        # Create a new dataframe from the optimal node information\n",
    "        optimal_df = library_df.loc[optimal_node_set, ['id','region', 'color', 'shape', 'components']]\n",
    "\n",
    "        #print(library_info[\"connectivity\"])\n",
    "        # Print the new dataframe\n",
    "        print(\"Optimization totals:\")\n",
    "        print(f\"total color: {optimal_df['color'].sum()}\")\n",
    "        print(f\"total shape: {optimal_df['shape'].sum()}\")\n",
    "        print(f\"total components: {optimal_df['components'].sum()}\")\n",
    "        print(\"\")\n",
    "        print(\"Optimal Node Information:\")\n",
    "        print(optimal_df)\n",
    "        print(\"-----\")"
   ]
  },
  {
   "cell_type": "code",
   "execution_count": 36,
   "id": "c36905e2",
   "metadata": {},
   "outputs": [],
   "source": [
    "def generate_results(sample_set):\n",
    "    \n",
    "    temp_results = []\n",
    "    \n",
    "    for sample in sample_set:\n",
    "        results_data ={}\n",
    "        optimal_df = library_df.loc[sample, ['id','region', 'color', 'shape', 'components']]\n",
    "        results_data[\"name\"] = sample\n",
    "        results_data['color'] = optimal_df[\"color\"].sum()\n",
    "        results_data['shape'] = optimal_df[\"shape\"].sum()\n",
    "        results_data['components'] = optimal_df[\"components\"].sum()\n",
    "        results_data[\"score\"] = (results_data[\"color\"] + results_data[\"components\"]) -12\n",
    "        temp_results.append(results_data)\n",
    "        \n",
    "    results_df = pandas.DataFrame.from_dict(temp_results)     \n",
    "    return results_df"
   ]
  },
  {
   "cell_type": "code",
   "execution_count": 37,
   "id": "c463f702",
   "metadata": {},
   "outputs": [],
   "source": [
    "qc_results = generate_results(post_processed_optimal_nodes)"
   ]
  },
  {
   "cell_type": "code",
   "execution_count": 38,
   "id": "80cff51b",
   "metadata": {},
   "outputs": [],
   "source": [
    "random_combinations = []\n",
    "\n",
    " \n",
    "for _ in range(1000):\n",
    "    random_sample = []\n",
    "    valid_sample = False\n",
    "    while not valid_sample:\n",
    "        for region in range(1, region_num + 1):\n",
    "            #print((region -1)  * samples_per_region, region* samples_per_region-1)\n",
    "            choice = random.randint((region -1)  * samples_per_region, region* samples_per_region-1)\n",
    "            random_sample.append(choice)\n",
    "\n",
    "        if tuple(random_sample) not in random_combinations:\n",
    "            valid_sample = True\n",
    "            random_combinations.append(tuple(random_sample))\n",
    "            \n",
    "random_results = generate_results(random_combinations)"
   ]
  },
  {
   "cell_type": "code",
   "execution_count": 39,
   "id": "988827cb",
   "metadata": {},
   "outputs": [
    {
     "name": "stdout",
     "output_type": "stream",
     "text": [
      "-4.3904145421699265 1.237665071791334e-05\n",
      "-9.235373766328967 1.2408235822794532e-19\n",
      "-6.685973607781373 3.601773908775344e-11\n"
     ]
    }
   ],
   "source": [
    "from scipy.stats import ttest_ind\n",
    "\n",
    " \n",
    "# Perform t-test\n",
    "t_stat_color, p_value_color = ttest_ind(qc_results['color'], random_results['color'])\n",
    "t_stat_shape, p_value_shape = ttest_ind(qc_results['shape'], random_results['shape'])\n",
    "t_stat_component, p_value_component = ttest_ind(qc_results['components'], random_results['components'])\n",
    "t_stat_score, p_value_score = ttest_ind(qc_results['score'], random_results['score'])\n",
    "print(t_stat_color, p_value_color) \n",
    "print(t_stat_component, p_value_component)\n",
    "print(t_stat_score, p_value_score)"
   ]
  },
  {
   "cell_type": "code",
   "execution_count": 40,
   "id": "54f2c435",
   "metadata": {},
   "outputs": [
    {
     "data": {
      "application/vnd.plotly.v1+json": {
       "config": {
        "plotlyServerURL": "https://plot.ly"
       },
       "data": [
        {
         "customdata": [
          [
           [
            2,
            5,
            6,
            10,
            13,
            16
           ]
          ],
          [
           [
            2,
            5,
            7,
            9,
            14,
            17
           ]
          ],
          [
           [
            2,
            4,
            8,
            9,
            12,
            16
           ]
          ],
          [
           [
            1,
            3,
            8,
            9,
            13,
            17
           ]
          ],
          [
           [
            1,
            5,
            6,
            10,
            12,
            17
           ]
          ],
          [
           [
            1,
            5,
            7,
            11,
            13,
            15
           ]
          ],
          [
           [
            1,
            4,
            7,
            9,
            14,
            16
           ]
          ],
          [
           [
            1,
            3,
            8,
            10,
            12,
            16
           ]
          ],
          [
           [
            2,
            4,
            6,
            9,
            12,
            17
           ]
          ],
          [
           [
            1,
            4,
            8,
            10,
            12,
            16
           ]
          ],
          [
           [
            0,
            5,
            6,
            11,
            13,
            17
           ]
          ],
          [
           [
            1,
            5,
            8,
            10,
            12,
            15
           ]
          ],
          [
           [
            0,
            3,
            7,
            11,
            13,
            17
           ]
          ],
          [
           [
            1,
            4,
            6,
            11,
            13,
            15
           ]
          ],
          [
           [
            1,
            4,
            8,
            10,
            12,
            17
           ]
          ],
          [
           [
            0,
            5,
            8,
            10,
            14,
            16
           ]
          ],
          [
           [
            0,
            5,
            6,
            9,
            14,
            15
           ]
          ],
          [
           [
            1,
            3,
            8,
            9,
            14,
            17
           ]
          ],
          [
           [
            0,
            3,
            8,
            11,
            14,
            16
           ]
          ],
          [
           [
            2,
            5,
            6,
            10,
            14,
            15
           ]
          ],
          [
           [
            2,
            3,
            7,
            10,
            12,
            16
           ]
          ],
          [
           [
            0,
            4,
            6,
            10,
            12,
            17
           ]
          ],
          [
           [
            2,
            3,
            8,
            9,
            14,
            16
           ]
          ],
          [
           [
            1,
            5,
            6,
            11,
            14,
            16
           ]
          ],
          [
           [
            0,
            3,
            7,
            11,
            13,
            16
           ]
          ],
          [
           [
            1,
            5,
            8,
            10,
            14,
            16
           ]
          ],
          [
           [
            1,
            3,
            7,
            9,
            13,
            16
           ]
          ],
          [
           [
            1,
            4,
            6,
            9,
            13,
            15
           ]
          ],
          [
           [
            0,
            5,
            6,
            9,
            12,
            16
           ]
          ],
          [
           [
            1,
            4,
            6,
            10,
            13,
            17
           ]
          ],
          [
           [
            2,
            3,
            8,
            10,
            13,
            16
           ]
          ],
          [
           [
            1,
            5,
            7,
            9,
            12,
            16
           ]
          ],
          [
           [
            2,
            5,
            8,
            9,
            13,
            17
           ]
          ],
          [
           [
            1,
            4,
            8,
            9,
            14,
            16
           ]
          ],
          [
           [
            2,
            4,
            6,
            9,
            13,
            15
           ]
          ],
          [
           [
            2,
            3,
            6,
            10,
            13,
            15
           ]
          ],
          [
           [
            0,
            4,
            6,
            10,
            12,
            16
           ]
          ],
          [
           [
            1,
            3,
            8,
            10,
            12,
            17
           ]
          ],
          [
           [
            2,
            5,
            8,
            10,
            14,
            15
           ]
          ],
          [
           [
            0,
            3,
            7,
            9,
            13,
            16
           ]
          ],
          [
           [
            2,
            5,
            8,
            9,
            13,
            15
           ]
          ],
          [
           [
            1,
            5,
            8,
            10,
            14,
            16,
            0,
            4,
            6,
            9,
            14,
            15
           ]
          ],
          [
           [
            2,
            5,
            7,
            10,
            13,
            16
           ]
          ],
          [
           [
            0,
            3,
            6,
            9,
            13,
            16
           ]
          ],
          [
           [
            1,
            5,
            8,
            9,
            13,
            16
           ]
          ],
          [
           [
            1,
            4,
            7,
            9,
            14,
            16,
            0,
            3,
            6,
            10,
            14,
            16
           ]
          ],
          [
           [
            2,
            4,
            8,
            11,
            13,
            17
           ]
          ],
          [
           [
            2,
            5,
            6,
            9,
            13,
            16
           ]
          ],
          [
           [
            1,
            4,
            8,
            9,
            14,
            17
           ]
          ],
          [
           [
            1,
            5,
            7,
            10,
            12,
            15
           ]
          ],
          [
           [
            1,
            4,
            7,
            10,
            12,
            17
           ]
          ],
          [
           [
            0,
            5,
            8,
            9,
            14,
            15
           ]
          ],
          [
           [
            0,
            4,
            8,
            9,
            14,
            16
           ]
          ],
          [
           [
            0,
            5,
            6,
            10,
            14,
            17
           ]
          ],
          [
           [
            0,
            5,
            6,
            9,
            13,
            15
           ]
          ],
          [
           [
            2,
            4,
            7,
            10,
            14,
            15
           ]
          ],
          [
           [
            0,
            3,
            7,
            11,
            13,
            17,
            2,
            5,
            8,
            11,
            13,
            15
           ]
          ],
          [
           [
            2,
            5,
            8,
            11,
            12,
            17
           ]
          ],
          [
           [
            0,
            4,
            8,
            9,
            12,
            16
           ]
          ],
          [
           [
            1,
            5,
            8,
            11,
            12,
            16
           ]
          ],
          [
           [
            0,
            4,
            8,
            11,
            14,
            16
           ]
          ],
          [
           [
            1,
            3,
            7,
            11,
            13,
            16
           ]
          ],
          [
           [
            0,
            4,
            8,
            10,
            12,
            15
           ]
          ],
          [
           [
            1,
            5,
            6,
            9,
            12,
            15
           ]
          ],
          [
           [
            1,
            3,
            7,
            11,
            13,
            16,
            0,
            4,
            8,
            9,
            14,
            17
           ]
          ],
          [
           [
            0,
            4,
            7,
            11,
            13,
            17
           ]
          ],
          [
           [
            2,
            5,
            6,
            11,
            13,
            17
           ]
          ],
          [
           [
            2,
            5,
            6,
            11,
            13,
            17,
            1,
            4,
            8,
            9,
            12,
            16
           ]
          ],
          [
           [
            1,
            3,
            6,
            11,
            13,
            15
           ]
          ],
          [
           [
            1,
            5,
            6,
            11,
            14,
            15
           ]
          ],
          [
           [
            1,
            5,
            7,
            11,
            12,
            16
           ]
          ],
          [
           [
            2,
            5,
            8,
            10,
            14,
            15,
            0,
            3,
            8,
            11,
            14,
            17
           ]
          ],
          [
           [
            0,
            3,
            6,
            10,
            13,
            17
           ]
          ],
          [
           [
            1,
            4,
            6,
            9,
            13,
            15,
            0,
            4,
            6,
            10,
            12,
            15
           ]
          ],
          [
           [
            1,
            4,
            7,
            11,
            13,
            15
           ]
          ],
          [
           [
            1,
            3,
            7,
            9,
            13,
            16,
            0,
            3,
            6,
            11,
            13,
            17
           ]
          ],
          [
           [
            2,
            5,
            6,
            9,
            13,
            17
           ]
          ],
          [
           [
            1,
            5,
            8,
            11,
            14,
            17
           ]
          ],
          [
           [
            0,
            5,
            8,
            11,
            14,
            16
           ]
          ],
          [
           [
            0,
            5,
            8,
            9,
            14,
            15,
            0,
            4,
            8,
            11,
            12,
            15
           ]
          ],
          [
           [
            1,
            5,
            6,
            9,
            13,
            15
           ]
          ],
          [
           [
            0,
            4,
            8,
            10,
            14,
            16
           ]
          ],
          [
           [
            2,
            3,
            8,
            10,
            14,
            17
           ]
          ],
          [
           [
            2,
            3,
            6,
            9,
            14,
            16
           ]
          ],
          [
           [
            0,
            3,
            7,
            9,
            13,
            16,
            1,
            4,
            6,
            10,
            12,
            17
           ]
          ],
          [
           [
            2,
            4,
            8,
            10,
            14,
            16
           ]
          ],
          [
           [
            0,
            4,
            7,
            11,
            12,
            17
           ]
          ],
          [
           [
            1,
            3,
            8,
            10,
            13,
            15
           ]
          ],
          [
           [
            1,
            3,
            7,
            11,
            12,
            15
           ]
          ],
          [
           [
            0,
            3,
            7,
            11,
            12,
            15
           ]
          ],
          [
           [
            1,
            4,
            8,
            9,
            14,
            16,
            1,
            3,
            6,
            10,
            14,
            17
           ]
          ],
          [
           [
            0,
            4,
            6,
            9,
            12,
            15
           ]
          ],
          [
           [
            1,
            5,
            6,
            11,
            12,
            17
           ]
          ],
          [
           [
            2,
            4,
            8,
            9,
            12,
            15
           ]
          ],
          [
           [
            0,
            5,
            7,
            9,
            12,
            15
           ]
          ],
          [
           [
            2,
            5,
            8,
            11,
            14,
            17
           ]
          ],
          [
           [
            1,
            3,
            7,
            11,
            12,
            16
           ]
          ],
          [
           [
            0,
            5,
            8,
            10,
            13,
            16
           ]
          ],
          [
           [
            2,
            5,
            6,
            11,
            12,
            17
           ]
          ],
          [
           [
            1,
            4,
            7,
            10,
            14,
            17
           ]
          ],
          [
           [
            2,
            4,
            8,
            10,
            12,
            15
           ]
          ],
          [
           [
            2,
            3,
            7,
            9,
            14,
            15
           ]
          ],
          [
           [
            0,
            3,
            8,
            10,
            13,
            17
           ]
          ],
          [
           [
            1,
            4,
            6,
            10,
            12,
            16
           ]
          ],
          [
           [
            0,
            5,
            8,
            11,
            14,
            16,
            1,
            4,
            6,
            10,
            13,
            17
           ]
          ],
          [
           [
            0,
            3,
            8,
            9,
            12,
            16
           ]
          ],
          [
           [
            0,
            5,
            7,
            10,
            13,
            17
           ]
          ],
          [
           [
            2,
            3,
            6,
            11,
            12,
            16
           ]
          ],
          [
           [
            2,
            5,
            8,
            9,
            13,
            16
           ]
          ],
          [
           [
            2,
            5,
            6,
            9,
            14,
            16
           ]
          ],
          [
           [
            1,
            5,
            6,
            10,
            12,
            17,
            0,
            4,
            7,
            10,
            14,
            15
           ]
          ],
          [
           [
            2,
            5,
            7,
            11,
            12,
            17
           ]
          ],
          [
           [
            1,
            5,
            8,
            11,
            13,
            15
           ]
          ],
          [
           [
            0,
            3,
            8,
            10,
            13,
            16
           ]
          ],
          [
           [
            1,
            3,
            6,
            11,
            12,
            16
           ]
          ],
          [
           [
            0,
            4,
            6,
            11,
            12,
            15
           ]
          ],
          [
           [
            2,
            5,
            6,
            10,
            12,
            17
           ]
          ],
          [
           [
            2,
            5,
            8,
            11,
            14,
            17,
            2,
            5,
            8,
            9,
            13,
            16
           ]
          ],
          [
           [
            0,
            4,
            7,
            11,
            12,
            17,
            1,
            5,
            6,
            10,
            14,
            15
           ]
          ],
          [
           [
            2,
            4,
            8,
            11,
            14,
            17
           ]
          ],
          [
           [
            0,
            5,
            8,
            10,
            13,
            16,
            0,
            5,
            7,
            9,
            14,
            17
           ]
          ],
          [
           [
            2,
            5,
            8,
            9,
            13,
            15,
            2,
            3,
            7,
            9,
            14,
            16
           ]
          ],
          [
           [
            1,
            5,
            7,
            9,
            13,
            17
           ]
          ],
          [
           [
            0,
            4,
            8,
            10,
            14,
            16,
            1,
            3,
            8,
            9,
            12,
            15
           ]
          ],
          [
           [
            2,
            3,
            6,
            11,
            12,
            16,
            1,
            4,
            6,
            10,
            14,
            16
           ]
          ],
          [
           [
            0,
            3,
            6,
            9,
            13,
            15
           ]
          ],
          [
           [
            1,
            3,
            6,
            11,
            12,
            16,
            2,
            4,
            6,
            11,
            13,
            15
           ]
          ],
          [
           [
            2,
            5,
            7,
            9,
            13,
            15
           ]
          ],
          [
           [
            0,
            3,
            6,
            9,
            13,
            17
           ]
          ],
          [
           [
            0,
            4,
            7,
            10,
            13,
            15
           ]
          ],
          [
           [
            0,
            3,
            6,
            9,
            13,
            17,
            2,
            4,
            7,
            10,
            12,
            17
           ]
          ],
          [
           [
            2,
            5,
            8,
            9,
            13,
            15,
            2,
            5,
            6,
            9,
            14,
            17
           ]
          ],
          [
           [
            0,
            4,
            7,
            10,
            12,
            15
           ]
          ],
          [
           [
            0,
            3,
            6,
            10,
            14,
            17
           ]
          ],
          [
           [
            1,
            5,
            8,
            9,
            12,
            16
           ]
          ],
          [
           [
            2,
            3,
            8,
            11,
            12,
            15
           ]
          ],
          [
           [
            0,
            3,
            7,
            11,
            14,
            17
           ]
          ],
          [
           [
            1,
            4,
            8,
            11,
            13,
            16
           ]
          ],
          [
           [
            2,
            3,
            6,
            9,
            12,
            16
           ]
          ],
          [
           [
            1,
            5,
            7,
            11,
            13,
            15,
            2,
            3,
            8,
            10,
            12,
            17
           ]
          ],
          [
           [
            0,
            4,
            6,
            9,
            12,
            15,
            0,
            5,
            8,
            10,
            14,
            17
           ]
          ],
          [
           [
            1,
            5,
            6,
            9,
            12,
            16
           ]
          ],
          [
           [
            2,
            5,
            7,
            9,
            13,
            15,
            0,
            4,
            8,
            10,
            13,
            16
           ]
          ],
          [
           [
            2,
            3,
            7,
            11,
            14,
            15
           ]
          ],
          [
           [
            1,
            3,
            7,
            9,
            12,
            17
           ]
          ],
          [
           [
            2,
            4,
            8,
            9,
            13,
            15
           ]
          ],
          [
           [
            2,
            5,
            6,
            11,
            14,
            17
           ]
          ],
          [
           [
            2,
            5,
            8,
            9,
            12,
            17
           ]
          ],
          [
           [
            1,
            3,
            8,
            10,
            13,
            16
           ]
          ],
          [
           [
            1,
            3,
            8,
            11,
            13,
            15
           ]
          ],
          [
           [
            0,
            4,
            6,
            9,
            13,
            16
           ]
          ],
          [
           [
            2,
            3,
            6,
            10,
            14,
            17
           ]
          ],
          [
           [
            0,
            5,
            8,
            9,
            12,
            17
           ]
          ],
          [
           [
            0,
            5,
            7,
            11,
            12,
            17
           ]
          ],
          [
           [
            1,
            5,
            7,
            11,
            14,
            17
           ]
          ],
          [
           [
            2,
            5,
            8,
            10,
            13,
            16
           ]
          ],
          [
           [
            0,
            3,
            6,
            9,
            12,
            15
           ]
          ],
          [
           [
            0,
            5,
            6,
            9,
            13,
            17
           ]
          ],
          [
           [
            0,
            3,
            7,
            9,
            14,
            16
           ]
          ],
          [
           [
            0,
            3,
            6,
            11,
            12,
            16
           ]
          ],
          [
           [
            2,
            5,
            6,
            11,
            14,
            16
           ]
          ],
          [
           [
            1,
            5,
            8,
            11,
            13,
            15,
            1,
            4,
            8,
            10,
            13,
            17
           ]
          ],
          [
           [
            2,
            5,
            6,
            11,
            12,
            16
           ]
          ],
          [
           [
            1,
            4,
            7,
            10,
            14,
            16
           ]
          ],
          [
           [
            1,
            5,
            8,
            9,
            13,
            16,
            0,
            4,
            7,
            11,
            12,
            17
           ]
          ],
          [
           [
            0,
            3,
            6,
            10,
            14,
            17,
            2,
            5,
            6,
            10,
            13,
            17
           ]
          ],
          [
           [
            0,
            4,
            8,
            10,
            12,
            17
           ]
          ],
          [
           [
            0,
            3,
            8,
            11,
            12,
            16
           ]
          ],
          [
           [
            2,
            5,
            6,
            9,
            13,
            17,
            2,
            3,
            8,
            10,
            13,
            15
           ]
          ],
          [
           [
            2,
            5,
            7,
            9,
            14,
            16
           ]
          ],
          [
           [
            1,
            5,
            8,
            11,
            14,
            16
           ]
          ],
          [
           [
            1,
            4,
            7,
            10,
            14,
            17,
            2,
            4,
            6,
            11,
            14,
            16
           ]
          ],
          [
           [
            1,
            3,
            7,
            10,
            12,
            17
           ]
          ],
          [
           [
            0,
            5,
            6,
            10,
            14,
            17,
            2,
            5,
            8,
            11,
            12,
            16
           ]
          ],
          [
           [
            0,
            5,
            8,
            10,
            14,
            16,
            2,
            5,
            8,
            10,
            13,
            17
           ]
          ],
          [
           [
            0,
            4,
            6,
            9,
            12,
            17
           ]
          ],
          [
           [
            0,
            3,
            7,
            11,
            13,
            15
           ]
          ],
          [
           [
            0,
            4,
            7,
            11,
            12,
            17,
            2,
            3,
            8,
            9,
            14,
            16
           ]
          ],
          [
           [
            1,
            4,
            8,
            11,
            12,
            17
           ]
          ],
          [
           [
            2,
            5,
            7,
            10,
            12,
            16
           ]
          ],
          [
           [
            2,
            3,
            7,
            9,
            14,
            16
           ]
          ],
          [
           [
            0,
            3,
            8,
            11,
            13,
            17
           ]
          ],
          [
           [
            0,
            4,
            7,
            9,
            14,
            15
           ]
          ],
          [
           [
            2,
            5,
            7,
            11,
            12,
            15
           ]
          ],
          [
           [
            1,
            3,
            8,
            10,
            12,
            16,
            0,
            4,
            8,
            10,
            13,
            17
           ]
          ],
          [
           [
            0,
            4,
            8,
            11,
            14,
            15
           ]
          ],
          [
           [
            1,
            5,
            8,
            11,
            12,
            15
           ]
          ],
          [
           [
            1,
            3,
            6,
            11,
            14,
            15
           ]
          ],
          [
           [
            2,
            4,
            7,
            11,
            12,
            15
           ]
          ],
          [
           [
            0,
            3,
            7,
            9,
            13,
            16,
            1,
            5,
            8,
            9,
            12,
            17
           ]
          ],
          [
           [
            2,
            5,
            8,
            10,
            14,
            15,
            0,
            5,
            7,
            9,
            13,
            17
           ]
          ],
          [
           [
            1,
            5,
            6,
            11,
            14,
            17
           ]
          ],
          [
           [
            0,
            4,
            6,
            9,
            14,
            15
           ]
          ],
          [
           [
            1,
            5,
            7,
            10,
            12,
            16
           ]
          ],
          [
           [
            0,
            3,
            6,
            11,
            13,
            16
           ]
          ],
          [
           [
            0,
            4,
            7,
            10,
            14,
            15
           ]
          ],
          [
           [
            0,
            4,
            8,
            11,
            14,
            15,
            1,
            4,
            7,
            10,
            12,
            16
           ]
          ],
          [
           [
            1,
            4,
            8,
            9,
            14,
            16,
            1,
            3,
            7,
            10,
            12,
            17
           ]
          ],
          [
           [
            0,
            5,
            7,
            9,
            12,
            17
           ]
          ],
          [
           [
            2,
            4,
            8,
            10,
            13,
            16
           ]
          ],
          [
           [
            2,
            4,
            6,
            10,
            13,
            16
           ]
          ],
          [
           [
            1,
            5,
            8,
            11,
            14,
            15
           ]
          ],
          [
           [
            2,
            3,
            6,
            10,
            12,
            17
           ]
          ],
          [
           [
            2,
            5,
            8,
            9,
            14,
            15
           ]
          ],
          [
           [
            2,
            3,
            7,
            11,
            14,
            17
           ]
          ],
          [
           [
            2,
            5,
            6,
            11,
            13,
            16
           ]
          ],
          [
           [
            2,
            3,
            7,
            10,
            14,
            15
           ]
          ],
          [
           [
            2,
            5,
            8,
            10,
            14,
            16
           ]
          ],
          [
           [
            0,
            4,
            8,
            9,
            13,
            16
           ]
          ],
          [
           [
            0,
            5,
            6,
            11,
            14,
            16
           ]
          ],
          [
           [
            0,
            5,
            7,
            10,
            12,
            15
           ]
          ],
          [
           [
            0,
            5,
            6,
            10,
            12,
            17
           ]
          ],
          [
           [
            1,
            5,
            6,
            11,
            14,
            17,
            2,
            4,
            7,
            10,
            13,
            17
           ]
          ],
          [
           [
            0,
            5,
            6,
            10,
            13,
            16
           ]
          ],
          [
           [
            2,
            3,
            7,
            11,
            13,
            16
           ]
          ],
          [
           [
            0,
            4,
            7,
            10,
            14,
            17
           ]
          ],
          [
           [
            2,
            4,
            6,
            10,
            14,
            15
           ]
          ],
          [
           [
            1,
            5,
            8,
            10,
            13,
            16
           ]
          ],
          [
           [
            2,
            5,
            6,
            9,
            12,
            17
           ]
          ],
          [
           [
            2,
            4,
            6,
            9,
            14,
            15
           ]
          ],
          [
           [
            0,
            3,
            6,
            10,
            12,
            16
           ]
          ],
          [
           [
            0,
            4,
            8,
            11,
            14,
            15,
            0,
            5,
            8,
            11,
            13,
            15
           ]
          ],
          [
           [
            0,
            5,
            8,
            11,
            12,
            17
           ]
          ],
          [
           [
            0,
            3,
            6,
            11,
            12,
            17
           ]
          ],
          [
           [
            0,
            5,
            8,
            11,
            13,
            15
           ]
          ],
          [
           [
            2,
            4,
            7,
            11,
            12,
            16
           ]
          ],
          [
           [
            2,
            5,
            8,
            9,
            13,
            17,
            1,
            3,
            7,
            10,
            12,
            17
           ]
          ],
          [
           [
            2,
            4,
            7,
            10,
            12,
            17
           ]
          ],
          [
           [
            1,
            3,
            7,
            9,
            13,
            17
           ]
          ],
          [
           [
            2,
            3,
            7,
            9,
            13,
            15
           ]
          ],
          [
           [
            0,
            5,
            8,
            11,
            12,
            15
           ]
          ],
          [
           [
            1,
            3,
            8,
            9,
            14,
            15
           ]
          ],
          [
           [
            1,
            3,
            6,
            9,
            12,
            15
           ]
          ],
          [
           [
            0,
            3,
            6,
            11,
            14,
            15
           ]
          ],
          [
           [
            2,
            3,
            7,
            9,
            13,
            16
           ]
          ],
          [
           [
            2,
            3,
            7,
            11,
            12,
            16
           ]
          ],
          [
           [
            1,
            3,
            7,
            9,
            12,
            17,
            0,
            3,
            8,
            10,
            14,
            15
           ]
          ],
          [
           [
            1,
            5,
            7,
            10,
            12,
            15,
            1,
            5,
            8,
            9,
            13,
            17
           ]
          ],
          [
           [
            0,
            5,
            8,
            11,
            14,
            17
           ]
          ],
          [
           [
            0,
            3,
            7,
            11,
            14,
            16
           ]
          ],
          [
           [
            0,
            4,
            7,
            11,
            12,
            16
           ]
          ],
          [
           [
            2,
            3,
            7,
            10,
            13,
            16
           ]
          ],
          [
           [
            1,
            3,
            8,
            11,
            12,
            16
           ]
          ],
          [
           [
            1,
            5,
            6,
            10,
            13,
            15
           ]
          ],
          [
           [
            1,
            3,
            7,
            11,
            13,
            17
           ]
          ],
          [
           [
            1,
            4,
            7,
            10,
            14,
            16,
            0,
            5,
            6,
            11,
            13,
            17
           ]
          ],
          [
           [
            1,
            3,
            7,
            10,
            13,
            16
           ]
          ],
          [
           [
            1,
            3,
            8,
            10,
            14,
            15
           ]
          ],
          [
           [
            1,
            4,
            6,
            10,
            14,
            16
           ]
          ],
          [
           [
            2,
            5,
            8,
            9,
            13,
            15,
            0,
            4,
            8,
            11,
            13,
            15
           ]
          ],
          [
           [
            0,
            4,
            7,
            9,
            14,
            15,
            2,
            4,
            7,
            10,
            14,
            15
           ]
          ],
          [
           [
            1,
            3,
            6,
            10,
            13,
            15
           ]
          ],
          [
           [
            0,
            3,
            6,
            10,
            12,
            16,
            0,
            4,
            7,
            11,
            12,
            16
           ]
          ],
          [
           [
            0,
            5,
            8,
            9,
            13,
            17
           ]
          ],
          [
           [
            2,
            5,
            8,
            11,
            13,
            16
           ]
          ],
          [
           [
            0,
            5,
            8,
            10,
            12,
            16
           ]
          ],
          [
           [
            0,
            4,
            8,
            9,
            14,
            17
           ]
          ],
          [
           [
            1,
            5,
            7,
            11,
            12,
            16,
            2,
            5,
            6,
            9,
            14,
            16
           ]
          ],
          [
           [
            0,
            4,
            8,
            10,
            12,
            17,
            2,
            4,
            7,
            10,
            14,
            17
           ]
          ],
          [
           [
            2,
            5,
            7,
            10,
            13,
            16,
            0,
            5,
            7,
            10,
            12,
            16
           ]
          ],
          [
           [
            2,
            4,
            7,
            10,
            13,
            15
           ]
          ],
          [
           [
            1,
            4,
            6,
            9,
            12,
            15
           ]
          ],
          [
           [
            0,
            4,
            8,
            10,
            12,
            17,
            2,
            3,
            8,
            11,
            14,
            17
           ]
          ],
          [
           [
            0,
            5,
            7,
            9,
            12,
            17,
            0,
            5,
            8,
            10,
            12,
            15
           ]
          ],
          [
           [
            2,
            4,
            7,
            10,
            14,
            16
           ]
          ],
          [
           [
            2,
            4,
            8,
            9,
            12,
            17
           ]
          ],
          [
           [
            1,
            5,
            8,
            9,
            12,
            15
           ]
          ],
          [
           [
            0,
            5,
            7,
            9,
            13,
            17
           ]
          ],
          [
           [
            1,
            5,
            8,
            11,
            13,
            15,
            1,
            4,
            7,
            10,
            14,
            16
           ]
          ],
          [
           [
            2,
            4,
            6,
            10,
            12,
            16
           ]
          ],
          [
           [
            1,
            4,
            7,
            9,
            13,
            17
           ]
          ],
          [
           [
            0,
            5,
            6,
            9,
            14,
            15,
            1,
            5,
            7,
            11,
            14,
            16
           ]
          ],
          [
           [
            0,
            5,
            7,
            10,
            13,
            16
           ]
          ],
          [
           [
            0,
            4,
            7,
            10,
            12,
            16
           ]
          ],
          [
           [
            2,
            5,
            6,
            11,
            12,
            16,
            0,
            5,
            8,
            9,
            13,
            15
           ]
          ],
          [
           [
            1,
            3,
            6,
            10,
            12,
            17
           ]
          ],
          [
           [
            1,
            3,
            6,
            10,
            14,
            16
           ]
          ],
          [
           [
            1,
            3,
            8,
            11,
            13,
            16
           ]
          ],
          [
           [
            2,
            4,
            6,
            11,
            14,
            15
           ]
          ],
          [
           [
            2,
            3,
            6,
            10,
            13,
            17
           ]
          ],
          [
           [
            1,
            3,
            7,
            11,
            13,
            15
           ]
          ],
          [
           [
            2,
            5,
            6,
            10,
            13,
            15
           ]
          ],
          [
           [
            2,
            3,
            7,
            11,
            13,
            16,
            0,
            3,
            6,
            11,
            13,
            16
           ]
          ],
          [
           [
            2,
            4,
            6,
            10,
            12,
            15
           ]
          ],
          [
           [
            1,
            3,
            6,
            11,
            14,
            16
           ]
          ],
          [
           [
            2,
            3,
            7,
            9,
            14,
            15,
            1,
            4,
            6,
            9,
            12,
            17
           ]
          ],
          [
           [
            0,
            3,
            6,
            11,
            14,
            15,
            1,
            4,
            7,
            11,
            13,
            17
           ]
          ],
          [
           [
            1,
            3,
            7,
            10,
            12,
            15
           ]
          ],
          [
           [
            2,
            5,
            8,
            10,
            13,
            16,
            0,
            4,
            6,
            10,
            12,
            16
           ]
          ],
          [
           [
            2,
            4,
            6,
            9,
            14,
            17
           ]
          ],
          [
           [
            2,
            3,
            6,
            10,
            14,
            17,
            1,
            3,
            6,
            10,
            12,
            17
           ]
          ],
          [
           [
            0,
            4,
            6,
            11,
            13,
            16
           ]
          ],
          [
           [
            2,
            3,
            6,
            9,
            13,
            15
           ]
          ],
          [
           [
            1,
            4,
            8,
            10,
            12,
            15
           ]
          ],
          [
           [
            2,
            5,
            8,
            11,
            12,
            17,
            2,
            3,
            7,
            10,
            14,
            16
           ]
          ],
          [
           [
            2,
            5,
            7,
            10,
            13,
            15
           ]
          ],
          [
           [
            2,
            3,
            7,
            10,
            12,
            17
           ]
          ],
          [
           [
            2,
            3,
            7,
            9,
            14,
            16,
            2,
            4,
            6,
            9,
            13,
            15
           ]
          ],
          [
           [
            1,
            3,
            6,
            11,
            12,
            15
           ]
          ],
          [
           [
            1,
            4,
            6,
            11,
            13,
            16
           ]
          ],
          [
           [
            2,
            5,
            6,
            10,
            13,
            16,
            2,
            4,
            7,
            11,
            13,
            15
           ]
          ],
          [
           [
            2,
            3,
            7,
            10,
            13,
            15
           ]
          ],
          [
           [
            2,
            3,
            8,
            9,
            12,
            17
           ]
          ],
          [
           [
            2,
            5,
            8,
            10,
            13,
            16,
            2,
            3,
            7,
            10,
            13,
            16
           ]
          ],
          [
           [
            2,
            5,
            6,
            10,
            13,
            16,
            0,
            5,
            8,
            11,
            14,
            15
           ]
          ],
          [
           [
            2,
            4,
            7,
            9,
            14,
            17
           ]
          ],
          [
           [
            0,
            5,
            7,
            9,
            13,
            17,
            0,
            5,
            6,
            11,
            14,
            16
           ]
          ],
          [
           [
            2,
            5,
            6,
            10,
            13,
            16,
            0,
            3,
            8,
            11,
            12,
            17
           ]
          ],
          [
           [
            0,
            3,
            6,
            9,
            12,
            17
           ]
          ],
          [
           [
            0,
            4,
            8,
            10,
            12,
            17,
            2,
            3,
            7,
            9,
            13,
            16
           ]
          ],
          [
           [
            2,
            4,
            6,
            9,
            12,
            16
           ]
          ],
          [
           [
            0,
            5,
            8,
            9,
            14,
            16
           ]
          ],
          [
           [
            1,
            4,
            6,
            9,
            14,
            17
           ]
          ],
          [
           [
            0,
            4,
            6,
            9,
            14,
            17
           ]
          ],
          [
           [
            1,
            4,
            6,
            10,
            14,
            16,
            1,
            3,
            6,
            10,
            14,
            16
           ]
          ],
          [
           [
            2,
            4,
            8,
            10,
            14,
            15
           ]
          ],
          [
           [
            1,
            5,
            6,
            9,
            13,
            16
           ]
          ],
          [
           [
            1,
            5,
            6,
            11,
            13,
            15
           ]
          ],
          [
           [
            0,
            5,
            6,
            11,
            14,
            16,
            0,
            5,
            6,
            10,
            13,
            17
           ]
          ],
          [
           [
            2,
            3,
            8,
            11,
            14,
            16
           ]
          ],
          [
           [
            1,
            5,
            6,
            11,
            14,
            15,
            0,
            4,
            6,
            10,
            12,
            17
           ]
          ],
          [
           [
            2,
            5,
            8,
            11,
            12,
            15
           ]
          ],
          [
           [
            1,
            4,
            8,
            10,
            14,
            17
           ]
          ],
          [
           [
            2,
            3,
            7,
            9,
            12,
            16
           ]
          ],
          [
           [
            1,
            4,
            8,
            10,
            13,
            17
           ]
          ],
          [
           [
            0,
            3,
            6,
            9,
            14,
            17
           ]
          ],
          [
           [
            0,
            4,
            8,
            11,
            12,
            15
           ]
          ],
          [
           [
            2,
            4,
            8,
            9,
            13,
            15,
            1,
            5,
            6,
            9,
            13,
            17
           ]
          ],
          [
           [
            2,
            3,
            7,
            9,
            14,
            16,
            2,
            4,
            6,
            9,
            14,
            16
           ]
          ],
          [
           [
            0,
            3,
            8,
            11,
            14,
            15
           ]
          ],
          [
           [
            2,
            4,
            7,
            10,
            13,
            17
           ]
          ],
          [
           [
            0,
            4,
            6,
            9,
            13,
            15
           ]
          ],
          [
           [
            0,
            5,
            8,
            10,
            12,
            15
           ]
          ],
          [
           [
            2,
            5,
            7,
            9,
            14,
            17,
            1,
            4,
            6,
            9,
            14,
            17
           ]
          ],
          [
           [
            2,
            3,
            7,
            10,
            12,
            16,
            0,
            4,
            7,
            11,
            12,
            17
           ]
          ],
          [
           [
            2,
            3,
            6,
            11,
            13,
            17
           ]
          ],
          [
           [
            2,
            4,
            7,
            9,
            14,
            17,
            2,
            4,
            8,
            10,
            14,
            16
           ]
          ],
          [
           [
            0,
            5,
            7,
            9,
            12,
            16
           ]
          ],
          [
           [
            0,
            4,
            8,
            9,
            13,
            17
           ]
          ],
          [
           [
            0,
            3,
            7,
            9,
            14,
            15
           ]
          ],
          [
           [
            2,
            5,
            6,
            11,
            13,
            15
           ]
          ],
          [
           [
            0,
            5,
            6,
            10,
            14,
            15
           ]
          ],
          [
           [
            1,
            5,
            8,
            9,
            14,
            15
           ]
          ],
          [
           [
            2,
            4,
            8,
            10,
            13,
            16,
            0,
            4,
            7,
            11,
            13,
            16
           ]
          ],
          [
           [
            1,
            3,
            7,
            9,
            14,
            15
           ]
          ],
          [
           [
            1,
            3,
            7,
            9,
            12,
            15
           ]
          ],
          [
           [
            0,
            5,
            6,
            11,
            12,
            15
           ]
          ],
          [
           [
            2,
            5,
            6,
            11,
            13,
            16,
            1,
            4,
            8,
            10,
            12,
            16
           ]
          ],
          [
           [
            0,
            4,
            6,
            11,
            12,
            17
           ]
          ],
          [
           [
            1,
            5,
            6,
            9,
            12,
            16,
            1,
            5,
            6,
            10,
            13,
            16
           ]
          ],
          [
           [
            1,
            3,
            8,
            10,
            12,
            16,
            2,
            5,
            7,
            10,
            12,
            17
           ]
          ],
          [
           [
            1,
            5,
            6,
            10,
            12,
            15
           ]
          ],
          [
           [
            0,
            4,
            7,
            11,
            13,
            16
           ]
          ],
          [
           [
            1,
            3,
            8,
            9,
            14,
            15,
            1,
            5,
            6,
            9,
            13,
            15
           ]
          ],
          [
           [
            2,
            5,
            8,
            11,
            12,
            15,
            1,
            4,
            6,
            11,
            12,
            15
           ]
          ],
          [
           [
            0,
            3,
            8,
            11,
            14,
            15,
            0,
            3,
            7,
            10,
            12,
            17
           ]
          ],
          [
           [
            1,
            4,
            8,
            9,
            14,
            16,
            1,
            5,
            7,
            11,
            14,
            15
           ]
          ],
          [
           [
            0,
            4,
            8,
            11,
            12,
            17
           ]
          ],
          [
           [
            2,
            3,
            6,
            11,
            14,
            15
           ]
          ],
          [
           [
            0,
            4,
            6,
            9,
            12,
            15,
            1,
            3,
            6,
            11,
            14,
            17
           ]
          ],
          [
           [
            0,
            5,
            6,
            10,
            12,
            16
           ]
          ],
          [
           [
            2,
            5,
            6,
            9,
            14,
            16,
            2,
            4,
            7,
            10,
            13,
            17
           ]
          ],
          [
           [
            2,
            3,
            6,
            11,
            13,
            17,
            2,
            5,
            8,
            9,
            13,
            16
           ]
          ],
          [
           [
            2,
            4,
            8,
            11,
            12,
            17
           ]
          ],
          [
           [
            0,
            5,
            8,
            11,
            12,
            15,
            0,
            4,
            8,
            11,
            12,
            15
           ]
          ],
          [
           [
            2,
            4,
            8,
            9,
            12,
            17,
            1,
            4,
            8,
            11,
            12,
            15
           ]
          ],
          [
           [
            1,
            4,
            6,
            11,
            12,
            16
           ]
          ],
          [
           [
            0,
            4,
            7,
            11,
            12,
            17,
            2,
            3,
            7,
            11,
            13,
            16
           ]
          ],
          [
           [
            0,
            5,
            7,
            10,
            14,
            17
           ]
          ],
          [
           [
            2,
            4,
            8,
            9,
            14,
            16
           ]
          ],
          [
           [
            1,
            5,
            7,
            11,
            14,
            16
           ]
          ],
          [
           [
            2,
            5,
            7,
            11,
            14,
            17
           ]
          ],
          [
           [
            2,
            3,
            6,
            11,
            14,
            17
           ]
          ],
          [
           [
            1,
            5,
            7,
            9,
            13,
            15
           ]
          ],
          [
           [
            2,
            5,
            6,
            9,
            14,
            15
           ]
          ],
          [
           [
            0,
            4,
            8,
            11,
            13,
            15
           ]
          ],
          [
           [
            0,
            5,
            6,
            9,
            13,
            16
           ]
          ],
          [
           [
            0,
            3,
            6,
            11,
            14,
            16
           ]
          ],
          [
           [
            0,
            4,
            6,
            11,
            12,
            15,
            0,
            4,
            8,
            9,
            13,
            16
           ]
          ],
          [
           [
            2,
            5,
            7,
            11,
            14,
            15
           ]
          ],
          [
           [
            1,
            4,
            7,
            10,
            12,
            17,
            0,
            4,
            7,
            10,
            12,
            15
           ]
          ],
          [
           [
            0,
            3,
            7,
            10,
            13,
            17
           ]
          ],
          [
           [
            1,
            4,
            6,
            11,
            14,
            15
           ]
          ],
          [
           [
            2,
            3,
            6,
            9,
            13,
            17
           ]
          ],
          [
           [
            2,
            5,
            7,
            9,
            13,
            16
           ]
          ],
          [
           [
            1,
            4,
            6,
            11,
            13,
            15,
            1,
            4,
            6,
            11,
            13,
            16
           ]
          ],
          [
           [
            1,
            3,
            8,
            11,
            12,
            15
           ]
          ],
          [
           [
            1,
            4,
            7,
            10,
            13,
            16
           ]
          ],
          [
           [
            2,
            4,
            6,
            10,
            13,
            15
           ]
          ],
          [
           [
            0,
            4,
            8,
            9,
            14,
            16,
            2,
            3,
            6,
            10,
            12,
            17
           ]
          ],
          [
           [
            1,
            4,
            7,
            9,
            13,
            16
           ]
          ],
          [
           [
            1,
            4,
            8,
            9,
            14,
            17,
            0,
            3,
            7,
            11,
            13,
            17
           ]
          ],
          [
           [
            0,
            3,
            7,
            9,
            12,
            15
           ]
          ],
          [
           [
            0,
            4,
            8,
            11,
            12,
            17,
            0,
            3,
            7,
            10,
            14,
            17
           ]
          ],
          [
           [
            0,
            5,
            6,
            11,
            12,
            15,
            1,
            5,
            7,
            9,
            13,
            15
           ]
          ],
          [
           [
            2,
            3,
            7,
            10,
            12,
            16,
            0,
            4,
            8,
            9,
            14,
            17
           ]
          ],
          [
           [
            0,
            3,
            6,
            9,
            14,
            17,
            0,
            4,
            6,
            11,
            14,
            15
           ]
          ],
          [
           [
            0,
            3,
            7,
            11,
            13,
            17,
            0,
            5,
            8,
            9,
            13,
            17
           ]
          ],
          [
           [
            0,
            5,
            8,
            10,
            12,
            16,
            1,
            5,
            6,
            10,
            14,
            17
           ]
          ],
          [
           [
            2,
            3,
            6,
            10,
            12,
            16
           ]
          ],
          [
           [
            2,
            4,
            7,
            10,
            13,
            16
           ]
          ],
          [
           [
            0,
            4,
            8,
            9,
            13,
            15
           ]
          ],
          [
           [
            2,
            3,
            7,
            10,
            14,
            17
           ]
          ],
          [
           [
            2,
            4,
            6,
            10,
            12,
            17
           ]
          ],
          [
           [
            1,
            5,
            8,
            9,
            12,
            15,
            2,
            4,
            6,
            9,
            13,
            15
           ]
          ],
          [
           [
            0,
            5,
            7,
            9,
            12,
            16,
            1,
            3,
            8,
            10,
            13,
            16
           ]
          ],
          [
           [
            1,
            5,
            6,
            10,
            13,
            16
           ]
          ],
          [
           [
            1,
            5,
            6,
            9,
            12,
            17
           ]
          ],
          [
           [
            0,
            4,
            8,
            10,
            14,
            16,
            1,
            4,
            8,
            11,
            13,
            16
           ]
          ],
          [
           [
            0,
            3,
            6,
            10,
            12,
            15
           ]
          ],
          [
           [
            0,
            3,
            7,
            9,
            12,
            17
           ]
          ],
          [
           [
            1,
            3,
            8,
            9,
            13,
            16
           ]
          ],
          [
           [
            1,
            3,
            6,
            10,
            14,
            15
           ]
          ],
          [
           [
            1,
            5,
            8,
            10,
            13,
            17
           ]
          ],
          [
           [
            1,
            3,
            6,
            11,
            14,
            15,
            0,
            4,
            7,
            9,
            14,
            17
           ]
          ],
          [
           [
            2,
            4,
            7,
            9,
            13,
            17
           ]
          ],
          [
           [
            1,
            5,
            8,
            11,
            14,
            16,
            2,
            4,
            7,
            9,
            14,
            17
           ]
          ],
          [
           [
            2,
            5,
            8,
            9,
            13,
            15,
            2,
            5,
            7,
            9,
            13,
            16
           ]
          ],
          [
           [
            1,
            4,
            6,
            11,
            14,
            15,
            0,
            3,
            8,
            9,
            14,
            17
           ]
          ],
          [
           [
            0,
            3,
            8,
            9,
            14,
            17
           ]
          ],
          [
           [
            0,
            5,
            7,
            9,
            14,
            16
           ]
          ],
          [
           [
            1,
            4,
            8,
            9,
            12,
            16
           ]
          ],
          [
           [
            1,
            3,
            6,
            9,
            12,
            17
           ]
          ],
          [
           [
            2,
            4,
            8,
            11,
            12,
            16
           ]
          ],
          [
           [
            2,
            5,
            6,
            10,
            13,
            15,
            0,
            4,
            8,
            11,
            12,
            15
           ]
          ],
          [
           [
            2,
            5,
            7,
            10,
            12,
            15
           ]
          ],
          [
           [
            1,
            3,
            7,
            11,
            12,
            17
           ]
          ],
          [
           [
            1,
            4,
            8,
            10,
            12,
            17,
            0,
            4,
            6,
            10,
            12,
            17
           ]
          ],
          [
           [
            1,
            5,
            6,
            11,
            12,
            16
           ]
          ],
          [
           [
            0,
            3,
            8,
            10,
            14,
            15
           ]
          ],
          [
           [
            0,
            4,
            6,
            10,
            13,
            15
           ]
          ],
          [
           [
            1,
            5,
            8,
            9,
            13,
            17
           ]
          ],
          [
           [
            0,
            3,
            7,
            11,
            13,
            15,
            0,
            4,
            7,
            10,
            13,
            15
           ]
          ],
          [
           [
            1,
            5,
            7,
            11,
            14,
            17,
            0,
            5,
            6,
            10,
            12,
            15
           ]
          ],
          [
           [
            0,
            4,
            8,
            11,
            12,
            16
           ]
          ],
          [
           [
            1,
            3,
            6,
            10,
            13,
            15,
            2,
            4,
            7,
            9,
            13,
            15
           ]
          ],
          [
           [
            1,
            3,
            7,
            10,
            13,
            17
           ]
          ],
          [
           [
            0,
            3,
            8,
            10,
            14,
            15,
            2,
            3,
            6,
            11,
            14,
            16
           ]
          ],
          [
           [
            0,
            3,
            8,
            10,
            12,
            17
           ]
          ],
          [
           [
            0,
            3,
            8,
            10,
            12,
            15
           ]
          ],
          [
           [
            0,
            4,
            6,
            11,
            12,
            15,
            1,
            5,
            6,
            11,
            13,
            17
           ]
          ],
          [
           [
            1,
            5,
            7,
            10,
            13,
            15
           ]
          ],
          [
           [
            2,
            3,
            6,
            10,
            13,
            16
           ]
          ],
          [
           [
            2,
            5,
            7,
            9,
            14,
            16,
            0,
            5,
            7,
            10,
            12,
            16
           ]
          ],
          [
           [
            0,
            3,
            6,
            9,
            13,
            15,
            2,
            4,
            7,
            11,
            12,
            15
           ]
          ],
          [
           [
            1,
            3,
            7,
            9,
            13,
            16,
            1,
            3,
            8,
            9,
            14,
            15
           ]
          ],
          [
           [
            1,
            5,
            8,
            11,
            13,
            15,
            0,
            5,
            7,
            11,
            14,
            15
           ]
          ],
          [
           [
            2,
            4,
            8,
            11,
            13,
            16
           ]
          ],
          [
           [
            0,
            4,
            6,
            9,
            12,
            16
           ]
          ],
          [
           [
            0,
            4,
            6,
            10,
            13,
            16
           ]
          ],
          [
           [
            1,
            5,
            7,
            10,
            12,
            15,
            2,
            4,
            7,
            10,
            13,
            15
           ]
          ],
          [
           [
            1,
            4,
            6,
            9,
            13,
            15,
            1,
            5,
            6,
            9,
            13,
            16
           ]
          ],
          [
           [
            2,
            4,
            8,
            9,
            12,
            16,
            1,
            3,
            7,
            11,
            13,
            16
           ]
          ],
          [
           [
            0,
            5,
            7,
            11,
            14,
            17
           ]
          ],
          [
           [
            0,
            3,
            6,
            11,
            14,
            16,
            2,
            4,
            6,
            10,
            13,
            15
           ]
          ],
          [
           [
            2,
            3,
            6,
            10,
            14,
            16
           ]
          ],
          [
           [
            2,
            3,
            7,
            11,
            14,
            16
           ]
          ],
          [
           [
            0,
            3,
            7,
            9,
            13,
            15
           ]
          ],
          [
           [
            0,
            4,
            8,
            10,
            13,
            16
           ]
          ],
          [
           [
            0,
            4,
            7,
            9,
            14,
            17
           ]
          ],
          [
           [
            2,
            4,
            7,
            10,
            12,
            17,
            0,
            3,
            6,
            10,
            14,
            17
           ]
          ],
          [
           [
            2,
            3,
            7,
            11,
            13,
            17
           ]
          ],
          [
           [
            1,
            5,
            7,
            10,
            12,
            16,
            2,
            4,
            8,
            11,
            14,
            16
           ]
          ],
          [
           [
            0,
            4,
            7,
            11,
            13,
            17,
            0,
            4,
            7,
            9,
            13,
            17
           ]
          ],
          [
           [
            1,
            4,
            8,
            9,
            14,
            17,
            2,
            3,
            8,
            11,
            12,
            17
           ]
          ],
          [
           [
            2,
            4,
            7,
            11,
            12,
            15,
            0,
            5,
            6,
            10,
            13,
            16
           ]
          ],
          [
           [
            1,
            3,
            8,
            11,
            14,
            15
           ]
          ],
          [
           [
            1,
            5,
            6,
            9,
            14,
            16
           ]
          ],
          [
           [
            2,
            3,
            6,
            11,
            13,
            15
           ]
          ],
          [
           [
            1,
            4,
            6,
            11,
            13,
            17
           ]
          ],
          [
           [
            1,
            4,
            7,
            11,
            13,
            16
           ]
          ],
          [
           [
            0,
            4,
            8,
            10,
            12,
            17,
            1,
            4,
            7,
            9,
            12,
            16
           ]
          ],
          [
           [
            0,
            5,
            7,
            10,
            14,
            15
           ]
          ],
          [
           [
            0,
            3,
            8,
            9,
            12,
            17
           ]
          ],
          [
           [
            2,
            5,
            6,
            11,
            14,
            17,
            0,
            4,
            6,
            9,
            13,
            17
           ]
          ],
          [
           [
            0,
            3,
            7,
            10,
            13,
            15
           ]
          ],
          [
           [
            2,
            4,
            8,
            9,
            13,
            15,
            0,
            5,
            8,
            11,
            14,
            17
           ]
          ],
          [
           [
            0,
            4,
            7,
            9,
            13,
            17
           ]
          ],
          [
           [
            0,
            4,
            8,
            9,
            14,
            17,
            1,
            4,
            6,
            9,
            14,
            16
           ]
          ],
          [
           [
            0,
            3,
            7,
            11,
            13,
            16,
            1,
            3,
            7,
            10,
            12,
            17
           ]
          ],
          [
           [
            1,
            4,
            6,
            10,
            13,
            15
           ]
          ],
          [
           [
            1,
            3,
            8,
            9,
            12,
            17
           ]
          ],
          [
           [
            1,
            5,
            6,
            10,
            14,
            16
           ]
          ],
          [
           [
            1,
            3,
            7,
            10,
            12,
            16
           ]
          ],
          [
           [
            1,
            5,
            7,
            10,
            12,
            17
           ]
          ],
          [
           [
            1,
            3,
            6,
            9,
            12,
            16
           ]
          ],
          [
           [
            1,
            5,
            8,
            10,
            12,
            17
           ]
          ],
          [
           [
            0,
            4,
            7,
            10,
            13,
            17
           ]
          ],
          [
           [
            2,
            3,
            7,
            11,
            12,
            17
           ]
          ],
          [
           [
            1,
            5,
            6,
            11,
            13,
            17
           ]
          ],
          [
           [
            2,
            4,
            7,
            10,
            13,
            17,
            1,
            3,
            8,
            11,
            14,
            17
           ]
          ],
          [
           [
            1,
            3,
            7,
            9,
            13,
            15
           ]
          ],
          [
           [
            2,
            5,
            7,
            9,
            13,
            16,
            0,
            5,
            6,
            9,
            14,
            16
           ]
          ],
          [
           [
            1,
            5,
            8,
            11,
            14,
            16,
            1,
            3,
            8,
            9,
            13,
            15
           ]
          ],
          [
           [
            2,
            5,
            6,
            9,
            12,
            16
           ]
          ],
          [
           [
            2,
            3,
            8,
            9,
            12,
            17,
            1,
            3,
            8,
            11,
            13,
            17
           ]
          ],
          [
           [
            0,
            5,
            8,
            9,
            12,
            15
           ]
          ],
          [
           [
            1,
            3,
            8,
            11,
            14,
            17
           ]
          ],
          [
           [
            0,
            5,
            6,
            11,
            14,
            15
           ]
          ],
          [
           [
            1,
            3,
            7,
            11,
            12,
            15,
            2,
            5,
            6,
            11,
            12,
            16
           ]
          ],
          [
           [
            1,
            5,
            8,
            11,
            12,
            17
           ]
          ],
          [
           [
            0,
            3,
            8,
            10,
            13,
            17,
            0,
            3,
            8,
            11,
            13,
            17
           ]
          ],
          [
           [
            1,
            4,
            8,
            11,
            13,
            15
           ]
          ],
          [
           [
            1,
            4,
            8,
            10,
            12,
            17,
            0,
            4,
            8,
            9,
            13,
            16
           ]
          ],
          [
           [
            1,
            5,
            8,
            10,
            12,
            15,
            2,
            4,
            8,
            9,
            13,
            15
           ]
          ],
          [
           [
            1,
            5,
            6,
            10,
            14,
            16,
            2,
            5,
            8,
            11,
            14,
            17
           ]
          ],
          [
           [
            2,
            5,
            8,
            11,
            13,
            16,
            1,
            5,
            8,
            9,
            14,
            16
           ]
          ],
          [
           [
            0,
            5,
            7,
            11,
            13,
            16
           ]
          ],
          [
           [
            1,
            4,
            7,
            11,
            14,
            16
           ]
          ],
          [
           [
            2,
            4,
            7,
            9,
            13,
            16
           ]
          ],
          [
           [
            0,
            3,
            8,
            10,
            14,
            16
           ]
          ],
          [
           [
            1,
            3,
            8,
            11,
            14,
            15,
            2,
            4,
            7,
            9,
            14,
            15
           ]
          ],
          [
           [
            2,
            5,
            8,
            11,
            13,
            16,
            0,
            5,
            6,
            9,
            12,
            17
           ]
          ],
          [
           [
            2,
            3,
            7,
            11,
            13,
            16,
            1,
            3,
            6,
            10,
            14,
            16
           ]
          ],
          [
           [
            0,
            5,
            8,
            11,
            12,
            15,
            1,
            5,
            7,
            11,
            13,
            17
           ]
          ],
          [
           [
            1,
            4,
            8,
            9,
            13,
            16
           ]
          ],
          [
           [
            0,
            3,
            6,
            10,
            12,
            17
           ]
          ],
          [
           [
            0,
            3,
            6,
            10,
            13,
            16
           ]
          ],
          [
           [
            1,
            3,
            8,
            10,
            12,
            16,
            1,
            4,
            8,
            11,
            14,
            16
           ]
          ],
          [
           [
            0,
            4,
            8,
            9,
            12,
            16,
            2,
            3,
            7,
            11,
            12,
            17
           ]
          ],
          [
           [
            0,
            3,
            7,
            10,
            14,
            17
           ]
          ],
          [
           [
            0,
            4,
            8,
            10,
            14,
            16,
            2,
            4,
            6,
            10,
            13,
            17
           ]
          ],
          [
           [
            1,
            5,
            7,
            9,
            13,
            15,
            0,
            4,
            8,
            11,
            14,
            15
           ]
          ],
          [
           [
            2,
            4,
            7,
            10,
            12,
            17,
            1,
            5,
            8,
            10,
            12,
            16
           ]
          ],
          [
           [
            0,
            5,
            6,
            10,
            12,
            17,
            1,
            4,
            7,
            10,
            12,
            17
           ]
          ],
          [
           [
            1,
            3,
            8,
            9,
            14,
            15,
            2,
            3,
            6,
            9,
            12,
            17
           ]
          ],
          [
           [
            2,
            5,
            6,
            11,
            14,
            16,
            1,
            3,
            8,
            9,
            13,
            15
           ]
          ],
          [
           [
            0,
            3,
            8,
            11,
            13,
            15
           ]
          ],
          [
           [
            1,
            3,
            8,
            10,
            13,
            15,
            2,
            4,
            6,
            10,
            13,
            17
           ]
          ],
          [
           [
            1,
            4,
            8,
            11,
            13,
            17
           ]
          ],
          [
           [
            0,
            4,
            8,
            10,
            14,
            16,
            0,
            5,
            8,
            9,
            14,
            17
           ]
          ],
          [
           [
            1,
            4,
            6,
            11,
            12,
            17
           ]
          ],
          [
           [
            1,
            5,
            6,
            10,
            13,
            15,
            0,
            4,
            6,
            9,
            12,
            15
           ]
          ],
          [
           [
            2,
            4,
            8,
            10,
            13,
            16,
            0,
            5,
            7,
            10,
            12,
            15
           ]
          ],
          [
           [
            1,
            4,
            6,
            9,
            13,
            16
           ]
          ],
          [
           [
            1,
            3,
            7,
            9,
            14,
            17
           ]
          ],
          [
           [
            2,
            3,
            7,
            9,
            12,
            17
           ]
          ],
          [
           [
            1,
            5,
            6,
            10,
            14,
            15
           ]
          ],
          [
           [
            2,
            3,
            7,
            9,
            14,
            16,
            1,
            3,
            7,
            11,
            13,
            17
           ]
          ],
          [
           [
            0,
            5,
            7,
            11,
            13,
            17
           ]
          ],
          [
           [
            1,
            3,
            8,
            10,
            13,
            15,
            0,
            4,
            7,
            10,
            14,
            15
           ]
          ],
          [
           [
            2,
            3,
            6,
            10,
            13,
            17,
            2,
            5,
            7,
            11,
            13,
            17
           ]
          ],
          [
           [
            1,
            5,
            6,
            11,
            12,
            15
           ]
          ],
          [
           [
            2,
            3,
            6,
            9,
            14,
            17
           ]
          ],
          [
           [
            1,
            4,
            7,
            11,
            12,
            15
           ]
          ],
          [
           [
            0,
            3,
            8,
            10,
            14,
            17
           ]
          ],
          [
           [
            0,
            3,
            7,
            10,
            13,
            16
           ]
          ],
          [
           [
            0,
            4,
            8,
            10,
            13,
            16,
            2,
            5,
            7,
            9,
            14,
            17
           ]
          ],
          [
           [
            0,
            5,
            8,
            11,
            14,
            16,
            2,
            3,
            8,
            9,
            12,
            17
           ]
          ],
          [
           [
            0,
            4,
            7,
            10,
            12,
            17
           ]
          ],
          [
           [
            0,
            4,
            6,
            9,
            13,
            17
           ]
          ],
          [
           [
            0,
            5,
            7,
            11,
            14,
            17,
            1,
            3,
            6,
            11,
            14,
            16
           ]
          ],
          [
           [
            1,
            3,
            6,
            9,
            13,
            17
           ]
          ],
          [
           [
            2,
            4,
            7,
            10,
            14,
            17
           ]
          ],
          [
           [
            2,
            4,
            7,
            11,
            13,
            16
           ]
          ],
          [
           [
            1,
            4,
            7,
            9,
            13,
            15
           ]
          ],
          [
           [
            1,
            5,
            6,
            11,
            13,
            16
           ]
          ],
          [
           [
            1,
            4,
            7,
            10,
            12,
            15
           ]
          ],
          [
           [
            2,
            4,
            6,
            11,
            12,
            16
           ]
          ],
          [
           [
            2,
            4,
            7,
            11,
            14,
            17
           ]
          ],
          [
           [
            1,
            4,
            7,
            11,
            13,
            15,
            2,
            3,
            6,
            9,
            14,
            15
           ]
          ],
          [
           [
            0,
            5,
            8,
            10,
            12,
            17
           ]
          ],
          [
           [
            1,
            5,
            7,
            11,
            14,
            17,
            1,
            4,
            7,
            9,
            13,
            16
           ]
          ],
          [
           [
            0,
            4,
            8,
            9,
            12,
            17
           ]
          ],
          [
           [
            0,
            5,
            6,
            11,
            14,
            15,
            0,
            4,
            8,
            10,
            13,
            17
           ]
          ],
          [
           [
            1,
            4,
            7,
            11,
            13,
            17
           ]
          ],
          [
           [
            1,
            4,
            7,
            9,
            14,
            15
           ]
          ],
          [
           [
            1,
            4,
            8,
            10,
            12,
            17,
            2,
            3,
            7,
            11,
            12,
            16
           ]
          ],
          [
           [
            0,
            5,
            8,
            9,
            12,
            17,
            1,
            4,
            7,
            9,
            13,
            16
           ]
          ],
          [
           [
            2,
            3,
            8,
            11,
            13,
            17
           ]
          ],
          [
           [
            0,
            5,
            6,
            11,
            14,
            16,
            0,
            3,
            7,
            9,
            14,
            16
           ]
          ],
          [
           [
            1,
            5,
            7,
            9,
            14,
            15
           ]
          ],
          [
           [
            2,
            4,
            8,
            10,
            12,
            16
           ]
          ],
          [
           [
            1,
            4,
            6,
            9,
            13,
            15,
            2,
            4,
            8,
            9,
            14,
            16
           ]
          ],
          [
           [
            0,
            5,
            6,
            9,
            13,
            15,
            2,
            5,
            8,
            10,
            13,
            16
           ]
          ],
          [
           [
            0,
            4,
            7,
            11,
            13,
            15
           ]
          ],
          [
           [
            1,
            4,
            7,
            9,
            13,
            17,
            0,
            3,
            7,
            11,
            14,
            15
           ]
          ],
          [
           [
            2,
            4,
            6,
            11,
            13,
            17
           ]
          ],
          [
           [
            0,
            5,
            7,
            10,
            14,
            16
           ]
          ],
          [
           [
            1,
            3,
            6,
            10,
            13,
            15,
            0,
            5,
            7,
            9,
            14,
            15
           ]
          ],
          [
           [
            0,
            4,
            8,
            11,
            14,
            16,
            1,
            4,
            7,
            11,
            14,
            17
           ]
          ],
          [
           [
            2,
            3,
            6,
            10,
            13,
            16,
            0,
            4,
            7,
            10,
            13,
            15
           ]
          ],
          [
           [
            1,
            5,
            8,
            9,
            12,
            17
           ]
          ],
          [
           [
            2,
            5,
            8,
            11,
            13,
            16,
            2,
            5,
            6,
            9,
            14,
            17
           ]
          ],
          [
           [
            1,
            5,
            7,
            11,
            13,
            17
           ]
          ],
          [
           [
            2,
            4,
            8,
            9,
            14,
            16,
            1,
            3,
            7,
            11,
            13,
            15
           ]
          ],
          [
           [
            0,
            4,
            7,
            11,
            13,
            15,
            1,
            5,
            6,
            11,
            13,
            15
           ]
          ],
          [
           [
            1,
            3,
            8,
            9,
            13,
            15
           ]
          ],
          [
           [
            0,
            5,
            8,
            11,
            12,
            15,
            1,
            5,
            7,
            11,
            13,
            17,
            1,
            3,
            7,
            10,
            13,
            17
           ]
          ],
          [
           [
            1,
            3,
            8,
            10,
            13,
            17
           ]
          ],
          [
           [
            2,
            5,
            6,
            9,
            12,
            15
           ]
          ],
          [
           [
            2,
            3,
            8,
            11,
            14,
            17
           ]
          ],
          [
           [
            2,
            4,
            6,
            11,
            13,
            15
           ]
          ],
          [
           [
            1,
            3,
            8,
            10,
            14,
            16
           ]
          ],
          [
           [
            2,
            3,
            8,
            9,
            13,
            16
           ]
          ],
          [
           [
            0,
            5,
            6,
            10,
            13,
            17
           ]
          ],
          [
           [
            1,
            5,
            7,
            9,
            14,
            16
           ]
          ],
          [
           [
            2,
            4,
            6,
            11,
            12,
            15
           ]
          ],
          [
           [
            0,
            3,
            8,
            10,
            12,
            15,
            1,
            4,
            7,
            11,
            12,
            17
           ]
          ],
          [
           [
            1,
            4,
            6,
            9,
            12,
            15,
            1,
            3,
            8,
            9,
            14,
            16
           ]
          ],
          [
           [
            1,
            3,
            6,
            11,
            14,
            17
           ]
          ],
          [
           [
            0,
            5,
            8,
            11,
            13,
            15,
            0,
            5,
            8,
            10,
            13,
            17
           ]
          ],
          [
           [
            2,
            3,
            8,
            9,
            14,
            16,
            2,
            4,
            8,
            10,
            13,
            15
           ]
          ],
          [
           [
            1,
            3,
            7,
            9,
            13,
            15,
            0,
            3,
            7,
            10,
            12,
            15
           ]
          ],
          [
           [
            0,
            3,
            8,
            9,
            12,
            17,
            1,
            4,
            7,
            9,
            14,
            15
           ]
          ],
          [
           [
            1,
            5,
            6,
            9,
            14,
            15
           ]
          ],
          [
           [
            2,
            3,
            8,
            11,
            14,
            16,
            1,
            4,
            7,
            11,
            12,
            16
           ]
          ],
          [
           [
            1,
            3,
            8,
            9,
            13,
            16,
            0,
            3,
            7,
            11,
            14,
            17
           ]
          ],
          [
           [
            2,
            4,
            6,
            9,
            13,
            16
           ]
          ],
          [
           [
            2,
            3,
            7,
            10,
            14,
            15,
            1,
            3,
            7,
            10,
            14,
            17
           ]
          ],
          [
           [
            1,
            3,
            6,
            9,
            14,
            16
           ]
          ],
          [
           [
            0,
            4,
            6,
            9,
            14,
            17,
            1,
            5,
            7,
            9,
            14,
            17
           ]
          ],
          [
           [
            1,
            4,
            8,
            9,
            14,
            17,
            1,
            5,
            6,
            9,
            12,
            16
           ]
          ],
          [
           [
            0,
            5,
            6,
            10,
            13,
            17,
            2,
            4,
            8,
            11,
            12,
            15
           ]
          ],
          [
           [
            1,
            3,
            8,
            10,
            13,
            16,
            0,
            4,
            6,
            11,
            13,
            16
           ]
          ],
          [
           [
            0,
            5,
            7,
            11,
            12,
            17,
            1,
            4,
            6,
            11,
            13,
            15
           ]
          ],
          [
           [
            1,
            5,
            6,
            9,
            14,
            16,
            1,
            3,
            8,
            9,
            12,
            15
           ]
          ],
          [
           [
            1,
            5,
            8,
            9,
            13,
            15
           ]
          ],
          [
           [
            1,
            3,
            8,
            11,
            13,
            15,
            0,
            3,
            7,
            9,
            14,
            17
           ]
          ],
          [
           [
            2,
            5,
            7,
            9,
            13,
            16,
            2,
            3,
            7,
            11,
            13,
            17
           ]
          ],
          [
           [
            1,
            5,
            8,
            11,
            12,
            15,
            2,
            4,
            8,
            10,
            12,
            15
           ]
          ],
          [
           [
            2,
            4,
            7,
            9,
            14,
            17,
            0,
            5,
            7,
            11,
            12,
            16
           ]
          ],
          [
           [
            0,
            5,
            7,
            11,
            12,
            16
           ]
          ],
          [
           [
            0,
            5,
            8,
            9,
            12,
            17,
            0,
            3,
            8,
            11,
            14,
            17
           ]
          ],
          [
           [
            1,
            5,
            6,
            10,
            12,
            16
           ]
          ],
          [
           [
            0,
            3,
            6,
            9,
            13,
            15,
            1,
            4,
            7,
            10,
            12,
            15
           ]
          ],
          [
           [
            1,
            3,
            8,
            9,
            12,
            17,
            0,
            5,
            8,
            11,
            12,
            16
           ]
          ],
          [
           [
            1,
            4,
            6,
            10,
            12,
            17
           ]
          ],
          [
           [
            1,
            3,
            8,
            9,
            12,
            17,
            0,
            4,
            7,
            10,
            12,
            17
           ]
          ],
          [
           [
            2,
            5,
            8,
            10,
            12,
            15
           ]
          ],
          [
           [
            0,
            3,
            7,
            9,
            12,
            15,
            0,
            3,
            6,
            9,
            14,
            17
           ]
          ],
          [
           [
            2,
            4,
            6,
            11,
            14,
            15,
            1,
            4,
            8,
            9,
            12,
            16
           ]
          ],
          [
           [
            0,
            3,
            6,
            10,
            14,
            15
           ]
          ],
          [
           [
            1,
            4,
            6,
            9,
            14,
            16
           ]
          ],
          [
           [
            1,
            5,
            6,
            11,
            14,
            17,
            1,
            5,
            8,
            10,
            14,
            16
           ]
          ],
          [
           [
            2,
            4,
            7,
            11,
            12,
            17
           ]
          ],
          [
           [
            2,
            4,
            7,
            10,
            12,
            15
           ]
          ],
          [
           [
            0,
            5,
            8,
            9,
            14,
            16,
            1,
            5,
            7,
            9,
            14,
            17
           ]
          ],
          [
           [
            2,
            3,
            6,
            9,
            14,
            16,
            0,
            5,
            7,
            10,
            13,
            17
           ]
          ],
          [
           [
            0,
            3,
            7,
            11,
            14,
            17,
            2,
            4,
            7,
            10,
            12,
            17
           ]
          ],
          [
           [
            1,
            3,
            8,
            10,
            12,
            15
           ]
          ],
          [
           [
            0,
            4,
            7,
            10,
            13,
            17,
            1,
            4,
            8,
            11,
            13,
            16
           ]
          ],
          [
           [
            0,
            5,
            6,
            10,
            12,
            15
           ]
          ],
          [
           [
            1,
            3,
            8,
            11,
            12,
            17
           ]
          ],
          [
           [
            1,
            4,
            7,
            10,
            13,
            16,
            2,
            5,
            7,
            10,
            13,
            17
           ]
          ],
          [
           [
            2,
            3,
            7,
            10,
            14,
            17,
            0,
            3,
            7,
            11,
            13,
            16
           ]
          ],
          [
           [
            1,
            4,
            7,
            10,
            13,
            16,
            2,
            5,
            8,
            11,
            12,
            16
           ]
          ],
          [
           [
            1,
            3,
            6,
            9,
            14,
            17
           ]
          ],
          [
           [
            0,
            5,
            8,
            10,
            14,
            16,
            0,
            5,
            8,
            10,
            14,
            15
           ]
          ],
          [
           [
            2,
            5,
            7,
            10,
            13,
            17
           ]
          ],
          [
           [
            2,
            5,
            8,
            10,
            13,
            16,
            2,
            4,
            8,
            9,
            12,
            16
           ]
          ],
          [
           [
            2,
            4,
            8,
            10,
            13,
            16,
            2,
            4,
            6,
            10,
            13,
            16
           ]
          ],
          [
           [
            2,
            4,
            8,
            9,
            12,
            17,
            0,
            5,
            7,
            11,
            13,
            16
           ]
          ],
          [
           [
            1,
            3,
            6,
            10,
            12,
            16
           ]
          ],
          [
           [
            1,
            4,
            6,
            10,
            14,
            15
           ]
          ],
          [
           [
            1,
            5,
            6,
            10,
            12,
            15,
            2,
            5,
            6,
            10,
            12,
            15
           ]
          ],
          [
           [
            0,
            3,
            6,
            9,
            13,
            16,
            2,
            4,
            6,
            9,
            13,
            17
           ]
          ],
          [
           [
            2,
            3,
            7,
            10,
            12,
            16,
            0,
            3,
            8,
            9,
            12,
            15
           ]
          ],
          [
           [
            1,
            3,
            8,
            11,
            14,
            16
           ]
          ],
          [
           [
            2,
            4,
            6,
            9,
            14,
            15,
            1,
            5,
            8,
            10,
            13,
            15
           ]
          ],
          [
           [
            2,
            5,
            7,
            9,
            14,
            15
           ]
          ],
          [
           [
            2,
            3,
            6,
            11,
            14,
            17,
            0,
            5,
            6,
            9,
            13,
            15
           ]
          ],
          [
           [
            0,
            3,
            6,
            9,
            14,
            16
           ]
          ],
          [
           [
            0,
            4,
            7,
            10,
            12,
            16,
            2,
            5,
            7,
            9,
            12,
            15
           ]
          ],
          [
           [
            1,
            3,
            8,
            9,
            14,
            16
           ]
          ],
          [
           [
            2,
            3,
            7,
            10,
            14,
            16
           ]
          ],
          [
           [
            0,
            5,
            7,
            10,
            14,
            15,
            2,
            5,
            8,
            11,
            13,
            17
           ]
          ],
          [
           [
            2,
            3,
            7,
            11,
            13,
            16,
            2,
            3,
            6,
            10,
            12,
            17
           ]
          ],
          [
           [
            1,
            3,
            6,
            10,
            13,
            16
           ]
          ],
          [
           [
            2,
            4,
            6,
            11,
            12,
            17
           ]
          ],
          [
           [
            2,
            4,
            7,
            9,
            12,
            15
           ]
          ],
          [
           [
            2,
            5,
            8,
            11,
            13,
            16,
            2,
            3,
            8,
            11,
            14,
            16
           ]
          ],
          [
           [
            0,
            3,
            6,
            10,
            13,
            17,
            1,
            5,
            6,
            9,
            13,
            17
           ]
          ],
          [
           [
            2,
            4,
            7,
            11,
            12,
            16,
            0,
            3,
            8,
            10,
            14,
            15
           ]
          ],
          [
           [
            0,
            3,
            7,
            10,
            12,
            16
           ]
          ],
          [
           [
            1,
            5,
            6,
            11,
            14,
            15,
            1,
            3,
            6,
            10,
            13,
            16
           ]
          ],
          [
           [
            2,
            3,
            7,
            11,
            13,
            16,
            2,
            3,
            8,
            11,
            12,
            16
           ]
          ],
          [
           [
            1,
            3,
            8,
            11,
            12,
            15,
            1,
            5,
            8,
            9,
            12,
            15
           ]
          ],
          [
           [
            1,
            3,
            7,
            9,
            14,
            17,
            2,
            5,
            6,
            9,
            13,
            17
           ]
          ],
          [
           [
            2,
            4,
            6,
            10,
            13,
            15,
            0,
            4,
            7,
            9,
            13,
            15
           ]
          ],
          [
           [
            1,
            4,
            7,
            10,
            14,
            15
           ]
          ],
          [
           [
            2,
            3,
            8,
            11,
            14,
            16,
            0,
            5,
            8,
            9,
            12,
            16
           ]
          ],
          [
           [
            2,
            3,
            6,
            11,
            13,
            17,
            1,
            5,
            7,
            11,
            12,
            17
           ]
          ],
          [
           [
            2,
            3,
            7,
            11,
            12,
            17,
            0,
            4,
            8,
            11,
            12,
            16
           ]
          ],
          [
           [
            0,
            4,
            7,
            9,
            13,
            15
           ]
          ],
          [
           [
            2,
            4,
            6,
            11,
            14,
            17
           ]
          ],
          [
           [
            2,
            4,
            7,
            10,
            12,
            17,
            2,
            4,
            7,
            10,
            14,
            16
           ]
          ],
          [
           [
            1,
            3,
            6,
            10,
            14,
            17
           ]
          ],
          [
           [
            0,
            5,
            6,
            9,
            12,
            16,
            2,
            4,
            8,
            11,
            13,
            17
           ]
          ],
          [
           [
            0,
            5,
            7,
            9,
            14,
            15
           ]
          ],
          [
           [
            2,
            3,
            6,
            10,
            13,
            15,
            0,
            4,
            7,
            10,
            14,
            16
           ]
          ],
          [
           [
            2,
            3,
            7,
            9,
            12,
            16,
            1,
            5,
            8,
            10,
            13,
            17
           ]
          ],
          [
           [
            1,
            3,
            8,
            11,
            13,
            16,
            1,
            3,
            8,
            11,
            14,
            17
           ]
          ],
          [
           [
            0,
            5,
            8,
            10,
            13,
            17
           ]
          ],
          [
           [
            2,
            5,
            8,
            11,
            14,
            16
           ]
          ],
          [
           [
            0,
            5,
            8,
            10,
            14,
            17
           ]
          ],
          [
           [
            2,
            5,
            7,
            11,
            13,
            17
           ]
          ],
          [
           [
            2,
            5,
            8,
            10,
            13,
            17
           ]
          ],
          [
           [
            0,
            3,
            7,
            9,
            12,
            16
           ]
          ],
          [
           [
            0,
            3,
            7,
            9,
            12,
            15,
            1,
            5,
            6,
            9,
            14,
            16
           ]
          ],
          [
           [
            0,
            3,
            7,
            10,
            12,
            17
           ]
          ],
          [
           [
            2,
            4,
            6,
            11,
            12,
            17,
            1,
            4,
            6,
            11,
            12,
            16
           ]
          ],
          [
           [
            0,
            3,
            7,
            9,
            14,
            16,
            0,
            4,
            7,
            10,
            13,
            16
           ]
          ],
          [
           [
            0,
            4,
            7,
            9,
            14,
            16
           ]
          ],
          [
           [
            2,
            5,
            8,
            9,
            14,
            16
           ]
          ],
          [
           [
            1,
            3,
            6,
            9,
            14,
            17,
            1,
            4,
            8,
            9,
            13,
            17
           ]
          ],
          [
           [
            0,
            4,
            7,
            11,
            12,
            17,
            2,
            4,
            7,
            9,
            12,
            17
           ]
          ],
          [
           [
            1,
            4,
            6,
            11,
            14,
            15,
            1,
            3,
            8,
            11,
            12,
            16
           ]
          ],
          [
           [
            0,
            3,
            7,
            10,
            12,
            16,
            2,
            3,
            7,
            11,
            13,
            16
           ]
          ],
          [
           [
            0,
            4,
            6,
            11,
            14,
            17
           ]
          ],
          [
           [
            2,
            3,
            8,
            11,
            13,
            17,
            1,
            5,
            6,
            10,
            12,
            16
           ]
          ],
          [
           [
            1,
            3,
            7,
            11,
            14,
            15
           ]
          ],
          [
           [
            1,
            5,
            7,
            11,
            14,
            17,
            1,
            3,
            6,
            10,
            13,
            15
           ]
          ],
          [
           [
            2,
            5,
            6,
            9,
            13,
            16,
            1,
            5,
            6,
            11,
            13,
            17
           ]
          ],
          [
           [
            0,
            3,
            6,
            9,
            13,
            17,
            1,
            3,
            7,
            9,
            14,
            17
           ]
          ],
          [
           [
            1,
            3,
            8,
            11,
            13,
            17
           ]
          ],
          [
           [
            1,
            3,
            6,
            11,
            13,
            16
           ]
          ],
          [
           [
            2,
            3,
            6,
            11,
            13,
            15,
            0,
            3,
            7,
            9,
            12,
            16
           ]
          ],
          [
           [
            1,
            5,
            6,
            10,
            13,
            16,
            2,
            3,
            7,
            10,
            14,
            15
           ]
          ],
          [
           [
            1,
            4,
            8,
            11,
            12,
            15
           ]
          ],
          [
           [
            2,
            4,
            8,
            11,
            13,
            16,
            1,
            4,
            8,
            10,
            13,
            16
           ]
          ],
          [
           [
            0,
            4,
            6,
            11,
            14,
            16
           ]
          ],
          [
           [
            0,
            4,
            6,
            10,
            13,
            15,
            1,
            5,
            7,
            11,
            12,
            15
           ]
          ],
          [
           [
            2,
            5,
            8,
            11,
            14,
            17,
            0,
            5,
            8,
            9,
            14,
            15
           ]
          ],
          [
           [
            2,
            5,
            7,
            11,
            13,
            16
           ]
          ],
          [
           [
            0,
            4,
            6,
            10,
            12,
            16,
            2,
            4,
            6,
            11,
            14,
            17
           ]
          ],
          [
           [
            0,
            5,
            6,
            10,
            12,
            16,
            2,
            3,
            7,
            9,
            14,
            15
           ]
          ],
          [
           [
            1,
            3,
            7,
            11,
            13,
            16,
            1,
            3,
            7,
            11,
            12,
            15
           ]
          ],
          [
           [
            1,
            5,
            6,
            11,
            13,
            15,
            1,
            5,
            6,
            11,
            12,
            16
           ]
          ],
          [
           [
            2,
            5,
            6,
            10,
            13,
            15,
            0,
            4,
            8,
            11,
            14,
            16
           ]
          ],
          [
           [
            2,
            3,
            6,
            10,
            12,
            17,
            2,
            4,
            7,
            10,
            12,
            16
           ]
          ],
          [
           [
            1,
            4,
            7,
            11,
            12,
            17
           ]
          ],
          [
           [
            2,
            3,
            7,
            11,
            13,
            17,
            1,
            4,
            8,
            11,
            14,
            17
           ]
          ],
          [
           [
            0,
            3,
            6,
            9,
            13,
            16,
            0,
            3,
            8,
            11,
            12,
            17
           ]
          ],
          [
           [
            0,
            5,
            8,
            10,
            14,
            16,
            1,
            3,
            7,
            10,
            12,
            15
           ]
          ],
          [
           [
            2,
            5,
            6,
            11,
            12,
            15
           ]
          ],
          [
           [
            1,
            5,
            6,
            9,
            12,
            15,
            1,
            5,
            8,
            9,
            13,
            16
           ]
          ],
          [
           [
            1,
            3,
            7,
            10,
            13,
            15
           ]
          ],
          [
           [
            1,
            3,
            6,
            9,
            14,
            17,
            2,
            5,
            6,
            11,
            14,
            16
           ]
          ],
          [
           [
            0,
            4,
            6,
            10,
            13,
            16,
            0,
            5,
            8,
            11,
            14,
            16
           ]
          ],
          [
           [
            2,
            5,
            6,
            11,
            12,
            17,
            1,
            5,
            7,
            10,
            12,
            16
           ]
          ],
          [
           [
            0,
            4,
            7,
            9,
            13,
            17,
            0,
            4,
            8,
            9,
            12,
            15
           ]
          ],
          [
           [
            2,
            3,
            8,
            9,
            14,
            16,
            1,
            3,
            8,
            11,
            12,
            15
           ]
          ],
          [
           [
            0,
            5,
            6,
            10,
            14,
            15,
            1,
            4,
            6,
            9,
            14,
            16
           ]
          ],
          [
           [
            1,
            5,
            6,
            9,
            13,
            17
           ]
          ],
          [
           [
            2,
            4,
            7,
            9,
            12,
            15,
            0,
            3,
            8,
            10,
            13,
            15
           ]
          ],
          [
           [
            0,
            4,
            6,
            11,
            14,
            16,
            0,
            3,
            7,
            11,
            12,
            16
           ]
          ],
          [
           [
            1,
            5,
            6,
            9,
            13,
            17,
            1,
            3,
            7,
            10,
            14,
            16
           ]
          ],
          [
           [
            0,
            4,
            6,
            11,
            13,
            16,
            2,
            3,
            8,
            10,
            12,
            17
           ]
          ],
          [
           [
            2,
            4,
            8,
            11,
            13,
            17,
            1,
            4,
            6,
            10,
            12,
            16
           ]
          ],
          [
           [
            0,
            5,
            7,
            10,
            13,
            15
           ]
          ],
          [
           [
            0,
            3,
            8,
            10,
            13,
            17,
            0,
            4,
            7,
            9,
            14,
            16
           ]
          ],
          [
           [
            0,
            4,
            8,
            11,
            12,
            16,
            2,
            5,
            8,
            10,
            12,
            17
           ]
          ],
          [
           [
            1,
            5,
            6,
            11,
            13,
            15,
            2,
            5,
            8,
            10,
            13,
            16
           ]
          ],
          [
           [
            2,
            3,
            6,
            9,
            12,
            15
           ]
          ],
          [
           [
            1,
            4,
            6,
            9,
            14,
            15
           ]
          ],
          [
           [
            1,
            4,
            7,
            9,
            13,
            16,
            2,
            4,
            8,
            9,
            12,
            17
           ]
          ],
          [
           [
            0,
            5,
            6,
            11,
            14,
            17
           ]
          ],
          [
           [
            2,
            5,
            6,
            11,
            14,
            15
           ]
          ],
          [
           [
            2,
            4,
            7,
            10,
            13,
            15,
            2,
            3,
            7,
            10,
            12,
            16
           ]
          ],
          [
           [
            0,
            3,
            8,
            11,
            13,
            17,
            1,
            5,
            8,
            10,
            14,
            16
           ]
          ],
          [
           [
            2,
            4,
            8,
            11,
            14,
            17,
            2,
            5,
            7,
            11,
            14,
            17
           ]
          ],
          [
           [
            1,
            4,
            7,
            10,
            12,
            17,
            2,
            3,
            7,
            9,
            12,
            15
           ]
          ],
          [
           [
            2,
            3,
            7,
            10,
            14,
            17,
            0,
            3,
            8,
            11,
            14,
            15
           ]
          ],
          [
           [
            1,
            3,
            8,
            9,
            14,
            17,
            2,
            4,
            7,
            9,
            14,
            15
           ]
          ],
          [
           [
            0,
            5,
            6,
            10,
            14,
            17,
            2,
            3,
            8,
            11,
            13,
            17
           ]
          ],
          [
           [
            0,
            4,
            7,
            11,
            13,
            16,
            2,
            4,
            6,
            11,
            13,
            15
           ]
          ],
          [
           [
            2,
            5,
            7,
            11,
            13,
            15
           ]
          ],
          [
           [
            2,
            4,
            8,
            9,
            13,
            17
           ]
          ],
          [
           [
            2,
            4,
            8,
            11,
            14,
            17,
            2,
            5,
            7,
            11,
            14,
            15
           ]
          ],
          [
           [
            2,
            5,
            6,
            9,
            13,
            16,
            0,
            3,
            7,
            11,
            12,
            15
           ]
          ],
          [
           [
            1,
            4,
            6,
            10,
            14,
            15,
            1,
            4,
            8,
            11,
            14,
            15
           ]
          ],
          [
           [
            0,
            4,
            6,
            11,
            12,
            15,
            0,
            5,
            7,
            10,
            13,
            15
           ]
          ],
          [
           [
            1,
            3,
            6,
            9,
            14,
            15
           ]
          ],
          [
           [
            2,
            3,
            8,
            11,
            14,
            15
           ]
          ],
          [
           [
            1,
            3,
            7,
            11,
            14,
            17
           ]
          ],
          [
           [
            0,
            3,
            7,
            11,
            14,
            17,
            1,
            3,
            8,
            9,
            13,
            17
           ]
          ],
          [
           [
            1,
            5,
            8,
            10,
            12,
            16
           ]
          ],
          [
           [
            1,
            5,
            6,
            10,
            13,
            16,
            0,
            4,
            6,
            11,
            13,
            15
           ]
          ],
          [
           [
            0,
            3,
            6,
            10,
            14,
            15,
            1,
            5,
            8,
            9,
            13,
            16
           ]
          ],
          [
           [
            2,
            3,
            7,
            9,
            12,
            15
           ]
          ],
          [
           [
            2,
            3,
            6,
            10,
            13,
            17,
            0,
            5,
            7,
            10,
            12,
            16
           ]
          ],
          [
           [
            2,
            4,
            7,
            11,
            12,
            16,
            0,
            5,
            6,
            10,
            13,
            15
           ]
          ],
          [
           [
            2,
            3,
            8,
            11,
            12,
            17
           ]
          ],
          [
           [
            2,
            5,
            8,
            11,
            13,
            15
           ]
          ],
          [
           [
            0,
            3,
            6,
            9,
            13,
            17,
            1,
            4,
            7,
            10,
            13,
            17
           ]
          ],
          [
           [
            2,
            3,
            8,
            9,
            14,
            17
           ]
          ],
          [
           [
            2,
            4,
            6,
            9,
            12,
            16,
            1,
            5,
            7,
            10,
            12,
            17
           ]
          ],
          [
           [
            1,
            4,
            7,
            11,
            13,
            15,
            0,
            5,
            6,
            11,
            13,
            17
           ]
          ],
          [
           [
            0,
            5,
            6,
            9,
            14,
            17
           ]
          ],
          [
           [
            1,
            4,
            8,
            10,
            14,
            15
           ]
          ],
          [
           [
            2,
            5,
            6,
            11,
            14,
            16,
            1,
            4,
            7,
            9,
            12,
            16
           ]
          ],
          [
           [
            1,
            5,
            8,
            9,
            14,
            17
           ]
          ],
          [
           [
            1,
            3,
            6,
            10,
            13,
            15,
            1,
            5,
            6,
            10,
            14,
            15
           ]
          ],
          [
           [
            0,
            5,
            6,
            10,
            12,
            17,
            0,
            3,
            6,
            11,
            13,
            16
           ]
          ],
          [
           [
            0,
            4,
            7,
            11,
            14,
            17
           ]
          ],
          [
           [
            0,
            5,
            6,
            10,
            13,
            17,
            0,
            5,
            6,
            10,
            14,
            15
           ]
          ],
          [
           [
            2,
            4,
            8,
            9,
            14,
            17
           ]
          ],
          [
           [
            1,
            4,
            6,
            11,
            13,
            15,
            1,
            5,
            8,
            9,
            14,
            17
           ]
          ],
          [
           [
            2,
            4,
            6,
            10,
            13,
            15,
            1,
            5,
            7,
            9,
            13,
            17
           ]
          ],
          [
           [
            1,
            4,
            8,
            11,
            13,
            17,
            0,
            5,
            6,
            11,
            12,
            17
           ]
          ],
          [
           [
            0,
            3,
            8,
            9,
            13,
            17
           ]
          ],
          [
           [
            2,
            4,
            7,
            9,
            12,
            15,
            2,
            4,
            7,
            11,
            12,
            15
           ]
          ],
          [
           [
            0,
            3,
            8,
            11,
            13,
            15,
            1,
            3,
            7,
            10,
            12,
            17
           ]
          ],
          [
           [
            1,
            3,
            6,
            11,
            13,
            15,
            2,
            3,
            7,
            10,
            12,
            16
           ]
          ],
          [
           [
            0,
            4,
            8,
            9,
            14,
            16,
            2,
            4,
            6,
            10,
            12,
            17
           ]
          ],
          [
           [
            0,
            4,
            7,
            10,
            13,
            17,
            1,
            4,
            8,
            11,
            12,
            16
           ]
          ],
          [
           [
            0,
            4,
            8,
            11,
            14,
            16,
            0,
            5,
            8,
            11,
            13,
            16
           ]
          ],
          [
           [
            1,
            3,
            6,
            9,
            12,
            16,
            1,
            5,
            8,
            9,
            14,
            17
           ]
          ],
          [
           [
            0,
            5,
            8,
            11,
            12,
            15,
            0,
            5,
            7,
            10,
            14,
            15
           ]
          ],
          [
           [
            2,
            4,
            8,
            11,
            14,
            17,
            0,
            4,
            6,
            11,
            13,
            15
           ]
          ],
          [
           [
            2,
            3,
            8,
            9,
            14,
            16,
            2,
            5,
            6,
            10,
            12,
            15
           ]
          ],
          [
           [
            0,
            3,
            8,
            10,
            12,
            16
           ]
          ],
          [
           [
            2,
            4,
            6,
            9,
            13,
            17
           ]
          ],
          [
           [
            2,
            3,
            8,
            10,
            13,
            17
           ]
          ],
          [
           [
            1,
            4,
            7,
            10,
            12,
            17,
            0,
            5,
            6,
            9,
            13,
            16
           ]
          ],
          [
           [
            0,
            4,
            7,
            10,
            13,
            16
           ]
          ],
          [
           [
            1,
            5,
            7,
            10,
            13,
            15,
            0,
            3,
            6,
            10,
            12,
            16
           ]
          ],
          [
           [
            0,
            5,
            8,
            11,
            13,
            16
           ]
          ],
          [
           [
            1,
            3,
            7,
            9,
            14,
            15,
            2,
            3,
            7,
            11,
            12,
            15
           ]
          ],
          [
           [
            1,
            4,
            8,
            9,
            12,
            17
           ]
          ],
          [
           [
            2,
            5,
            6,
            10,
            12,
            16
           ]
          ],
          [
           [
            1,
            3,
            8,
            9,
            14,
            16,
            1,
            3,
            6,
            9,
            13,
            15
           ]
          ],
          [
           [
            0,
            4,
            6,
            11,
            13,
            17
           ]
          ],
          [
           [
            1,
            4,
            8,
            10,
            14,
            15,
            2,
            5,
            7,
            10,
            14,
            17
           ]
          ],
          [
           [
            2,
            5,
            6,
            10,
            14,
            17
           ]
          ],
          [
           [
            1,
            3,
            7,
            9,
            14,
            17,
            1,
            4,
            7,
            9,
            14,
            15
           ]
          ],
          [
           [
            2,
            5,
            8,
            9,
            12,
            16
           ]
          ],
          [
           [
            1,
            4,
            6,
            11,
            14,
            16
           ]
          ],
          [
           [
            1,
            4,
            8,
            11,
            14,
            15
           ]
          ],
          [
           [
            2,
            5,
            6,
            9,
            14,
            17
           ]
          ],
          [
           [
            0,
            5,
            7,
            10,
            13,
            15,
            0,
            5,
            7,
            9,
            14,
            15
           ]
          ],
          [
           [
            1,
            5,
            7,
            10,
            12,
            16,
            1,
            5,
            6,
            10,
            14,
            16
           ]
          ],
          [
           [
            1,
            4,
            6,
            11,
            12,
            16,
            1,
            4,
            6,
            10,
            12,
            17
           ]
          ],
          [
           [
            1,
            5,
            6,
            10,
            13,
            15,
            2,
            5,
            6,
            11,
            13,
            17
           ]
          ],
          [
           [
            2,
            3,
            7,
            9,
            14,
            17
           ]
          ],
          [
           [
            2,
            4,
            6,
            11,
            14,
            16
           ]
          ],
          [
           [
            0,
            3,
            6,
            9,
            13,
            16,
            1,
            3,
            7,
            10,
            12,
            15
           ]
          ],
          [
           [
            1,
            5,
            8,
            9,
            14,
            16
           ]
          ],
          [
           [
            1,
            5,
            6,
            10,
            13,
            17
           ]
          ],
          [
           [
            2,
            4,
            6,
            9,
            12,
            17,
            1,
            5,
            8,
            11,
            13,
            17
           ]
          ],
          [
           [
            0,
            3,
            8,
            10,
            13,
            17,
            1,
            4,
            8,
            11,
            12,
            15
           ]
          ],
          [
           [
            1,
            5,
            6,
            9,
            13,
            16,
            0,
            4,
            8,
            11,
            12,
            16
           ]
          ],
          [
           [
            1,
            3,
            7,
            9,
            14,
            15,
            1,
            5,
            8,
            9,
            13,
            16
           ]
          ],
          [
           [
            1,
            5,
            7,
            11,
            13,
            17,
            0,
            5,
            6,
            9,
            12,
            15
           ]
          ],
          [
           [
            1,
            3,
            8,
            10,
            14,
            17
           ]
          ],
          [
           [
            1,
            5,
            6,
            11,
            13,
            15,
            0,
            5,
            6,
            9,
            14,
            17
           ]
          ],
          [
           [
            2,
            4,
            6,
            9,
            14,
            16
           ]
          ],
          [
           [
            0,
            5,
            7,
            9,
            13,
            16
           ]
          ],
          [
           [
            1,
            3,
            8,
            10,
            13,
            15,
            1,
            3,
            7,
            11,
            14,
            16
           ]
          ],
          [
           [
            1,
            3,
            6,
            11,
            14,
            15,
            0,
            4,
            7,
            9,
            13,
            15
           ]
          ],
          [
           [
            2,
            4,
            6,
            11,
            14,
            17,
            1,
            3,
            8,
            9,
            12,
            16
           ]
          ],
          [
           [
            2,
            5,
            8,
            10,
            14,
            15,
            1,
            4,
            7,
            11,
            12,
            16
           ]
          ],
          [
           [
            0,
            3,
            7,
            9,
            12,
            16,
            1,
            3,
            6,
            9,
            13,
            15
           ]
          ],
          [
           [
            0,
            4,
            6,
            11,
            13,
            15
           ]
          ],
          [
           [
            1,
            4,
            7,
            11,
            14,
            15
           ]
          ],
          [
           [
            0,
            4,
            8,
            11,
            12,
            15,
            1,
            4,
            6,
            10,
            13,
            16
           ]
          ],
          [
           [
            2,
            4,
            6,
            9,
            13,
            15,
            0,
            5,
            7,
            9,
            12,
            16
           ]
          ],
          [
           [
            0,
            4,
            6,
            10,
            14,
            17
           ]
          ],
          [
           [
            1,
            3,
            8,
            11,
            14,
            16,
            2,
            5,
            7,
            11,
            12,
            17
           ]
          ],
          [
           [
            2,
            5,
            6,
            11,
            14,
            15,
            1,
            3,
            7,
            9,
            12,
            16
           ]
          ],
          [
           [
            2,
            3,
            7,
            11,
            13,
            17,
            1,
            5,
            7,
            9,
            13,
            17
           ]
          ],
          [
           [
            0,
            4,
            6,
            11,
            13,
            15,
            2,
            3,
            7,
            11,
            12,
            17
           ]
          ],
          [
           [
            0,
            5,
            8,
            9,
            14,
            17
           ]
          ],
          [
           [
            0,
            5,
            7,
            9,
            12,
            17,
            1,
            4,
            6,
            10,
            13,
            17
           ]
          ],
          [
           [
            0,
            3,
            8,
            11,
            12,
            17
           ]
          ],
          [
           [
            1,
            4,
            8,
            9,
            14,
            16,
            2,
            5,
            6,
            10,
            13,
            17
           ]
          ],
          [
           [
            1,
            3,
            8,
            10,
            13,
            15,
            1,
            3,
            8,
            9,
            12,
            16
           ]
          ],
          [
           [
            1,
            5,
            7,
            11,
            12,
            16,
            2,
            5,
            6,
            11,
            13,
            15
           ]
          ],
          [
           [
            2,
            3,
            8,
            10,
            12,
            15
           ]
          ],
          [
           [
            0,
            4,
            7,
            11,
            13,
            17,
            0,
            5,
            7,
            10,
            13,
            16
           ]
          ],
          [
           [
            0,
            4,
            8,
            10,
            13,
            17
           ]
          ],
          [
           [
            1,
            3,
            8,
            10,
            14,
            17,
            1,
            4,
            6,
            10,
            12,
            16
           ]
          ],
          [
           [
            0,
            5,
            6,
            9,
            12,
            17
           ]
          ],
          [
           [
            2,
            3,
            8,
            11,
            13,
            16
           ]
          ],
          [
           [
            2,
            5,
            8,
            9,
            13,
            15,
            1,
            4,
            8,
            11,
            14,
            17
           ]
          ],
          [
           [
            1,
            5,
            6,
            10,
            13,
            17,
            1,
            4,
            7,
            10,
            14,
            16
           ]
          ],
          [
           [
            0,
            5,
            6,
            10,
            12,
            17,
            1,
            3,
            7,
            11,
            12,
            17
           ]
          ],
          [
           [
            1,
            4,
            7,
            10,
            14,
            17,
            2,
            3,
            6,
            11,
            12,
            17
           ]
          ],
          [
           [
            1,
            4,
            6,
            11,
            13,
            16,
            1,
            5,
            7,
            10,
            13,
            15
           ]
          ],
          [
           [
            0,
            4,
            6,
            9,
            14,
            15,
            2,
            4,
            8,
            10,
            12,
            15
           ]
          ],
          [
           [
            0,
            4,
            8,
            10,
            14,
            15
           ]
          ],
          [
           [
            0,
            5,
            7,
            11,
            12,
            15
           ]
          ],
          [
           [
            1,
            5,
            7,
            11,
            12,
            16,
            0,
            5,
            6,
            11,
            12,
            17
           ]
          ],
          [
           [
            1,
            4,
            6,
            9,
            13,
            17
           ]
          ],
          [
           [
            1,
            3,
            8,
            10,
            12,
            17,
            0,
            3,
            6,
            9,
            14,
            16
           ]
          ],
          [
           [
            1,
            3,
            8,
            11,
            14,
            17,
            2,
            3,
            7,
            10,
            12,
            15
           ]
          ],
          [
           [
            1,
            5,
            8,
            10,
            13,
            17,
            1,
            4,
            6,
            9,
            12,
            15
           ]
          ],
          [
           [
            0,
            4,
            6,
            11,
            13,
            16,
            0,
            4,
            8,
            10,
            14,
            15
           ]
          ],
          [
           [
            0,
            5,
            8,
            9,
            13,
            15
           ]
          ],
          [
           [
            0,
            4,
            6,
            9,
            14,
            17,
            1,
            4,
            7,
            10,
            13,
            17
           ]
          ],
          [
           [
            1,
            4,
            8,
            11,
            14,
            17
           ]
          ],
          [
           [
            2,
            4,
            8,
            10,
            14,
            16,
            2,
            3,
            7,
            9,
            12,
            17
           ]
          ],
          [
           [
            2,
            5,
            7,
            9,
            12,
            16
           ]
          ],
          [
           [
            2,
            5,
            8,
            9,
            12,
            17,
            2,
            5,
            7,
            9,
            12,
            15
           ]
          ],
          [
           [
            2,
            3,
            8,
            9,
            14,
            17,
            2,
            4,
            7,
            10,
            13,
            15
           ]
          ],
          [
           [
            1,
            4,
            6,
            11,
            13,
            17,
            1,
            5,
            8,
            10,
            13,
            16
           ]
          ],
          [
           [
            0,
            3,
            8,
            10,
            13,
            17,
            2,
            4,
            6,
            9,
            12,
            16
           ]
          ],
          [
           [
            0,
            4,
            8,
            9,
            12,
            16,
            2,
            5,
            6,
            10,
            12,
            15
           ]
          ],
          [
           [
            2,
            5,
            7,
            11,
            14,
            17,
            0,
            3,
            8,
            11,
            13,
            17
           ]
          ],
          [
           [
            1,
            4,
            6,
            9,
            12,
            15,
            0,
            5,
            6,
            11,
            13,
            16
           ]
          ],
          [
           [
            2,
            4,
            7,
            11,
            14,
            17,
            0,
            5,
            8,
            9,
            14,
            17
           ]
          ],
          [
           [
            1,
            4,
            7,
            11,
            13,
            15,
            0,
            5,
            7,
            10,
            14,
            15
           ]
          ],
          [
           [
            1,
            5,
            6,
            10,
            13,
            15,
            1,
            4,
            8,
            11,
            12,
            15
           ]
          ],
          [
           [
            1,
            4,
            7,
            9,
            12,
            16
           ]
          ],
          [
           [
            1,
            5,
            6,
            10,
            12,
            16,
            2,
            3,
            7,
            9,
            12,
            16
           ]
          ],
          [
           [
            2,
            4,
            8,
            11,
            14,
            16
           ]
          ],
          [
           [
            0,
            5,
            7,
            9,
            13,
            16,
            0,
            4,
            8,
            9,
            13,
            15
           ]
          ],
          [
           [
            0,
            4,
            8,
            9,
            14,
            17,
            2,
            5,
            8,
            9,
            13,
            15
           ]
          ],
          [
           [
            1,
            3,
            8,
            10,
            12,
            16,
            0,
            3,
            6,
            11,
            13,
            15
           ]
          ],
          [
           [
            1,
            4,
            8,
            9,
            13,
            17
           ]
          ],
          [
           [
            2,
            3,
            8,
            10,
            13,
            15
           ]
          ],
          [
           [
            0,
            3,
            8,
            11,
            14,
            17
           ]
          ],
          [
           [
            1,
            5,
            8,
            9,
            12,
            16,
            1,
            3,
            8,
            10,
            13,
            15
           ]
          ],
          [
           [
            1,
            4,
            8,
            10,
            14,
            15,
            2,
            3,
            8,
            9,
            13,
            16
           ]
          ],
          [
           [
            0,
            5,
            6,
            10,
            12,
            17,
            1,
            4,
            7,
            11,
            14,
            15
           ]
          ],
          [
           [
            1,
            3,
            7,
            11,
            14,
            17,
            2,
            3,
            7,
            10,
            13,
            16
           ]
          ],
          [
           [
            0,
            5,
            8,
            10,
            14,
            16,
            2,
            3,
            7,
            10,
            13,
            17
           ]
          ],
          [
           [
            0,
            5,
            8,
            11,
            14,
            15
           ]
          ],
          [
           [
            1,
            5,
            7,
            11,
            13,
            15,
            1,
            5,
            6,
            11,
            14,
            15
           ]
          ],
          [
           [
            1,
            5,
            7,
            11,
            14,
            15
           ]
          ],
          [
           [
            2,
            3,
            7,
            9,
            13,
            17
           ]
          ],
          [
           [
            1,
            3,
            8,
            9,
            12,
            16
           ]
          ],
          [
           [
            2,
            5,
            6,
            9,
            12,
            16,
            0,
            3,
            8,
            9,
            14,
            17
           ]
          ],
          [
           [
            1,
            3,
            6,
            9,
            12,
            17,
            2,
            5,
            7,
            11,
            13,
            17
           ]
          ],
          [
           [
            2,
            3,
            8,
            11,
            13,
            16,
            1,
            3,
            7,
            10,
            13,
            15
           ]
          ],
          [
           [
            2,
            3,
            8,
            10,
            12,
            15,
            0,
            3,
            7,
            11,
            14,
            17
           ]
          ],
          [
           [
            2,
            5,
            7,
            10,
            13,
            16,
            0,
            3,
            6,
            10,
            14,
            15
           ]
          ],
          [
           [
            1,
            5,
            6,
            9,
            13,
            16,
            1,
            5,
            6,
            10,
            14,
            17
           ]
          ],
          [
           [
            0,
            4,
            6,
            11,
            12,
            16
           ]
          ],
          [
           [
            2,
            3,
            8,
            9,
            12,
            15
           ]
          ],
          [
           [
            1,
            5,
            6,
            11,
            13,
            17,
            0,
            4,
            8,
            9,
            13,
            17
           ]
          ],
          [
           [
            0,
            3,
            6,
            9,
            13,
            16,
            2,
            4,
            8,
            9,
            12,
            17
           ]
          ],
          [
           [
            0,
            4,
            8,
            9,
            13,
            17,
            1,
            4,
            8,
            11,
            13,
            16
           ]
          ],
          [
           [
            0,
            4,
            7,
            11,
            13,
            17,
            0,
            5,
            7,
            9,
            12,
            17
           ]
          ],
          [
           [
            2,
            5,
            7,
            11,
            12,
            15,
            1,
            3,
            8,
            9,
            12,
            16
           ]
          ],
          [
           [
            2,
            5,
            6,
            11,
            12,
            15,
            0,
            4,
            6,
            10,
            14,
            16
           ]
          ],
          [
           [
            1,
            3,
            8,
            10,
            14,
            15,
            2,
            4,
            7,
            10,
            13,
            15
           ]
          ],
          [
           [
            2,
            5,
            6,
            11,
            13,
            16,
            1,
            4,
            7,
            9,
            13,
            16
           ]
          ],
          [
           [
            1,
            3,
            6,
            9,
            13,
            16
           ]
          ],
          [
           [
            1,
            3,
            8,
            11,
            14,
            17,
            1,
            3,
            7,
            9,
            12,
            15
           ]
          ],
          [
           [
            0,
            4,
            7,
            9,
            14,
            16,
            2,
            4,
            6,
            9,
            14,
            17
           ]
          ],
          [
           [
            0,
            3,
            8,
            9,
            13,
            17,
            0,
            3,
            7,
            9,
            12,
            16
           ]
          ],
          [
           [
            1,
            5,
            6,
            10,
            14,
            15,
            1,
            5,
            8,
            11,
            12,
            17
           ]
          ],
          [
           [
            0,
            3,
            8,
            10,
            13,
            15
           ]
          ],
          [
           [
            2,
            3,
            7,
            10,
            12,
            17,
            0,
            4,
            6,
            9,
            13,
            15
           ]
          ],
          [
           [
            1,
            3,
            6,
            11,
            13,
            15,
            2,
            3,
            6,
            11,
            14,
            15
           ]
          ],
          [
           [
            2,
            4,
            8,
            10,
            14,
            17
           ]
          ],
          [
           [
            1,
            3,
            7,
            11,
            12,
            16,
            2,
            4,
            6,
            10,
            14,
            17
           ]
          ],
          [
           [
            2,
            4,
            6,
            9,
            14,
            17,
            2,
            5,
            7,
            11,
            14,
            15
           ]
          ],
          [
           [
            1,
            4,
            8,
            9,
            14,
            15
           ]
          ],
          [
           [
            1,
            4,
            8,
            9,
            13,
            16,
            0,
            5,
            7,
            11,
            13,
            16
           ]
          ],
          [
           [
            0,
            5,
            6,
            10,
            13,
            16,
            2,
            5,
            8,
            11,
            12,
            15
           ]
          ],
          [
           [
            1,
            4,
            6,
            10,
            13,
            15,
            0,
            5,
            6,
            10,
            13,
            15
           ]
          ],
          [
           [
            2,
            5,
            8,
            9,
            13,
            17,
            2,
            5,
            7,
            10,
            12,
            15
           ]
          ],
          [
           [
            1,
            3,
            8,
            11,
            12,
            15,
            2,
            3,
            6,
            11,
            14,
            15
           ]
          ],
          [
           [
            2,
            5,
            6,
            11,
            13,
            17,
            2,
            4,
            7,
            9,
            12,
            15
           ]
          ],
          [
           [
            1,
            3,
            8,
            10,
            14,
            16,
            2,
            5,
            6,
            10,
            14,
            16
           ]
          ],
          [
           [
            2,
            5,
            8,
            10,
            13,
            15
           ]
          ],
          [
           [
            2,
            4,
            8,
            10,
            13,
            17
           ]
          ],
          [
           [
            0,
            3,
            7,
            10,
            14,
            16
           ]
          ],
          [
           [
            0,
            5,
            6,
            11,
            13,
            15
           ]
          ],
          [
           [
            2,
            4,
            6,
            10,
            14,
            15,
            0,
            4,
            8,
            11,
            12,
            17
           ]
          ],
          [
           [
            0,
            4,
            7,
            11,
            12,
            16,
            2,
            4,
            6,
            9,
            14,
            15
           ]
          ],
          [
           [
            2,
            3,
            6,
            11,
            14,
            15,
            2,
            4,
            6,
            9,
            12,
            16
           ]
          ],
          [
           [
            2,
            3,
            8,
            11,
            14,
            17,
            2,
            3,
            6,
            10,
            14,
            17
           ]
          ],
          [
           [
            0,
            5,
            8,
            10,
            14,
            15
           ]
          ],
          [
           [
            1,
            5,
            6,
            10,
            13,
            16,
            2,
            4,
            7,
            10,
            12,
            15
           ]
          ],
          [
           [
            0,
            5,
            6,
            10,
            12,
            17,
            2,
            3,
            7,
            10,
            14,
            17
           ]
          ],
          [
           [
            1,
            3,
            7,
            10,
            13,
            16,
            0,
            4,
            8,
            9,
            13,
            17
           ]
          ],
          [
           [
            2,
            3,
            6,
            10,
            13,
            15,
            2,
            5,
            6,
            11,
            12,
            17
           ]
          ],
          [
           [
            2,
            3,
            6,
            9,
            14,
            15
           ]
          ],
          [
           [
            1,
            4,
            8,
            9,
            14,
            16,
            2,
            5,
            8,
            11,
            12,
            17
           ]
          ],
          [
           [
            1,
            3,
            7,
            11,
            12,
            17,
            1,
            4,
            7,
            11,
            14,
            16
           ]
          ],
          [
           [
            2,
            3,
            7,
            10,
            13,
            15,
            1,
            4,
            7,
            9,
            14,
            17
           ]
          ],
          [
           [
            1,
            3,
            8,
            10,
            13,
            16,
            2,
            5,
            8,
            9,
            12,
            17
           ]
          ],
          [
           [
            2,
            5,
            7,
            11,
            12,
            17,
            2,
            5,
            6,
            11,
            13,
            15
           ]
          ],
          [
           [
            1,
            3,
            8,
            10,
            12,
            17,
            0,
            4,
            7,
            10,
            12,
            15
           ]
          ],
          [
           [
            1,
            4,
            7,
            11,
            14,
            15,
            2,
            4,
            8,
            11,
            12,
            17
           ]
          ],
          [
           [
            0,
            5,
            7,
            9,
            14,
            17
           ]
          ],
          [
           [
            1,
            4,
            7,
            11,
            14,
            16,
            1,
            5,
            6,
            9,
            13,
            16
           ]
          ],
          [
           [
            2,
            5,
            7,
            9,
            13,
            15,
            1,
            3,
            7,
            9,
            13,
            16
           ]
          ],
          [
           [
            2,
            3,
            7,
            9,
            14,
            17,
            0,
            3,
            7,
            10,
            13,
            17
           ]
          ],
          [
           [
            1,
            4,
            7,
            10,
            13,
            16,
            1,
            4,
            6,
            9,
            14,
            16
           ]
          ],
          [
           [
            1,
            5,
            6,
            9,
            12,
            17,
            1,
            3,
            7,
            9,
            13,
            17
           ]
          ],
          [
           [
            1,
            5,
            6,
            11,
            14,
            15,
            0,
            4,
            6,
            11,
            14,
            17
           ]
          ],
          [
           [
            0,
            3,
            8,
            9,
            12,
            17,
            2,
            4,
            8,
            10,
            14,
            15
           ]
          ],
          [
           [
            1,
            4,
            7,
            9,
            13,
            16,
            1,
            4,
            7,
            11,
            12,
            15
           ]
          ],
          [
           [
            0,
            5,
            6,
            11,
            12,
            17
           ]
          ],
          [
           [
            2,
            3,
            6,
            11,
            13,
            15,
            1,
            4,
            6,
            10,
            12,
            16
           ]
          ],
          [
           [
            0,
            3,
            7,
            10,
            14,
            16,
            2,
            5,
            6,
            9,
            14,
            16
           ]
          ],
          [
           [
            1,
            4,
            7,
            9,
            14,
            17
           ]
          ],
          [
           [
            2,
            3,
            7,
            9,
            13,
            16,
            2,
            4,
            7,
            10,
            13,
            16
           ]
          ],
          [
           [
            0,
            3,
            8,
            10,
            14,
            16,
            0,
            4,
            7,
            11,
            12,
            16
           ]
          ],
          [
           [
            2,
            5,
            6,
            11,
            14,
            16,
            0,
            3,
            6,
            11,
            12,
            15
           ]
          ],
          [
           [
            1,
            4,
            6,
            10,
            12,
            17,
            1,
            3,
            7,
            9,
            12,
            16
           ]
          ],
          [
           [
            0,
            3,
            8,
            11,
            14,
            17,
            1,
            3,
            6,
            9,
            14,
            15
           ]
          ],
          [
           [
            1,
            4,
            8,
            11,
            13,
            15,
            1,
            4,
            7,
            11,
            13,
            17
           ]
          ],
          [
           [
            0,
            4,
            7,
            10,
            12,
            15,
            1,
            3,
            6,
            9,
            14,
            16
           ]
          ],
          [
           [
            2,
            4,
            7,
            10,
            12,
            16
           ]
          ]
         ],
         "hovertemplate": "type=Random<br>Color Score=%{x}<br>Component Score=%{y}<br>Overall Score=%{marker.size}<br>name=%{customdata[0]}<extra></extra>",
         "legendgroup": "Random",
         "marker": {
          "color": "#636efa",
          "size": [
           37,
           29,
           27,
           29,
           23,
           35,
           31,
           20,
           31,
           18,
           33,
           21,
           30,
           38,
           13,
           21,
           39,
           23,
           24,
           33,
           27,
           23,
           30,
           31,
           35,
           20,
           39,
           43,
           36,
           29,
           29,
           31,
           30,
           26,
           45,
           40,
           28,
           15,
           24,
           40,
           37,
           70,
           33,
           44,
           33,
           74,
           24,
           44,
           21,
           26,
           18,
           30,
           27,
           25,
           45,
           28,
           74,
           18,
           26,
           21,
           22,
           34,
           21,
           37,
           68,
           28,
           34,
           71,
           40,
           33,
           26,
           55,
           32,
           85,
           34,
           85,
           39,
           17,
           23,
           65,
           44,
           20,
           18,
           39,
           74,
           21,
           21,
           29,
           29,
           30,
           63,
           37,
           25,
           29,
           34,
           19,
           27,
           27,
           27,
           19,
           22,
           37,
           23,
           27,
           64,
           28,
           27,
           33,
           35,
           38,
           62,
           23,
           30,
           28,
           31,
           32,
           25,
           66,
           64,
           18,
           67,
           84,
           33,
           61,
           73,
           46,
           83,
           42,
           39,
           33,
           71,
           82,
           26,
           26,
           26,
           26,
           24,
           27,
           38,
           64,
           65,
           35,
           80,
           32,
           27,
           36,
           28,
           23,
           27,
           31,
           42,
           27,
           22,
           22,
           22,
           28,
           39,
           38,
           34,
           32,
           33,
           62,
           32,
           24,
           66,
           70,
           14,
           23,
           82,
           34,
           22,
           63,
           20,
           60,
           56,
           30,
           37,
           63,
           15,
           26,
           35,
           25,
           34,
           30,
           53,
           24,
           23,
           34,
           29,
           73,
           70,
           26,
           38,
           24,
           39,
           27,
           59,
           58,
           27,
           27,
           36,
           24,
           26,
           31,
           25,
           39,
           30,
           22,
           33,
           32,
           27,
           24,
           65,
           36,
           36,
           20,
           32,
           26,
           32,
           39,
           30,
           67,
           17,
           27,
           31,
           27,
           62,
           20,
           34,
           43,
           24,
           30,
           38,
           35,
           41,
           29,
           63,
           66,
           18,
           29,
           26,
           34,
           22,
           37,
           29,
           69,
           32,
           23,
           28,
           79,
           74,
           38,
           68,
           29,
           30,
           20,
           22,
           76,
           47,
           70,
           34,
           36,
           46,
           61,
           26,
           22,
           28,
           34,
           66,
           29,
           32,
           78,
           32,
           24,
           80,
           24,
           30,
           29,
           34,
           33,
           36,
           39,
           87,
           31,
           32,
           78,
           74,
           27,
           68,
           32,
           63,
           37,
           47,
           20,
           58,
           35,
           22,
           92,
           33,
           36,
           85,
           36,
           24,
           74,
           74,
           28,
           78,
           67,
           32,
           67,
           36,
           28,
           30,
           31,
           70,
           23,
           42,
           39,
           75,
           25,
           68,
           25,
           14,
           34,
           20,
           33,
           23,
           85,
           84,
           26,
           27,
           44,
           22,
           71,
           60,
           35,
           61,
           32,
           28,
           36,
           41,
           32,
           29,
           72,
           35,
           34,
           33,
           69,
           25,
           82,
           53,
           30,
           33,
           86,
           68,
           59,
           67,
           16,
           36,
           76,
           29,
           77,
           82,
           17,
           59,
           56,
           29,
           69,
           21,
           28,
           27,
           24,
           29,
           40,
           40,
           30,
           43,
           33,
           77,
           31,
           56,
           28,
           32,
           40,
           40,
           86,
           24,
           30,
           38,
           65,
           37,
           63,
           35,
           50,
           85,
           61,
           78,
           71,
           56,
           31,
           32,
           35,
           23,
           24,
           85,
           71,
           35,
           30,
           59,
           32,
           28,
           34,
           32,
           21,
           73,
           34,
           62,
           89,
           68,
           24,
           33,
           25,
           31,
           22,
           74,
           28,
           22,
           48,
           30,
           24,
           37,
           28,
           82,
           65,
           21,
           91,
           27,
           70,
           16,
           23,
           76,
           33,
           38,
           71,
           87,
           81,
           72,
           29,
           35,
           35,
           72,
           97,
           73,
           23,
           83,
           32,
           30,
           42,
           26,
           27,
           58,
           31,
           59,
           73,
           52,
           77,
           25,
           36,
           42,
           31,
           32,
           56,
           28,
           23,
           77,
           35,
           66,
           33,
           69,
           67,
           36,
           22,
           29,
           25,
           19,
           36,
           14,
           26,
           24,
           32,
           57,
           41,
           89,
           70,
           37,
           60,
           29,
           18,
           34,
           73,
           16,
           60,
           29,
           58,
           69,
           60,
           69,
           34,
           26,
           39,
           22,
           72,
           73,
           78,
           64,
           32,
           25,
           37,
           53,
           62,
           22,
           63,
           76,
           51,
           54,
           75,
           81,
           32,
           72,
           22,
           55,
           24,
           86,
           66,
           41,
           28,
           29,
           31,
           76,
           29,
           68,
           75,
           32,
           34,
           27,
           17,
           33,
           67,
           59,
           19,
           37,
           67,
           38,
           21,
           34,
           39,
           37,
           25,
           31,
           23,
           87,
           15,
           71,
           21,
           67,
           27,
           33,
           54,
           71,
           26,
           78,
           34,
           20,
           83,
           85,
           35,
           75,
           33,
           26,
           85,
           55,
           83,
           21,
           75,
           28,
           76,
           86,
           36,
           103,
           22,
           39,
           20,
           40,
           21,
           36,
           31,
           32,
           33,
           55,
           76,
           27,
           65,
           71,
           81,
           68,
           38,
           62,
           70,
           43,
           63,
           37,
           70,
           68,
           67,
           76,
           72,
           77,
           35,
           72,
           83,
           57,
           67,
           27,
           53,
           28,
           83,
           56,
           22,
           53,
           23,
           80,
           71,
           33,
           35,
           58,
           22,
           27,
           67,
           78,
           56,
           22,
           65,
           31,
           17,
           70,
           70,
           65,
           32,
           56,
           28,
           67,
           75,
           68,
           29,
           30,
           74,
           94,
           69,
           23,
           79,
           36,
           86,
           38,
           71,
           28,
           28,
           65,
           74,
           36,
           26,
           34,
           67,
           81,
           63,
           26,
           81,
           72,
           64,
           79,
           90,
           26,
           64,
           68,
           57,
           40,
           27,
           58,
           25,
           72,
           35,
           77,
           67,
           59,
           22,
           24,
           16,
           30,
           23,
           33,
           83,
           21,
           67,
           77,
           32,
           29,
           71,
           60,
           66,
           74,
           26,
           66,
           30,
           72,
           88,
           79,
           24,
           38,
           87,
           77,
           22,
           66,
           31,
           77,
           61,
           35,
           67,
           78,
           75,
           81,
           73,
           63,
           20,
           59,
           74,
           60,
           34,
           82,
           34,
           77,
           70,
           63,
           73,
           66,
           79,
           37,
           76,
           71,
           75,
           66,
           63,
           34,
           67,
           49,
           79,
           40,
           37,
           71,
           27,
           35,
           73,
           57,
           54,
           66,
           61,
           70,
           63,
           85,
           37,
           29,
           61,
           86,
           65,
           78,
           39,
           27,
           23,
           65,
           19,
           86,
           78,
           36,
           70,
           77,
           19,
           32,
           76,
           25,
           67,
           79,
           32,
           21,
           75,
           22,
           81,
           75,
           22,
           75,
           23,
           72,
           83,
           60,
           30,
           75,
           64,
           79,
           63,
           58,
           63,
           70,
           64,
           69,
           74,
           21,
           38,
           24,
           73,
           31,
           75,
           29,
           78,
           20,
           30,
           85,
           32,
           55,
           26,
           73,
           28,
           30,
           23,
           33,
           81,
           65,
           63,
           83,
           30,
           32,
           83,
           27,
           30,
           66,
           57,
           75,
           80,
           78,
           16,
           83,
           37,
           39,
           69,
           86,
           66,
           61,
           90,
           39,
           28,
           69,
           89,
           24,
           58,
           79,
           76,
           75,
           23,
           68,
           18,
           70,
           68,
           79,
           24,
           72,
           21,
           55,
           31,
           31,
           65,
           66,
           58,
           59,
           81,
           72,
           22,
           29,
           64,
           36,
           65,
           59,
           69,
           71,
           36,
           68,
           16,
           62,
           33,
           70,
           71,
           69,
           71,
           70,
           61,
           86,
           58,
           74,
           71,
           30,
           74,
           23,
           86,
           71,
           73,
           27,
           31,
           19,
           67,
           69,
           64,
           69,
           62,
           25,
           80,
           29,
           36,
           27,
           73,
           73,
           77,
           60,
           78,
           78,
           30,
           31,
           72,
           78,
           67,
           67,
           69,
           75,
           69,
           88,
           43,
           64,
           76,
           75,
           59,
           30,
           78,
           88,
           16,
           64,
           75,
           28,
           78,
           73,
           86,
           70,
           72,
           80,
           64,
           30,
           22,
           27,
           40,
           60,
           77,
           84,
           59,
           23,
           74,
           59,
           72,
           79,
           41,
           56,
           60,
           74,
           62,
           76,
           53,
           57,
           28,
           80,
           93,
           70,
           77,
           76,
           71,
           58,
           76,
           26,
           81,
           77,
           26,
           85,
           60,
           79,
           66,
           70,
           68,
           75,
           25
          ],
          "sizemode": "area",
          "sizeref": 0.2575,
          "symbol": "circle"
         },
         "mode": "markers",
         "name": "Random",
         "showlegend": true,
         "type": "scattergl",
         "x": [
          28,
          19,
          21,
          22,
          22,
          27,
          24,
          17,
          26,
          18,
          27,
          19,
          23,
          32,
          15,
          16,
          30,
          16,
          16,
          24,
          20,
          24,
          18,
          23,
          26,
          15,
          29,
          36,
          30,
          27,
          20,
          25,
          21,
          20,
          35,
          30,
          27,
          14,
          16,
          30,
          26,
          46,
          24,
          34,
          25,
          48,
          18,
          32,
          17,
          23,
          19,
          22,
          21,
          21,
          36,
          21,
          45,
          13,
          23,
          17,
          17,
          25,
          21,
          31,
          43,
          24,
          25,
          47,
          31,
          25,
          21,
          29,
          27,
          65,
          28,
          56,
          29,
          12,
          16,
          43,
          35,
          17,
          11,
          26,
          53,
          15,
          20,
          23,
          23,
          24,
          40,
          33,
          22,
          23,
          28,
          11,
          21,
          22,
          21,
          17,
          19,
          24,
          19,
          26,
          43,
          22,
          23,
          24,
          24,
          26,
          45,
          17,
          23,
          22,
          25,
          29,
          21,
          35,
          45,
          12,
          43,
          48,
          26,
          40,
          48,
          36,
          56,
          30,
          31,
          29,
          49,
          49,
          25,
          21,
          21,
          18,
          17,
          22,
          28,
          40,
          46,
          29,
          53,
          20,
          22,
          27,
          19,
          17,
          21,
          23,
          35,
          19,
          19,
          19,
          16,
          20,
          32,
          31,
          24,
          26,
          22,
          42,
          24,
          20,
          45,
          46,
          16,
          18,
          51,
          22,
          15,
          40,
          18,
          37,
          33,
          28,
          28,
          38,
          15,
          20,
          22,
          19,
          27,
          22,
          37,
          19,
          19,
          25,
          23,
          48,
          43,
          20,
          31,
          21,
          30,
          23,
          41,
          38,
          23,
          21,
          29,
          17,
          21,
          20,
          15,
          28,
          20,
          14,
          27,
          24,
          24,
          23,
          42,
          30,
          24,
          18,
          25,
          21,
          25,
          29,
          26,
          43,
          15,
          23,
          24,
          21,
          39,
          18,
          26,
          30,
          20,
          21,
          31,
          26,
          28,
          20,
          40,
          45,
          13,
          20,
          23,
          24,
          17,
          31,
          22,
          47,
          25,
          17,
          24,
          51,
          48,
          31,
          49,
          23,
          20,
          18,
          18,
          47,
          32,
          46,
          27,
          32,
          27,
          43,
          19,
          18,
          23,
          27,
          43,
          25,
          27,
          49,
          26,
          23,
          52,
          22,
          23,
          21,
          25,
          25,
          27,
          30,
          54,
          27,
          23,
          51,
          49,
          23,
          47,
          24,
          41,
          31,
          34,
          20,
          31,
          26,
          17,
          57,
          27,
          30,
          55,
          26,
          17,
          44,
          46,
          20,
          51,
          43,
          27,
          44,
          29,
          20,
          25,
          26,
          47,
          17,
          33,
          31,
          51,
          14,
          49,
          18,
          13,
          24,
          19,
          25,
          21,
          57,
          49,
          18,
          22,
          37,
          20,
          44,
          40,
          25,
          35,
          26,
          24,
          26,
          30,
          26,
          21,
          48,
          25,
          27,
          28,
          46,
          24,
          58,
          34,
          27,
          27,
          56,
          46,
          37,
          41,
          16,
          24,
          53,
          26,
          48,
          49,
          14,
          41,
          38,
          26,
          44,
          17,
          19,
          19,
          15,
          19,
          31,
          28,
          25,
          34,
          24,
          56,
          20,
          44,
          23,
          26,
          29,
          28,
          62,
          19,
          26,
          31,
          42,
          30,
          40,
          28,
          33,
          59,
          38,
          52,
          46,
          38,
          24,
          25,
          29,
          15,
          22,
          58,
          47,
          29,
          26,
          39,
          28,
          23,
          25,
          25,
          18,
          47,
          26,
          35,
          54,
          43,
          17,
          24,
          22,
          26,
          17,
          51,
          22,
          18,
          39,
          25,
          18,
          33,
          22,
          57,
          44,
          19,
          62,
          22,
          40,
          15,
          20,
          55,
          27,
          28,
          44,
          59,
          50,
          45,
          21,
          31,
          31,
          50,
          69,
          46,
          17,
          55,
          22,
          18,
          32,
          23,
          22,
          39,
          21,
          36,
          52,
          30,
          53,
          17,
          27,
          30,
          27,
          26,
          42,
          22,
          19,
          51,
          28,
          40,
          28,
          46,
          44,
          32,
          18,
          23,
          21,
          18,
          29,
          14,
          24,
          17,
          26,
          34,
          31,
          56,
          42,
          28,
          35,
          24,
          12,
          26,
          47,
          14,
          38,
          24,
          42,
          46,
          34,
          39,
          26,
          20,
          29,
          16,
          42,
          47,
          47,
          42,
          26,
          23,
          30,
          33,
          40,
          17,
          43,
          50,
          35,
          42,
          46,
          49,
          24,
          49,
          19,
          34,
          23,
          64,
          45,
          34,
          20,
          21,
          25,
          44,
          23,
          46,
          46,
          27,
          23,
          24,
          13,
          26,
          42,
          33,
          20,
          32,
          40,
          30,
          16,
          25,
          32,
          29,
          24,
          25,
          16,
          56,
          15,
          46,
          20,
          46,
          23,
          26,
          35,
          49,
          17,
          48,
          25,
          17,
          55,
          56,
          29,
          49,
          26,
          20,
          57,
          34,
          57,
          18,
          43,
          22,
          46,
          60,
          27,
          64,
          18,
          30,
          11,
          31,
          15,
          24,
          27,
          23,
          27,
          39,
          51,
          20,
          43,
          41,
          55,
          45,
          29,
          36,
          42,
          33,
          36,
          27,
          46,
          46,
          46,
          52,
          51,
          50,
          27,
          44,
          49,
          38,
          42,
          22,
          32,
          25,
          60,
          36,
          23,
          38,
          18,
          53,
          47,
          26,
          28,
          35,
          18,
          23,
          40,
          49,
          35,
          19,
          46,
          28,
          14,
          47,
          41,
          42,
          24,
          34,
          21,
          41,
          50,
          44,
          25,
          26,
          53,
          64,
          44,
          15,
          52,
          24,
          55,
          28,
          49,
          19,
          18,
          39,
          45,
          29,
          22,
          27,
          34,
          57,
          39,
          22,
          54,
          40,
          42,
          49,
          64,
          22,
          36,
          43,
          36,
          33,
          20,
          37,
          20,
          48,
          26,
          51,
          42,
          33,
          19,
          14,
          13,
          21,
          17,
          26,
          55,
          19,
          48,
          51,
          25,
          18,
          47,
          42,
          43,
          46,
          22,
          42,
          21,
          47,
          58,
          51,
          18,
          29,
          56,
          49,
          20,
          43,
          25,
          56,
          33,
          24,
          47,
          50,
          48,
          56,
          47,
          42,
          19,
          34,
          49,
          39,
          26,
          56,
          27,
          46,
          47,
          42,
          53,
          37,
          54,
          30,
          51,
          47,
          49,
          44,
          44,
          28,
          44,
          32,
          51,
          30,
          30,
          48,
          21,
          24,
          47,
          34,
          27,
          45,
          33,
          41,
          38,
          58,
          26,
          22,
          32,
          56,
          44,
          57,
          29,
          16,
          16,
          39,
          17,
          62,
          51,
          26,
          47,
          53,
          13,
          22,
          54,
          15,
          47,
          55,
          25,
          18,
          48,
          16,
          56,
          53,
          18,
          53,
          16,
          48,
          57,
          42,
          23,
          50,
          42,
          51,
          43,
          42,
          39,
          45,
          42,
          45,
          44,
          18,
          30,
          17,
          53,
          27,
          53,
          22,
          47,
          19,
          24,
          54,
          28,
          33,
          19,
          46,
          20,
          24,
          18,
          23,
          54,
          44,
          49,
          56,
          19,
          23,
          57,
          19,
          26,
          44,
          39,
          52,
          50,
          54,
          12,
          56,
          27,
          30,
          42,
          58,
          41,
          38,
          61,
          33,
          22,
          51,
          61,
          22,
          32,
          49,
          47,
          50,
          17,
          50,
          15,
          45,
          44,
          51,
          18,
          50,
          20,
          38,
          27,
          20,
          39,
          46,
          41,
          38,
          57,
          50,
          19,
          24,
          44,
          31,
          42,
          34,
          50,
          50,
          28,
          49,
          13,
          36,
          24,
          43,
          42,
          48,
          48,
          49,
          34,
          62,
          33,
          50,
          51,
          26,
          49,
          15,
          59,
          44,
          49,
          23,
          22,
          13,
          44,
          42,
          45,
          40,
          37,
          18,
          52,
          21,
          25,
          21,
          45,
          47,
          47,
          35,
          50,
          53,
          27,
          22,
          50,
          52,
          46,
          47,
          43,
          51,
          44,
          58,
          33,
          39,
          49,
          49,
          39,
          24,
          54,
          55,
          12,
          41,
          44,
          22,
          52,
          48,
          64,
          43,
          43,
          52,
          37,
          22,
          18,
          20,
          32,
          41,
          52,
          53,
          30,
          18,
          52,
          38,
          49,
          51,
          28,
          33,
          38,
          47,
          38,
          47,
          39,
          36,
          21,
          53,
          59,
          42,
          54,
          52,
          47,
          36,
          54,
          23,
          56,
          46,
          21,
          53,
          39,
          50,
          48,
          42,
          47,
          52,
          21
         ],
         "xaxis": "x",
         "y": [
          21,
          22,
          18,
          19,
          13,
          20,
          19,
          15,
          17,
          12,
          18,
          14,
          19,
          18,
          10,
          17,
          21,
          19,
          20,
          21,
          19,
          11,
          24,
          20,
          21,
          17,
          22,
          19,
          18,
          14,
          21,
          18,
          21,
          18,
          22,
          22,
          13,
          13,
          20,
          22,
          23,
          36,
          21,
          22,
          20,
          38,
          18,
          24,
          16,
          15,
          11,
          20,
          18,
          16,
          21,
          19,
          41,
          17,
          15,
          16,
          17,
          21,
          12,
          18,
          37,
          16,
          21,
          36,
          21,
          20,
          17,
          38,
          17,
          32,
          18,
          41,
          22,
          17,
          19,
          34,
          21,
          15,
          19,
          25,
          33,
          18,
          13,
          18,
          18,
          18,
          35,
          16,
          15,
          18,
          18,
          20,
          18,
          17,
          18,
          14,
          15,
          25,
          16,
          13,
          33,
          18,
          16,
          21,
          23,
          24,
          29,
          18,
          19,
          18,
          18,
          15,
          16,
          43,
          31,
          18,
          36,
          48,
          19,
          33,
          37,
          22,
          39,
          24,
          20,
          16,
          34,
          45,
          13,
          17,
          17,
          20,
          19,
          17,
          22,
          36,
          31,
          18,
          39,
          24,
          17,
          21,
          21,
          18,
          18,
          20,
          19,
          20,
          15,
          15,
          18,
          20,
          19,
          19,
          22,
          18,
          23,
          32,
          20,
          16,
          33,
          36,
          10,
          17,
          43,
          24,
          19,
          35,
          14,
          35,
          35,
          14,
          21,
          37,
          12,
          18,
          25,
          18,
          19,
          20,
          28,
          17,
          16,
          21,
          18,
          37,
          39,
          18,
          19,
          15,
          21,
          16,
          30,
          32,
          16,
          18,
          19,
          19,
          17,
          23,
          22,
          23,
          22,
          20,
          18,
          20,
          15,
          13,
          35,
          18,
          24,
          14,
          19,
          17,
          19,
          22,
          16,
          36,
          14,
          16,
          19,
          18,
          35,
          14,
          20,
          25,
          16,
          21,
          19,
          21,
          25,
          21,
          35,
          33,
          17,
          21,
          15,
          22,
          17,
          18,
          19,
          34,
          19,
          18,
          16,
          40,
          38,
          19,
          31,
          18,
          22,
          14,
          16,
          41,
          27,
          36,
          19,
          16,
          31,
          30,
          19,
          16,
          17,
          19,
          35,
          16,
          17,
          41,
          18,
          13,
          40,
          14,
          19,
          20,
          21,
          20,
          21,
          21,
          45,
          16,
          21,
          39,
          37,
          16,
          33,
          20,
          34,
          18,
          25,
          12,
          39,
          21,
          17,
          47,
          18,
          18,
          42,
          22,
          19,
          42,
          40,
          20,
          39,
          36,
          17,
          35,
          19,
          20,
          17,
          17,
          35,
          18,
          21,
          20,
          36,
          23,
          31,
          19,
          13,
          22,
          13,
          20,
          14,
          40,
          47,
          20,
          17,
          19,
          14,
          39,
          32,
          22,
          38,
          18,
          16,
          22,
          23,
          18,
          20,
          36,
          22,
          19,
          17,
          35,
          13,
          36,
          31,
          15,
          18,
          42,
          34,
          34,
          38,
          12,
          24,
          35,
          15,
          41,
          45,
          15,
          30,
          30,
          15,
          37,
          16,
          21,
          20,
          21,
          22,
          21,
          24,
          17,
          21,
          21,
          33,
          23,
          24,
          17,
          18,
          23,
          24,
          36,
          17,
          16,
          19,
          35,
          19,
          35,
          19,
          29,
          38,
          35,
          38,
          37,
          30,
          19,
          19,
          18,
          20,
          14,
          39,
          36,
          18,
          16,
          32,
          16,
          17,
          21,
          19,
          15,
          38,
          20,
          39,
          47,
          37,
          19,
          21,
          15,
          17,
          17,
          35,
          18,
          16,
          21,
          17,
          18,
          16,
          18,
          37,
          33,
          14,
          41,
          17,
          42,
          13,
          15,
          33,
          18,
          22,
          39,
          40,
          43,
          39,
          20,
          16,
          16,
          34,
          40,
          39,
          18,
          40,
          22,
          24,
          22,
          15,
          17,
          31,
          22,
          35,
          33,
          34,
          36,
          20,
          21,
          24,
          16,
          18,
          26,
          18,
          16,
          38,
          19,
          38,
          17,
          35,
          35,
          16,
          16,
          18,
          16,
          13,
          19,
          12,
          14,
          19,
          18,
          35,
          22,
          45,
          40,
          21,
          37,
          17,
          18,
          20,
          38,
          14,
          34,
          17,
          28,
          35,
          38,
          42,
          20,
          18,
          22,
          18,
          42,
          38,
          43,
          34,
          18,
          14,
          19,
          32,
          34,
          17,
          32,
          38,
          28,
          24,
          41,
          44,
          20,
          35,
          15,
          33,
          13,
          34,
          33,
          19,
          20,
          20,
          18,
          44,
          18,
          34,
          41,
          17,
          23,
          15,
          16,
          19,
          37,
          38,
          11,
          17,
          39,
          20,
          17,
          21,
          19,
          20,
          13,
          18,
          19,
          43,
          12,
          37,
          13,
          33,
          16,
          19,
          31,
          34,
          21,
          42,
          21,
          15,
          40,
          41,
          18,
          38,
          19,
          18,
          40,
          33,
          38,
          15,
          44,
          18,
          42,
          38,
          21,
          51,
          16,
          21,
          21,
          21,
          18,
          24,
          16,
          21,
          18,
          28,
          37,
          19,
          34,
          42,
          38,
          35,
          21,
          38,
          40,
          22,
          39,
          22,
          36,
          34,
          33,
          36,
          33,
          39,
          20,
          40,
          46,
          31,
          37,
          17,
          33,
          15,
          35,
          32,
          11,
          27,
          17,
          39,
          36,
          19,
          19,
          35,
          16,
          16,
          39,
          41,
          33,
          15,
          31,
          15,
          15,
          35,
          41,
          35,
          20,
          34,
          19,
          38,
          37,
          36,
          16,
          16,
          33,
          42,
          37,
          20,
          39,
          24,
          43,
          22,
          34,
          21,
          22,
          38,
          41,
          19,
          16,
          19,
          45,
          36,
          36,
          16,
          39,
          44,
          34,
          42,
          38,
          16,
          40,
          37,
          33,
          19,
          19,
          33,
          17,
          36,
          21,
          38,
          37,
          38,
          15,
          22,
          15,
          21,
          18,
          19,
          40,
          14,
          31,
          38,
          19,
          23,
          36,
          30,
          35,
          40,
          16,
          36,
          21,
          37,
          42,
          40,
          18,
          21,
          43,
          40,
          14,
          35,
          18,
          33,
          40,
          23,
          32,
          40,
          39,
          37,
          38,
          33,
          13,
          37,
          37,
          33,
          20,
          38,
          19,
          43,
          35,
          33,
          32,
          41,
          37,
          19,
          37,
          36,
          38,
          34,
          31,
          18,
          35,
          29,
          40,
          22,
          19,
          35,
          18,
          23,
          38,
          35,
          39,
          33,
          40,
          41,
          37,
          39,
          23,
          19,
          41,
          42,
          33,
          33,
          22,
          23,
          19,
          38,
          14,
          36,
          39,
          22,
          35,
          36,
          18,
          22,
          34,
          22,
          32,
          36,
          19,
          15,
          39,
          18,
          37,
          34,
          16,
          34,
          19,
          36,
          38,
          30,
          19,
          37,
          34,
          40,
          32,
          28,
          36,
          37,
          34,
          36,
          42,
          15,
          20,
          19,
          32,
          16,
          34,
          19,
          43,
          13,
          18,
          43,
          16,
          34,
          19,
          39,
          20,
          18,
          17,
          22,
          39,
          33,
          26,
          39,
          23,
          21,
          38,
          20,
          16,
          34,
          30,
          35,
          42,
          36,
          16,
          39,
          22,
          21,
          39,
          40,
          37,
          35,
          41,
          18,
          18,
          30,
          40,
          14,
          38,
          42,
          41,
          37,
          18,
          30,
          15,
          37,
          36,
          40,
          18,
          34,
          13,
          29,
          16,
          23,
          38,
          32,
          29,
          33,
          36,
          34,
          15,
          17,
          32,
          17,
          35,
          37,
          31,
          33,
          20,
          31,
          15,
          38,
          21,
          39,
          41,
          33,
          35,
          33,
          39,
          36,
          37,
          36,
          32,
          16,
          37,
          20,
          39,
          39,
          36,
          16,
          21,
          18,
          35,
          39,
          31,
          41,
          37,
          19,
          40,
          20,
          23,
          18,
          40,
          38,
          42,
          37,
          40,
          37,
          15,
          21,
          34,
          38,
          33,
          32,
          38,
          36,
          37,
          42,
          22,
          37,
          39,
          38,
          32,
          18,
          36,
          45,
          16,
          35,
          43,
          18,
          38,
          37,
          34,
          39,
          41,
          40,
          39,
          20,
          16,
          19,
          20,
          31,
          37,
          43,
          41,
          17,
          34,
          33,
          35,
          40,
          25,
          35,
          34,
          39,
          36,
          41,
          26,
          33,
          19,
          39,
          46,
          40,
          35,
          36,
          36,
          34,
          34,
          15,
          37,
          43,
          17,
          44,
          33,
          41,
          30,
          40,
          33,
          35,
          16
         ],
         "yaxis": "y"
        },
        {
         "customdata": [
          [
           [
            1,
            4,
            7,
            9,
            13,
            16
           ]
          ],
          [
           [
            0,
            3,
            6,
            9,
            13,
            16
           ]
          ],
          [
           [
            1,
            3,
            6,
            9,
            13,
            16
           ]
          ],
          [
           [
            2,
            3,
            6,
            9,
            13,
            16
           ]
          ],
          [
           [
            0,
            3,
            6,
            10,
            13,
            16
           ]
          ],
          [
           [
            1,
            3,
            6,
            10,
            13,
            16
           ]
          ],
          [
           [
            2,
            3,
            6,
            10,
            13,
            16
           ]
          ],
          [
           [
            0,
            3,
            6,
            9,
            12,
            16
           ]
          ],
          [
           [
            1,
            3,
            6,
            9,
            12,
            16
           ]
          ],
          [
           [
            0,
            3,
            6,
            9,
            12,
            15
           ]
          ],
          [
           [
            1,
            3,
            6,
            9,
            12,
            15
           ]
          ],
          [
           [
            2,
            3,
            6,
            9,
            12,
            15
           ]
          ],
          [
           [
            0,
            3,
            6,
            10,
            13,
            15
           ]
          ],
          [
           [
            1,
            3,
            6,
            10,
            13,
            15
           ]
          ],
          [
           [
            2,
            3,
            6,
            10,
            13,
            15
           ]
          ],
          [
           [
            0,
            3,
            6,
            10,
            12,
            15
           ]
          ],
          [
           [
            1,
            3,
            6,
            10,
            12,
            15
           ]
          ],
          [
           [
            2,
            3,
            6,
            10,
            12,
            15
           ]
          ],
          [
           [
            0,
            3,
            7,
            10,
            12,
            16
           ]
          ],
          [
           [
            1,
            3,
            7,
            10,
            12,
            16
           ]
          ],
          [
           [
            2,
            3,
            7,
            10,
            12,
            16
           ]
          ],
          [
           [
            0,
            3,
            7,
            9,
            13,
            15
           ]
          ],
          [
           [
            1,
            3,
            7,
            9,
            13,
            15
           ]
          ],
          [
           [
            0,
            3,
            7,
            10,
            13,
            16
           ]
          ],
          [
           [
            0,
            3,
            7,
            9,
            12,
            15
           ]
          ],
          [
           [
            1,
            3,
            7,
            9,
            12,
            15
           ]
          ],
          [
           [
            2,
            3,
            7,
            9,
            12,
            15
           ]
          ],
          [
           [
            0,
            4,
            6,
            9,
            12,
            15
           ]
          ],
          [
           [
            0,
            5,
            6,
            9,
            12,
            15
           ]
          ],
          [
           [
            1,
            4,
            6,
            9,
            12,
            15
           ]
          ],
          [
           [
            1,
            5,
            6,
            9,
            12,
            15
           ]
          ],
          [
           [
            2,
            4,
            6,
            9,
            12,
            15
           ]
          ],
          [
           [
            2,
            5,
            6,
            9,
            12,
            15
           ]
          ],
          [
           [
            0,
            4,
            6,
            9,
            12,
            16
           ]
          ],
          [
           [
            1,
            4,
            6,
            9,
            12,
            16
           ]
          ],
          [
           [
            0,
            4,
            7,
            9,
            12,
            16
           ]
          ],
          [
           [
            1,
            4,
            7,
            9,
            12,
            16
           ]
          ],
          [
           [
            0,
            4,
            7,
            10,
            13,
            16
           ]
          ],
          [
           [
            0,
            4,
            6,
            10,
            12,
            16
           ]
          ],
          [
           [
            1,
            4,
            6,
            10,
            12,
            16
           ]
          ],
          [
           [
            0,
            5,
            6,
            9,
            12,
            16
           ]
          ],
          [
           [
            1,
            5,
            6,
            9,
            12,
            16
           ]
          ],
          [
           [
            2,
            3,
            6,
            9,
            12,
            16
           ]
          ],
          [
           [
            2,
            5,
            6,
            9,
            12,
            16
           ]
          ],
          [
           [
            0,
            3,
            6,
            10,
            12,
            16
           ]
          ],
          [
           [
            0,
            5,
            6,
            10,
            12,
            16
           ]
          ],
          [
           [
            1,
            3,
            6,
            10,
            12,
            16
           ]
          ],
          [
           [
            1,
            5,
            6,
            10,
            12,
            16
           ]
          ],
          [
           [
            2,
            3,
            6,
            10,
            12,
            16
           ]
          ],
          [
           [
            2,
            5,
            6,
            10,
            12,
            16
           ]
          ],
          [
           [
            0,
            3,
            7,
            10,
            13,
            15
           ]
          ],
          [
           [
            1,
            3,
            7,
            10,
            13,
            15
           ]
          ],
          [
           [
            0,
            3,
            6,
            9,
            13,
            15
           ]
          ],
          [
           [
            1,
            3,
            6,
            9,
            13,
            15
           ]
          ],
          [
           [
            2,
            3,
            6,
            9,
            13,
            15
           ]
          ],
          [
           [
            0,
            4,
            6,
            10,
            13,
            15
           ]
          ],
          [
           [
            1,
            4,
            6,
            10,
            13,
            15
           ]
          ],
          [
           [
            0,
            3,
            6,
            9,
            12,
            16
           ]
          ],
          [
           [
            0,
            3,
            7,
            9,
            12,
            16
           ]
          ],
          [
           [
            1,
            3,
            7,
            9,
            12,
            16
           ]
          ],
          [
           [
            0,
            3,
            7,
            10,
            12,
            15
           ]
          ],
          [
           [
            0,
            3,
            6,
            9,
            13,
            15
           ]
          ],
          [
           [
            0,
            3,
            8,
            9,
            12,
            16
           ]
          ],
          [
           [
            1,
            3,
            8,
            9,
            12,
            16
           ]
          ],
          [
           [
            0,
            3,
            7,
            10,
            12,
            15
           ]
          ],
          [
           [
            1,
            3,
            7,
            10,
            12,
            15
           ]
          ],
          [
           [
            0,
            4,
            7,
            10,
            13,
            15
           ]
          ],
          [
           [
            1,
            4,
            7,
            10,
            13,
            15
           ]
          ],
          [
           [
            0,
            4,
            6,
            9,
            13,
            15
           ]
          ],
          [
           [
            1,
            4,
            6,
            9,
            13,
            15
           ]
          ],
          [
           [
            0,
            3,
            7,
            10,
            13,
            16
           ]
          ],
          [
           [
            0,
            5,
            7,
            10,
            13,
            16
           ]
          ],
          [
           [
            1,
            3,
            7,
            10,
            13,
            16
           ]
          ],
          [
           [
            1,
            5,
            7,
            10,
            13,
            16
           ]
          ],
          [
           [
            0,
            5,
            7,
            9,
            12,
            15
           ]
          ],
          [
           [
            2,
            4,
            6,
            9,
            13,
            15
           ]
          ],
          [
           [
            0,
            3,
            6,
            9,
            13,
            16
           ]
          ],
          [
           [
            0,
            3,
            7,
            9,
            12,
            15
           ]
          ],
          [
           [
            0,
            4,
            7,
            9,
            12,
            15
           ]
          ],
          [
           [
            2,
            4,
            7,
            9,
            12,
            15
           ]
          ],
          [
           [
            0,
            3,
            6,
            10,
            12,
            15
           ]
          ],
          [
           [
            0,
            3,
            7,
            9,
            13,
            16
           ]
          ],
          [
           [
            0,
            4,
            6,
            10,
            13,
            16
           ]
          ],
          [
           [
            0,
            5,
            6,
            10,
            13,
            16
           ]
          ],
          [
           [
            2,
            4,
            6,
            10,
            13,
            16
           ]
          ],
          [
           [
            2,
            5,
            6,
            10,
            13,
            16
           ]
          ],
          [
           [
            0,
            4,
            7,
            10,
            12,
            16
           ]
          ],
          [
           [
            0,
            5,
            7,
            10,
            12,
            15
           ]
          ],
          [
           [
            2,
            3,
            7,
            10,
            12,
            15
           ]
          ],
          [
           [
            2,
            5,
            7,
            10,
            12,
            15
           ]
          ],
          [
           [
            0,
            4,
            6,
            9,
            13,
            16
           ]
          ],
          [
           [
            0,
            4,
            6,
            10,
            12,
            15
           ]
          ],
          [
           [
            0,
            5,
            7,
            9,
            12,
            16
           ]
          ],
          [
           [
            0,
            5,
            6,
            10,
            13,
            15
           ]
          ],
          [
           [
            0,
            4,
            6,
            9,
            13,
            16
           ]
          ],
          [
           [
            1,
            4,
            7,
            9,
            12,
            15
           ]
          ],
          [
           [
            1,
            3,
            7,
            9,
            13,
            16
           ]
          ],
          [
           [
            1,
            3,
            7,
            9,
            13,
            16
           ]
          ],
          [
           [
            2,
            3,
            7,
            9,
            13,
            16
           ]
          ],
          [
           [
            2,
            3,
            7,
            10,
            13,
            15
           ]
          ],
          [
           [
            2,
            4,
            6,
            9,
            12,
            16
           ]
          ],
          [
           [
            1,
            4,
            7,
            9,
            13,
            15
           ]
          ],
          [
           [
            2,
            4,
            7,
            9,
            13,
            15
           ]
          ],
          [
           [
            1,
            5,
            7,
            10,
            13,
            15
           ]
          ],
          [
           [
            2,
            4,
            7,
            10,
            13,
            15
           ]
          ],
          [
           [
            2,
            5,
            7,
            10,
            13,
            15
           ]
          ],
          [
           [
            1,
            3,
            8,
            9,
            12,
            15
           ]
          ],
          [
           [
            1,
            4,
            6,
            10,
            12,
            15
           ]
          ],
          [
           [
            1,
            5,
            6,
            10,
            12,
            15
           ]
          ],
          [
           [
            1,
            4,
            7,
            10,
            13,
            16
           ]
          ],
          [
           [
            1,
            4,
            6,
            9,
            13,
            16
           ]
          ],
          [
           [
            1,
            3,
            7,
            9,
            12,
            16
           ]
          ],
          [
           [
            1,
            4,
            6,
            10,
            12,
            16
           ]
          ],
          [
           [
            1,
            4,
            6,
            9,
            13,
            15
           ]
          ],
          [
           [
            1,
            5,
            7,
            10,
            12,
            16
           ]
          ],
          [
           [
            2,
            5,
            7,
            10,
            12,
            16
           ]
          ],
          [
           [
            0,
            4,
            7,
            10,
            12,
            16
           ]
          ],
          [
           [
            2,
            4,
            7,
            10,
            12,
            16
           ]
          ],
          [
           [
            0,
            3,
            8,
            9,
            13,
            15
           ]
          ],
          [
           [
            0,
            4,
            7,
            9,
            13,
            15
           ]
          ],
          [
           [
            0,
            4,
            8,
            9,
            13,
            15
           ]
          ],
          [
           [
            2,
            3,
            7,
            9,
            13,
            15
           ]
          ],
          [
           [
            2,
            3,
            8,
            9,
            13,
            15
           ]
          ],
          [
           [
            2,
            4,
            8,
            9,
            13,
            15
           ]
          ],
          [
           [
            2,
            3,
            7,
            10,
            13,
            16
           ]
          ],
          [
           [
            0,
            5,
            7,
            9,
            13,
            15
           ]
          ],
          [
           [
            2,
            5,
            7,
            9,
            13,
            15
           ]
          ],
          [
           [
            2,
            4,
            6,
            10,
            12,
            16
           ]
          ],
          [
           [
            0,
            4,
            7,
            10,
            12,
            15
           ]
          ]
         ],
         "hovertemplate": "type=Sampler<br>Color Score=%{x}<br>Component Score=%{y}<br>Overall Score=%{marker.size}<br>name=%{customdata[0]}<extra></extra>",
         "legendgroup": "Sampler",
         "marker": {
          "color": "#EF553B",
          "size": [
           37,
           44,
           43,
           45,
           37,
           36,
           38,
           37,
           36,
           39,
           38,
           40,
           39,
           38,
           40,
           32,
           31,
           33,
           26,
           25,
           27,
           42,
           41,
           33,
           35,
           34,
           36,
           37,
           38,
           36,
           37,
           38,
           39,
           35,
           34,
           31,
           30,
           31,
           28,
           27,
           36,
           35,
           38,
           37,
           30,
           29,
           29,
           28,
           31,
           30,
           35,
           34,
           46,
           45,
           47,
           37,
           36,
           37,
           33,
           32,
           28,
           46,
           28,
           27,
           28,
           27,
           33,
           32,
           44,
           43,
           33,
           32,
           32,
           31,
           34,
           45,
           44,
           35,
           33,
           34,
           32,
           40,
           35,
           36,
           36,
           37,
           24,
           27,
           29,
           28,
           42,
           30,
           32,
           38,
           42,
           32,
           39,
           39,
           41,
           36,
           36,
           39,
           41,
           33,
           34,
           35,
           29,
           29,
           30,
           30,
           41,
           32,
           27,
           43,
           24,
           26,
           24,
           25,
           37,
           40,
           35,
           43,
           38,
           36,
           34,
           41,
           42,
           29,
           26
          ],
          "sizemode": "area",
          "sizeref": 0.2575,
          "symbol": "circle"
         },
         "mode": "markers",
         "name": "Sampler",
         "showlegend": true,
         "type": "scattergl",
         "x": [
          30,
          34,
          33,
          32,
          30,
          29,
          28,
          30,
          29,
          32,
          31,
          30,
          32,
          31,
          30,
          28,
          27,
          26,
          22,
          21,
          20,
          32,
          31,
          26,
          28,
          27,
          26,
          33,
          32,
          32,
          31,
          31,
          30,
          31,
          30,
          27,
          26,
          27,
          27,
          26,
          30,
          29,
          28,
          28,
          26,
          26,
          25,
          25,
          24,
          24,
          28,
          27,
          36,
          35,
          34,
          33,
          32,
          30,
          26,
          25,
          24,
          36,
          22,
          21,
          24,
          23,
          29,
          28,
          37,
          36,
          26,
          26,
          25,
          25,
          28,
          35,
          34,
          28,
          29,
          27,
          28,
          30,
          31,
          30,
          29,
          28,
          23,
          24,
          22,
          22,
          35,
          29,
          26,
          32,
          35,
          28,
          29,
          29,
          28,
          26,
          29,
          32,
          31,
          27,
          27,
          26,
          23,
          28,
          27,
          26,
          34,
          25,
          26,
          36,
          21,
          20,
          23,
          21,
          28,
          33,
          29,
          30,
          26,
          27,
          24,
          32,
          30,
          25,
          25
         ],
         "xaxis": "x",
         "y": [
          19,
          22,
          22,
          25,
          19,
          19,
          22,
          19,
          19,
          19,
          19,
          22,
          19,
          19,
          22,
          16,
          16,
          19,
          16,
          16,
          19,
          22,
          22,
          19,
          19,
          19,
          22,
          16,
          18,
          16,
          18,
          19,
          21,
          16,
          16,
          16,
          16,
          16,
          13,
          13,
          18,
          18,
          22,
          21,
          16,
          15,
          16,
          15,
          19,
          18,
          19,
          19,
          22,
          22,
          25,
          16,
          16,
          19,
          19,
          19,
          16,
          22,
          18,
          18,
          16,
          16,
          16,
          16,
          19,
          19,
          19,
          18,
          19,
          18,
          18,
          22,
          22,
          19,
          16,
          19,
          16,
          22,
          16,
          18,
          19,
          21,
          13,
          15,
          19,
          18,
          19,
          13,
          18,
          18,
          19,
          16,
          22,
          22,
          25,
          22,
          19,
          19,
          22,
          18,
          19,
          21,
          18,
          13,
          15,
          16,
          19,
          19,
          13,
          19,
          15,
          18,
          13,
          16,
          21,
          19,
          18,
          25,
          24,
          21,
          22,
          21,
          24,
          16,
          13
         ],
         "yaxis": "y"
        }
       ],
       "layout": {
        "legend": {
         "itemsizing": "constant",
         "title": {
          "text": "type"
         },
         "tracegroupgap": 0
        },
        "template": {
         "data": {
          "bar": [
           {
            "error_x": {
             "color": "#2a3f5f"
            },
            "error_y": {
             "color": "#2a3f5f"
            },
            "marker": {
             "line": {
              "color": "#E5ECF6",
              "width": 0.5
             },
             "pattern": {
              "fillmode": "overlay",
              "size": 10,
              "solidity": 0.2
             }
            },
            "type": "bar"
           }
          ],
          "barpolar": [
           {
            "marker": {
             "line": {
              "color": "#E5ECF6",
              "width": 0.5
             },
             "pattern": {
              "fillmode": "overlay",
              "size": 10,
              "solidity": 0.2
             }
            },
            "type": "barpolar"
           }
          ],
          "carpet": [
           {
            "aaxis": {
             "endlinecolor": "#2a3f5f",
             "gridcolor": "white",
             "linecolor": "white",
             "minorgridcolor": "white",
             "startlinecolor": "#2a3f5f"
            },
            "baxis": {
             "endlinecolor": "#2a3f5f",
             "gridcolor": "white",
             "linecolor": "white",
             "minorgridcolor": "white",
             "startlinecolor": "#2a3f5f"
            },
            "type": "carpet"
           }
          ],
          "choropleth": [
           {
            "colorbar": {
             "outlinewidth": 0,
             "ticks": ""
            },
            "type": "choropleth"
           }
          ],
          "contour": [
           {
            "colorbar": {
             "outlinewidth": 0,
             "ticks": ""
            },
            "colorscale": [
             [
              0,
              "#0d0887"
             ],
             [
              0.1111111111111111,
              "#46039f"
             ],
             [
              0.2222222222222222,
              "#7201a8"
             ],
             [
              0.3333333333333333,
              "#9c179e"
             ],
             [
              0.4444444444444444,
              "#bd3786"
             ],
             [
              0.5555555555555556,
              "#d8576b"
             ],
             [
              0.6666666666666666,
              "#ed7953"
             ],
             [
              0.7777777777777778,
              "#fb9f3a"
             ],
             [
              0.8888888888888888,
              "#fdca26"
             ],
             [
              1,
              "#f0f921"
             ]
            ],
            "type": "contour"
           }
          ],
          "contourcarpet": [
           {
            "colorbar": {
             "outlinewidth": 0,
             "ticks": ""
            },
            "type": "contourcarpet"
           }
          ],
          "heatmap": [
           {
            "colorbar": {
             "outlinewidth": 0,
             "ticks": ""
            },
            "colorscale": [
             [
              0,
              "#0d0887"
             ],
             [
              0.1111111111111111,
              "#46039f"
             ],
             [
              0.2222222222222222,
              "#7201a8"
             ],
             [
              0.3333333333333333,
              "#9c179e"
             ],
             [
              0.4444444444444444,
              "#bd3786"
             ],
             [
              0.5555555555555556,
              "#d8576b"
             ],
             [
              0.6666666666666666,
              "#ed7953"
             ],
             [
              0.7777777777777778,
              "#fb9f3a"
             ],
             [
              0.8888888888888888,
              "#fdca26"
             ],
             [
              1,
              "#f0f921"
             ]
            ],
            "type": "heatmap"
           }
          ],
          "heatmapgl": [
           {
            "colorbar": {
             "outlinewidth": 0,
             "ticks": ""
            },
            "colorscale": [
             [
              0,
              "#0d0887"
             ],
             [
              0.1111111111111111,
              "#46039f"
             ],
             [
              0.2222222222222222,
              "#7201a8"
             ],
             [
              0.3333333333333333,
              "#9c179e"
             ],
             [
              0.4444444444444444,
              "#bd3786"
             ],
             [
              0.5555555555555556,
              "#d8576b"
             ],
             [
              0.6666666666666666,
              "#ed7953"
             ],
             [
              0.7777777777777778,
              "#fb9f3a"
             ],
             [
              0.8888888888888888,
              "#fdca26"
             ],
             [
              1,
              "#f0f921"
             ]
            ],
            "type": "heatmapgl"
           }
          ],
          "histogram": [
           {
            "marker": {
             "pattern": {
              "fillmode": "overlay",
              "size": 10,
              "solidity": 0.2
             }
            },
            "type": "histogram"
           }
          ],
          "histogram2d": [
           {
            "colorbar": {
             "outlinewidth": 0,
             "ticks": ""
            },
            "colorscale": [
             [
              0,
              "#0d0887"
             ],
             [
              0.1111111111111111,
              "#46039f"
             ],
             [
              0.2222222222222222,
              "#7201a8"
             ],
             [
              0.3333333333333333,
              "#9c179e"
             ],
             [
              0.4444444444444444,
              "#bd3786"
             ],
             [
              0.5555555555555556,
              "#d8576b"
             ],
             [
              0.6666666666666666,
              "#ed7953"
             ],
             [
              0.7777777777777778,
              "#fb9f3a"
             ],
             [
              0.8888888888888888,
              "#fdca26"
             ],
             [
              1,
              "#f0f921"
             ]
            ],
            "type": "histogram2d"
           }
          ],
          "histogram2dcontour": [
           {
            "colorbar": {
             "outlinewidth": 0,
             "ticks": ""
            },
            "colorscale": [
             [
              0,
              "#0d0887"
             ],
             [
              0.1111111111111111,
              "#46039f"
             ],
             [
              0.2222222222222222,
              "#7201a8"
             ],
             [
              0.3333333333333333,
              "#9c179e"
             ],
             [
              0.4444444444444444,
              "#bd3786"
             ],
             [
              0.5555555555555556,
              "#d8576b"
             ],
             [
              0.6666666666666666,
              "#ed7953"
             ],
             [
              0.7777777777777778,
              "#fb9f3a"
             ],
             [
              0.8888888888888888,
              "#fdca26"
             ],
             [
              1,
              "#f0f921"
             ]
            ],
            "type": "histogram2dcontour"
           }
          ],
          "mesh3d": [
           {
            "colorbar": {
             "outlinewidth": 0,
             "ticks": ""
            },
            "type": "mesh3d"
           }
          ],
          "parcoords": [
           {
            "line": {
             "colorbar": {
              "outlinewidth": 0,
              "ticks": ""
             }
            },
            "type": "parcoords"
           }
          ],
          "pie": [
           {
            "automargin": true,
            "type": "pie"
           }
          ],
          "scatter": [
           {
            "fillpattern": {
             "fillmode": "overlay",
             "size": 10,
             "solidity": 0.2
            },
            "type": "scatter"
           }
          ],
          "scatter3d": [
           {
            "line": {
             "colorbar": {
              "outlinewidth": 0,
              "ticks": ""
             }
            },
            "marker": {
             "colorbar": {
              "outlinewidth": 0,
              "ticks": ""
             }
            },
            "type": "scatter3d"
           }
          ],
          "scattercarpet": [
           {
            "marker": {
             "colorbar": {
              "outlinewidth": 0,
              "ticks": ""
             }
            },
            "type": "scattercarpet"
           }
          ],
          "scattergeo": [
           {
            "marker": {
             "colorbar": {
              "outlinewidth": 0,
              "ticks": ""
             }
            },
            "type": "scattergeo"
           }
          ],
          "scattergl": [
           {
            "marker": {
             "colorbar": {
              "outlinewidth": 0,
              "ticks": ""
             }
            },
            "type": "scattergl"
           }
          ],
          "scattermapbox": [
           {
            "marker": {
             "colorbar": {
              "outlinewidth": 0,
              "ticks": ""
             }
            },
            "type": "scattermapbox"
           }
          ],
          "scatterpolar": [
           {
            "marker": {
             "colorbar": {
              "outlinewidth": 0,
              "ticks": ""
             }
            },
            "type": "scatterpolar"
           }
          ],
          "scatterpolargl": [
           {
            "marker": {
             "colorbar": {
              "outlinewidth": 0,
              "ticks": ""
             }
            },
            "type": "scatterpolargl"
           }
          ],
          "scatterternary": [
           {
            "marker": {
             "colorbar": {
              "outlinewidth": 0,
              "ticks": ""
             }
            },
            "type": "scatterternary"
           }
          ],
          "surface": [
           {
            "colorbar": {
             "outlinewidth": 0,
             "ticks": ""
            },
            "colorscale": [
             [
              0,
              "#0d0887"
             ],
             [
              0.1111111111111111,
              "#46039f"
             ],
             [
              0.2222222222222222,
              "#7201a8"
             ],
             [
              0.3333333333333333,
              "#9c179e"
             ],
             [
              0.4444444444444444,
              "#bd3786"
             ],
             [
              0.5555555555555556,
              "#d8576b"
             ],
             [
              0.6666666666666666,
              "#ed7953"
             ],
             [
              0.7777777777777778,
              "#fb9f3a"
             ],
             [
              0.8888888888888888,
              "#fdca26"
             ],
             [
              1,
              "#f0f921"
             ]
            ],
            "type": "surface"
           }
          ],
          "table": [
           {
            "cells": {
             "fill": {
              "color": "#EBF0F8"
             },
             "line": {
              "color": "white"
             }
            },
            "header": {
             "fill": {
              "color": "#C8D4E3"
             },
             "line": {
              "color": "white"
             }
            },
            "type": "table"
           }
          ]
         },
         "layout": {
          "annotationdefaults": {
           "arrowcolor": "#2a3f5f",
           "arrowhead": 0,
           "arrowwidth": 1
          },
          "autotypenumbers": "strict",
          "coloraxis": {
           "colorbar": {
            "outlinewidth": 0,
            "ticks": ""
           }
          },
          "colorscale": {
           "diverging": [
            [
             0,
             "#8e0152"
            ],
            [
             0.1,
             "#c51b7d"
            ],
            [
             0.2,
             "#de77ae"
            ],
            [
             0.3,
             "#f1b6da"
            ],
            [
             0.4,
             "#fde0ef"
            ],
            [
             0.5,
             "#f7f7f7"
            ],
            [
             0.6,
             "#e6f5d0"
            ],
            [
             0.7,
             "#b8e186"
            ],
            [
             0.8,
             "#7fbc41"
            ],
            [
             0.9,
             "#4d9221"
            ],
            [
             1,
             "#276419"
            ]
           ],
           "sequential": [
            [
             0,
             "#0d0887"
            ],
            [
             0.1111111111111111,
             "#46039f"
            ],
            [
             0.2222222222222222,
             "#7201a8"
            ],
            [
             0.3333333333333333,
             "#9c179e"
            ],
            [
             0.4444444444444444,
             "#bd3786"
            ],
            [
             0.5555555555555556,
             "#d8576b"
            ],
            [
             0.6666666666666666,
             "#ed7953"
            ],
            [
             0.7777777777777778,
             "#fb9f3a"
            ],
            [
             0.8888888888888888,
             "#fdca26"
            ],
            [
             1,
             "#f0f921"
            ]
           ],
           "sequentialminus": [
            [
             0,
             "#0d0887"
            ],
            [
             0.1111111111111111,
             "#46039f"
            ],
            [
             0.2222222222222222,
             "#7201a8"
            ],
            [
             0.3333333333333333,
             "#9c179e"
            ],
            [
             0.4444444444444444,
             "#bd3786"
            ],
            [
             0.5555555555555556,
             "#d8576b"
            ],
            [
             0.6666666666666666,
             "#ed7953"
            ],
            [
             0.7777777777777778,
             "#fb9f3a"
            ],
            [
             0.8888888888888888,
             "#fdca26"
            ],
            [
             1,
             "#f0f921"
            ]
           ]
          },
          "colorway": [
           "#636efa",
           "#EF553B",
           "#00cc96",
           "#ab63fa",
           "#FFA15A",
           "#19d3f3",
           "#FF6692",
           "#B6E880",
           "#FF97FF",
           "#FECB52"
          ],
          "font": {
           "color": "#2a3f5f"
          },
          "geo": {
           "bgcolor": "white",
           "lakecolor": "white",
           "landcolor": "#E5ECF6",
           "showlakes": true,
           "showland": true,
           "subunitcolor": "white"
          },
          "hoverlabel": {
           "align": "left"
          },
          "hovermode": "closest",
          "mapbox": {
           "style": "light"
          },
          "paper_bgcolor": "white",
          "plot_bgcolor": "#E5ECF6",
          "polar": {
           "angularaxis": {
            "gridcolor": "white",
            "linecolor": "white",
            "ticks": ""
           },
           "bgcolor": "#E5ECF6",
           "radialaxis": {
            "gridcolor": "white",
            "linecolor": "white",
            "ticks": ""
           }
          },
          "scene": {
           "xaxis": {
            "backgroundcolor": "#E5ECF6",
            "gridcolor": "white",
            "gridwidth": 2,
            "linecolor": "white",
            "showbackground": true,
            "ticks": "",
            "zerolinecolor": "white"
           },
           "yaxis": {
            "backgroundcolor": "#E5ECF6",
            "gridcolor": "white",
            "gridwidth": 2,
            "linecolor": "white",
            "showbackground": true,
            "ticks": "",
            "zerolinecolor": "white"
           },
           "zaxis": {
            "backgroundcolor": "#E5ECF6",
            "gridcolor": "white",
            "gridwidth": 2,
            "linecolor": "white",
            "showbackground": true,
            "ticks": "",
            "zerolinecolor": "white"
           }
          },
          "shapedefaults": {
           "line": {
            "color": "#2a3f5f"
           }
          },
          "ternary": {
           "aaxis": {
            "gridcolor": "white",
            "linecolor": "white",
            "ticks": ""
           },
           "baxis": {
            "gridcolor": "white",
            "linecolor": "white",
            "ticks": ""
           },
           "bgcolor": "#E5ECF6",
           "caxis": {
            "gridcolor": "white",
            "linecolor": "white",
            "ticks": ""
           }
          },
          "title": {
           "x": 0.05
          },
          "xaxis": {
           "automargin": true,
           "gridcolor": "white",
           "linecolor": "white",
           "ticks": "",
           "title": {
            "standoff": 15
           },
           "zerolinecolor": "white",
           "zerolinewidth": 2
          },
          "yaxis": {
           "automargin": true,
           "gridcolor": "white",
           "linecolor": "white",
           "ticks": "",
           "title": {
            "standoff": 15
           },
           "zerolinecolor": "white",
           "zerolinewidth": 2
          }
         }
        },
        "title": {
         "text": "Comparison of Scores: Sampler vs Random"
        },
        "xaxis": {
         "anchor": "y",
         "domain": [
          0,
          1
         ],
         "title": {
          "text": "Color Score"
         }
        },
        "yaxis": {
         "anchor": "x",
         "domain": [
          0,
          1
         ],
         "title": {
          "text": "Component Score"
         }
        }
       }
      },
      "text/html": [
       "<div>                            <div id=\"8fec9c7e-c230-4fef-9f7a-29cc5c1554a1\" class=\"plotly-graph-div\" style=\"height:525px; width:100%;\"></div>            <script type=\"text/javascript\">                require([\"plotly\"], function(Plotly) {                    window.PLOTLYENV=window.PLOTLYENV || {};                                    if (document.getElementById(\"8fec9c7e-c230-4fef-9f7a-29cc5c1554a1\")) {                    Plotly.newPlot(                        \"8fec9c7e-c230-4fef-9f7a-29cc5c1554a1\",                        [{\"customdata\":[[[2,5,6,10,13,16]],[[2,5,7,9,14,17]],[[2,4,8,9,12,16]],[[1,3,8,9,13,17]],[[1,5,6,10,12,17]],[[1,5,7,11,13,15]],[[1,4,7,9,14,16]],[[1,3,8,10,12,16]],[[2,4,6,9,12,17]],[[1,4,8,10,12,16]],[[0,5,6,11,13,17]],[[1,5,8,10,12,15]],[[0,3,7,11,13,17]],[[1,4,6,11,13,15]],[[1,4,8,10,12,17]],[[0,5,8,10,14,16]],[[0,5,6,9,14,15]],[[1,3,8,9,14,17]],[[0,3,8,11,14,16]],[[2,5,6,10,14,15]],[[2,3,7,10,12,16]],[[0,4,6,10,12,17]],[[2,3,8,9,14,16]],[[1,5,6,11,14,16]],[[0,3,7,11,13,16]],[[1,5,8,10,14,16]],[[1,3,7,9,13,16]],[[1,4,6,9,13,15]],[[0,5,6,9,12,16]],[[1,4,6,10,13,17]],[[2,3,8,10,13,16]],[[1,5,7,9,12,16]],[[2,5,8,9,13,17]],[[1,4,8,9,14,16]],[[2,4,6,9,13,15]],[[2,3,6,10,13,15]],[[0,4,6,10,12,16]],[[1,3,8,10,12,17]],[[2,5,8,10,14,15]],[[0,3,7,9,13,16]],[[2,5,8,9,13,15]],[[1,5,8,10,14,16,0,4,6,9,14,15]],[[2,5,7,10,13,16]],[[0,3,6,9,13,16]],[[1,5,8,9,13,16]],[[1,4,7,9,14,16,0,3,6,10,14,16]],[[2,4,8,11,13,17]],[[2,5,6,9,13,16]],[[1,4,8,9,14,17]],[[1,5,7,10,12,15]],[[1,4,7,10,12,17]],[[0,5,8,9,14,15]],[[0,4,8,9,14,16]],[[0,5,6,10,14,17]],[[0,5,6,9,13,15]],[[2,4,7,10,14,15]],[[0,3,7,11,13,17,2,5,8,11,13,15]],[[2,5,8,11,12,17]],[[0,4,8,9,12,16]],[[1,5,8,11,12,16]],[[0,4,8,11,14,16]],[[1,3,7,11,13,16]],[[0,4,8,10,12,15]],[[1,5,6,9,12,15]],[[1,3,7,11,13,16,0,4,8,9,14,17]],[[0,4,7,11,13,17]],[[2,5,6,11,13,17]],[[2,5,6,11,13,17,1,4,8,9,12,16]],[[1,3,6,11,13,15]],[[1,5,6,11,14,15]],[[1,5,7,11,12,16]],[[2,5,8,10,14,15,0,3,8,11,14,17]],[[0,3,6,10,13,17]],[[1,4,6,9,13,15,0,4,6,10,12,15]],[[1,4,7,11,13,15]],[[1,3,7,9,13,16,0,3,6,11,13,17]],[[2,5,6,9,13,17]],[[1,5,8,11,14,17]],[[0,5,8,11,14,16]],[[0,5,8,9,14,15,0,4,8,11,12,15]],[[1,5,6,9,13,15]],[[0,4,8,10,14,16]],[[2,3,8,10,14,17]],[[2,3,6,9,14,16]],[[0,3,7,9,13,16,1,4,6,10,12,17]],[[2,4,8,10,14,16]],[[0,4,7,11,12,17]],[[1,3,8,10,13,15]],[[1,3,7,11,12,15]],[[0,3,7,11,12,15]],[[1,4,8,9,14,16,1,3,6,10,14,17]],[[0,4,6,9,12,15]],[[1,5,6,11,12,17]],[[2,4,8,9,12,15]],[[0,5,7,9,12,15]],[[2,5,8,11,14,17]],[[1,3,7,11,12,16]],[[0,5,8,10,13,16]],[[2,5,6,11,12,17]],[[1,4,7,10,14,17]],[[2,4,8,10,12,15]],[[2,3,7,9,14,15]],[[0,3,8,10,13,17]],[[1,4,6,10,12,16]],[[0,5,8,11,14,16,1,4,6,10,13,17]],[[0,3,8,9,12,16]],[[0,5,7,10,13,17]],[[2,3,6,11,12,16]],[[2,5,8,9,13,16]],[[2,5,6,9,14,16]],[[1,5,6,10,12,17,0,4,7,10,14,15]],[[2,5,7,11,12,17]],[[1,5,8,11,13,15]],[[0,3,8,10,13,16]],[[1,3,6,11,12,16]],[[0,4,6,11,12,15]],[[2,5,6,10,12,17]],[[2,5,8,11,14,17,2,5,8,9,13,16]],[[0,4,7,11,12,17,1,5,6,10,14,15]],[[2,4,8,11,14,17]],[[0,5,8,10,13,16,0,5,7,9,14,17]],[[2,5,8,9,13,15,2,3,7,9,14,16]],[[1,5,7,9,13,17]],[[0,4,8,10,14,16,1,3,8,9,12,15]],[[2,3,6,11,12,16,1,4,6,10,14,16]],[[0,3,6,9,13,15]],[[1,3,6,11,12,16,2,4,6,11,13,15]],[[2,5,7,9,13,15]],[[0,3,6,9,13,17]],[[0,4,7,10,13,15]],[[0,3,6,9,13,17,2,4,7,10,12,17]],[[2,5,8,9,13,15,2,5,6,9,14,17]],[[0,4,7,10,12,15]],[[0,3,6,10,14,17]],[[1,5,8,9,12,16]],[[2,3,8,11,12,15]],[[0,3,7,11,14,17]],[[1,4,8,11,13,16]],[[2,3,6,9,12,16]],[[1,5,7,11,13,15,2,3,8,10,12,17]],[[0,4,6,9,12,15,0,5,8,10,14,17]],[[1,5,6,9,12,16]],[[2,5,7,9,13,15,0,4,8,10,13,16]],[[2,3,7,11,14,15]],[[1,3,7,9,12,17]],[[2,4,8,9,13,15]],[[2,5,6,11,14,17]],[[2,5,8,9,12,17]],[[1,3,8,10,13,16]],[[1,3,8,11,13,15]],[[0,4,6,9,13,16]],[[2,3,6,10,14,17]],[[0,5,8,9,12,17]],[[0,5,7,11,12,17]],[[1,5,7,11,14,17]],[[2,5,8,10,13,16]],[[0,3,6,9,12,15]],[[0,5,6,9,13,17]],[[0,3,7,9,14,16]],[[0,3,6,11,12,16]],[[2,5,6,11,14,16]],[[1,5,8,11,13,15,1,4,8,10,13,17]],[[2,5,6,11,12,16]],[[1,4,7,10,14,16]],[[1,5,8,9,13,16,0,4,7,11,12,17]],[[0,3,6,10,14,17,2,5,6,10,13,17]],[[0,4,8,10,12,17]],[[0,3,8,11,12,16]],[[2,5,6,9,13,17,2,3,8,10,13,15]],[[2,5,7,9,14,16]],[[1,5,8,11,14,16]],[[1,4,7,10,14,17,2,4,6,11,14,16]],[[1,3,7,10,12,17]],[[0,5,6,10,14,17,2,5,8,11,12,16]],[[0,5,8,10,14,16,2,5,8,10,13,17]],[[0,4,6,9,12,17]],[[0,3,7,11,13,15]],[[0,4,7,11,12,17,2,3,8,9,14,16]],[[1,4,8,11,12,17]],[[2,5,7,10,12,16]],[[2,3,7,9,14,16]],[[0,3,8,11,13,17]],[[0,4,7,9,14,15]],[[2,5,7,11,12,15]],[[1,3,8,10,12,16,0,4,8,10,13,17]],[[0,4,8,11,14,15]],[[1,5,8,11,12,15]],[[1,3,6,11,14,15]],[[2,4,7,11,12,15]],[[0,3,7,9,13,16,1,5,8,9,12,17]],[[2,5,8,10,14,15,0,5,7,9,13,17]],[[1,5,6,11,14,17]],[[0,4,6,9,14,15]],[[1,5,7,10,12,16]],[[0,3,6,11,13,16]],[[0,4,7,10,14,15]],[[0,4,8,11,14,15,1,4,7,10,12,16]],[[1,4,8,9,14,16,1,3,7,10,12,17]],[[0,5,7,9,12,17]],[[2,4,8,10,13,16]],[[2,4,6,10,13,16]],[[1,5,8,11,14,15]],[[2,3,6,10,12,17]],[[2,5,8,9,14,15]],[[2,3,7,11,14,17]],[[2,5,6,11,13,16]],[[2,3,7,10,14,15]],[[2,5,8,10,14,16]],[[0,4,8,9,13,16]],[[0,5,6,11,14,16]],[[0,5,7,10,12,15]],[[0,5,6,10,12,17]],[[1,5,6,11,14,17,2,4,7,10,13,17]],[[0,5,6,10,13,16]],[[2,3,7,11,13,16]],[[0,4,7,10,14,17]],[[2,4,6,10,14,15]],[[1,5,8,10,13,16]],[[2,5,6,9,12,17]],[[2,4,6,9,14,15]],[[0,3,6,10,12,16]],[[0,4,8,11,14,15,0,5,8,11,13,15]],[[0,5,8,11,12,17]],[[0,3,6,11,12,17]],[[0,5,8,11,13,15]],[[2,4,7,11,12,16]],[[2,5,8,9,13,17,1,3,7,10,12,17]],[[2,4,7,10,12,17]],[[1,3,7,9,13,17]],[[2,3,7,9,13,15]],[[0,5,8,11,12,15]],[[1,3,8,9,14,15]],[[1,3,6,9,12,15]],[[0,3,6,11,14,15]],[[2,3,7,9,13,16]],[[2,3,7,11,12,16]],[[1,3,7,9,12,17,0,3,8,10,14,15]],[[1,5,7,10,12,15,1,5,8,9,13,17]],[[0,5,8,11,14,17]],[[0,3,7,11,14,16]],[[0,4,7,11,12,16]],[[2,3,7,10,13,16]],[[1,3,8,11,12,16]],[[1,5,6,10,13,15]],[[1,3,7,11,13,17]],[[1,4,7,10,14,16,0,5,6,11,13,17]],[[1,3,7,10,13,16]],[[1,3,8,10,14,15]],[[1,4,6,10,14,16]],[[2,5,8,9,13,15,0,4,8,11,13,15]],[[0,4,7,9,14,15,2,4,7,10,14,15]],[[1,3,6,10,13,15]],[[0,3,6,10,12,16,0,4,7,11,12,16]],[[0,5,8,9,13,17]],[[2,5,8,11,13,16]],[[0,5,8,10,12,16]],[[0,4,8,9,14,17]],[[1,5,7,11,12,16,2,5,6,9,14,16]],[[0,4,8,10,12,17,2,4,7,10,14,17]],[[2,5,7,10,13,16,0,5,7,10,12,16]],[[2,4,7,10,13,15]],[[1,4,6,9,12,15]],[[0,4,8,10,12,17,2,3,8,11,14,17]],[[0,5,7,9,12,17,0,5,8,10,12,15]],[[2,4,7,10,14,16]],[[2,4,8,9,12,17]],[[1,5,8,9,12,15]],[[0,5,7,9,13,17]],[[1,5,8,11,13,15,1,4,7,10,14,16]],[[2,4,6,10,12,16]],[[1,4,7,9,13,17]],[[0,5,6,9,14,15,1,5,7,11,14,16]],[[0,5,7,10,13,16]],[[0,4,7,10,12,16]],[[2,5,6,11,12,16,0,5,8,9,13,15]],[[1,3,6,10,12,17]],[[1,3,6,10,14,16]],[[1,3,8,11,13,16]],[[2,4,6,11,14,15]],[[2,3,6,10,13,17]],[[1,3,7,11,13,15]],[[2,5,6,10,13,15]],[[2,3,7,11,13,16,0,3,6,11,13,16]],[[2,4,6,10,12,15]],[[1,3,6,11,14,16]],[[2,3,7,9,14,15,1,4,6,9,12,17]],[[0,3,6,11,14,15,1,4,7,11,13,17]],[[1,3,7,10,12,15]],[[2,5,8,10,13,16,0,4,6,10,12,16]],[[2,4,6,9,14,17]],[[2,3,6,10,14,17,1,3,6,10,12,17]],[[0,4,6,11,13,16]],[[2,3,6,9,13,15]],[[1,4,8,10,12,15]],[[2,5,8,11,12,17,2,3,7,10,14,16]],[[2,5,7,10,13,15]],[[2,3,7,10,12,17]],[[2,3,7,9,14,16,2,4,6,9,13,15]],[[1,3,6,11,12,15]],[[1,4,6,11,13,16]],[[2,5,6,10,13,16,2,4,7,11,13,15]],[[2,3,7,10,13,15]],[[2,3,8,9,12,17]],[[2,5,8,10,13,16,2,3,7,10,13,16]],[[2,5,6,10,13,16,0,5,8,11,14,15]],[[2,4,7,9,14,17]],[[0,5,7,9,13,17,0,5,6,11,14,16]],[[2,5,6,10,13,16,0,3,8,11,12,17]],[[0,3,6,9,12,17]],[[0,4,8,10,12,17,2,3,7,9,13,16]],[[2,4,6,9,12,16]],[[0,5,8,9,14,16]],[[1,4,6,9,14,17]],[[0,4,6,9,14,17]],[[1,4,6,10,14,16,1,3,6,10,14,16]],[[2,4,8,10,14,15]],[[1,5,6,9,13,16]],[[1,5,6,11,13,15]],[[0,5,6,11,14,16,0,5,6,10,13,17]],[[2,3,8,11,14,16]],[[1,5,6,11,14,15,0,4,6,10,12,17]],[[2,5,8,11,12,15]],[[1,4,8,10,14,17]],[[2,3,7,9,12,16]],[[1,4,8,10,13,17]],[[0,3,6,9,14,17]],[[0,4,8,11,12,15]],[[2,4,8,9,13,15,1,5,6,9,13,17]],[[2,3,7,9,14,16,2,4,6,9,14,16]],[[0,3,8,11,14,15]],[[2,4,7,10,13,17]],[[0,4,6,9,13,15]],[[0,5,8,10,12,15]],[[2,5,7,9,14,17,1,4,6,9,14,17]],[[2,3,7,10,12,16,0,4,7,11,12,17]],[[2,3,6,11,13,17]],[[2,4,7,9,14,17,2,4,8,10,14,16]],[[0,5,7,9,12,16]],[[0,4,8,9,13,17]],[[0,3,7,9,14,15]],[[2,5,6,11,13,15]],[[0,5,6,10,14,15]],[[1,5,8,9,14,15]],[[2,4,8,10,13,16,0,4,7,11,13,16]],[[1,3,7,9,14,15]],[[1,3,7,9,12,15]],[[0,5,6,11,12,15]],[[2,5,6,11,13,16,1,4,8,10,12,16]],[[0,4,6,11,12,17]],[[1,5,6,9,12,16,1,5,6,10,13,16]],[[1,3,8,10,12,16,2,5,7,10,12,17]],[[1,5,6,10,12,15]],[[0,4,7,11,13,16]],[[1,3,8,9,14,15,1,5,6,9,13,15]],[[2,5,8,11,12,15,1,4,6,11,12,15]],[[0,3,8,11,14,15,0,3,7,10,12,17]],[[1,4,8,9,14,16,1,5,7,11,14,15]],[[0,4,8,11,12,17]],[[2,3,6,11,14,15]],[[0,4,6,9,12,15,1,3,6,11,14,17]],[[0,5,6,10,12,16]],[[2,5,6,9,14,16,2,4,7,10,13,17]],[[2,3,6,11,13,17,2,5,8,9,13,16]],[[2,4,8,11,12,17]],[[0,5,8,11,12,15,0,4,8,11,12,15]],[[2,4,8,9,12,17,1,4,8,11,12,15]],[[1,4,6,11,12,16]],[[0,4,7,11,12,17,2,3,7,11,13,16]],[[0,5,7,10,14,17]],[[2,4,8,9,14,16]],[[1,5,7,11,14,16]],[[2,5,7,11,14,17]],[[2,3,6,11,14,17]],[[1,5,7,9,13,15]],[[2,5,6,9,14,15]],[[0,4,8,11,13,15]],[[0,5,6,9,13,16]],[[0,3,6,11,14,16]],[[0,4,6,11,12,15,0,4,8,9,13,16]],[[2,5,7,11,14,15]],[[1,4,7,10,12,17,0,4,7,10,12,15]],[[0,3,7,10,13,17]],[[1,4,6,11,14,15]],[[2,3,6,9,13,17]],[[2,5,7,9,13,16]],[[1,4,6,11,13,15,1,4,6,11,13,16]],[[1,3,8,11,12,15]],[[1,4,7,10,13,16]],[[2,4,6,10,13,15]],[[0,4,8,9,14,16,2,3,6,10,12,17]],[[1,4,7,9,13,16]],[[1,4,8,9,14,17,0,3,7,11,13,17]],[[0,3,7,9,12,15]],[[0,4,8,11,12,17,0,3,7,10,14,17]],[[0,5,6,11,12,15,1,5,7,9,13,15]],[[2,3,7,10,12,16,0,4,8,9,14,17]],[[0,3,6,9,14,17,0,4,6,11,14,15]],[[0,3,7,11,13,17,0,5,8,9,13,17]],[[0,5,8,10,12,16,1,5,6,10,14,17]],[[2,3,6,10,12,16]],[[2,4,7,10,13,16]],[[0,4,8,9,13,15]],[[2,3,7,10,14,17]],[[2,4,6,10,12,17]],[[1,5,8,9,12,15,2,4,6,9,13,15]],[[0,5,7,9,12,16,1,3,8,10,13,16]],[[1,5,6,10,13,16]],[[1,5,6,9,12,17]],[[0,4,8,10,14,16,1,4,8,11,13,16]],[[0,3,6,10,12,15]],[[0,3,7,9,12,17]],[[1,3,8,9,13,16]],[[1,3,6,10,14,15]],[[1,5,8,10,13,17]],[[1,3,6,11,14,15,0,4,7,9,14,17]],[[2,4,7,9,13,17]],[[1,5,8,11,14,16,2,4,7,9,14,17]],[[2,5,8,9,13,15,2,5,7,9,13,16]],[[1,4,6,11,14,15,0,3,8,9,14,17]],[[0,3,8,9,14,17]],[[0,5,7,9,14,16]],[[1,4,8,9,12,16]],[[1,3,6,9,12,17]],[[2,4,8,11,12,16]],[[2,5,6,10,13,15,0,4,8,11,12,15]],[[2,5,7,10,12,15]],[[1,3,7,11,12,17]],[[1,4,8,10,12,17,0,4,6,10,12,17]],[[1,5,6,11,12,16]],[[0,3,8,10,14,15]],[[0,4,6,10,13,15]],[[1,5,8,9,13,17]],[[0,3,7,11,13,15,0,4,7,10,13,15]],[[1,5,7,11,14,17,0,5,6,10,12,15]],[[0,4,8,11,12,16]],[[1,3,6,10,13,15,2,4,7,9,13,15]],[[1,3,7,10,13,17]],[[0,3,8,10,14,15,2,3,6,11,14,16]],[[0,3,8,10,12,17]],[[0,3,8,10,12,15]],[[0,4,6,11,12,15,1,5,6,11,13,17]],[[1,5,7,10,13,15]],[[2,3,6,10,13,16]],[[2,5,7,9,14,16,0,5,7,10,12,16]],[[0,3,6,9,13,15,2,4,7,11,12,15]],[[1,3,7,9,13,16,1,3,8,9,14,15]],[[1,5,8,11,13,15,0,5,7,11,14,15]],[[2,4,8,11,13,16]],[[0,4,6,9,12,16]],[[0,4,6,10,13,16]],[[1,5,7,10,12,15,2,4,7,10,13,15]],[[1,4,6,9,13,15,1,5,6,9,13,16]],[[2,4,8,9,12,16,1,3,7,11,13,16]],[[0,5,7,11,14,17]],[[0,3,6,11,14,16,2,4,6,10,13,15]],[[2,3,6,10,14,16]],[[2,3,7,11,14,16]],[[0,3,7,9,13,15]],[[0,4,8,10,13,16]],[[0,4,7,9,14,17]],[[2,4,7,10,12,17,0,3,6,10,14,17]],[[2,3,7,11,13,17]],[[1,5,7,10,12,16,2,4,8,11,14,16]],[[0,4,7,11,13,17,0,4,7,9,13,17]],[[1,4,8,9,14,17,2,3,8,11,12,17]],[[2,4,7,11,12,15,0,5,6,10,13,16]],[[1,3,8,11,14,15]],[[1,5,6,9,14,16]],[[2,3,6,11,13,15]],[[1,4,6,11,13,17]],[[1,4,7,11,13,16]],[[0,4,8,10,12,17,1,4,7,9,12,16]],[[0,5,7,10,14,15]],[[0,3,8,9,12,17]],[[2,5,6,11,14,17,0,4,6,9,13,17]],[[0,3,7,10,13,15]],[[2,4,8,9,13,15,0,5,8,11,14,17]],[[0,4,7,9,13,17]],[[0,4,8,9,14,17,1,4,6,9,14,16]],[[0,3,7,11,13,16,1,3,7,10,12,17]],[[1,4,6,10,13,15]],[[1,3,8,9,12,17]],[[1,5,6,10,14,16]],[[1,3,7,10,12,16]],[[1,5,7,10,12,17]],[[1,3,6,9,12,16]],[[1,5,8,10,12,17]],[[0,4,7,10,13,17]],[[2,3,7,11,12,17]],[[1,5,6,11,13,17]],[[2,4,7,10,13,17,1,3,8,11,14,17]],[[1,3,7,9,13,15]],[[2,5,7,9,13,16,0,5,6,9,14,16]],[[1,5,8,11,14,16,1,3,8,9,13,15]],[[2,5,6,9,12,16]],[[2,3,8,9,12,17,1,3,8,11,13,17]],[[0,5,8,9,12,15]],[[1,3,8,11,14,17]],[[0,5,6,11,14,15]],[[1,3,7,11,12,15,2,5,6,11,12,16]],[[1,5,8,11,12,17]],[[0,3,8,10,13,17,0,3,8,11,13,17]],[[1,4,8,11,13,15]],[[1,4,8,10,12,17,0,4,8,9,13,16]],[[1,5,8,10,12,15,2,4,8,9,13,15]],[[1,5,6,10,14,16,2,5,8,11,14,17]],[[2,5,8,11,13,16,1,5,8,9,14,16]],[[0,5,7,11,13,16]],[[1,4,7,11,14,16]],[[2,4,7,9,13,16]],[[0,3,8,10,14,16]],[[1,3,8,11,14,15,2,4,7,9,14,15]],[[2,5,8,11,13,16,0,5,6,9,12,17]],[[2,3,7,11,13,16,1,3,6,10,14,16]],[[0,5,8,11,12,15,1,5,7,11,13,17]],[[1,4,8,9,13,16]],[[0,3,6,10,12,17]],[[0,3,6,10,13,16]],[[1,3,8,10,12,16,1,4,8,11,14,16]],[[0,4,8,9,12,16,2,3,7,11,12,17]],[[0,3,7,10,14,17]],[[0,4,8,10,14,16,2,4,6,10,13,17]],[[1,5,7,9,13,15,0,4,8,11,14,15]],[[2,4,7,10,12,17,1,5,8,10,12,16]],[[0,5,6,10,12,17,1,4,7,10,12,17]],[[1,3,8,9,14,15,2,3,6,9,12,17]],[[2,5,6,11,14,16,1,3,8,9,13,15]],[[0,3,8,11,13,15]],[[1,3,8,10,13,15,2,4,6,10,13,17]],[[1,4,8,11,13,17]],[[0,4,8,10,14,16,0,5,8,9,14,17]],[[1,4,6,11,12,17]],[[1,5,6,10,13,15,0,4,6,9,12,15]],[[2,4,8,10,13,16,0,5,7,10,12,15]],[[1,4,6,9,13,16]],[[1,3,7,9,14,17]],[[2,3,7,9,12,17]],[[1,5,6,10,14,15]],[[2,3,7,9,14,16,1,3,7,11,13,17]],[[0,5,7,11,13,17]],[[1,3,8,10,13,15,0,4,7,10,14,15]],[[2,3,6,10,13,17,2,5,7,11,13,17]],[[1,5,6,11,12,15]],[[2,3,6,9,14,17]],[[1,4,7,11,12,15]],[[0,3,8,10,14,17]],[[0,3,7,10,13,16]],[[0,4,8,10,13,16,2,5,7,9,14,17]],[[0,5,8,11,14,16,2,3,8,9,12,17]],[[0,4,7,10,12,17]],[[0,4,6,9,13,17]],[[0,5,7,11,14,17,1,3,6,11,14,16]],[[1,3,6,9,13,17]],[[2,4,7,10,14,17]],[[2,4,7,11,13,16]],[[1,4,7,9,13,15]],[[1,5,6,11,13,16]],[[1,4,7,10,12,15]],[[2,4,6,11,12,16]],[[2,4,7,11,14,17]],[[1,4,7,11,13,15,2,3,6,9,14,15]],[[0,5,8,10,12,17]],[[1,5,7,11,14,17,1,4,7,9,13,16]],[[0,4,8,9,12,17]],[[0,5,6,11,14,15,0,4,8,10,13,17]],[[1,4,7,11,13,17]],[[1,4,7,9,14,15]],[[1,4,8,10,12,17,2,3,7,11,12,16]],[[0,5,8,9,12,17,1,4,7,9,13,16]],[[2,3,8,11,13,17]],[[0,5,6,11,14,16,0,3,7,9,14,16]],[[1,5,7,9,14,15]],[[2,4,8,10,12,16]],[[1,4,6,9,13,15,2,4,8,9,14,16]],[[0,5,6,9,13,15,2,5,8,10,13,16]],[[0,4,7,11,13,15]],[[1,4,7,9,13,17,0,3,7,11,14,15]],[[2,4,6,11,13,17]],[[0,5,7,10,14,16]],[[1,3,6,10,13,15,0,5,7,9,14,15]],[[0,4,8,11,14,16,1,4,7,11,14,17]],[[2,3,6,10,13,16,0,4,7,10,13,15]],[[1,5,8,9,12,17]],[[2,5,8,11,13,16,2,5,6,9,14,17]],[[1,5,7,11,13,17]],[[2,4,8,9,14,16,1,3,7,11,13,15]],[[0,4,7,11,13,15,1,5,6,11,13,15]],[[1,3,8,9,13,15]],[[0,5,8,11,12,15,1,5,7,11,13,17,1,3,7,10,13,17]],[[1,3,8,10,13,17]],[[2,5,6,9,12,15]],[[2,3,8,11,14,17]],[[2,4,6,11,13,15]],[[1,3,8,10,14,16]],[[2,3,8,9,13,16]],[[0,5,6,10,13,17]],[[1,5,7,9,14,16]],[[2,4,6,11,12,15]],[[0,3,8,10,12,15,1,4,7,11,12,17]],[[1,4,6,9,12,15,1,3,8,9,14,16]],[[1,3,6,11,14,17]],[[0,5,8,11,13,15,0,5,8,10,13,17]],[[2,3,8,9,14,16,2,4,8,10,13,15]],[[1,3,7,9,13,15,0,3,7,10,12,15]],[[0,3,8,9,12,17,1,4,7,9,14,15]],[[1,5,6,9,14,15]],[[2,3,8,11,14,16,1,4,7,11,12,16]],[[1,3,8,9,13,16,0,3,7,11,14,17]],[[2,4,6,9,13,16]],[[2,3,7,10,14,15,1,3,7,10,14,17]],[[1,3,6,9,14,16]],[[0,4,6,9,14,17,1,5,7,9,14,17]],[[1,4,8,9,14,17,1,5,6,9,12,16]],[[0,5,6,10,13,17,2,4,8,11,12,15]],[[1,3,8,10,13,16,0,4,6,11,13,16]],[[0,5,7,11,12,17,1,4,6,11,13,15]],[[1,5,6,9,14,16,1,3,8,9,12,15]],[[1,5,8,9,13,15]],[[1,3,8,11,13,15,0,3,7,9,14,17]],[[2,5,7,9,13,16,2,3,7,11,13,17]],[[1,5,8,11,12,15,2,4,8,10,12,15]],[[2,4,7,9,14,17,0,5,7,11,12,16]],[[0,5,7,11,12,16]],[[0,5,8,9,12,17,0,3,8,11,14,17]],[[1,5,6,10,12,16]],[[0,3,6,9,13,15,1,4,7,10,12,15]],[[1,3,8,9,12,17,0,5,8,11,12,16]],[[1,4,6,10,12,17]],[[1,3,8,9,12,17,0,4,7,10,12,17]],[[2,5,8,10,12,15]],[[0,3,7,9,12,15,0,3,6,9,14,17]],[[2,4,6,11,14,15,1,4,8,9,12,16]],[[0,3,6,10,14,15]],[[1,4,6,9,14,16]],[[1,5,6,11,14,17,1,5,8,10,14,16]],[[2,4,7,11,12,17]],[[2,4,7,10,12,15]],[[0,5,8,9,14,16,1,5,7,9,14,17]],[[2,3,6,9,14,16,0,5,7,10,13,17]],[[0,3,7,11,14,17,2,4,7,10,12,17]],[[1,3,8,10,12,15]],[[0,4,7,10,13,17,1,4,8,11,13,16]],[[0,5,6,10,12,15]],[[1,3,8,11,12,17]],[[1,4,7,10,13,16,2,5,7,10,13,17]],[[2,3,7,10,14,17,0,3,7,11,13,16]],[[1,4,7,10,13,16,2,5,8,11,12,16]],[[1,3,6,9,14,17]],[[0,5,8,10,14,16,0,5,8,10,14,15]],[[2,5,7,10,13,17]],[[2,5,8,10,13,16,2,4,8,9,12,16]],[[2,4,8,10,13,16,2,4,6,10,13,16]],[[2,4,8,9,12,17,0,5,7,11,13,16]],[[1,3,6,10,12,16]],[[1,4,6,10,14,15]],[[1,5,6,10,12,15,2,5,6,10,12,15]],[[0,3,6,9,13,16,2,4,6,9,13,17]],[[2,3,7,10,12,16,0,3,8,9,12,15]],[[1,3,8,11,14,16]],[[2,4,6,9,14,15,1,5,8,10,13,15]],[[2,5,7,9,14,15]],[[2,3,6,11,14,17,0,5,6,9,13,15]],[[0,3,6,9,14,16]],[[0,4,7,10,12,16,2,5,7,9,12,15]],[[1,3,8,9,14,16]],[[2,3,7,10,14,16]],[[0,5,7,10,14,15,2,5,8,11,13,17]],[[2,3,7,11,13,16,2,3,6,10,12,17]],[[1,3,6,10,13,16]],[[2,4,6,11,12,17]],[[2,4,7,9,12,15]],[[2,5,8,11,13,16,2,3,8,11,14,16]],[[0,3,6,10,13,17,1,5,6,9,13,17]],[[2,4,7,11,12,16,0,3,8,10,14,15]],[[0,3,7,10,12,16]],[[1,5,6,11,14,15,1,3,6,10,13,16]],[[2,3,7,11,13,16,2,3,8,11,12,16]],[[1,3,8,11,12,15,1,5,8,9,12,15]],[[1,3,7,9,14,17,2,5,6,9,13,17]],[[2,4,6,10,13,15,0,4,7,9,13,15]],[[1,4,7,10,14,15]],[[2,3,8,11,14,16,0,5,8,9,12,16]],[[2,3,6,11,13,17,1,5,7,11,12,17]],[[2,3,7,11,12,17,0,4,8,11,12,16]],[[0,4,7,9,13,15]],[[2,4,6,11,14,17]],[[2,4,7,10,12,17,2,4,7,10,14,16]],[[1,3,6,10,14,17]],[[0,5,6,9,12,16,2,4,8,11,13,17]],[[0,5,7,9,14,15]],[[2,3,6,10,13,15,0,4,7,10,14,16]],[[2,3,7,9,12,16,1,5,8,10,13,17]],[[1,3,8,11,13,16,1,3,8,11,14,17]],[[0,5,8,10,13,17]],[[2,5,8,11,14,16]],[[0,5,8,10,14,17]],[[2,5,7,11,13,17]],[[2,5,8,10,13,17]],[[0,3,7,9,12,16]],[[0,3,7,9,12,15,1,5,6,9,14,16]],[[0,3,7,10,12,17]],[[2,4,6,11,12,17,1,4,6,11,12,16]],[[0,3,7,9,14,16,0,4,7,10,13,16]],[[0,4,7,9,14,16]],[[2,5,8,9,14,16]],[[1,3,6,9,14,17,1,4,8,9,13,17]],[[0,4,7,11,12,17,2,4,7,9,12,17]],[[1,4,6,11,14,15,1,3,8,11,12,16]],[[0,3,7,10,12,16,2,3,7,11,13,16]],[[0,4,6,11,14,17]],[[2,3,8,11,13,17,1,5,6,10,12,16]],[[1,3,7,11,14,15]],[[1,5,7,11,14,17,1,3,6,10,13,15]],[[2,5,6,9,13,16,1,5,6,11,13,17]],[[0,3,6,9,13,17,1,3,7,9,14,17]],[[1,3,8,11,13,17]],[[1,3,6,11,13,16]],[[2,3,6,11,13,15,0,3,7,9,12,16]],[[1,5,6,10,13,16,2,3,7,10,14,15]],[[1,4,8,11,12,15]],[[2,4,8,11,13,16,1,4,8,10,13,16]],[[0,4,6,11,14,16]],[[0,4,6,10,13,15,1,5,7,11,12,15]],[[2,5,8,11,14,17,0,5,8,9,14,15]],[[2,5,7,11,13,16]],[[0,4,6,10,12,16,2,4,6,11,14,17]],[[0,5,6,10,12,16,2,3,7,9,14,15]],[[1,3,7,11,13,16,1,3,7,11,12,15]],[[1,5,6,11,13,15,1,5,6,11,12,16]],[[2,5,6,10,13,15,0,4,8,11,14,16]],[[2,3,6,10,12,17,2,4,7,10,12,16]],[[1,4,7,11,12,17]],[[2,3,7,11,13,17,1,4,8,11,14,17]],[[0,3,6,9,13,16,0,3,8,11,12,17]],[[0,5,8,10,14,16,1,3,7,10,12,15]],[[2,5,6,11,12,15]],[[1,5,6,9,12,15,1,5,8,9,13,16]],[[1,3,7,10,13,15]],[[1,3,6,9,14,17,2,5,6,11,14,16]],[[0,4,6,10,13,16,0,5,8,11,14,16]],[[2,5,6,11,12,17,1,5,7,10,12,16]],[[0,4,7,9,13,17,0,4,8,9,12,15]],[[2,3,8,9,14,16,1,3,8,11,12,15]],[[0,5,6,10,14,15,1,4,6,9,14,16]],[[1,5,6,9,13,17]],[[2,4,7,9,12,15,0,3,8,10,13,15]],[[0,4,6,11,14,16,0,3,7,11,12,16]],[[1,5,6,9,13,17,1,3,7,10,14,16]],[[0,4,6,11,13,16,2,3,8,10,12,17]],[[2,4,8,11,13,17,1,4,6,10,12,16]],[[0,5,7,10,13,15]],[[0,3,8,10,13,17,0,4,7,9,14,16]],[[0,4,8,11,12,16,2,5,8,10,12,17]],[[1,5,6,11,13,15,2,5,8,10,13,16]],[[2,3,6,9,12,15]],[[1,4,6,9,14,15]],[[1,4,7,9,13,16,2,4,8,9,12,17]],[[0,5,6,11,14,17]],[[2,5,6,11,14,15]],[[2,4,7,10,13,15,2,3,7,10,12,16]],[[0,3,8,11,13,17,1,5,8,10,14,16]],[[2,4,8,11,14,17,2,5,7,11,14,17]],[[1,4,7,10,12,17,2,3,7,9,12,15]],[[2,3,7,10,14,17,0,3,8,11,14,15]],[[1,3,8,9,14,17,2,4,7,9,14,15]],[[0,5,6,10,14,17,2,3,8,11,13,17]],[[0,4,7,11,13,16,2,4,6,11,13,15]],[[2,5,7,11,13,15]],[[2,4,8,9,13,17]],[[2,4,8,11,14,17,2,5,7,11,14,15]],[[2,5,6,9,13,16,0,3,7,11,12,15]],[[1,4,6,10,14,15,1,4,8,11,14,15]],[[0,4,6,11,12,15,0,5,7,10,13,15]],[[1,3,6,9,14,15]],[[2,3,8,11,14,15]],[[1,3,7,11,14,17]],[[0,3,7,11,14,17,1,3,8,9,13,17]],[[1,5,8,10,12,16]],[[1,5,6,10,13,16,0,4,6,11,13,15]],[[0,3,6,10,14,15,1,5,8,9,13,16]],[[2,3,7,9,12,15]],[[2,3,6,10,13,17,0,5,7,10,12,16]],[[2,4,7,11,12,16,0,5,6,10,13,15]],[[2,3,8,11,12,17]],[[2,5,8,11,13,15]],[[0,3,6,9,13,17,1,4,7,10,13,17]],[[2,3,8,9,14,17]],[[2,4,6,9,12,16,1,5,7,10,12,17]],[[1,4,7,11,13,15,0,5,6,11,13,17]],[[0,5,6,9,14,17]],[[1,4,8,10,14,15]],[[2,5,6,11,14,16,1,4,7,9,12,16]],[[1,5,8,9,14,17]],[[1,3,6,10,13,15,1,5,6,10,14,15]],[[0,5,6,10,12,17,0,3,6,11,13,16]],[[0,4,7,11,14,17]],[[0,5,6,10,13,17,0,5,6,10,14,15]],[[2,4,8,9,14,17]],[[1,4,6,11,13,15,1,5,8,9,14,17]],[[2,4,6,10,13,15,1,5,7,9,13,17]],[[1,4,8,11,13,17,0,5,6,11,12,17]],[[0,3,8,9,13,17]],[[2,4,7,9,12,15,2,4,7,11,12,15]],[[0,3,8,11,13,15,1,3,7,10,12,17]],[[1,3,6,11,13,15,2,3,7,10,12,16]],[[0,4,8,9,14,16,2,4,6,10,12,17]],[[0,4,7,10,13,17,1,4,8,11,12,16]],[[0,4,8,11,14,16,0,5,8,11,13,16]],[[1,3,6,9,12,16,1,5,8,9,14,17]],[[0,5,8,11,12,15,0,5,7,10,14,15]],[[2,4,8,11,14,17,0,4,6,11,13,15]],[[2,3,8,9,14,16,2,5,6,10,12,15]],[[0,3,8,10,12,16]],[[2,4,6,9,13,17]],[[2,3,8,10,13,17]],[[1,4,7,10,12,17,0,5,6,9,13,16]],[[0,4,7,10,13,16]],[[1,5,7,10,13,15,0,3,6,10,12,16]],[[0,5,8,11,13,16]],[[1,3,7,9,14,15,2,3,7,11,12,15]],[[1,4,8,9,12,17]],[[2,5,6,10,12,16]],[[1,3,8,9,14,16,1,3,6,9,13,15]],[[0,4,6,11,13,17]],[[1,4,8,10,14,15,2,5,7,10,14,17]],[[2,5,6,10,14,17]],[[1,3,7,9,14,17,1,4,7,9,14,15]],[[2,5,8,9,12,16]],[[1,4,6,11,14,16]],[[1,4,8,11,14,15]],[[2,5,6,9,14,17]],[[0,5,7,10,13,15,0,5,7,9,14,15]],[[1,5,7,10,12,16,1,5,6,10,14,16]],[[1,4,6,11,12,16,1,4,6,10,12,17]],[[1,5,6,10,13,15,2,5,6,11,13,17]],[[2,3,7,9,14,17]],[[2,4,6,11,14,16]],[[0,3,6,9,13,16,1,3,7,10,12,15]],[[1,5,8,9,14,16]],[[1,5,6,10,13,17]],[[2,4,6,9,12,17,1,5,8,11,13,17]],[[0,3,8,10,13,17,1,4,8,11,12,15]],[[1,5,6,9,13,16,0,4,8,11,12,16]],[[1,3,7,9,14,15,1,5,8,9,13,16]],[[1,5,7,11,13,17,0,5,6,9,12,15]],[[1,3,8,10,14,17]],[[1,5,6,11,13,15,0,5,6,9,14,17]],[[2,4,6,9,14,16]],[[0,5,7,9,13,16]],[[1,3,8,10,13,15,1,3,7,11,14,16]],[[1,3,6,11,14,15,0,4,7,9,13,15]],[[2,4,6,11,14,17,1,3,8,9,12,16]],[[2,5,8,10,14,15,1,4,7,11,12,16]],[[0,3,7,9,12,16,1,3,6,9,13,15]],[[0,4,6,11,13,15]],[[1,4,7,11,14,15]],[[0,4,8,11,12,15,1,4,6,10,13,16]],[[2,4,6,9,13,15,0,5,7,9,12,16]],[[0,4,6,10,14,17]],[[1,3,8,11,14,16,2,5,7,11,12,17]],[[2,5,6,11,14,15,1,3,7,9,12,16]],[[2,3,7,11,13,17,1,5,7,9,13,17]],[[0,4,6,11,13,15,2,3,7,11,12,17]],[[0,5,8,9,14,17]],[[0,5,7,9,12,17,1,4,6,10,13,17]],[[0,3,8,11,12,17]],[[1,4,8,9,14,16,2,5,6,10,13,17]],[[1,3,8,10,13,15,1,3,8,9,12,16]],[[1,5,7,11,12,16,2,5,6,11,13,15]],[[2,3,8,10,12,15]],[[0,4,7,11,13,17,0,5,7,10,13,16]],[[0,4,8,10,13,17]],[[1,3,8,10,14,17,1,4,6,10,12,16]],[[0,5,6,9,12,17]],[[2,3,8,11,13,16]],[[2,5,8,9,13,15,1,4,8,11,14,17]],[[1,5,6,10,13,17,1,4,7,10,14,16]],[[0,5,6,10,12,17,1,3,7,11,12,17]],[[1,4,7,10,14,17,2,3,6,11,12,17]],[[1,4,6,11,13,16,1,5,7,10,13,15]],[[0,4,6,9,14,15,2,4,8,10,12,15]],[[0,4,8,10,14,15]],[[0,5,7,11,12,15]],[[1,5,7,11,12,16,0,5,6,11,12,17]],[[1,4,6,9,13,17]],[[1,3,8,10,12,17,0,3,6,9,14,16]],[[1,3,8,11,14,17,2,3,7,10,12,15]],[[1,5,8,10,13,17,1,4,6,9,12,15]],[[0,4,6,11,13,16,0,4,8,10,14,15]],[[0,5,8,9,13,15]],[[0,4,6,9,14,17,1,4,7,10,13,17]],[[1,4,8,11,14,17]],[[2,4,8,10,14,16,2,3,7,9,12,17]],[[2,5,7,9,12,16]],[[2,5,8,9,12,17,2,5,7,9,12,15]],[[2,3,8,9,14,17,2,4,7,10,13,15]],[[1,4,6,11,13,17,1,5,8,10,13,16]],[[0,3,8,10,13,17,2,4,6,9,12,16]],[[0,4,8,9,12,16,2,5,6,10,12,15]],[[2,5,7,11,14,17,0,3,8,11,13,17]],[[1,4,6,9,12,15,0,5,6,11,13,16]],[[2,4,7,11,14,17,0,5,8,9,14,17]],[[1,4,7,11,13,15,0,5,7,10,14,15]],[[1,5,6,10,13,15,1,4,8,11,12,15]],[[1,4,7,9,12,16]],[[1,5,6,10,12,16,2,3,7,9,12,16]],[[2,4,8,11,14,16]],[[0,5,7,9,13,16,0,4,8,9,13,15]],[[0,4,8,9,14,17,2,5,8,9,13,15]],[[1,3,8,10,12,16,0,3,6,11,13,15]],[[1,4,8,9,13,17]],[[2,3,8,10,13,15]],[[0,3,8,11,14,17]],[[1,5,8,9,12,16,1,3,8,10,13,15]],[[1,4,8,10,14,15,2,3,8,9,13,16]],[[0,5,6,10,12,17,1,4,7,11,14,15]],[[1,3,7,11,14,17,2,3,7,10,13,16]],[[0,5,8,10,14,16,2,3,7,10,13,17]],[[0,5,8,11,14,15]],[[1,5,7,11,13,15,1,5,6,11,14,15]],[[1,5,7,11,14,15]],[[2,3,7,9,13,17]],[[1,3,8,9,12,16]],[[2,5,6,9,12,16,0,3,8,9,14,17]],[[1,3,6,9,12,17,2,5,7,11,13,17]],[[2,3,8,11,13,16,1,3,7,10,13,15]],[[2,3,8,10,12,15,0,3,7,11,14,17]],[[2,5,7,10,13,16,0,3,6,10,14,15]],[[1,5,6,9,13,16,1,5,6,10,14,17]],[[0,4,6,11,12,16]],[[2,3,8,9,12,15]],[[1,5,6,11,13,17,0,4,8,9,13,17]],[[0,3,6,9,13,16,2,4,8,9,12,17]],[[0,4,8,9,13,17,1,4,8,11,13,16]],[[0,4,7,11,13,17,0,5,7,9,12,17]],[[2,5,7,11,12,15,1,3,8,9,12,16]],[[2,5,6,11,12,15,0,4,6,10,14,16]],[[1,3,8,10,14,15,2,4,7,10,13,15]],[[2,5,6,11,13,16,1,4,7,9,13,16]],[[1,3,6,9,13,16]],[[1,3,8,11,14,17,1,3,7,9,12,15]],[[0,4,7,9,14,16,2,4,6,9,14,17]],[[0,3,8,9,13,17,0,3,7,9,12,16]],[[1,5,6,10,14,15,1,5,8,11,12,17]],[[0,3,8,10,13,15]],[[2,3,7,10,12,17,0,4,6,9,13,15]],[[1,3,6,11,13,15,2,3,6,11,14,15]],[[2,4,8,10,14,17]],[[1,3,7,11,12,16,2,4,6,10,14,17]],[[2,4,6,9,14,17,2,5,7,11,14,15]],[[1,4,8,9,14,15]],[[1,4,8,9,13,16,0,5,7,11,13,16]],[[0,5,6,10,13,16,2,5,8,11,12,15]],[[1,4,6,10,13,15,0,5,6,10,13,15]],[[2,5,8,9,13,17,2,5,7,10,12,15]],[[1,3,8,11,12,15,2,3,6,11,14,15]],[[2,5,6,11,13,17,2,4,7,9,12,15]],[[1,3,8,10,14,16,2,5,6,10,14,16]],[[2,5,8,10,13,15]],[[2,4,8,10,13,17]],[[0,3,7,10,14,16]],[[0,5,6,11,13,15]],[[2,4,6,10,14,15,0,4,8,11,12,17]],[[0,4,7,11,12,16,2,4,6,9,14,15]],[[2,3,6,11,14,15,2,4,6,9,12,16]],[[2,3,8,11,14,17,2,3,6,10,14,17]],[[0,5,8,10,14,15]],[[1,5,6,10,13,16,2,4,7,10,12,15]],[[0,5,6,10,12,17,2,3,7,10,14,17]],[[1,3,7,10,13,16,0,4,8,9,13,17]],[[2,3,6,10,13,15,2,5,6,11,12,17]],[[2,3,6,9,14,15]],[[1,4,8,9,14,16,2,5,8,11,12,17]],[[1,3,7,11,12,17,1,4,7,11,14,16]],[[2,3,7,10,13,15,1,4,7,9,14,17]],[[1,3,8,10,13,16,2,5,8,9,12,17]],[[2,5,7,11,12,17,2,5,6,11,13,15]],[[1,3,8,10,12,17,0,4,7,10,12,15]],[[1,4,7,11,14,15,2,4,8,11,12,17]],[[0,5,7,9,14,17]],[[1,4,7,11,14,16,1,5,6,9,13,16]],[[2,5,7,9,13,15,1,3,7,9,13,16]],[[2,3,7,9,14,17,0,3,7,10,13,17]],[[1,4,7,10,13,16,1,4,6,9,14,16]],[[1,5,6,9,12,17,1,3,7,9,13,17]],[[1,5,6,11,14,15,0,4,6,11,14,17]],[[0,3,8,9,12,17,2,4,8,10,14,15]],[[1,4,7,9,13,16,1,4,7,11,12,15]],[[0,5,6,11,12,17]],[[2,3,6,11,13,15,1,4,6,10,12,16]],[[0,3,7,10,14,16,2,5,6,9,14,16]],[[1,4,7,9,14,17]],[[2,3,7,9,13,16,2,4,7,10,13,16]],[[0,3,8,10,14,16,0,4,7,11,12,16]],[[2,5,6,11,14,16,0,3,6,11,12,15]],[[1,4,6,10,12,17,1,3,7,9,12,16]],[[0,3,8,11,14,17,1,3,6,9,14,15]],[[1,4,8,11,13,15,1,4,7,11,13,17]],[[0,4,7,10,12,15,1,3,6,9,14,16]],[[2,4,7,10,12,16]]],\"hovertemplate\":\"type=Random\\u003cbr\\u003eColor Score=%{x}\\u003cbr\\u003eComponent Score=%{y}\\u003cbr\\u003eOverall Score=%{marker.size}\\u003cbr\\u003ename=%{customdata[0]}\\u003cextra\\u003e\\u003c\\u002fextra\\u003e\",\"legendgroup\":\"Random\",\"marker\":{\"color\":\"#636efa\",\"size\":[37,29,27,29,23,35,31,20,31,18,33,21,30,38,13,21,39,23,24,33,27,23,30,31,35,20,39,43,36,29,29,31,30,26,45,40,28,15,24,40,37,70,33,44,33,74,24,44,21,26,18,30,27,25,45,28,74,18,26,21,22,34,21,37,68,28,34,71,40,33,26,55,32,85,34,85,39,17,23,65,44,20,18,39,74,21,21,29,29,30,63,37,25,29,34,19,27,27,27,19,22,37,23,27,64,28,27,33,35,38,62,23,30,28,31,32,25,66,64,18,67,84,33,61,73,46,83,42,39,33,71,82,26,26,26,26,24,27,38,64,65,35,80,32,27,36,28,23,27,31,42,27,22,22,22,28,39,38,34,32,33,62,32,24,66,70,14,23,82,34,22,63,20,60,56,30,37,63,15,26,35,25,34,30,53,24,23,34,29,73,70,26,38,24,39,27,59,58,27,27,36,24,26,31,25,39,30,22,33,32,27,24,65,36,36,20,32,26,32,39,30,67,17,27,31,27,62,20,34,43,24,30,38,35,41,29,63,66,18,29,26,34,22,37,29,69,32,23,28,79,74,38,68,29,30,20,22,76,47,70,34,36,46,61,26,22,28,34,66,29,32,78,32,24,80,24,30,29,34,33,36,39,87,31,32,78,74,27,68,32,63,37,47,20,58,35,22,92,33,36,85,36,24,74,74,28,78,67,32,67,36,28,30,31,70,23,42,39,75,25,68,25,14,34,20,33,23,85,84,26,27,44,22,71,60,35,61,32,28,36,41,32,29,72,35,34,33,69,25,82,53,30,33,86,68,59,67,16,36,76,29,77,82,17,59,56,29,69,21,28,27,24,29,40,40,30,43,33,77,31,56,28,32,40,40,86,24,30,38,65,37,63,35,50,85,61,78,71,56,31,32,35,23,24,85,71,35,30,59,32,28,34,32,21,73,34,62,89,68,24,33,25,31,22,74,28,22,48,30,24,37,28,82,65,21,91,27,70,16,23,76,33,38,71,87,81,72,29,35,35,72,97,73,23,83,32,30,42,26,27,58,31,59,73,52,77,25,36,42,31,32,56,28,23,77,35,66,33,69,67,36,22,29,25,19,36,14,26,24,32,57,41,89,70,37,60,29,18,34,73,16,60,29,58,69,60,69,34,26,39,22,72,73,78,64,32,25,37,53,62,22,63,76,51,54,75,81,32,72,22,55,24,86,66,41,28,29,31,76,29,68,75,32,34,27,17,33,67,59,19,37,67,38,21,34,39,37,25,31,23,87,15,71,21,67,27,33,54,71,26,78,34,20,83,85,35,75,33,26,85,55,83,21,75,28,76,86,36,103,22,39,20,40,21,36,31,32,33,55,76,27,65,71,81,68,38,62,70,43,63,37,70,68,67,76,72,77,35,72,83,57,67,27,53,28,83,56,22,53,23,80,71,33,35,58,22,27,67,78,56,22,65,31,17,70,70,65,32,56,28,67,75,68,29,30,74,94,69,23,79,36,86,38,71,28,28,65,74,36,26,34,67,81,63,26,81,72,64,79,90,26,64,68,57,40,27,58,25,72,35,77,67,59,22,24,16,30,23,33,83,21,67,77,32,29,71,60,66,74,26,66,30,72,88,79,24,38,87,77,22,66,31,77,61,35,67,78,75,81,73,63,20,59,74,60,34,82,34,77,70,63,73,66,79,37,76,71,75,66,63,34,67,49,79,40,37,71,27,35,73,57,54,66,61,70,63,85,37,29,61,86,65,78,39,27,23,65,19,86,78,36,70,77,19,32,76,25,67,79,32,21,75,22,81,75,22,75,23,72,83,60,30,75,64,79,63,58,63,70,64,69,74,21,38,24,73,31,75,29,78,20,30,85,32,55,26,73,28,30,23,33,81,65,63,83,30,32,83,27,30,66,57,75,80,78,16,83,37,39,69,86,66,61,90,39,28,69,89,24,58,79,76,75,23,68,18,70,68,79,24,72,21,55,31,31,65,66,58,59,81,72,22,29,64,36,65,59,69,71,36,68,16,62,33,70,71,69,71,70,61,86,58,74,71,30,74,23,86,71,73,27,31,19,67,69,64,69,62,25,80,29,36,27,73,73,77,60,78,78,30,31,72,78,67,67,69,75,69,88,43,64,76,75,59,30,78,88,16,64,75,28,78,73,86,70,72,80,64,30,22,27,40,60,77,84,59,23,74,59,72,79,41,56,60,74,62,76,53,57,28,80,93,70,77,76,71,58,76,26,81,77,26,85,60,79,66,70,68,75,25],\"sizemode\":\"area\",\"sizeref\":0.2575,\"symbol\":\"circle\"},\"mode\":\"markers\",\"name\":\"Random\",\"showlegend\":true,\"x\":[28,19,21,22,22,27,24,17,26,18,27,19,23,32,15,16,30,16,16,24,20,24,18,23,26,15,29,36,30,27,20,25,21,20,35,30,27,14,16,30,26,46,24,34,25,48,18,32,17,23,19,22,21,21,36,21,45,13,23,17,17,25,21,31,43,24,25,47,31,25,21,29,27,65,28,56,29,12,16,43,35,17,11,26,53,15,20,23,23,24,40,33,22,23,28,11,21,22,21,17,19,24,19,26,43,22,23,24,24,26,45,17,23,22,25,29,21,35,45,12,43,48,26,40,48,36,56,30,31,29,49,49,25,21,21,18,17,22,28,40,46,29,53,20,22,27,19,17,21,23,35,19,19,19,16,20,32,31,24,26,22,42,24,20,45,46,16,18,51,22,15,40,18,37,33,28,28,38,15,20,22,19,27,22,37,19,19,25,23,48,43,20,31,21,30,23,41,38,23,21,29,17,21,20,15,28,20,14,27,24,24,23,42,30,24,18,25,21,25,29,26,43,15,23,24,21,39,18,26,30,20,21,31,26,28,20,40,45,13,20,23,24,17,31,22,47,25,17,24,51,48,31,49,23,20,18,18,47,32,46,27,32,27,43,19,18,23,27,43,25,27,49,26,23,52,22,23,21,25,25,27,30,54,27,23,51,49,23,47,24,41,31,34,20,31,26,17,57,27,30,55,26,17,44,46,20,51,43,27,44,29,20,25,26,47,17,33,31,51,14,49,18,13,24,19,25,21,57,49,18,22,37,20,44,40,25,35,26,24,26,30,26,21,48,25,27,28,46,24,58,34,27,27,56,46,37,41,16,24,53,26,48,49,14,41,38,26,44,17,19,19,15,19,31,28,25,34,24,56,20,44,23,26,29,28,62,19,26,31,42,30,40,28,33,59,38,52,46,38,24,25,29,15,22,58,47,29,26,39,28,23,25,25,18,47,26,35,54,43,17,24,22,26,17,51,22,18,39,25,18,33,22,57,44,19,62,22,40,15,20,55,27,28,44,59,50,45,21,31,31,50,69,46,17,55,22,18,32,23,22,39,21,36,52,30,53,17,27,30,27,26,42,22,19,51,28,40,28,46,44,32,18,23,21,18,29,14,24,17,26,34,31,56,42,28,35,24,12,26,47,14,38,24,42,46,34,39,26,20,29,16,42,47,47,42,26,23,30,33,40,17,43,50,35,42,46,49,24,49,19,34,23,64,45,34,20,21,25,44,23,46,46,27,23,24,13,26,42,33,20,32,40,30,16,25,32,29,24,25,16,56,15,46,20,46,23,26,35,49,17,48,25,17,55,56,29,49,26,20,57,34,57,18,43,22,46,60,27,64,18,30,11,31,15,24,27,23,27,39,51,20,43,41,55,45,29,36,42,33,36,27,46,46,46,52,51,50,27,44,49,38,42,22,32,25,60,36,23,38,18,53,47,26,28,35,18,23,40,49,35,19,46,28,14,47,41,42,24,34,21,41,50,44,25,26,53,64,44,15,52,24,55,28,49,19,18,39,45,29,22,27,34,57,39,22,54,40,42,49,64,22,36,43,36,33,20,37,20,48,26,51,42,33,19,14,13,21,17,26,55,19,48,51,25,18,47,42,43,46,22,42,21,47,58,51,18,29,56,49,20,43,25,56,33,24,47,50,48,56,47,42,19,34,49,39,26,56,27,46,47,42,53,37,54,30,51,47,49,44,44,28,44,32,51,30,30,48,21,24,47,34,27,45,33,41,38,58,26,22,32,56,44,57,29,16,16,39,17,62,51,26,47,53,13,22,54,15,47,55,25,18,48,16,56,53,18,53,16,48,57,42,23,50,42,51,43,42,39,45,42,45,44,18,30,17,53,27,53,22,47,19,24,54,28,33,19,46,20,24,18,23,54,44,49,56,19,23,57,19,26,44,39,52,50,54,12,56,27,30,42,58,41,38,61,33,22,51,61,22,32,49,47,50,17,50,15,45,44,51,18,50,20,38,27,20,39,46,41,38,57,50,19,24,44,31,42,34,50,50,28,49,13,36,24,43,42,48,48,49,34,62,33,50,51,26,49,15,59,44,49,23,22,13,44,42,45,40,37,18,52,21,25,21,45,47,47,35,50,53,27,22,50,52,46,47,43,51,44,58,33,39,49,49,39,24,54,55,12,41,44,22,52,48,64,43,43,52,37,22,18,20,32,41,52,53,30,18,52,38,49,51,28,33,38,47,38,47,39,36,21,53,59,42,54,52,47,36,54,23,56,46,21,53,39,50,48,42,47,52,21],\"xaxis\":\"x\",\"y\":[21,22,18,19,13,20,19,15,17,12,18,14,19,18,10,17,21,19,20,21,19,11,24,20,21,17,22,19,18,14,21,18,21,18,22,22,13,13,20,22,23,36,21,22,20,38,18,24,16,15,11,20,18,16,21,19,41,17,15,16,17,21,12,18,37,16,21,36,21,20,17,38,17,32,18,41,22,17,19,34,21,15,19,25,33,18,13,18,18,18,35,16,15,18,18,20,18,17,18,14,15,25,16,13,33,18,16,21,23,24,29,18,19,18,18,15,16,43,31,18,36,48,19,33,37,22,39,24,20,16,34,45,13,17,17,20,19,17,22,36,31,18,39,24,17,21,21,18,18,20,19,20,15,15,18,20,19,19,22,18,23,32,20,16,33,36,10,17,43,24,19,35,14,35,35,14,21,37,12,18,25,18,19,20,28,17,16,21,18,37,39,18,19,15,21,16,30,32,16,18,19,19,17,23,22,23,22,20,18,20,15,13,35,18,24,14,19,17,19,22,16,36,14,16,19,18,35,14,20,25,16,21,19,21,25,21,35,33,17,21,15,22,17,18,19,34,19,18,16,40,38,19,31,18,22,14,16,41,27,36,19,16,31,30,19,16,17,19,35,16,17,41,18,13,40,14,19,20,21,20,21,21,45,16,21,39,37,16,33,20,34,18,25,12,39,21,17,47,18,18,42,22,19,42,40,20,39,36,17,35,19,20,17,17,35,18,21,20,36,23,31,19,13,22,13,20,14,40,47,20,17,19,14,39,32,22,38,18,16,22,23,18,20,36,22,19,17,35,13,36,31,15,18,42,34,34,38,12,24,35,15,41,45,15,30,30,15,37,16,21,20,21,22,21,24,17,21,21,33,23,24,17,18,23,24,36,17,16,19,35,19,35,19,29,38,35,38,37,30,19,19,18,20,14,39,36,18,16,32,16,17,21,19,15,38,20,39,47,37,19,21,15,17,17,35,18,16,21,17,18,16,18,37,33,14,41,17,42,13,15,33,18,22,39,40,43,39,20,16,16,34,40,39,18,40,22,24,22,15,17,31,22,35,33,34,36,20,21,24,16,18,26,18,16,38,19,38,17,35,35,16,16,18,16,13,19,12,14,19,18,35,22,45,40,21,37,17,18,20,38,14,34,17,28,35,38,42,20,18,22,18,42,38,43,34,18,14,19,32,34,17,32,38,28,24,41,44,20,35,15,33,13,34,33,19,20,20,18,44,18,34,41,17,23,15,16,19,37,38,11,17,39,20,17,21,19,20,13,18,19,43,12,37,13,33,16,19,31,34,21,42,21,15,40,41,18,38,19,18,40,33,38,15,44,18,42,38,21,51,16,21,21,21,18,24,16,21,18,28,37,19,34,42,38,35,21,38,40,22,39,22,36,34,33,36,33,39,20,40,46,31,37,17,33,15,35,32,11,27,17,39,36,19,19,35,16,16,39,41,33,15,31,15,15,35,41,35,20,34,19,38,37,36,16,16,33,42,37,20,39,24,43,22,34,21,22,38,41,19,16,19,45,36,36,16,39,44,34,42,38,16,40,37,33,19,19,33,17,36,21,38,37,38,15,22,15,21,18,19,40,14,31,38,19,23,36,30,35,40,16,36,21,37,42,40,18,21,43,40,14,35,18,33,40,23,32,40,39,37,38,33,13,37,37,33,20,38,19,43,35,33,32,41,37,19,37,36,38,34,31,18,35,29,40,22,19,35,18,23,38,35,39,33,40,41,37,39,23,19,41,42,33,33,22,23,19,38,14,36,39,22,35,36,18,22,34,22,32,36,19,15,39,18,37,34,16,34,19,36,38,30,19,37,34,40,32,28,36,37,34,36,42,15,20,19,32,16,34,19,43,13,18,43,16,34,19,39,20,18,17,22,39,33,26,39,23,21,38,20,16,34,30,35,42,36,16,39,22,21,39,40,37,35,41,18,18,30,40,14,38,42,41,37,18,30,15,37,36,40,18,34,13,29,16,23,38,32,29,33,36,34,15,17,32,17,35,37,31,33,20,31,15,38,21,39,41,33,35,33,39,36,37,36,32,16,37,20,39,39,36,16,21,18,35,39,31,41,37,19,40,20,23,18,40,38,42,37,40,37,15,21,34,38,33,32,38,36,37,42,22,37,39,38,32,18,36,45,16,35,43,18,38,37,34,39,41,40,39,20,16,19,20,31,37,43,41,17,34,33,35,40,25,35,34,39,36,41,26,33,19,39,46,40,35,36,36,34,34,15,37,43,17,44,33,41,30,40,33,35,16],\"yaxis\":\"y\",\"type\":\"scattergl\"},{\"customdata\":[[[1,4,7,9,13,16]],[[0,3,6,9,13,16]],[[1,3,6,9,13,16]],[[2,3,6,9,13,16]],[[0,3,6,10,13,16]],[[1,3,6,10,13,16]],[[2,3,6,10,13,16]],[[0,3,6,9,12,16]],[[1,3,6,9,12,16]],[[0,3,6,9,12,15]],[[1,3,6,9,12,15]],[[2,3,6,9,12,15]],[[0,3,6,10,13,15]],[[1,3,6,10,13,15]],[[2,3,6,10,13,15]],[[0,3,6,10,12,15]],[[1,3,6,10,12,15]],[[2,3,6,10,12,15]],[[0,3,7,10,12,16]],[[1,3,7,10,12,16]],[[2,3,7,10,12,16]],[[0,3,7,9,13,15]],[[1,3,7,9,13,15]],[[0,3,7,10,13,16]],[[0,3,7,9,12,15]],[[1,3,7,9,12,15]],[[2,3,7,9,12,15]],[[0,4,6,9,12,15]],[[0,5,6,9,12,15]],[[1,4,6,9,12,15]],[[1,5,6,9,12,15]],[[2,4,6,9,12,15]],[[2,5,6,9,12,15]],[[0,4,6,9,12,16]],[[1,4,6,9,12,16]],[[0,4,7,9,12,16]],[[1,4,7,9,12,16]],[[0,4,7,10,13,16]],[[0,4,6,10,12,16]],[[1,4,6,10,12,16]],[[0,5,6,9,12,16]],[[1,5,6,9,12,16]],[[2,3,6,9,12,16]],[[2,5,6,9,12,16]],[[0,3,6,10,12,16]],[[0,5,6,10,12,16]],[[1,3,6,10,12,16]],[[1,5,6,10,12,16]],[[2,3,6,10,12,16]],[[2,5,6,10,12,16]],[[0,3,7,10,13,15]],[[1,3,7,10,13,15]],[[0,3,6,9,13,15]],[[1,3,6,9,13,15]],[[2,3,6,9,13,15]],[[0,4,6,10,13,15]],[[1,4,6,10,13,15]],[[0,3,6,9,12,16]],[[0,3,7,9,12,16]],[[1,3,7,9,12,16]],[[0,3,7,10,12,15]],[[0,3,6,9,13,15]],[[0,3,8,9,12,16]],[[1,3,8,9,12,16]],[[0,3,7,10,12,15]],[[1,3,7,10,12,15]],[[0,4,7,10,13,15]],[[1,4,7,10,13,15]],[[0,4,6,9,13,15]],[[1,4,6,9,13,15]],[[0,3,7,10,13,16]],[[0,5,7,10,13,16]],[[1,3,7,10,13,16]],[[1,5,7,10,13,16]],[[0,5,7,9,12,15]],[[2,4,6,9,13,15]],[[0,3,6,9,13,16]],[[0,3,7,9,12,15]],[[0,4,7,9,12,15]],[[2,4,7,9,12,15]],[[0,3,6,10,12,15]],[[0,3,7,9,13,16]],[[0,4,6,10,13,16]],[[0,5,6,10,13,16]],[[2,4,6,10,13,16]],[[2,5,6,10,13,16]],[[0,4,7,10,12,16]],[[0,5,7,10,12,15]],[[2,3,7,10,12,15]],[[2,5,7,10,12,15]],[[0,4,6,9,13,16]],[[0,4,6,10,12,15]],[[0,5,7,9,12,16]],[[0,5,6,10,13,15]],[[0,4,6,9,13,16]],[[1,4,7,9,12,15]],[[1,3,7,9,13,16]],[[1,3,7,9,13,16]],[[2,3,7,9,13,16]],[[2,3,7,10,13,15]],[[2,4,6,9,12,16]],[[1,4,7,9,13,15]],[[2,4,7,9,13,15]],[[1,5,7,10,13,15]],[[2,4,7,10,13,15]],[[2,5,7,10,13,15]],[[1,3,8,9,12,15]],[[1,4,6,10,12,15]],[[1,5,6,10,12,15]],[[1,4,7,10,13,16]],[[1,4,6,9,13,16]],[[1,3,7,9,12,16]],[[1,4,6,10,12,16]],[[1,4,6,9,13,15]],[[1,5,7,10,12,16]],[[2,5,7,10,12,16]],[[0,4,7,10,12,16]],[[2,4,7,10,12,16]],[[0,3,8,9,13,15]],[[0,4,7,9,13,15]],[[0,4,8,9,13,15]],[[2,3,7,9,13,15]],[[2,3,8,9,13,15]],[[2,4,8,9,13,15]],[[2,3,7,10,13,16]],[[0,5,7,9,13,15]],[[2,5,7,9,13,15]],[[2,4,6,10,12,16]],[[0,4,7,10,12,15]]],\"hovertemplate\":\"type=Sampler\\u003cbr\\u003eColor Score=%{x}\\u003cbr\\u003eComponent Score=%{y}\\u003cbr\\u003eOverall Score=%{marker.size}\\u003cbr\\u003ename=%{customdata[0]}\\u003cextra\\u003e\\u003c\\u002fextra\\u003e\",\"legendgroup\":\"Sampler\",\"marker\":{\"color\":\"#EF553B\",\"size\":[37,44,43,45,37,36,38,37,36,39,38,40,39,38,40,32,31,33,26,25,27,42,41,33,35,34,36,37,38,36,37,38,39,35,34,31,30,31,28,27,36,35,38,37,30,29,29,28,31,30,35,34,46,45,47,37,36,37,33,32,28,46,28,27,28,27,33,32,44,43,33,32,32,31,34,45,44,35,33,34,32,40,35,36,36,37,24,27,29,28,42,30,32,38,42,32,39,39,41,36,36,39,41,33,34,35,29,29,30,30,41,32,27,43,24,26,24,25,37,40,35,43,38,36,34,41,42,29,26],\"sizemode\":\"area\",\"sizeref\":0.2575,\"symbol\":\"circle\"},\"mode\":\"markers\",\"name\":\"Sampler\",\"showlegend\":true,\"x\":[30,34,33,32,30,29,28,30,29,32,31,30,32,31,30,28,27,26,22,21,20,32,31,26,28,27,26,33,32,32,31,31,30,31,30,27,26,27,27,26,30,29,28,28,26,26,25,25,24,24,28,27,36,35,34,33,32,30,26,25,24,36,22,21,24,23,29,28,37,36,26,26,25,25,28,35,34,28,29,27,28,30,31,30,29,28,23,24,22,22,35,29,26,32,35,28,29,29,28,26,29,32,31,27,27,26,23,28,27,26,34,25,26,36,21,20,23,21,28,33,29,30,26,27,24,32,30,25,25],\"xaxis\":\"x\",\"y\":[19,22,22,25,19,19,22,19,19,19,19,22,19,19,22,16,16,19,16,16,19,22,22,19,19,19,22,16,18,16,18,19,21,16,16,16,16,16,13,13,18,18,22,21,16,15,16,15,19,18,19,19,22,22,25,16,16,19,19,19,16,22,18,18,16,16,16,16,19,19,19,18,19,18,18,22,22,19,16,19,16,22,16,18,19,21,13,15,19,18,19,13,18,18,19,16,22,22,25,22,19,19,22,18,19,21,18,13,15,16,19,19,13,19,15,18,13,16,21,19,18,25,24,21,22,21,24,16,13],\"yaxis\":\"y\",\"type\":\"scattergl\"}],                        {\"template\":{\"data\":{\"histogram2dcontour\":[{\"type\":\"histogram2dcontour\",\"colorbar\":{\"outlinewidth\":0,\"ticks\":\"\"},\"colorscale\":[[0.0,\"#0d0887\"],[0.1111111111111111,\"#46039f\"],[0.2222222222222222,\"#7201a8\"],[0.3333333333333333,\"#9c179e\"],[0.4444444444444444,\"#bd3786\"],[0.5555555555555556,\"#d8576b\"],[0.6666666666666666,\"#ed7953\"],[0.7777777777777778,\"#fb9f3a\"],[0.8888888888888888,\"#fdca26\"],[1.0,\"#f0f921\"]]}],\"choropleth\":[{\"type\":\"choropleth\",\"colorbar\":{\"outlinewidth\":0,\"ticks\":\"\"}}],\"histogram2d\":[{\"type\":\"histogram2d\",\"colorbar\":{\"outlinewidth\":0,\"ticks\":\"\"},\"colorscale\":[[0.0,\"#0d0887\"],[0.1111111111111111,\"#46039f\"],[0.2222222222222222,\"#7201a8\"],[0.3333333333333333,\"#9c179e\"],[0.4444444444444444,\"#bd3786\"],[0.5555555555555556,\"#d8576b\"],[0.6666666666666666,\"#ed7953\"],[0.7777777777777778,\"#fb9f3a\"],[0.8888888888888888,\"#fdca26\"],[1.0,\"#f0f921\"]]}],\"heatmap\":[{\"type\":\"heatmap\",\"colorbar\":{\"outlinewidth\":0,\"ticks\":\"\"},\"colorscale\":[[0.0,\"#0d0887\"],[0.1111111111111111,\"#46039f\"],[0.2222222222222222,\"#7201a8\"],[0.3333333333333333,\"#9c179e\"],[0.4444444444444444,\"#bd3786\"],[0.5555555555555556,\"#d8576b\"],[0.6666666666666666,\"#ed7953\"],[0.7777777777777778,\"#fb9f3a\"],[0.8888888888888888,\"#fdca26\"],[1.0,\"#f0f921\"]]}],\"heatmapgl\":[{\"type\":\"heatmapgl\",\"colorbar\":{\"outlinewidth\":0,\"ticks\":\"\"},\"colorscale\":[[0.0,\"#0d0887\"],[0.1111111111111111,\"#46039f\"],[0.2222222222222222,\"#7201a8\"],[0.3333333333333333,\"#9c179e\"],[0.4444444444444444,\"#bd3786\"],[0.5555555555555556,\"#d8576b\"],[0.6666666666666666,\"#ed7953\"],[0.7777777777777778,\"#fb9f3a\"],[0.8888888888888888,\"#fdca26\"],[1.0,\"#f0f921\"]]}],\"contourcarpet\":[{\"type\":\"contourcarpet\",\"colorbar\":{\"outlinewidth\":0,\"ticks\":\"\"}}],\"contour\":[{\"type\":\"contour\",\"colorbar\":{\"outlinewidth\":0,\"ticks\":\"\"},\"colorscale\":[[0.0,\"#0d0887\"],[0.1111111111111111,\"#46039f\"],[0.2222222222222222,\"#7201a8\"],[0.3333333333333333,\"#9c179e\"],[0.4444444444444444,\"#bd3786\"],[0.5555555555555556,\"#d8576b\"],[0.6666666666666666,\"#ed7953\"],[0.7777777777777778,\"#fb9f3a\"],[0.8888888888888888,\"#fdca26\"],[1.0,\"#f0f921\"]]}],\"surface\":[{\"type\":\"surface\",\"colorbar\":{\"outlinewidth\":0,\"ticks\":\"\"},\"colorscale\":[[0.0,\"#0d0887\"],[0.1111111111111111,\"#46039f\"],[0.2222222222222222,\"#7201a8\"],[0.3333333333333333,\"#9c179e\"],[0.4444444444444444,\"#bd3786\"],[0.5555555555555556,\"#d8576b\"],[0.6666666666666666,\"#ed7953\"],[0.7777777777777778,\"#fb9f3a\"],[0.8888888888888888,\"#fdca26\"],[1.0,\"#f0f921\"]]}],\"mesh3d\":[{\"type\":\"mesh3d\",\"colorbar\":{\"outlinewidth\":0,\"ticks\":\"\"}}],\"scatter\":[{\"fillpattern\":{\"fillmode\":\"overlay\",\"size\":10,\"solidity\":0.2},\"type\":\"scatter\"}],\"parcoords\":[{\"type\":\"parcoords\",\"line\":{\"colorbar\":{\"outlinewidth\":0,\"ticks\":\"\"}}}],\"scatterpolargl\":[{\"type\":\"scatterpolargl\",\"marker\":{\"colorbar\":{\"outlinewidth\":0,\"ticks\":\"\"}}}],\"bar\":[{\"error_x\":{\"color\":\"#2a3f5f\"},\"error_y\":{\"color\":\"#2a3f5f\"},\"marker\":{\"line\":{\"color\":\"#E5ECF6\",\"width\":0.5},\"pattern\":{\"fillmode\":\"overlay\",\"size\":10,\"solidity\":0.2}},\"type\":\"bar\"}],\"scattergeo\":[{\"type\":\"scattergeo\",\"marker\":{\"colorbar\":{\"outlinewidth\":0,\"ticks\":\"\"}}}],\"scatterpolar\":[{\"type\":\"scatterpolar\",\"marker\":{\"colorbar\":{\"outlinewidth\":0,\"ticks\":\"\"}}}],\"histogram\":[{\"marker\":{\"pattern\":{\"fillmode\":\"overlay\",\"size\":10,\"solidity\":0.2}},\"type\":\"histogram\"}],\"scattergl\":[{\"type\":\"scattergl\",\"marker\":{\"colorbar\":{\"outlinewidth\":0,\"ticks\":\"\"}}}],\"scatter3d\":[{\"type\":\"scatter3d\",\"line\":{\"colorbar\":{\"outlinewidth\":0,\"ticks\":\"\"}},\"marker\":{\"colorbar\":{\"outlinewidth\":0,\"ticks\":\"\"}}}],\"scattermapbox\":[{\"type\":\"scattermapbox\",\"marker\":{\"colorbar\":{\"outlinewidth\":0,\"ticks\":\"\"}}}],\"scatterternary\":[{\"type\":\"scatterternary\",\"marker\":{\"colorbar\":{\"outlinewidth\":0,\"ticks\":\"\"}}}],\"scattercarpet\":[{\"type\":\"scattercarpet\",\"marker\":{\"colorbar\":{\"outlinewidth\":0,\"ticks\":\"\"}}}],\"carpet\":[{\"aaxis\":{\"endlinecolor\":\"#2a3f5f\",\"gridcolor\":\"white\",\"linecolor\":\"white\",\"minorgridcolor\":\"white\",\"startlinecolor\":\"#2a3f5f\"},\"baxis\":{\"endlinecolor\":\"#2a3f5f\",\"gridcolor\":\"white\",\"linecolor\":\"white\",\"minorgridcolor\":\"white\",\"startlinecolor\":\"#2a3f5f\"},\"type\":\"carpet\"}],\"table\":[{\"cells\":{\"fill\":{\"color\":\"#EBF0F8\"},\"line\":{\"color\":\"white\"}},\"header\":{\"fill\":{\"color\":\"#C8D4E3\"},\"line\":{\"color\":\"white\"}},\"type\":\"table\"}],\"barpolar\":[{\"marker\":{\"line\":{\"color\":\"#E5ECF6\",\"width\":0.5},\"pattern\":{\"fillmode\":\"overlay\",\"size\":10,\"solidity\":0.2}},\"type\":\"barpolar\"}],\"pie\":[{\"automargin\":true,\"type\":\"pie\"}]},\"layout\":{\"autotypenumbers\":\"strict\",\"colorway\":[\"#636efa\",\"#EF553B\",\"#00cc96\",\"#ab63fa\",\"#FFA15A\",\"#19d3f3\",\"#FF6692\",\"#B6E880\",\"#FF97FF\",\"#FECB52\"],\"font\":{\"color\":\"#2a3f5f\"},\"hovermode\":\"closest\",\"hoverlabel\":{\"align\":\"left\"},\"paper_bgcolor\":\"white\",\"plot_bgcolor\":\"#E5ECF6\",\"polar\":{\"bgcolor\":\"#E5ECF6\",\"angularaxis\":{\"gridcolor\":\"white\",\"linecolor\":\"white\",\"ticks\":\"\"},\"radialaxis\":{\"gridcolor\":\"white\",\"linecolor\":\"white\",\"ticks\":\"\"}},\"ternary\":{\"bgcolor\":\"#E5ECF6\",\"aaxis\":{\"gridcolor\":\"white\",\"linecolor\":\"white\",\"ticks\":\"\"},\"baxis\":{\"gridcolor\":\"white\",\"linecolor\":\"white\",\"ticks\":\"\"},\"caxis\":{\"gridcolor\":\"white\",\"linecolor\":\"white\",\"ticks\":\"\"}},\"coloraxis\":{\"colorbar\":{\"outlinewidth\":0,\"ticks\":\"\"}},\"colorscale\":{\"sequential\":[[0.0,\"#0d0887\"],[0.1111111111111111,\"#46039f\"],[0.2222222222222222,\"#7201a8\"],[0.3333333333333333,\"#9c179e\"],[0.4444444444444444,\"#bd3786\"],[0.5555555555555556,\"#d8576b\"],[0.6666666666666666,\"#ed7953\"],[0.7777777777777778,\"#fb9f3a\"],[0.8888888888888888,\"#fdca26\"],[1.0,\"#f0f921\"]],\"sequentialminus\":[[0.0,\"#0d0887\"],[0.1111111111111111,\"#46039f\"],[0.2222222222222222,\"#7201a8\"],[0.3333333333333333,\"#9c179e\"],[0.4444444444444444,\"#bd3786\"],[0.5555555555555556,\"#d8576b\"],[0.6666666666666666,\"#ed7953\"],[0.7777777777777778,\"#fb9f3a\"],[0.8888888888888888,\"#fdca26\"],[1.0,\"#f0f921\"]],\"diverging\":[[0,\"#8e0152\"],[0.1,\"#c51b7d\"],[0.2,\"#de77ae\"],[0.3,\"#f1b6da\"],[0.4,\"#fde0ef\"],[0.5,\"#f7f7f7\"],[0.6,\"#e6f5d0\"],[0.7,\"#b8e186\"],[0.8,\"#7fbc41\"],[0.9,\"#4d9221\"],[1,\"#276419\"]]},\"xaxis\":{\"gridcolor\":\"white\",\"linecolor\":\"white\",\"ticks\":\"\",\"title\":{\"standoff\":15},\"zerolinecolor\":\"white\",\"automargin\":true,\"zerolinewidth\":2},\"yaxis\":{\"gridcolor\":\"white\",\"linecolor\":\"white\",\"ticks\":\"\",\"title\":{\"standoff\":15},\"zerolinecolor\":\"white\",\"automargin\":true,\"zerolinewidth\":2},\"scene\":{\"xaxis\":{\"backgroundcolor\":\"#E5ECF6\",\"gridcolor\":\"white\",\"linecolor\":\"white\",\"showbackground\":true,\"ticks\":\"\",\"zerolinecolor\":\"white\",\"gridwidth\":2},\"yaxis\":{\"backgroundcolor\":\"#E5ECF6\",\"gridcolor\":\"white\",\"linecolor\":\"white\",\"showbackground\":true,\"ticks\":\"\",\"zerolinecolor\":\"white\",\"gridwidth\":2},\"zaxis\":{\"backgroundcolor\":\"#E5ECF6\",\"gridcolor\":\"white\",\"linecolor\":\"white\",\"showbackground\":true,\"ticks\":\"\",\"zerolinecolor\":\"white\",\"gridwidth\":2}},\"shapedefaults\":{\"line\":{\"color\":\"#2a3f5f\"}},\"annotationdefaults\":{\"arrowcolor\":\"#2a3f5f\",\"arrowhead\":0,\"arrowwidth\":1},\"geo\":{\"bgcolor\":\"white\",\"landcolor\":\"#E5ECF6\",\"subunitcolor\":\"white\",\"showland\":true,\"showlakes\":true,\"lakecolor\":\"white\"},\"title\":{\"x\":0.05},\"mapbox\":{\"style\":\"light\"}}},\"xaxis\":{\"anchor\":\"y\",\"domain\":[0.0,1.0],\"title\":{\"text\":\"Color Score\"}},\"yaxis\":{\"anchor\":\"x\",\"domain\":[0.0,1.0],\"title\":{\"text\":\"Component Score\"}},\"legend\":{\"title\":{\"text\":\"type\"},\"tracegroupgap\":0,\"itemsizing\":\"constant\"},\"title\":{\"text\":\"Comparison of Scores: Sampler vs Random\"}},                        {\"responsive\": true}                    ).then(function(){\n",
       "                            \n",
       "var gd = document.getElementById('8fec9c7e-c230-4fef-9f7a-29cc5c1554a1');\n",
       "var x = new MutationObserver(function (mutations, observer) {{\n",
       "        var display = window.getComputedStyle(gd).display;\n",
       "        if (!display || display === 'none') {{\n",
       "            console.log([gd, 'removed!']);\n",
       "            Plotly.purge(gd);\n",
       "            observer.disconnect();\n",
       "        }}\n",
       "}});\n",
       "\n",
       "// Listen for the removal of the full notebook cells\n",
       "var notebookContainer = gd.closest('#notebook-container');\n",
       "if (notebookContainer) {{\n",
       "    x.observe(notebookContainer, {childList: true});\n",
       "}}\n",
       "\n",
       "// Listen for the clearing of the current output cell\n",
       "var outputEl = gd.closest('.output');\n",
       "if (outputEl) {{\n",
       "    x.observe(outputEl, {childList: true});\n",
       "}}\n",
       "\n",
       "                        })                };                });            </script>        </div>"
      ]
     },
     "metadata": {},
     "output_type": "display_data"
    }
   ],
   "source": [
    "# plot2d\n",
    "import plotly.express as px\n",
    "# Create a combined DataFrame for plotting\n",
    "random_results['type'] = 'Random'\n",
    "qc_results['type'] = 'Sampler'\n",
    "combined_results = pandas.concat([random_results, qc_results])\n",
    "\n",
    "# Scatter plot using Plotly\n",
    "fig = px.scatter(combined_results, x='color', y='components', color='type', size='score',\n",
    "                 hover_data=['name'], title='Comparison of Scores: Sampler vs Random',\n",
    "                 labels={'color': 'Color Score', 'components': 'Component Score', 'score': 'Overall Score'})\n",
    "\n",
    "fig.show()"
   ]
  },
  {
   "cell_type": "code",
   "execution_count": 41,
   "id": "aba570d2",
   "metadata": {},
   "outputs": [
    {
     "data": {
      "application/vnd.plotly.v1+json": {
       "config": {
        "plotlyServerURL": "https://plot.ly"
       },
       "data": [
        {
         "marker": {
          "color": "#a0acbd",
          "opacity": 0.6,
          "size": 5
         },
         "mode": "markers",
         "name": "Random Sampling",
         "showlegend": false,
         "type": "scatter3d",
         "x": [
          28,
          19,
          21,
          22,
          22,
          27,
          24,
          17,
          26,
          18,
          27,
          19,
          23,
          32,
          15,
          16,
          30,
          16,
          16,
          24,
          20,
          24,
          18,
          23,
          26,
          15,
          29,
          36,
          30,
          27,
          20,
          25,
          21,
          20,
          35,
          30,
          27,
          14,
          16,
          30,
          26,
          46,
          24,
          34,
          25,
          48,
          18,
          32,
          17,
          23,
          19,
          22,
          21,
          21,
          36,
          21,
          45,
          13,
          23,
          17,
          17,
          25,
          21,
          31,
          43,
          24,
          25,
          47,
          31,
          25,
          21,
          29,
          27,
          65,
          28,
          56,
          29,
          12,
          16,
          43,
          35,
          17,
          11,
          26,
          53,
          15,
          20,
          23,
          23,
          24,
          40,
          33,
          22,
          23,
          28,
          11,
          21,
          22,
          21,
          17,
          19,
          24,
          19,
          26,
          43,
          22,
          23,
          24,
          24,
          26,
          45,
          17,
          23,
          22,
          25,
          29,
          21,
          35,
          45,
          12,
          43,
          48,
          26,
          40,
          48,
          36,
          56,
          30,
          31,
          29,
          49,
          49,
          25,
          21,
          21,
          18,
          17,
          22,
          28,
          40,
          46,
          29,
          53,
          20,
          22,
          27,
          19,
          17,
          21,
          23,
          35,
          19,
          19,
          19,
          16,
          20,
          32,
          31,
          24,
          26,
          22,
          42,
          24,
          20,
          45,
          46,
          16,
          18,
          51,
          22,
          15,
          40,
          18,
          37,
          33,
          28,
          28,
          38,
          15,
          20,
          22,
          19,
          27,
          22,
          37,
          19,
          19,
          25,
          23,
          48,
          43,
          20,
          31,
          21,
          30,
          23,
          41,
          38,
          23,
          21,
          29,
          17,
          21,
          20,
          15,
          28,
          20,
          14,
          27,
          24,
          24,
          23,
          42,
          30,
          24,
          18,
          25,
          21,
          25,
          29,
          26,
          43,
          15,
          23,
          24,
          21,
          39,
          18,
          26,
          30,
          20,
          21,
          31,
          26,
          28,
          20,
          40,
          45,
          13,
          20,
          23,
          24,
          17,
          31,
          22,
          47,
          25,
          17,
          24,
          51,
          48,
          31,
          49,
          23,
          20,
          18,
          18,
          47,
          32,
          46,
          27,
          32,
          27,
          43,
          19,
          18,
          23,
          27,
          43,
          25,
          27,
          49,
          26,
          23,
          52,
          22,
          23,
          21,
          25,
          25,
          27,
          30,
          54,
          27,
          23,
          51,
          49,
          23,
          47,
          24,
          41,
          31,
          34,
          20,
          31,
          26,
          17,
          57,
          27,
          30,
          55,
          26,
          17,
          44,
          46,
          20,
          51,
          43,
          27,
          44,
          29,
          20,
          25,
          26,
          47,
          17,
          33,
          31,
          51,
          14,
          49,
          18,
          13,
          24,
          19,
          25,
          21,
          57,
          49,
          18,
          22,
          37,
          20,
          44,
          40,
          25,
          35,
          26,
          24,
          26,
          30,
          26,
          21,
          48,
          25,
          27,
          28,
          46,
          24,
          58,
          34,
          27,
          27,
          56,
          46,
          37,
          41,
          16,
          24,
          53,
          26,
          48,
          49,
          14,
          41,
          38,
          26,
          44,
          17,
          19,
          19,
          15,
          19,
          31,
          28,
          25,
          34,
          24,
          56,
          20,
          44,
          23,
          26,
          29,
          28,
          62,
          19,
          26,
          31,
          42,
          30,
          40,
          28,
          33,
          59,
          38,
          52,
          46,
          38,
          24,
          25,
          29,
          15,
          22,
          58,
          47,
          29,
          26,
          39,
          28,
          23,
          25,
          25,
          18,
          47,
          26,
          35,
          54,
          43,
          17,
          24,
          22,
          26,
          17,
          51,
          22,
          18,
          39,
          25,
          18,
          33,
          22,
          57,
          44,
          19,
          62,
          22,
          40,
          15,
          20,
          55,
          27,
          28,
          44,
          59,
          50,
          45,
          21,
          31,
          31,
          50,
          69,
          46,
          17,
          55,
          22,
          18,
          32,
          23,
          22,
          39,
          21,
          36,
          52,
          30,
          53,
          17,
          27,
          30,
          27,
          26,
          42,
          22,
          19,
          51,
          28,
          40,
          28,
          46,
          44,
          32,
          18,
          23,
          21,
          18,
          29,
          14,
          24,
          17,
          26,
          34,
          31,
          56,
          42,
          28,
          35,
          24,
          12,
          26,
          47,
          14,
          38,
          24,
          42,
          46,
          34,
          39,
          26,
          20,
          29,
          16,
          42,
          47,
          47,
          42,
          26,
          23,
          30,
          33,
          40,
          17,
          43,
          50,
          35,
          42,
          46,
          49,
          24,
          49,
          19,
          34,
          23,
          64,
          45,
          34,
          20,
          21,
          25,
          44,
          23,
          46,
          46,
          27,
          23,
          24,
          13,
          26,
          42,
          33,
          20,
          32,
          40,
          30,
          16,
          25,
          32,
          29,
          24,
          25,
          16,
          56,
          15,
          46,
          20,
          46,
          23,
          26,
          35,
          49,
          17,
          48,
          25,
          17,
          55,
          56,
          29,
          49,
          26,
          20,
          57,
          34,
          57,
          18,
          43,
          22,
          46,
          60,
          27,
          64,
          18,
          30,
          11,
          31,
          15,
          24,
          27,
          23,
          27,
          39,
          51,
          20,
          43,
          41,
          55,
          45,
          29,
          36,
          42,
          33,
          36,
          27,
          46,
          46,
          46,
          52,
          51,
          50,
          27,
          44,
          49,
          38,
          42,
          22,
          32,
          25,
          60,
          36,
          23,
          38,
          18,
          53,
          47,
          26,
          28,
          35,
          18,
          23,
          40,
          49,
          35,
          19,
          46,
          28,
          14,
          47,
          41,
          42,
          24,
          34,
          21,
          41,
          50,
          44,
          25,
          26,
          53,
          64,
          44,
          15,
          52,
          24,
          55,
          28,
          49,
          19,
          18,
          39,
          45,
          29,
          22,
          27,
          34,
          57,
          39,
          22,
          54,
          40,
          42,
          49,
          64,
          22,
          36,
          43,
          36,
          33,
          20,
          37,
          20,
          48,
          26,
          51,
          42,
          33,
          19,
          14,
          13,
          21,
          17,
          26,
          55,
          19,
          48,
          51,
          25,
          18,
          47,
          42,
          43,
          46,
          22,
          42,
          21,
          47,
          58,
          51,
          18,
          29,
          56,
          49,
          20,
          43,
          25,
          56,
          33,
          24,
          47,
          50,
          48,
          56,
          47,
          42,
          19,
          34,
          49,
          39,
          26,
          56,
          27,
          46,
          47,
          42,
          53,
          37,
          54,
          30,
          51,
          47,
          49,
          44,
          44,
          28,
          44,
          32,
          51,
          30,
          30,
          48,
          21,
          24,
          47,
          34,
          27,
          45,
          33,
          41,
          38,
          58,
          26,
          22,
          32,
          56,
          44,
          57,
          29,
          16,
          16,
          39,
          17,
          62,
          51,
          26,
          47,
          53,
          13,
          22,
          54,
          15,
          47,
          55,
          25,
          18,
          48,
          16,
          56,
          53,
          18,
          53,
          16,
          48,
          57,
          42,
          23,
          50,
          42,
          51,
          43,
          42,
          39,
          45,
          42,
          45,
          44,
          18,
          30,
          17,
          53,
          27,
          53,
          22,
          47,
          19,
          24,
          54,
          28,
          33,
          19,
          46,
          20,
          24,
          18,
          23,
          54,
          44,
          49,
          56,
          19,
          23,
          57,
          19,
          26,
          44,
          39,
          52,
          50,
          54,
          12,
          56,
          27,
          30,
          42,
          58,
          41,
          38,
          61,
          33,
          22,
          51,
          61,
          22,
          32,
          49,
          47,
          50,
          17,
          50,
          15,
          45,
          44,
          51,
          18,
          50,
          20,
          38,
          27,
          20,
          39,
          46,
          41,
          38,
          57,
          50,
          19,
          24,
          44,
          31,
          42,
          34,
          50,
          50,
          28,
          49,
          13,
          36,
          24,
          43,
          42,
          48,
          48,
          49,
          34,
          62,
          33,
          50,
          51,
          26,
          49,
          15,
          59,
          44,
          49,
          23,
          22,
          13,
          44,
          42,
          45,
          40,
          37,
          18,
          52,
          21,
          25,
          21,
          45,
          47,
          47,
          35,
          50,
          53,
          27,
          22,
          50,
          52,
          46,
          47,
          43,
          51,
          44,
          58,
          33,
          39,
          49,
          49,
          39,
          24,
          54,
          55,
          12,
          41,
          44,
          22,
          52,
          48,
          64,
          43,
          43,
          52,
          37,
          22,
          18,
          20,
          32,
          41,
          52,
          53,
          30,
          18,
          52,
          38,
          49,
          51,
          28,
          33,
          38,
          47,
          38,
          47,
          39,
          36,
          21,
          53,
          59,
          42,
          54,
          52,
          47,
          36,
          54,
          23,
          56,
          46,
          21,
          53,
          39,
          50,
          48,
          42,
          47,
          52,
          21
         ],
         "y": [
          23,
          20,
          19,
          19,
          16,
          24,
          22,
          19,
          17,
          18,
          20,
          18,
          21,
          24,
          15,
          20,
          21,
          19,
          23,
          23,
          21,
          15,
          23,
          24,
          24,
          21,
          23,
          22,
          18,
          19,
          23,
          19,
          19,
          21,
          23,
          24,
          18,
          16,
          22,
          22,
          22,
          42,
          23,
          22,
          21,
          44,
          21,
          23,
          18,
          19,
          16,
          20,
          20,
          18,
          21,
          23,
          45,
          18,
          17,
          20,
          22,
          25,
          17,
          19,
          42,
          20,
          22,
          40,
          25,
          24,
          21,
          42,
          19,
          40,
          24,
          44,
          20,
          20,
          22,
          39,
          22,
          20,
          20,
          24,
          38,
          22,
          17,
          22,
          22,
          21,
          41,
          18,
          18,
          19,
          18,
          21,
          22,
          20,
          19,
          19,
          19,
          24,
          18,
          19,
          41,
          18,
          18,
          23,
          22,
          23,
          37,
          19,
          23,
          21,
          22,
          20,
          17,
          43,
          39,
          21,
          38,
          46,
          19,
          39,
          45,
          22,
          47,
          23,
          19,
          21,
          36,
          42,
          18,
          19,
          18,
          22,
          21,
          23,
          21,
          41,
          35,
          19,
          43,
          26,
          17,
          22,
          22,
          16,
          22,
          24,
          21,
          21,
          14,
          17,
          21,
          22,
          19,
          18,
          22,
          21,
          25,
          41,
          22,
          22,
          38,
          39,
          14,
          20,
          43,
          23,
          23,
          44,
          17,
          39,
          39,
          15,
          24,
          40,
          17,
          20,
          24,
          20,
          21,
          22,
          36,
          22,
          20,
          25,
          22,
          37,
          40,
          21,
          21,
          19,
          24,
          21,
          41,
          38,
          15,
          22,
          23,
          23,
          18,
          22,
          23,
          25,
          24,
          22,
          20,
          23,
          18,
          15,
          41,
          21,
          26,
          18,
          23,
          21,
          17,
          23,
          19,
          44,
          16,
          18,
          22,
          22,
          36,
          17,
          20,
          24,
          19,
          22,
          20,
          24,
          24,
          23,
          38,
          37,
          19,
          24,
          20,
          24,
          21,
          22,
          22,
          42,
          23,
          22,
          22,
          44,
          44,
          23,
          39,
          17,
          24,
          17,
          17,
          44,
          34,
          41,
          23,
          19,
          36,
          32,
          23,
          16,
          18,
          18,
          45,
          20,
          19,
          45,
          21,
          18,
          42,
          17,
          23,
          24,
          25,
          21,
          25,
          23,
          50,
          20,
          25,
          40,
          45,
          20,
          40,
          20,
          38,
          23,
          24,
          18,
          42,
          23,
          18,
          47,
          22,
          24,
          48,
          24,
          17,
          46,
          45,
          20,
          41,
          40,
          16,
          38,
          20,
          20,
          19,
          18,
          45,
          22,
          22,
          24,
          41,
          25,
          39,
          21,
          18,
          21,
          18,
          19,
          19,
          41,
          47,
          23,
          20,
          21,
          17,
          39,
          38,
          23,
          42,
          18,
          17,
          22,
          25,
          21,
          21,
          45,
          23,
          20,
          20,
          43,
          17,
          41,
          36,
          19,
          23,
          44,
          42,
          39,
          45,
          16,
          26,
          40,
          18,
          43,
          45,
          18,
          38,
          36,
          21,
          43,
          18,
          22,
          24,
          22,
          23,
          22,
          23,
          22,
          21,
          24,
          40,
          25,
          34,
          19,
          24,
          21,
          23,
          48,
          21,
          22,
          23,
          38,
          22,
          39,
          19,
          35,
          42,
          38,
          42,
          38,
          36,
          21,
          23,
          20,
          21,
          17,
          41,
          40,
          22,
          16,
          43,
          19,
          16,
          22,
          23,
          18,
          43,
          20,
          43,
          45,
          42,
          18,
          21,
          18,
          17,
          21,
          42,
          20,
          19,
          30,
          21,
          21,
          21,
          18,
          45,
          39,
          19,
          46,
          20,
          47,
          15,
          18,
          41,
          22,
          24,
          41,
          44,
          45,
          46,
          24,
          18,
          21,
          42,
          44,
          44,
          20,
          47,
          24,
          26,
          22,
          20,
          18,
          36,
          23,
          43,
          38,
          37,
          43,
          24,
          22,
          26,
          21,
          24,
          33,
          21,
          15,
          40,
          22,
          41,
          18,
          39,
          41,
          22,
          16,
          22,
          20,
          16,
          20,
          15,
          18,
          20,
          21,
          41,
          23,
          44,
          45,
          20,
          38,
          17,
          21,
          23,
          44,
          17,
          38,
          23,
          35,
          40,
          43,
          45,
          23,
          24,
          23,
          21,
          47,
          39,
          49,
          40,
          21,
          16,
          22,
          42,
          37,
          19,
          40,
          44,
          35,
          31,
          40,
          47,
          23,
          42,
          20,
          37,
          18,
          40,
          40,
          22,
          20,
          18,
          22,
          46,
          20,
          43,
          43,
          21,
          21,
          21,
          18,
          22,
          40,
          39,
          15,
          18,
          45,
          20,
          20,
          25,
          22,
          24,
          19,
          22,
          22,
          48,
          14,
          43,
          14,
          40,
          21,
          22,
          38,
          36,
          22,
          45,
          22,
          19,
          44,
          43,
          23,
          43,
          22,
          21,
          44,
          43,
          45,
          15,
          44,
          21,
          47,
          47,
          22,
          60,
          19,
          20,
          22,
          25,
          22,
          23,
          18,
          22,
          22,
          36,
          41,
          22,
          39,
          45,
          42,
          37,
          22,
          46,
          43,
          23,
          44,
          23,
          37,
          37,
          39,
          45,
          41,
          41,
          21,
          43,
          46,
          39,
          40,
          20,
          34,
          19,
          41,
          35,
          16,
          31,
          19,
          38,
          43,
          22,
          22,
          42,
          19,
          20,
          39,
          42,
          38,
          19,
          41,
          18,
          18,
          42,
          45,
          43,
          20,
          40,
          20,
          41,
          45,
          39,
          20,
          22,
          39,
          42,
          39,
          24,
          44,
          23,
          44,
          22,
          38,
          22,
          24,
          42,
          44,
          23,
          19,
          20,
          49,
          38,
          43,
          19,
          47,
          48,
          39,
          40,
          44,
          22,
          42,
          41,
          39,
          21,
          22,
          40,
          20,
          39,
          21,
          45,
          39,
          45,
          17,
          24,
          17,
          22,
          19,
          19,
          41,
          16,
          40,
          43,
          21,
          22,
          38,
          34,
          45,
          45,
          20,
          41,
          25,
          44,
          44,
          39,
          21,
          25,
          45,
          46,
          20,
          45,
          23,
          42,
          41,
          25,
          40,
          42,
          47,
          45,
          45,
          38,
          18,
          43,
          39,
          40,
          22,
          40,
          23,
          45,
          43,
          38,
          35,
          44,
          43,
          19,
          41,
          44,
          42,
          40,
          40,
          21,
          39,
          35,
          46,
          21,
          22,
          38,
          20,
          25,
          44,
          41,
          43,
          37,
          44,
          42,
          40,
          48,
          25,
          19,
          46,
          44,
          45,
          41,
          23,
          25,
          22,
          40,
          18,
          45,
          43,
          21,
          39,
          43,
          19,
          24,
          38,
          20,
          36,
          44,
          18,
          21,
          44,
          18,
          45,
          39,
          20,
          39,
          19,
          42,
          42,
          37,
          18,
          42,
          40,
          46,
          37,
          38,
          44,
          38,
          40,
          44,
          43,
          18,
          20,
          20,
          37,
          21,
          41,
          22,
          46,
          15,
          20,
          45,
          20,
          41,
          20,
          42,
          19,
          24,
          23,
          20,
          42,
          41,
          37,
          44,
          21,
          25,
          42,
          21,
          19,
          37,
          38,
          41,
          44,
          39,
          19,
          42,
          23,
          21,
          47,
          46,
          41,
          43,
          42,
          23,
          24,
          41,
          41,
          18,
          43,
          45,
          42,
          43,
          17,
          34,
          17,
          41,
          41,
          46,
          20,
          41,
          17,
          38,
          15,
          25,
          42,
          41,
          34,
          39,
          46,
          40,
          20,
          20,
          38,
          19,
          38,
          42,
          37,
          43,
          20,
          37,
          20,
          40,
          20,
          36,
          43,
          42,
          38,
          37,
          42,
          42,
          39,
          45,
          42,
          19,
          40,
          24,
          41,
          39,
          43,
          18,
          23,
          20,
          40,
          44,
          39,
          46,
          41,
          22,
          48,
          24,
          21,
          19,
          38,
          39,
          48,
          41,
          45,
          41,
          20,
          20,
          38,
          38,
          40,
          35,
          41,
          43,
          45,
          47,
          23,
          41,
          41,
          37,
          39,
          21,
          39,
          51,
          19,
          42,
          45,
          21,
          44,
          42,
          43,
          39,
          47,
          42,
          45,
          22,
          19,
          22,
          23,
          39,
          43,
          46,
          43,
          20,
          42,
          36,
          40,
          43,
          24,
          39,
          43,
          43,
          38,
          44,
          34,
          42,
          18,
          46,
          46,
          40,
          44,
          36,
          44,
          37,
          43,
          17,
          45,
          45,
          19,
          47,
          41,
          46,
          36,
          43,
          44,
          41,
          20
         ],
         "z": [
          21,
          22,
          18,
          19,
          13,
          20,
          19,
          15,
          17,
          12,
          18,
          14,
          19,
          18,
          10,
          17,
          21,
          19,
          20,
          21,
          19,
          11,
          24,
          20,
          21,
          17,
          22,
          19,
          18,
          14,
          21,
          18,
          21,
          18,
          22,
          22,
          13,
          13,
          20,
          22,
          23,
          36,
          21,
          22,
          20,
          38,
          18,
          24,
          16,
          15,
          11,
          20,
          18,
          16,
          21,
          19,
          41,
          17,
          15,
          16,
          17,
          21,
          12,
          18,
          37,
          16,
          21,
          36,
          21,
          20,
          17,
          38,
          17,
          32,
          18,
          41,
          22,
          17,
          19,
          34,
          21,
          15,
          19,
          25,
          33,
          18,
          13,
          18,
          18,
          18,
          35,
          16,
          15,
          18,
          18,
          20,
          18,
          17,
          18,
          14,
          15,
          25,
          16,
          13,
          33,
          18,
          16,
          21,
          23,
          24,
          29,
          18,
          19,
          18,
          18,
          15,
          16,
          43,
          31,
          18,
          36,
          48,
          19,
          33,
          37,
          22,
          39,
          24,
          20,
          16,
          34,
          45,
          13,
          17,
          17,
          20,
          19,
          17,
          22,
          36,
          31,
          18,
          39,
          24,
          17,
          21,
          21,
          18,
          18,
          20,
          19,
          20,
          15,
          15,
          18,
          20,
          19,
          19,
          22,
          18,
          23,
          32,
          20,
          16,
          33,
          36,
          10,
          17,
          43,
          24,
          19,
          35,
          14,
          35,
          35,
          14,
          21,
          37,
          12,
          18,
          25,
          18,
          19,
          20,
          28,
          17,
          16,
          21,
          18,
          37,
          39,
          18,
          19,
          15,
          21,
          16,
          30,
          32,
          16,
          18,
          19,
          19,
          17,
          23,
          22,
          23,
          22,
          20,
          18,
          20,
          15,
          13,
          35,
          18,
          24,
          14,
          19,
          17,
          19,
          22,
          16,
          36,
          14,
          16,
          19,
          18,
          35,
          14,
          20,
          25,
          16,
          21,
          19,
          21,
          25,
          21,
          35,
          33,
          17,
          21,
          15,
          22,
          17,
          18,
          19,
          34,
          19,
          18,
          16,
          40,
          38,
          19,
          31,
          18,
          22,
          14,
          16,
          41,
          27,
          36,
          19,
          16,
          31,
          30,
          19,
          16,
          17,
          19,
          35,
          16,
          17,
          41,
          18,
          13,
          40,
          14,
          19,
          20,
          21,
          20,
          21,
          21,
          45,
          16,
          21,
          39,
          37,
          16,
          33,
          20,
          34,
          18,
          25,
          12,
          39,
          21,
          17,
          47,
          18,
          18,
          42,
          22,
          19,
          42,
          40,
          20,
          39,
          36,
          17,
          35,
          19,
          20,
          17,
          17,
          35,
          18,
          21,
          20,
          36,
          23,
          31,
          19,
          13,
          22,
          13,
          20,
          14,
          40,
          47,
          20,
          17,
          19,
          14,
          39,
          32,
          22,
          38,
          18,
          16,
          22,
          23,
          18,
          20,
          36,
          22,
          19,
          17,
          35,
          13,
          36,
          31,
          15,
          18,
          42,
          34,
          34,
          38,
          12,
          24,
          35,
          15,
          41,
          45,
          15,
          30,
          30,
          15,
          37,
          16,
          21,
          20,
          21,
          22,
          21,
          24,
          17,
          21,
          21,
          33,
          23,
          24,
          17,
          18,
          23,
          24,
          36,
          17,
          16,
          19,
          35,
          19,
          35,
          19,
          29,
          38,
          35,
          38,
          37,
          30,
          19,
          19,
          18,
          20,
          14,
          39,
          36,
          18,
          16,
          32,
          16,
          17,
          21,
          19,
          15,
          38,
          20,
          39,
          47,
          37,
          19,
          21,
          15,
          17,
          17,
          35,
          18,
          16,
          21,
          17,
          18,
          16,
          18,
          37,
          33,
          14,
          41,
          17,
          42,
          13,
          15,
          33,
          18,
          22,
          39,
          40,
          43,
          39,
          20,
          16,
          16,
          34,
          40,
          39,
          18,
          40,
          22,
          24,
          22,
          15,
          17,
          31,
          22,
          35,
          33,
          34,
          36,
          20,
          21,
          24,
          16,
          18,
          26,
          18,
          16,
          38,
          19,
          38,
          17,
          35,
          35,
          16,
          16,
          18,
          16,
          13,
          19,
          12,
          14,
          19,
          18,
          35,
          22,
          45,
          40,
          21,
          37,
          17,
          18,
          20,
          38,
          14,
          34,
          17,
          28,
          35,
          38,
          42,
          20,
          18,
          22,
          18,
          42,
          38,
          43,
          34,
          18,
          14,
          19,
          32,
          34,
          17,
          32,
          38,
          28,
          24,
          41,
          44,
          20,
          35,
          15,
          33,
          13,
          34,
          33,
          19,
          20,
          20,
          18,
          44,
          18,
          34,
          41,
          17,
          23,
          15,
          16,
          19,
          37,
          38,
          11,
          17,
          39,
          20,
          17,
          21,
          19,
          20,
          13,
          18,
          19,
          43,
          12,
          37,
          13,
          33,
          16,
          19,
          31,
          34,
          21,
          42,
          21,
          15,
          40,
          41,
          18,
          38,
          19,
          18,
          40,
          33,
          38,
          15,
          44,
          18,
          42,
          38,
          21,
          51,
          16,
          21,
          21,
          21,
          18,
          24,
          16,
          21,
          18,
          28,
          37,
          19,
          34,
          42,
          38,
          35,
          21,
          38,
          40,
          22,
          39,
          22,
          36,
          34,
          33,
          36,
          33,
          39,
          20,
          40,
          46,
          31,
          37,
          17,
          33,
          15,
          35,
          32,
          11,
          27,
          17,
          39,
          36,
          19,
          19,
          35,
          16,
          16,
          39,
          41,
          33,
          15,
          31,
          15,
          15,
          35,
          41,
          35,
          20,
          34,
          19,
          38,
          37,
          36,
          16,
          16,
          33,
          42,
          37,
          20,
          39,
          24,
          43,
          22,
          34,
          21,
          22,
          38,
          41,
          19,
          16,
          19,
          45,
          36,
          36,
          16,
          39,
          44,
          34,
          42,
          38,
          16,
          40,
          37,
          33,
          19,
          19,
          33,
          17,
          36,
          21,
          38,
          37,
          38,
          15,
          22,
          15,
          21,
          18,
          19,
          40,
          14,
          31,
          38,
          19,
          23,
          36,
          30,
          35,
          40,
          16,
          36,
          21,
          37,
          42,
          40,
          18,
          21,
          43,
          40,
          14,
          35,
          18,
          33,
          40,
          23,
          32,
          40,
          39,
          37,
          38,
          33,
          13,
          37,
          37,
          33,
          20,
          38,
          19,
          43,
          35,
          33,
          32,
          41,
          37,
          19,
          37,
          36,
          38,
          34,
          31,
          18,
          35,
          29,
          40,
          22,
          19,
          35,
          18,
          23,
          38,
          35,
          39,
          33,
          40,
          41,
          37,
          39,
          23,
          19,
          41,
          42,
          33,
          33,
          22,
          23,
          19,
          38,
          14,
          36,
          39,
          22,
          35,
          36,
          18,
          22,
          34,
          22,
          32,
          36,
          19,
          15,
          39,
          18,
          37,
          34,
          16,
          34,
          19,
          36,
          38,
          30,
          19,
          37,
          34,
          40,
          32,
          28,
          36,
          37,
          34,
          36,
          42,
          15,
          20,
          19,
          32,
          16,
          34,
          19,
          43,
          13,
          18,
          43,
          16,
          34,
          19,
          39,
          20,
          18,
          17,
          22,
          39,
          33,
          26,
          39,
          23,
          21,
          38,
          20,
          16,
          34,
          30,
          35,
          42,
          36,
          16,
          39,
          22,
          21,
          39,
          40,
          37,
          35,
          41,
          18,
          18,
          30,
          40,
          14,
          38,
          42,
          41,
          37,
          18,
          30,
          15,
          37,
          36,
          40,
          18,
          34,
          13,
          29,
          16,
          23,
          38,
          32,
          29,
          33,
          36,
          34,
          15,
          17,
          32,
          17,
          35,
          37,
          31,
          33,
          20,
          31,
          15,
          38,
          21,
          39,
          41,
          33,
          35,
          33,
          39,
          36,
          37,
          36,
          32,
          16,
          37,
          20,
          39,
          39,
          36,
          16,
          21,
          18,
          35,
          39,
          31,
          41,
          37,
          19,
          40,
          20,
          23,
          18,
          40,
          38,
          42,
          37,
          40,
          37,
          15,
          21,
          34,
          38,
          33,
          32,
          38,
          36,
          37,
          42,
          22,
          37,
          39,
          38,
          32,
          18,
          36,
          45,
          16,
          35,
          43,
          18,
          38,
          37,
          34,
          39,
          41,
          40,
          39,
          20,
          16,
          19,
          20,
          31,
          37,
          43,
          41,
          17,
          34,
          33,
          35,
          40,
          25,
          35,
          34,
          39,
          36,
          41,
          26,
          33,
          19,
          39,
          46,
          40,
          35,
          36,
          36,
          34,
          34,
          15,
          37,
          43,
          17,
          44,
          33,
          41,
          30,
          40,
          33,
          35,
          16
         ]
        },
        {
         "marker": {
          "color": "#1993e0",
          "opacity": 1,
          "size": 5
         },
         "mode": "markers",
         "name": "Quality Control Sampling",
         "showlegend": false,
         "type": "scatter3d",
         "x": [
          30,
          34,
          33,
          32,
          30,
          29,
          28,
          30,
          29,
          32,
          31,
          30,
          32,
          31,
          30,
          28,
          27,
          26,
          22,
          21,
          20,
          32,
          31,
          26,
          28,
          27,
          26,
          33,
          32,
          32,
          31,
          31,
          30,
          31,
          30,
          27,
          26,
          27,
          27,
          26,
          30,
          29,
          28,
          28,
          26,
          26,
          25,
          25,
          24,
          24,
          28,
          27,
          36,
          35,
          34,
          33,
          32,
          30,
          26,
          25,
          24,
          36,
          22,
          21,
          24,
          23,
          29,
          28,
          37,
          36,
          26,
          26,
          25,
          25,
          28,
          35,
          34,
          28,
          29,
          27,
          28,
          30,
          31,
          30,
          29,
          28,
          23,
          24,
          22,
          22,
          35,
          29,
          26,
          32,
          35,
          28,
          29,
          29,
          28,
          26,
          29,
          32,
          31,
          27,
          27,
          26,
          23,
          28,
          27,
          26,
          34,
          25,
          26,
          36,
          21,
          20,
          23,
          21,
          28,
          33,
          29,
          30,
          26,
          27,
          24,
          32,
          30,
          25,
          25
         ],
         "y": [
          22,
          22,
          23,
          24,
          22,
          23,
          24,
          19,
          20,
          19,
          20,
          21,
          22,
          23,
          24,
          19,
          20,
          21,
          19,
          20,
          21,
          22,
          23,
          22,
          19,
          20,
          21,
          18,
          18,
          19,
          19,
          20,
          20,
          18,
          19,
          18,
          19,
          21,
          18,
          19,
          18,
          19,
          21,
          20,
          19,
          18,
          20,
          19,
          21,
          20,
          22,
          23,
          22,
          23,
          24,
          21,
          22,
          19,
          19,
          20,
          19,
          22,
          18,
          19,
          19,
          20,
          21,
          22,
          21,
          22,
          22,
          21,
          23,
          22,
          18,
          23,
          22,
          19,
          18,
          20,
          19,
          22,
          21,
          21,
          23,
          23,
          18,
          18,
          21,
          20,
          21,
          18,
          18,
          21,
          21,
          19,
          23,
          23,
          24,
          24,
          20,
          22,
          23,
          22,
          23,
          23,
          19,
          19,
          19,
          22,
          22,
          20,
          19,
          22,
          19,
          20,
          18,
          20,
          21,
          21,
          20,
          24,
          23,
          22,
          24,
          21,
          23,
          20,
          18
         ],
         "z": [
          19,
          22,
          22,
          25,
          19,
          19,
          22,
          19,
          19,
          19,
          19,
          22,
          19,
          19,
          22,
          16,
          16,
          19,
          16,
          16,
          19,
          22,
          22,
          19,
          19,
          19,
          22,
          16,
          18,
          16,
          18,
          19,
          21,
          16,
          16,
          16,
          16,
          16,
          13,
          13,
          18,
          18,
          22,
          21,
          16,
          15,
          16,
          15,
          19,
          18,
          19,
          19,
          22,
          22,
          25,
          16,
          16,
          19,
          19,
          19,
          16,
          22,
          18,
          18,
          16,
          16,
          16,
          16,
          19,
          19,
          19,
          18,
          19,
          18,
          18,
          22,
          22,
          19,
          16,
          19,
          16,
          22,
          16,
          18,
          19,
          21,
          13,
          15,
          19,
          18,
          19,
          13,
          18,
          18,
          19,
          16,
          22,
          22,
          25,
          22,
          19,
          19,
          22,
          18,
          19,
          21,
          18,
          13,
          15,
          16,
          19,
          19,
          13,
          19,
          15,
          18,
          13,
          16,
          21,
          19,
          18,
          25,
          24,
          21,
          22,
          21,
          24,
          16,
          13
         ]
        },
        {
         "marker": {
          "color": "#a0acbd",
          "size": 10
         },
         "mode": "markers",
         "name": "Random Sampling",
         "showlegend": true,
         "type": "scatter3d",
         "x": [
          null
         ],
         "y": [
          null
         ],
         "z": [
          null
         ]
        },
        {
         "marker": {
          "color": "#1993e0",
          "size": 10
         },
         "mode": "markers",
         "name": "QAOA Sampling",
         "showlegend": true,
         "type": "scatter3d",
         "x": [
          null
         ],
         "y": [
          null
         ],
         "z": [
          null
         ]
        }
       ],
       "layout": {
        "font": {
         "color": "White"
        },
        "legend": {
         "font": {
          "size": 18
         },
         "title": {
          "text": "Classification"
         },
         "x": 0.9,
         "xanchor": "left",
         "y": 0.8,
         "yanchor": "top"
        },
        "paper_bgcolor": "rgba(0,0,0)",
        "plot_bgcolor": "rgba(0,0,0)",
        "scene": {
         "xaxis": {
          "autorange": "reversed",
          "backgroundcolor": "rgb(0, 0, 0)",
          "gridcolor": "white",
          "showbackground": true,
          "tickfont": {
           "color": "white"
          },
          "title": {
           "font": {
            "color": "white"
           },
           "text": "Color Score"
          },
          "zerolinecolor": "white"
         },
         "yaxis": {
          "backgroundcolor": "rgb(0, 0, 0)",
          "gridcolor": "white",
          "showbackground": true,
          "tickfont": {
           "color": "white"
          },
          "title": {
           "font": {
            "color": "white"
           },
           "text": "Shape Score"
          },
          "zerolinecolor": "white"
         },
         "zaxis": {
          "backgroundcolor": "rgb(0, 0, 0)",
          "gridcolor": "white",
          "showbackground": true,
          "tickfont": {
           "color": "white"
          },
          "title": {
           "font": {
            "color": "white"
           },
           "text": "Component Score"
          },
          "zerolinecolor": "white"
         }
        },
        "template": {
         "data": {
          "bar": [
           {
            "error_x": {
             "color": "#2a3f5f"
            },
            "error_y": {
             "color": "#2a3f5f"
            },
            "marker": {
             "line": {
              "color": "#E5ECF6",
              "width": 0.5
             },
             "pattern": {
              "fillmode": "overlay",
              "size": 10,
              "solidity": 0.2
             }
            },
            "type": "bar"
           }
          ],
          "barpolar": [
           {
            "marker": {
             "line": {
              "color": "#E5ECF6",
              "width": 0.5
             },
             "pattern": {
              "fillmode": "overlay",
              "size": 10,
              "solidity": 0.2
             }
            },
            "type": "barpolar"
           }
          ],
          "carpet": [
           {
            "aaxis": {
             "endlinecolor": "#2a3f5f",
             "gridcolor": "white",
             "linecolor": "white",
             "minorgridcolor": "white",
             "startlinecolor": "#2a3f5f"
            },
            "baxis": {
             "endlinecolor": "#2a3f5f",
             "gridcolor": "white",
             "linecolor": "white",
             "minorgridcolor": "white",
             "startlinecolor": "#2a3f5f"
            },
            "type": "carpet"
           }
          ],
          "choropleth": [
           {
            "colorbar": {
             "outlinewidth": 0,
             "ticks": ""
            },
            "type": "choropleth"
           }
          ],
          "contour": [
           {
            "colorbar": {
             "outlinewidth": 0,
             "ticks": ""
            },
            "colorscale": [
             [
              0,
              "#0d0887"
             ],
             [
              0.1111111111111111,
              "#46039f"
             ],
             [
              0.2222222222222222,
              "#7201a8"
             ],
             [
              0.3333333333333333,
              "#9c179e"
             ],
             [
              0.4444444444444444,
              "#bd3786"
             ],
             [
              0.5555555555555556,
              "#d8576b"
             ],
             [
              0.6666666666666666,
              "#ed7953"
             ],
             [
              0.7777777777777778,
              "#fb9f3a"
             ],
             [
              0.8888888888888888,
              "#fdca26"
             ],
             [
              1,
              "#f0f921"
             ]
            ],
            "type": "contour"
           }
          ],
          "contourcarpet": [
           {
            "colorbar": {
             "outlinewidth": 0,
             "ticks": ""
            },
            "type": "contourcarpet"
           }
          ],
          "heatmap": [
           {
            "colorbar": {
             "outlinewidth": 0,
             "ticks": ""
            },
            "colorscale": [
             [
              0,
              "#0d0887"
             ],
             [
              0.1111111111111111,
              "#46039f"
             ],
             [
              0.2222222222222222,
              "#7201a8"
             ],
             [
              0.3333333333333333,
              "#9c179e"
             ],
             [
              0.4444444444444444,
              "#bd3786"
             ],
             [
              0.5555555555555556,
              "#d8576b"
             ],
             [
              0.6666666666666666,
              "#ed7953"
             ],
             [
              0.7777777777777778,
              "#fb9f3a"
             ],
             [
              0.8888888888888888,
              "#fdca26"
             ],
             [
              1,
              "#f0f921"
             ]
            ],
            "type": "heatmap"
           }
          ],
          "heatmapgl": [
           {
            "colorbar": {
             "outlinewidth": 0,
             "ticks": ""
            },
            "colorscale": [
             [
              0,
              "#0d0887"
             ],
             [
              0.1111111111111111,
              "#46039f"
             ],
             [
              0.2222222222222222,
              "#7201a8"
             ],
             [
              0.3333333333333333,
              "#9c179e"
             ],
             [
              0.4444444444444444,
              "#bd3786"
             ],
             [
              0.5555555555555556,
              "#d8576b"
             ],
             [
              0.6666666666666666,
              "#ed7953"
             ],
             [
              0.7777777777777778,
              "#fb9f3a"
             ],
             [
              0.8888888888888888,
              "#fdca26"
             ],
             [
              1,
              "#f0f921"
             ]
            ],
            "type": "heatmapgl"
           }
          ],
          "histogram": [
           {
            "marker": {
             "pattern": {
              "fillmode": "overlay",
              "size": 10,
              "solidity": 0.2
             }
            },
            "type": "histogram"
           }
          ],
          "histogram2d": [
           {
            "colorbar": {
             "outlinewidth": 0,
             "ticks": ""
            },
            "colorscale": [
             [
              0,
              "#0d0887"
             ],
             [
              0.1111111111111111,
              "#46039f"
             ],
             [
              0.2222222222222222,
              "#7201a8"
             ],
             [
              0.3333333333333333,
              "#9c179e"
             ],
             [
              0.4444444444444444,
              "#bd3786"
             ],
             [
              0.5555555555555556,
              "#d8576b"
             ],
             [
              0.6666666666666666,
              "#ed7953"
             ],
             [
              0.7777777777777778,
              "#fb9f3a"
             ],
             [
              0.8888888888888888,
              "#fdca26"
             ],
             [
              1,
              "#f0f921"
             ]
            ],
            "type": "histogram2d"
           }
          ],
          "histogram2dcontour": [
           {
            "colorbar": {
             "outlinewidth": 0,
             "ticks": ""
            },
            "colorscale": [
             [
              0,
              "#0d0887"
             ],
             [
              0.1111111111111111,
              "#46039f"
             ],
             [
              0.2222222222222222,
              "#7201a8"
             ],
             [
              0.3333333333333333,
              "#9c179e"
             ],
             [
              0.4444444444444444,
              "#bd3786"
             ],
             [
              0.5555555555555556,
              "#d8576b"
             ],
             [
              0.6666666666666666,
              "#ed7953"
             ],
             [
              0.7777777777777778,
              "#fb9f3a"
             ],
             [
              0.8888888888888888,
              "#fdca26"
             ],
             [
              1,
              "#f0f921"
             ]
            ],
            "type": "histogram2dcontour"
           }
          ],
          "mesh3d": [
           {
            "colorbar": {
             "outlinewidth": 0,
             "ticks": ""
            },
            "type": "mesh3d"
           }
          ],
          "parcoords": [
           {
            "line": {
             "colorbar": {
              "outlinewidth": 0,
              "ticks": ""
             }
            },
            "type": "parcoords"
           }
          ],
          "pie": [
           {
            "automargin": true,
            "type": "pie"
           }
          ],
          "scatter": [
           {
            "fillpattern": {
             "fillmode": "overlay",
             "size": 10,
             "solidity": 0.2
            },
            "type": "scatter"
           }
          ],
          "scatter3d": [
           {
            "line": {
             "colorbar": {
              "outlinewidth": 0,
              "ticks": ""
             }
            },
            "marker": {
             "colorbar": {
              "outlinewidth": 0,
              "ticks": ""
             }
            },
            "type": "scatter3d"
           }
          ],
          "scattercarpet": [
           {
            "marker": {
             "colorbar": {
              "outlinewidth": 0,
              "ticks": ""
             }
            },
            "type": "scattercarpet"
           }
          ],
          "scattergeo": [
           {
            "marker": {
             "colorbar": {
              "outlinewidth": 0,
              "ticks": ""
             }
            },
            "type": "scattergeo"
           }
          ],
          "scattergl": [
           {
            "marker": {
             "colorbar": {
              "outlinewidth": 0,
              "ticks": ""
             }
            },
            "type": "scattergl"
           }
          ],
          "scattermapbox": [
           {
            "marker": {
             "colorbar": {
              "outlinewidth": 0,
              "ticks": ""
             }
            },
            "type": "scattermapbox"
           }
          ],
          "scatterpolar": [
           {
            "marker": {
             "colorbar": {
              "outlinewidth": 0,
              "ticks": ""
             }
            },
            "type": "scatterpolar"
           }
          ],
          "scatterpolargl": [
           {
            "marker": {
             "colorbar": {
              "outlinewidth": 0,
              "ticks": ""
             }
            },
            "type": "scatterpolargl"
           }
          ],
          "scatterternary": [
           {
            "marker": {
             "colorbar": {
              "outlinewidth": 0,
              "ticks": ""
             }
            },
            "type": "scatterternary"
           }
          ],
          "surface": [
           {
            "colorbar": {
             "outlinewidth": 0,
             "ticks": ""
            },
            "colorscale": [
             [
              0,
              "#0d0887"
             ],
             [
              0.1111111111111111,
              "#46039f"
             ],
             [
              0.2222222222222222,
              "#7201a8"
             ],
             [
              0.3333333333333333,
              "#9c179e"
             ],
             [
              0.4444444444444444,
              "#bd3786"
             ],
             [
              0.5555555555555556,
              "#d8576b"
             ],
             [
              0.6666666666666666,
              "#ed7953"
             ],
             [
              0.7777777777777778,
              "#fb9f3a"
             ],
             [
              0.8888888888888888,
              "#fdca26"
             ],
             [
              1,
              "#f0f921"
             ]
            ],
            "type": "surface"
           }
          ],
          "table": [
           {
            "cells": {
             "fill": {
              "color": "#EBF0F8"
             },
             "line": {
              "color": "white"
             }
            },
            "header": {
             "fill": {
              "color": "#C8D4E3"
             },
             "line": {
              "color": "white"
             }
            },
            "type": "table"
           }
          ]
         },
         "layout": {
          "annotationdefaults": {
           "arrowcolor": "#2a3f5f",
           "arrowhead": 0,
           "arrowwidth": 1
          },
          "autotypenumbers": "strict",
          "coloraxis": {
           "colorbar": {
            "outlinewidth": 0,
            "ticks": ""
           }
          },
          "colorscale": {
           "diverging": [
            [
             0,
             "#8e0152"
            ],
            [
             0.1,
             "#c51b7d"
            ],
            [
             0.2,
             "#de77ae"
            ],
            [
             0.3,
             "#f1b6da"
            ],
            [
             0.4,
             "#fde0ef"
            ],
            [
             0.5,
             "#f7f7f7"
            ],
            [
             0.6,
             "#e6f5d0"
            ],
            [
             0.7,
             "#b8e186"
            ],
            [
             0.8,
             "#7fbc41"
            ],
            [
             0.9,
             "#4d9221"
            ],
            [
             1,
             "#276419"
            ]
           ],
           "sequential": [
            [
             0,
             "#0d0887"
            ],
            [
             0.1111111111111111,
             "#46039f"
            ],
            [
             0.2222222222222222,
             "#7201a8"
            ],
            [
             0.3333333333333333,
             "#9c179e"
            ],
            [
             0.4444444444444444,
             "#bd3786"
            ],
            [
             0.5555555555555556,
             "#d8576b"
            ],
            [
             0.6666666666666666,
             "#ed7953"
            ],
            [
             0.7777777777777778,
             "#fb9f3a"
            ],
            [
             0.8888888888888888,
             "#fdca26"
            ],
            [
             1,
             "#f0f921"
            ]
           ],
           "sequentialminus": [
            [
             0,
             "#0d0887"
            ],
            [
             0.1111111111111111,
             "#46039f"
            ],
            [
             0.2222222222222222,
             "#7201a8"
            ],
            [
             0.3333333333333333,
             "#9c179e"
            ],
            [
             0.4444444444444444,
             "#bd3786"
            ],
            [
             0.5555555555555556,
             "#d8576b"
            ],
            [
             0.6666666666666666,
             "#ed7953"
            ],
            [
             0.7777777777777778,
             "#fb9f3a"
            ],
            [
             0.8888888888888888,
             "#fdca26"
            ],
            [
             1,
             "#f0f921"
            ]
           ]
          },
          "colorway": [
           "#636efa",
           "#EF553B",
           "#00cc96",
           "#ab63fa",
           "#FFA15A",
           "#19d3f3",
           "#FF6692",
           "#B6E880",
           "#FF97FF",
           "#FECB52"
          ],
          "font": {
           "color": "#2a3f5f"
          },
          "geo": {
           "bgcolor": "white",
           "lakecolor": "white",
           "landcolor": "#E5ECF6",
           "showlakes": true,
           "showland": true,
           "subunitcolor": "white"
          },
          "hoverlabel": {
           "align": "left"
          },
          "hovermode": "closest",
          "mapbox": {
           "style": "light"
          },
          "paper_bgcolor": "white",
          "plot_bgcolor": "#E5ECF6",
          "polar": {
           "angularaxis": {
            "gridcolor": "white",
            "linecolor": "white",
            "ticks": ""
           },
           "bgcolor": "#E5ECF6",
           "radialaxis": {
            "gridcolor": "white",
            "linecolor": "white",
            "ticks": ""
           }
          },
          "scene": {
           "xaxis": {
            "backgroundcolor": "#E5ECF6",
            "gridcolor": "white",
            "gridwidth": 2,
            "linecolor": "white",
            "showbackground": true,
            "ticks": "",
            "zerolinecolor": "white"
           },
           "yaxis": {
            "backgroundcolor": "#E5ECF6",
            "gridcolor": "white",
            "gridwidth": 2,
            "linecolor": "white",
            "showbackground": true,
            "ticks": "",
            "zerolinecolor": "white"
           },
           "zaxis": {
            "backgroundcolor": "#E5ECF6",
            "gridcolor": "white",
            "gridwidth": 2,
            "linecolor": "white",
            "showbackground": true,
            "ticks": "",
            "zerolinecolor": "white"
           }
          },
          "shapedefaults": {
           "line": {
            "color": "#2a3f5f"
           }
          },
          "ternary": {
           "aaxis": {
            "gridcolor": "white",
            "linecolor": "white",
            "ticks": ""
           },
           "baxis": {
            "gridcolor": "white",
            "linecolor": "white",
            "ticks": ""
           },
           "bgcolor": "#E5ECF6",
           "caxis": {
            "gridcolor": "white",
            "linecolor": "white",
            "ticks": ""
           }
          },
          "title": {
           "x": 0.05
          },
          "xaxis": {
           "automargin": true,
           "gridcolor": "white",
           "linecolor": "white",
           "ticks": "",
           "title": {
            "standoff": 15
           },
           "zerolinecolor": "white",
           "zerolinewidth": 2
          },
          "yaxis": {
           "automargin": true,
           "gridcolor": "white",
           "linecolor": "white",
           "ticks": "",
           "title": {
            "standoff": 15
           },
           "zerolinecolor": "white",
           "zerolinewidth": 2
          }
         }
        },
        "title": {
         "font": {
          "size": 24
         },
         "text": "<b>Comparison of Sampling Methods<b>",
         "x": 0.5,
         "xanchor": "center",
         "y": 0.9,
         "yanchor": "top"
        }
       }
      },
      "text/html": [
       "<div>                            <div id=\"8e8808a3-326e-4f03-81a0-001809c560c0\" class=\"plotly-graph-div\" style=\"height:525px; width:100%;\"></div>            <script type=\"text/javascript\">                require([\"plotly\"], function(Plotly) {                    window.PLOTLYENV=window.PLOTLYENV || {};                                    if (document.getElementById(\"8e8808a3-326e-4f03-81a0-001809c560c0\")) {                    Plotly.newPlot(                        \"8e8808a3-326e-4f03-81a0-001809c560c0\",                        [{\"marker\":{\"color\":\"#a0acbd\",\"opacity\":0.6,\"size\":5},\"mode\":\"markers\",\"name\":\"Random Sampling\",\"showlegend\":false,\"x\":[28,19,21,22,22,27,24,17,26,18,27,19,23,32,15,16,30,16,16,24,20,24,18,23,26,15,29,36,30,27,20,25,21,20,35,30,27,14,16,30,26,46,24,34,25,48,18,32,17,23,19,22,21,21,36,21,45,13,23,17,17,25,21,31,43,24,25,47,31,25,21,29,27,65,28,56,29,12,16,43,35,17,11,26,53,15,20,23,23,24,40,33,22,23,28,11,21,22,21,17,19,24,19,26,43,22,23,24,24,26,45,17,23,22,25,29,21,35,45,12,43,48,26,40,48,36,56,30,31,29,49,49,25,21,21,18,17,22,28,40,46,29,53,20,22,27,19,17,21,23,35,19,19,19,16,20,32,31,24,26,22,42,24,20,45,46,16,18,51,22,15,40,18,37,33,28,28,38,15,20,22,19,27,22,37,19,19,25,23,48,43,20,31,21,30,23,41,38,23,21,29,17,21,20,15,28,20,14,27,24,24,23,42,30,24,18,25,21,25,29,26,43,15,23,24,21,39,18,26,30,20,21,31,26,28,20,40,45,13,20,23,24,17,31,22,47,25,17,24,51,48,31,49,23,20,18,18,47,32,46,27,32,27,43,19,18,23,27,43,25,27,49,26,23,52,22,23,21,25,25,27,30,54,27,23,51,49,23,47,24,41,31,34,20,31,26,17,57,27,30,55,26,17,44,46,20,51,43,27,44,29,20,25,26,47,17,33,31,51,14,49,18,13,24,19,25,21,57,49,18,22,37,20,44,40,25,35,26,24,26,30,26,21,48,25,27,28,46,24,58,34,27,27,56,46,37,41,16,24,53,26,48,49,14,41,38,26,44,17,19,19,15,19,31,28,25,34,24,56,20,44,23,26,29,28,62,19,26,31,42,30,40,28,33,59,38,52,46,38,24,25,29,15,22,58,47,29,26,39,28,23,25,25,18,47,26,35,54,43,17,24,22,26,17,51,22,18,39,25,18,33,22,57,44,19,62,22,40,15,20,55,27,28,44,59,50,45,21,31,31,50,69,46,17,55,22,18,32,23,22,39,21,36,52,30,53,17,27,30,27,26,42,22,19,51,28,40,28,46,44,32,18,23,21,18,29,14,24,17,26,34,31,56,42,28,35,24,12,26,47,14,38,24,42,46,34,39,26,20,29,16,42,47,47,42,26,23,30,33,40,17,43,50,35,42,46,49,24,49,19,34,23,64,45,34,20,21,25,44,23,46,46,27,23,24,13,26,42,33,20,32,40,30,16,25,32,29,24,25,16,56,15,46,20,46,23,26,35,49,17,48,25,17,55,56,29,49,26,20,57,34,57,18,43,22,46,60,27,64,18,30,11,31,15,24,27,23,27,39,51,20,43,41,55,45,29,36,42,33,36,27,46,46,46,52,51,50,27,44,49,38,42,22,32,25,60,36,23,38,18,53,47,26,28,35,18,23,40,49,35,19,46,28,14,47,41,42,24,34,21,41,50,44,25,26,53,64,44,15,52,24,55,28,49,19,18,39,45,29,22,27,34,57,39,22,54,40,42,49,64,22,36,43,36,33,20,37,20,48,26,51,42,33,19,14,13,21,17,26,55,19,48,51,25,18,47,42,43,46,22,42,21,47,58,51,18,29,56,49,20,43,25,56,33,24,47,50,48,56,47,42,19,34,49,39,26,56,27,46,47,42,53,37,54,30,51,47,49,44,44,28,44,32,51,30,30,48,21,24,47,34,27,45,33,41,38,58,26,22,32,56,44,57,29,16,16,39,17,62,51,26,47,53,13,22,54,15,47,55,25,18,48,16,56,53,18,53,16,48,57,42,23,50,42,51,43,42,39,45,42,45,44,18,30,17,53,27,53,22,47,19,24,54,28,33,19,46,20,24,18,23,54,44,49,56,19,23,57,19,26,44,39,52,50,54,12,56,27,30,42,58,41,38,61,33,22,51,61,22,32,49,47,50,17,50,15,45,44,51,18,50,20,38,27,20,39,46,41,38,57,50,19,24,44,31,42,34,50,50,28,49,13,36,24,43,42,48,48,49,34,62,33,50,51,26,49,15,59,44,49,23,22,13,44,42,45,40,37,18,52,21,25,21,45,47,47,35,50,53,27,22,50,52,46,47,43,51,44,58,33,39,49,49,39,24,54,55,12,41,44,22,52,48,64,43,43,52,37,22,18,20,32,41,52,53,30,18,52,38,49,51,28,33,38,47,38,47,39,36,21,53,59,42,54,52,47,36,54,23,56,46,21,53,39,50,48,42,47,52,21],\"y\":[23,20,19,19,16,24,22,19,17,18,20,18,21,24,15,20,21,19,23,23,21,15,23,24,24,21,23,22,18,19,23,19,19,21,23,24,18,16,22,22,22,42,23,22,21,44,21,23,18,19,16,20,20,18,21,23,45,18,17,20,22,25,17,19,42,20,22,40,25,24,21,42,19,40,24,44,20,20,22,39,22,20,20,24,38,22,17,22,22,21,41,18,18,19,18,21,22,20,19,19,19,24,18,19,41,18,18,23,22,23,37,19,23,21,22,20,17,43,39,21,38,46,19,39,45,22,47,23,19,21,36,42,18,19,18,22,21,23,21,41,35,19,43,26,17,22,22,16,22,24,21,21,14,17,21,22,19,18,22,21,25,41,22,22,38,39,14,20,43,23,23,44,17,39,39,15,24,40,17,20,24,20,21,22,36,22,20,25,22,37,40,21,21,19,24,21,41,38,15,22,23,23,18,22,23,25,24,22,20,23,18,15,41,21,26,18,23,21,17,23,19,44,16,18,22,22,36,17,20,24,19,22,20,24,24,23,38,37,19,24,20,24,21,22,22,42,23,22,22,44,44,23,39,17,24,17,17,44,34,41,23,19,36,32,23,16,18,18,45,20,19,45,21,18,42,17,23,24,25,21,25,23,50,20,25,40,45,20,40,20,38,23,24,18,42,23,18,47,22,24,48,24,17,46,45,20,41,40,16,38,20,20,19,18,45,22,22,24,41,25,39,21,18,21,18,19,19,41,47,23,20,21,17,39,38,23,42,18,17,22,25,21,21,45,23,20,20,43,17,41,36,19,23,44,42,39,45,16,26,40,18,43,45,18,38,36,21,43,18,22,24,22,23,22,23,22,21,24,40,25,34,19,24,21,23,48,21,22,23,38,22,39,19,35,42,38,42,38,36,21,23,20,21,17,41,40,22,16,43,19,16,22,23,18,43,20,43,45,42,18,21,18,17,21,42,20,19,30,21,21,21,18,45,39,19,46,20,47,15,18,41,22,24,41,44,45,46,24,18,21,42,44,44,20,47,24,26,22,20,18,36,23,43,38,37,43,24,22,26,21,24,33,21,15,40,22,41,18,39,41,22,16,22,20,16,20,15,18,20,21,41,23,44,45,20,38,17,21,23,44,17,38,23,35,40,43,45,23,24,23,21,47,39,49,40,21,16,22,42,37,19,40,44,35,31,40,47,23,42,20,37,18,40,40,22,20,18,22,46,20,43,43,21,21,21,18,22,40,39,15,18,45,20,20,25,22,24,19,22,22,48,14,43,14,40,21,22,38,36,22,45,22,19,44,43,23,43,22,21,44,43,45,15,44,21,47,47,22,60,19,20,22,25,22,23,18,22,22,36,41,22,39,45,42,37,22,46,43,23,44,23,37,37,39,45,41,41,21,43,46,39,40,20,34,19,41,35,16,31,19,38,43,22,22,42,19,20,39,42,38,19,41,18,18,42,45,43,20,40,20,41,45,39,20,22,39,42,39,24,44,23,44,22,38,22,24,42,44,23,19,20,49,38,43,19,47,48,39,40,44,22,42,41,39,21,22,40,20,39,21,45,39,45,17,24,17,22,19,19,41,16,40,43,21,22,38,34,45,45,20,41,25,44,44,39,21,25,45,46,20,45,23,42,41,25,40,42,47,45,45,38,18,43,39,40,22,40,23,45,43,38,35,44,43,19,41,44,42,40,40,21,39,35,46,21,22,38,20,25,44,41,43,37,44,42,40,48,25,19,46,44,45,41,23,25,22,40,18,45,43,21,39,43,19,24,38,20,36,44,18,21,44,18,45,39,20,39,19,42,42,37,18,42,40,46,37,38,44,38,40,44,43,18,20,20,37,21,41,22,46,15,20,45,20,41,20,42,19,24,23,20,42,41,37,44,21,25,42,21,19,37,38,41,44,39,19,42,23,21,47,46,41,43,42,23,24,41,41,18,43,45,42,43,17,34,17,41,41,46,20,41,17,38,15,25,42,41,34,39,46,40,20,20,38,19,38,42,37,43,20,37,20,40,20,36,43,42,38,37,42,42,39,45,42,19,40,24,41,39,43,18,23,20,40,44,39,46,41,22,48,24,21,19,38,39,48,41,45,41,20,20,38,38,40,35,41,43,45,47,23,41,41,37,39,21,39,51,19,42,45,21,44,42,43,39,47,42,45,22,19,22,23,39,43,46,43,20,42,36,40,43,24,39,43,43,38,44,34,42,18,46,46,40,44,36,44,37,43,17,45,45,19,47,41,46,36,43,44,41,20],\"z\":[21,22,18,19,13,20,19,15,17,12,18,14,19,18,10,17,21,19,20,21,19,11,24,20,21,17,22,19,18,14,21,18,21,18,22,22,13,13,20,22,23,36,21,22,20,38,18,24,16,15,11,20,18,16,21,19,41,17,15,16,17,21,12,18,37,16,21,36,21,20,17,38,17,32,18,41,22,17,19,34,21,15,19,25,33,18,13,18,18,18,35,16,15,18,18,20,18,17,18,14,15,25,16,13,33,18,16,21,23,24,29,18,19,18,18,15,16,43,31,18,36,48,19,33,37,22,39,24,20,16,34,45,13,17,17,20,19,17,22,36,31,18,39,24,17,21,21,18,18,20,19,20,15,15,18,20,19,19,22,18,23,32,20,16,33,36,10,17,43,24,19,35,14,35,35,14,21,37,12,18,25,18,19,20,28,17,16,21,18,37,39,18,19,15,21,16,30,32,16,18,19,19,17,23,22,23,22,20,18,20,15,13,35,18,24,14,19,17,19,22,16,36,14,16,19,18,35,14,20,25,16,21,19,21,25,21,35,33,17,21,15,22,17,18,19,34,19,18,16,40,38,19,31,18,22,14,16,41,27,36,19,16,31,30,19,16,17,19,35,16,17,41,18,13,40,14,19,20,21,20,21,21,45,16,21,39,37,16,33,20,34,18,25,12,39,21,17,47,18,18,42,22,19,42,40,20,39,36,17,35,19,20,17,17,35,18,21,20,36,23,31,19,13,22,13,20,14,40,47,20,17,19,14,39,32,22,38,18,16,22,23,18,20,36,22,19,17,35,13,36,31,15,18,42,34,34,38,12,24,35,15,41,45,15,30,30,15,37,16,21,20,21,22,21,24,17,21,21,33,23,24,17,18,23,24,36,17,16,19,35,19,35,19,29,38,35,38,37,30,19,19,18,20,14,39,36,18,16,32,16,17,21,19,15,38,20,39,47,37,19,21,15,17,17,35,18,16,21,17,18,16,18,37,33,14,41,17,42,13,15,33,18,22,39,40,43,39,20,16,16,34,40,39,18,40,22,24,22,15,17,31,22,35,33,34,36,20,21,24,16,18,26,18,16,38,19,38,17,35,35,16,16,18,16,13,19,12,14,19,18,35,22,45,40,21,37,17,18,20,38,14,34,17,28,35,38,42,20,18,22,18,42,38,43,34,18,14,19,32,34,17,32,38,28,24,41,44,20,35,15,33,13,34,33,19,20,20,18,44,18,34,41,17,23,15,16,19,37,38,11,17,39,20,17,21,19,20,13,18,19,43,12,37,13,33,16,19,31,34,21,42,21,15,40,41,18,38,19,18,40,33,38,15,44,18,42,38,21,51,16,21,21,21,18,24,16,21,18,28,37,19,34,42,38,35,21,38,40,22,39,22,36,34,33,36,33,39,20,40,46,31,37,17,33,15,35,32,11,27,17,39,36,19,19,35,16,16,39,41,33,15,31,15,15,35,41,35,20,34,19,38,37,36,16,16,33,42,37,20,39,24,43,22,34,21,22,38,41,19,16,19,45,36,36,16,39,44,34,42,38,16,40,37,33,19,19,33,17,36,21,38,37,38,15,22,15,21,18,19,40,14,31,38,19,23,36,30,35,40,16,36,21,37,42,40,18,21,43,40,14,35,18,33,40,23,32,40,39,37,38,33,13,37,37,33,20,38,19,43,35,33,32,41,37,19,37,36,38,34,31,18,35,29,40,22,19,35,18,23,38,35,39,33,40,41,37,39,23,19,41,42,33,33,22,23,19,38,14,36,39,22,35,36,18,22,34,22,32,36,19,15,39,18,37,34,16,34,19,36,38,30,19,37,34,40,32,28,36,37,34,36,42,15,20,19,32,16,34,19,43,13,18,43,16,34,19,39,20,18,17,22,39,33,26,39,23,21,38,20,16,34,30,35,42,36,16,39,22,21,39,40,37,35,41,18,18,30,40,14,38,42,41,37,18,30,15,37,36,40,18,34,13,29,16,23,38,32,29,33,36,34,15,17,32,17,35,37,31,33,20,31,15,38,21,39,41,33,35,33,39,36,37,36,32,16,37,20,39,39,36,16,21,18,35,39,31,41,37,19,40,20,23,18,40,38,42,37,40,37,15,21,34,38,33,32,38,36,37,42,22,37,39,38,32,18,36,45,16,35,43,18,38,37,34,39,41,40,39,20,16,19,20,31,37,43,41,17,34,33,35,40,25,35,34,39,36,41,26,33,19,39,46,40,35,36,36,34,34,15,37,43,17,44,33,41,30,40,33,35,16],\"type\":\"scatter3d\"},{\"marker\":{\"color\":\"#1993e0\",\"opacity\":1.0,\"size\":5},\"mode\":\"markers\",\"name\":\"Quality Control Sampling\",\"showlegend\":false,\"x\":[30,34,33,32,30,29,28,30,29,32,31,30,32,31,30,28,27,26,22,21,20,32,31,26,28,27,26,33,32,32,31,31,30,31,30,27,26,27,27,26,30,29,28,28,26,26,25,25,24,24,28,27,36,35,34,33,32,30,26,25,24,36,22,21,24,23,29,28,37,36,26,26,25,25,28,35,34,28,29,27,28,30,31,30,29,28,23,24,22,22,35,29,26,32,35,28,29,29,28,26,29,32,31,27,27,26,23,28,27,26,34,25,26,36,21,20,23,21,28,33,29,30,26,27,24,32,30,25,25],\"y\":[22,22,23,24,22,23,24,19,20,19,20,21,22,23,24,19,20,21,19,20,21,22,23,22,19,20,21,18,18,19,19,20,20,18,19,18,19,21,18,19,18,19,21,20,19,18,20,19,21,20,22,23,22,23,24,21,22,19,19,20,19,22,18,19,19,20,21,22,21,22,22,21,23,22,18,23,22,19,18,20,19,22,21,21,23,23,18,18,21,20,21,18,18,21,21,19,23,23,24,24,20,22,23,22,23,23,19,19,19,22,22,20,19,22,19,20,18,20,21,21,20,24,23,22,24,21,23,20,18],\"z\":[19,22,22,25,19,19,22,19,19,19,19,22,19,19,22,16,16,19,16,16,19,22,22,19,19,19,22,16,18,16,18,19,21,16,16,16,16,16,13,13,18,18,22,21,16,15,16,15,19,18,19,19,22,22,25,16,16,19,19,19,16,22,18,18,16,16,16,16,19,19,19,18,19,18,18,22,22,19,16,19,16,22,16,18,19,21,13,15,19,18,19,13,18,18,19,16,22,22,25,22,19,19,22,18,19,21,18,13,15,16,19,19,13,19,15,18,13,16,21,19,18,25,24,21,22,21,24,16,13],\"type\":\"scatter3d\"},{\"marker\":{\"color\":\"#a0acbd\",\"size\":10},\"mode\":\"markers\",\"name\":\"Random Sampling\",\"showlegend\":true,\"x\":[null],\"y\":[null],\"z\":[null],\"type\":\"scatter3d\"},{\"marker\":{\"color\":\"#1993e0\",\"size\":10},\"mode\":\"markers\",\"name\":\"QAOA Sampling\",\"showlegend\":true,\"x\":[null],\"y\":[null],\"z\":[null],\"type\":\"scatter3d\"}],                        {\"template\":{\"data\":{\"histogram2dcontour\":[{\"type\":\"histogram2dcontour\",\"colorbar\":{\"outlinewidth\":0,\"ticks\":\"\"},\"colorscale\":[[0.0,\"#0d0887\"],[0.1111111111111111,\"#46039f\"],[0.2222222222222222,\"#7201a8\"],[0.3333333333333333,\"#9c179e\"],[0.4444444444444444,\"#bd3786\"],[0.5555555555555556,\"#d8576b\"],[0.6666666666666666,\"#ed7953\"],[0.7777777777777778,\"#fb9f3a\"],[0.8888888888888888,\"#fdca26\"],[1.0,\"#f0f921\"]]}],\"choropleth\":[{\"type\":\"choropleth\",\"colorbar\":{\"outlinewidth\":0,\"ticks\":\"\"}}],\"histogram2d\":[{\"type\":\"histogram2d\",\"colorbar\":{\"outlinewidth\":0,\"ticks\":\"\"},\"colorscale\":[[0.0,\"#0d0887\"],[0.1111111111111111,\"#46039f\"],[0.2222222222222222,\"#7201a8\"],[0.3333333333333333,\"#9c179e\"],[0.4444444444444444,\"#bd3786\"],[0.5555555555555556,\"#d8576b\"],[0.6666666666666666,\"#ed7953\"],[0.7777777777777778,\"#fb9f3a\"],[0.8888888888888888,\"#fdca26\"],[1.0,\"#f0f921\"]]}],\"heatmap\":[{\"type\":\"heatmap\",\"colorbar\":{\"outlinewidth\":0,\"ticks\":\"\"},\"colorscale\":[[0.0,\"#0d0887\"],[0.1111111111111111,\"#46039f\"],[0.2222222222222222,\"#7201a8\"],[0.3333333333333333,\"#9c179e\"],[0.4444444444444444,\"#bd3786\"],[0.5555555555555556,\"#d8576b\"],[0.6666666666666666,\"#ed7953\"],[0.7777777777777778,\"#fb9f3a\"],[0.8888888888888888,\"#fdca26\"],[1.0,\"#f0f921\"]]}],\"heatmapgl\":[{\"type\":\"heatmapgl\",\"colorbar\":{\"outlinewidth\":0,\"ticks\":\"\"},\"colorscale\":[[0.0,\"#0d0887\"],[0.1111111111111111,\"#46039f\"],[0.2222222222222222,\"#7201a8\"],[0.3333333333333333,\"#9c179e\"],[0.4444444444444444,\"#bd3786\"],[0.5555555555555556,\"#d8576b\"],[0.6666666666666666,\"#ed7953\"],[0.7777777777777778,\"#fb9f3a\"],[0.8888888888888888,\"#fdca26\"],[1.0,\"#f0f921\"]]}],\"contourcarpet\":[{\"type\":\"contourcarpet\",\"colorbar\":{\"outlinewidth\":0,\"ticks\":\"\"}}],\"contour\":[{\"type\":\"contour\",\"colorbar\":{\"outlinewidth\":0,\"ticks\":\"\"},\"colorscale\":[[0.0,\"#0d0887\"],[0.1111111111111111,\"#46039f\"],[0.2222222222222222,\"#7201a8\"],[0.3333333333333333,\"#9c179e\"],[0.4444444444444444,\"#bd3786\"],[0.5555555555555556,\"#d8576b\"],[0.6666666666666666,\"#ed7953\"],[0.7777777777777778,\"#fb9f3a\"],[0.8888888888888888,\"#fdca26\"],[1.0,\"#f0f921\"]]}],\"surface\":[{\"type\":\"surface\",\"colorbar\":{\"outlinewidth\":0,\"ticks\":\"\"},\"colorscale\":[[0.0,\"#0d0887\"],[0.1111111111111111,\"#46039f\"],[0.2222222222222222,\"#7201a8\"],[0.3333333333333333,\"#9c179e\"],[0.4444444444444444,\"#bd3786\"],[0.5555555555555556,\"#d8576b\"],[0.6666666666666666,\"#ed7953\"],[0.7777777777777778,\"#fb9f3a\"],[0.8888888888888888,\"#fdca26\"],[1.0,\"#f0f921\"]]}],\"mesh3d\":[{\"type\":\"mesh3d\",\"colorbar\":{\"outlinewidth\":0,\"ticks\":\"\"}}],\"scatter\":[{\"fillpattern\":{\"fillmode\":\"overlay\",\"size\":10,\"solidity\":0.2},\"type\":\"scatter\"}],\"parcoords\":[{\"type\":\"parcoords\",\"line\":{\"colorbar\":{\"outlinewidth\":0,\"ticks\":\"\"}}}],\"scatterpolargl\":[{\"type\":\"scatterpolargl\",\"marker\":{\"colorbar\":{\"outlinewidth\":0,\"ticks\":\"\"}}}],\"bar\":[{\"error_x\":{\"color\":\"#2a3f5f\"},\"error_y\":{\"color\":\"#2a3f5f\"},\"marker\":{\"line\":{\"color\":\"#E5ECF6\",\"width\":0.5},\"pattern\":{\"fillmode\":\"overlay\",\"size\":10,\"solidity\":0.2}},\"type\":\"bar\"}],\"scattergeo\":[{\"type\":\"scattergeo\",\"marker\":{\"colorbar\":{\"outlinewidth\":0,\"ticks\":\"\"}}}],\"scatterpolar\":[{\"type\":\"scatterpolar\",\"marker\":{\"colorbar\":{\"outlinewidth\":0,\"ticks\":\"\"}}}],\"histogram\":[{\"marker\":{\"pattern\":{\"fillmode\":\"overlay\",\"size\":10,\"solidity\":0.2}},\"type\":\"histogram\"}],\"scattergl\":[{\"type\":\"scattergl\",\"marker\":{\"colorbar\":{\"outlinewidth\":0,\"ticks\":\"\"}}}],\"scatter3d\":[{\"type\":\"scatter3d\",\"line\":{\"colorbar\":{\"outlinewidth\":0,\"ticks\":\"\"}},\"marker\":{\"colorbar\":{\"outlinewidth\":0,\"ticks\":\"\"}}}],\"scattermapbox\":[{\"type\":\"scattermapbox\",\"marker\":{\"colorbar\":{\"outlinewidth\":0,\"ticks\":\"\"}}}],\"scatterternary\":[{\"type\":\"scatterternary\",\"marker\":{\"colorbar\":{\"outlinewidth\":0,\"ticks\":\"\"}}}],\"scattercarpet\":[{\"type\":\"scattercarpet\",\"marker\":{\"colorbar\":{\"outlinewidth\":0,\"ticks\":\"\"}}}],\"carpet\":[{\"aaxis\":{\"endlinecolor\":\"#2a3f5f\",\"gridcolor\":\"white\",\"linecolor\":\"white\",\"minorgridcolor\":\"white\",\"startlinecolor\":\"#2a3f5f\"},\"baxis\":{\"endlinecolor\":\"#2a3f5f\",\"gridcolor\":\"white\",\"linecolor\":\"white\",\"minorgridcolor\":\"white\",\"startlinecolor\":\"#2a3f5f\"},\"type\":\"carpet\"}],\"table\":[{\"cells\":{\"fill\":{\"color\":\"#EBF0F8\"},\"line\":{\"color\":\"white\"}},\"header\":{\"fill\":{\"color\":\"#C8D4E3\"},\"line\":{\"color\":\"white\"}},\"type\":\"table\"}],\"barpolar\":[{\"marker\":{\"line\":{\"color\":\"#E5ECF6\",\"width\":0.5},\"pattern\":{\"fillmode\":\"overlay\",\"size\":10,\"solidity\":0.2}},\"type\":\"barpolar\"}],\"pie\":[{\"automargin\":true,\"type\":\"pie\"}]},\"layout\":{\"autotypenumbers\":\"strict\",\"colorway\":[\"#636efa\",\"#EF553B\",\"#00cc96\",\"#ab63fa\",\"#FFA15A\",\"#19d3f3\",\"#FF6692\",\"#B6E880\",\"#FF97FF\",\"#FECB52\"],\"font\":{\"color\":\"#2a3f5f\"},\"hovermode\":\"closest\",\"hoverlabel\":{\"align\":\"left\"},\"paper_bgcolor\":\"white\",\"plot_bgcolor\":\"#E5ECF6\",\"polar\":{\"bgcolor\":\"#E5ECF6\",\"angularaxis\":{\"gridcolor\":\"white\",\"linecolor\":\"white\",\"ticks\":\"\"},\"radialaxis\":{\"gridcolor\":\"white\",\"linecolor\":\"white\",\"ticks\":\"\"}},\"ternary\":{\"bgcolor\":\"#E5ECF6\",\"aaxis\":{\"gridcolor\":\"white\",\"linecolor\":\"white\",\"ticks\":\"\"},\"baxis\":{\"gridcolor\":\"white\",\"linecolor\":\"white\",\"ticks\":\"\"},\"caxis\":{\"gridcolor\":\"white\",\"linecolor\":\"white\",\"ticks\":\"\"}},\"coloraxis\":{\"colorbar\":{\"outlinewidth\":0,\"ticks\":\"\"}},\"colorscale\":{\"sequential\":[[0.0,\"#0d0887\"],[0.1111111111111111,\"#46039f\"],[0.2222222222222222,\"#7201a8\"],[0.3333333333333333,\"#9c179e\"],[0.4444444444444444,\"#bd3786\"],[0.5555555555555556,\"#d8576b\"],[0.6666666666666666,\"#ed7953\"],[0.7777777777777778,\"#fb9f3a\"],[0.8888888888888888,\"#fdca26\"],[1.0,\"#f0f921\"]],\"sequentialminus\":[[0.0,\"#0d0887\"],[0.1111111111111111,\"#46039f\"],[0.2222222222222222,\"#7201a8\"],[0.3333333333333333,\"#9c179e\"],[0.4444444444444444,\"#bd3786\"],[0.5555555555555556,\"#d8576b\"],[0.6666666666666666,\"#ed7953\"],[0.7777777777777778,\"#fb9f3a\"],[0.8888888888888888,\"#fdca26\"],[1.0,\"#f0f921\"]],\"diverging\":[[0,\"#8e0152\"],[0.1,\"#c51b7d\"],[0.2,\"#de77ae\"],[0.3,\"#f1b6da\"],[0.4,\"#fde0ef\"],[0.5,\"#f7f7f7\"],[0.6,\"#e6f5d0\"],[0.7,\"#b8e186\"],[0.8,\"#7fbc41\"],[0.9,\"#4d9221\"],[1,\"#276419\"]]},\"xaxis\":{\"gridcolor\":\"white\",\"linecolor\":\"white\",\"ticks\":\"\",\"title\":{\"standoff\":15},\"zerolinecolor\":\"white\",\"automargin\":true,\"zerolinewidth\":2},\"yaxis\":{\"gridcolor\":\"white\",\"linecolor\":\"white\",\"ticks\":\"\",\"title\":{\"standoff\":15},\"zerolinecolor\":\"white\",\"automargin\":true,\"zerolinewidth\":2},\"scene\":{\"xaxis\":{\"backgroundcolor\":\"#E5ECF6\",\"gridcolor\":\"white\",\"linecolor\":\"white\",\"showbackground\":true,\"ticks\":\"\",\"zerolinecolor\":\"white\",\"gridwidth\":2},\"yaxis\":{\"backgroundcolor\":\"#E5ECF6\",\"gridcolor\":\"white\",\"linecolor\":\"white\",\"showbackground\":true,\"ticks\":\"\",\"zerolinecolor\":\"white\",\"gridwidth\":2},\"zaxis\":{\"backgroundcolor\":\"#E5ECF6\",\"gridcolor\":\"white\",\"linecolor\":\"white\",\"showbackground\":true,\"ticks\":\"\",\"zerolinecolor\":\"white\",\"gridwidth\":2}},\"shapedefaults\":{\"line\":{\"color\":\"#2a3f5f\"}},\"annotationdefaults\":{\"arrowcolor\":\"#2a3f5f\",\"arrowhead\":0,\"arrowwidth\":1},\"geo\":{\"bgcolor\":\"white\",\"landcolor\":\"#E5ECF6\",\"subunitcolor\":\"white\",\"showland\":true,\"showlakes\":true,\"lakecolor\":\"white\"},\"title\":{\"x\":0.05},\"mapbox\":{\"style\":\"light\"}}},\"title\":{\"font\":{\"size\":24},\"text\":\"\\u003cb\\u003eComparison of Sampling Methods\\u003cb\\u003e\",\"y\":0.9,\"x\":0.5,\"xanchor\":\"center\",\"yanchor\":\"top\"},\"scene\":{\"xaxis\":{\"title\":{\"font\":{\"color\":\"white\"},\"text\":\"Color Score\"},\"tickfont\":{\"color\":\"white\"},\"backgroundcolor\":\"rgb(0, 0, 0)\",\"gridcolor\":\"white\",\"showbackground\":true,\"zerolinecolor\":\"white\",\"autorange\":\"reversed\"},\"yaxis\":{\"title\":{\"font\":{\"color\":\"white\"},\"text\":\"Shape Score\"},\"tickfont\":{\"color\":\"white\"},\"backgroundcolor\":\"rgb(0, 0, 0)\",\"gridcolor\":\"white\",\"showbackground\":true,\"zerolinecolor\":\"white\"},\"zaxis\":{\"title\":{\"font\":{\"color\":\"white\"},\"text\":\"Component Score\"},\"tickfont\":{\"color\":\"white\"},\"backgroundcolor\":\"rgb(0, 0, 0)\",\"gridcolor\":\"white\",\"showbackground\":true,\"zerolinecolor\":\"white\"}},\"legend\":{\"font\":{\"size\":18},\"title\":{\"text\":\"Classification\"},\"x\":0.9,\"y\":0.8,\"xanchor\":\"left\",\"yanchor\":\"top\"},\"font\":{\"color\":\"White\"},\"paper_bgcolor\":\"rgba(0,0,0)\",\"plot_bgcolor\":\"rgba(0,0,0)\"},                        {\"responsive\": true}                    ).then(function(){\n",
       "                            \n",
       "var gd = document.getElementById('8e8808a3-326e-4f03-81a0-001809c560c0');\n",
       "var x = new MutationObserver(function (mutations, observer) {{\n",
       "        var display = window.getComputedStyle(gd).display;\n",
       "        if (!display || display === 'none') {{\n",
       "            console.log([gd, 'removed!']);\n",
       "            Plotly.purge(gd);\n",
       "            observer.disconnect();\n",
       "        }}\n",
       "}});\n",
       "\n",
       "// Listen for the removal of the full notebook cells\n",
       "var notebookContainer = gd.closest('#notebook-container');\n",
       "if (notebookContainer) {{\n",
       "    x.observe(notebookContainer, {childList: true});\n",
       "}}\n",
       "\n",
       "// Listen for the clearing of the current output cell\n",
       "var outputEl = gd.closest('.output');\n",
       "if (outputEl) {{\n",
       "    x.observe(outputEl, {childList: true});\n",
       "}}\n",
       "\n",
       "                        })                };                });            </script>        </div>"
      ]
     },
     "metadata": {},
     "output_type": "display_data"
    }
   ],
   "source": [
    "#plot 3D\n",
    "\n",
    "import plotly.graph_objects as go\n",
    "# Create the figure\n",
    "fig = go.Figure()\n",
    "\n",
    "# Add traces for random_results\n",
    "fig.add_trace(go.Scatter3d(\n",
    "    x=random_results['color'],\n",
    "    y=random_results['shape'],\n",
    "    z=random_results['components'],\n",
    "    mode='markers',\n",
    "    marker=dict(\n",
    "        size=5,\n",
    "        color='#a0acbd',  # light blue\n",
    "        opacity=0.6\n",
    "    ),\n",
    "    name=\"Random Sampling\",\n",
    "    showlegend=False\n",
    "))\n",
    "\n",
    "# Add traces for qc_results\n",
    "fig.add_trace(go.Scatter3d(\n",
    "    x=qc_results['color'],\n",
    "    y=qc_results['shape'],\n",
    "    z=qc_results['components'],\n",
    "    mode='markers',\n",
    "    marker=dict(\n",
    "        size=5,\n",
    "        color='#1993e0',  # dark blue\n",
    "        opacity=1.0\n",
    "    ),\n",
    "    name=\"Quality Control Sampling\",\n",
    "    showlegend=False\n",
    "))\n",
    "\n",
    "# Create custom legend\n",
    "legend_y_start = 1\n",
    "legend_x = 1\n",
    "for i, (label, color) in enumerate([\n",
    "    (\"Random Sampling\", '#a0acbd'),\n",
    "    (\"QAOA Sampling\", '#1993e0')\n",
    "]):\n",
    "    fig.add_trace(go.Scatter3d(\n",
    "        x=[None], y=[None], z=[None],  # No actual data points\n",
    "        mode='markers',\n",
    "        marker=dict(size=10, color=color),  # Larger marker size for legend\n",
    "        name=label,\n",
    "        showlegend=True\n",
    "    ))\n",
    "\n",
    "# Update the layout\n",
    "fig.update_layout(\n",
    "    title={\n",
    "        'text': '<b>Comparison of Sampling Methods<b>',\n",
    "        'y': 0.9,\n",
    "        'x': 0.5,\n",
    "        'xanchor': 'center',\n",
    "        'yanchor': 'top',\n",
    "        'font_size': 24\n",
    "    },\n",
    "    scene=dict(\n",
    "        xaxis=dict(\n",
    "            backgroundcolor=\"rgb(0, 0, 0)\",\n",
    "            gridcolor=\"white\",\n",
    "            showbackground=True,\n",
    "            zerolinecolor=\"white\",\n",
    "            title=dict(\n",
    "                text=\"Color Score\",\n",
    "                font=dict(color=\"white\")\n",
    "            ),\n",
    "            tickfont=dict(color=\"white\"),\n",
    "            autorange='reversed'\n",
    "        ),\n",
    "        yaxis=dict(\n",
    "            backgroundcolor=\"rgb(0, 0, 0)\",\n",
    "            gridcolor=\"white\",\n",
    "            showbackground=True,\n",
    "            zerolinecolor=\"white\",\n",
    "            title=dict(\n",
    "                text=\"Shape Score\",\n",
    "                font=dict(color=\"white\")\n",
    "            ),\n",
    "            tickfont=dict(color=\"white\")\n",
    "        ),\n",
    "        zaxis=dict(\n",
    "            backgroundcolor=\"rgb(0, 0, 0)\",\n",
    "            gridcolor=\"white\",\n",
    "            showbackground=True,\n",
    "            zerolinecolor=\"white\",\n",
    "            title=dict(\n",
    "                text=\"Component Score\",\n",
    "                font=dict(color=\"white\")\n",
    "            ),\n",
    "            tickfont=dict(color=\"white\")\n",
    "        )\n",
    "    ),\n",
    "    legend=dict(\n",
    "        title=\"Classification\",\n",
    "        x=0.9,\n",
    "        y=0.8,\n",
    "        xanchor='left',\n",
    "        yanchor='top',\n",
    "        font_size=18\n",
    "    ),\n",
    "    font=dict(\n",
    "        color=\"White\"\n",
    "    ),\n",
    "    paper_bgcolor='rgba(0,0,0)',\n",
    "    plot_bgcolor='rgba(0,0,0)'\n",
    ")\n",
    "\n",
    "fig.show()"
   ]
  },
  {
   "cell_type": "code",
   "execution_count": 4,
   "id": "4b5cab4f",
   "metadata": {},
   "outputs": [],
   "source": [
    "def generate_example_data(total_brick_num = 100,\n",
    "                          regions = 6,\n",
    "                          color_range = 10,\n",
    "                          shape_range= 5,\n",
    "                          component_range = 5):\n",
    "    \n",
    "    example_data = []\n",
    "    brick_per_region = int(total_brick_num / regions)\n",
    "    example_data.append(\"id,region,color,shape,components\")\n",
    "    _id = 1\n",
    "    for region in range(1, regions+1):\n",
    "        for brick in range(brick_per_region):\n",
    "            example_data.append(\n",
    "            f\"{_id},{region},{random.randint(1,color_range)},{random.randint(1,shape_range)},{random.randint(1,component_range)}\"\n",
    "            )\n",
    "            _id += 1\n",
    "            \n",
    "    with open(f\"example_data_{total_brick_num}_{regions}.csv\", \"w\") as fh:\n",
    "        fh.write(\"\\n\".join(example_data))\n",
    "generate_example_data(total_brick_num=18)"
   ]
  },
  {
   "cell_type": "code",
   "execution_count": null,
   "id": "744de9eb",
   "metadata": {},
   "outputs": [],
   "source": []
  }
 ],
 "metadata": {
  "kernelspec": {
   "display_name": "Python 3 (ipykernel)",
   "language": "python",
   "name": "python3"
  },
  "language_info": {
   "codemirror_mode": {
    "name": "ipython",
    "version": 3
   },
   "file_extension": ".py",
   "mimetype": "text/x-python",
   "name": "python",
   "nbconvert_exporter": "python",
   "pygments_lexer": "ipython3",
   "version": "3.10.12"
  }
 },
 "nbformat": 4,
 "nbformat_minor": 5
}
